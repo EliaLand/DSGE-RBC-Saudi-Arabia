{
 "cells": [
  {
   "cell_type": "markdown",
   "id": "7182e0e6-174a-4fe2-a827-5e7bf3c159ea",
   "metadata": {},
   "source": [
    "# **SAUDI ARABIA RBC estimation**"
   ]
  },
  {
   "cell_type": "markdown",
   "id": "0872a77b-3750-4636-9041-f76de0026a84",
   "metadata": {},
   "source": [
    "##### PSME 2023-2024 Macroeconomics TD-Group: \n",
    "- Cameron Ann Jessie\n",
    "- Landini Elia\n",
    "- Molitor Maurice"
   ]
  },
  {
   "cell_type": "markdown",
   "id": "4023ac68-44a9-4a17-ae2a-e5305e768003",
   "metadata": {},
   "source": [
    "##### The following notebook houses our Saudi Arabia RBC Estimation Project, an endeavor aimed at employing Real Business Cycle (RBC) modeling to analyze economic fluctuations in Saudi Arabia over a timeframe spanning over 40 years. Through statistical and econometric techniques, we aim to uncover the underlying factors driving macroeconomic dynamics in the Saudi context."
   ]
  },
  {
   "cell_type": "markdown",
   "id": "120485ce-31fd-461f-9708-4c2d299e1be3",
   "metadata": {},
   "source": [
    "## **INTRODUCTORY SETUP**"
   ]
  },
  {
   "cell_type": "code",
   "execution_count": 53,
   "id": "bd5235dc-6cab-41ad-8271-b5d845eb71eb",
   "metadata": {},
   "outputs": [
    {
     "name": "stdout",
     "output_type": "stream",
     "text": [
      "Reinitialized existing Git repository in C:/Users/eland/Uni-projects/.git/\n"
     ]
    },
    {
     "name": "stderr",
     "output_type": "stream",
     "text": [
      "warning: in the working copy of 'SaudiArabia_RBC_estimation.ipynb', LF will be replaced by CRLF the next time Git touches it\n"
     ]
    },
    {
     "name": "stdout",
     "output_type": "stream",
     "text": [
      "[main e784f98] Initial commit\n",
      " 1 file changed, 167 insertions(+), 95 deletions(-)\n"
     ]
    },
    {
     "name": "stderr",
     "output_type": "stream",
     "text": [
      "error: remote origin already exists.\n",
      "error: src refspec master does not match any\n",
      "error: failed to push some refs to 'https://github.com/EliaLand/Uni-projects.git'\n"
     ]
    }
   ],
   "source": [
    "# login and link to our shared repository available on GitHub\n",
    "!git init\n",
    "!git config --global user.email \"e.lando2001@gmail.com\"\n",
    "!git config --global user.name \"EliaLand\"\n",
    "!git add SaudiArabia_RBC_estimation.ipynb  \n",
    "!git commit -m \"Initial commit\"\n",
    "!git remote add origin https://github.com/EliaLand/Uni-projects.git\n",
    "!git push -u origin master "
   ]
  },
  {
   "cell_type": "code",
   "execution_count": 162,
   "id": "2e6163b6-fe89-4e7d-97e3-616a05cc2fe5",
   "metadata": {},
   "outputs": [
    {
     "name": "stdout",
     "output_type": "stream",
     "text": [
      "Requirement already satisfied: pandas in c:\\users\\eland\\miniconda3\\envs\\macro-project\\lib\\site-packages (1.5.3)"
     ]
    },
    {
     "name": "stderr",
     "output_type": "stream",
     "text": [
      "DEPRECATION: pydeflate 1.0.1 has a non-standard dependency specifier pyarrow>=1.19.2xlrd>=2.0. pip 24.0 will enforce this behaviour change. A possible replacement is to upgrade to a newer version of pydeflate or contact the author to suggest that they release a version with a conforming dependency specifiers. Discussion can be found at https://github.com/pypa/pip/issues/12063\n"
     ]
    },
    {
     "name": "stdout",
     "output_type": "stream",
     "text": [
      "\n",
      "Requirement already satisfied: python-dateutil>=2.8.1 in c:\\users\\eland\\miniconda3\\envs\\macro-project\\lib\\site-packages (from pandas) (2.8.2)\n",
      "Requirement already satisfied: pytz>=2020.1 in c:\\users\\eland\\miniconda3\\envs\\macro-project\\lib\\site-packages (from pandas) (2023.3.post1)\n",
      "Requirement already satisfied: numpy>=1.20.3 in c:\\users\\eland\\miniconda3\\envs\\macro-project\\lib\\site-packages (from pandas) (1.24.4)\n",
      "Requirement already satisfied: six>=1.5 in c:\\users\\eland\\miniconda3\\envs\\macro-project\\lib\\site-packages (from python-dateutil>=2.8.1->pandas) (1.16.0)\n",
      "Requirement already satisfied: pandas_datareader in c:\\users\\eland\\miniconda3\\envs\\macro-project\\lib\\site-packages (0.10.0)\n",
      "Requirement already satisfied: lxml in c:\\users\\eland\\miniconda3\\envs\\macro-project\\lib\\site-packages (from pandas_datareader) (4.9.4)\n",
      "Requirement already satisfied: pandas>=0.23 in c:\\users\\eland\\miniconda3\\envs\\macro-project\\lib\\site-packages (from pandas_datareader) (1.5.3)\n",
      "Requirement already satisfied: requests>=2.19.0 in c:\\users\\eland\\miniconda3\\envs\\macro-project\\lib\\site-packages (from pandas_datareader) (2.31.0)\n",
      "Requirement already satisfied: python-dateutil>=2.8.1 in c:\\users\\eland\\miniconda3\\envs\\macro-project\\lib\\site-packages (from pandas>=0.23->pandas_datareader) (2.8.2)\n",
      "Requirement already satisfied: pytz>=2020.1 in c:\\users\\eland\\miniconda3\\envs\\macro-project\\lib\\site-packages (from pandas>=0.23->pandas_datareader) (2023.3.post1)\n",
      "Requirement already satisfied: numpy>=1.20.3 in c:\\users\\eland\\miniconda3\\envs\\macro-project\\lib\\site-packages (from pandas>=0.23->pandas_datareader) (1.24.4)\n",
      "Requirement already satisfied: charset-normalizer<4,>=2 in c:\\users\\eland\\miniconda3\\envs\\macro-project\\lib\\site-packages (from requests>=2.19.0->pandas_datareader) (2.0.4)\n",
      "Requirement already satisfied: idna<4,>=2.5 in c:\\users\\eland\\miniconda3\\envs\\macro-project\\lib\\site-packages (from requests>=2.19.0->pandas_datareader) (3.4)\n",
      "Requirement already satisfied: urllib3<3,>=1.21.1 in c:\\users\\eland\\miniconda3\\envs\\macro-project\\lib\\site-packages (from requests>=2.19.0->pandas_datareader) (1.26.18)\n",
      "Requirement already satisfied: certifi>=2017.4.17 in c:\\users\\eland\\miniconda3\\envs\\macro-project\\lib\\site-packages (from requests>=2.19.0->pandas_datareader) (2023.11.17)\n",
      "Requirement already satisfied: six>=1.5 in c:\\users\\eland\\miniconda3\\envs\\macro-project\\lib\\site-packages (from python-dateutil>=2.8.1->pandas>=0.23->pandas_datareader) (1.16.0)\n"
     ]
    },
    {
     "name": "stderr",
     "output_type": "stream",
     "text": [
      "DEPRECATION: pydeflate 1.0.1 has a non-standard dependency specifier pyarrow>=1.19.2xlrd>=2.0. pip 24.0 will enforce this behaviour change. A possible replacement is to upgrade to a newer version of pydeflate or contact the author to suggest that they release a version with a conforming dependency specifiers. Discussion can be found at https://github.com/pypa/pip/issues/12063\n"
     ]
    },
    {
     "name": "stdout",
     "output_type": "stream",
     "text": [
      "Requirement already satisfied: prettytable in c:\\users\\eland\\miniconda3\\envs\\macro-project\\lib\\site-packages (3.9.0)"
     ]
    },
    {
     "name": "stderr",
     "output_type": "stream",
     "text": [
      "DEPRECATION: pydeflate 1.0.1 has a non-standard dependency specifier pyarrow>=1.19.2xlrd>=2.0. pip 24.0 will enforce this behaviour change. A possible replacement is to upgrade to a newer version of pydeflate or contact the author to suggest that they release a version with a conforming dependency specifiers. Discussion can be found at https://github.com/pypa/pip/issues/12063\n"
     ]
    },
    {
     "name": "stdout",
     "output_type": "stream",
     "text": [
      "\n",
      "Requirement already satisfied: wcwidth in c:\\users\\eland\\miniconda3\\envs\\macro-project\\lib\\site-packages (from prettytable) (0.2.5)\n",
      "Requirement already satisfied: statsmodels in c:\\users\\eland\\miniconda3\\envs\\macro-project\\lib\\site-packages (0.14.1)\n",
      "Requirement already satisfied: numpy<2,>=1.18 in c:\\users\\eland\\miniconda3\\envs\\macro-project\\lib\\site-packages (from statsmodels) (1.24.4)\n",
      "Requirement already satisfied: scipy!=1.9.2,>=1.4 in c:\\users\\eland\\miniconda3\\envs\\macro-project\\lib\\site-packages (from statsmodels) (1.10.1)\n",
      "Requirement already satisfied: pandas!=2.1.0,>=1.0 in c:\\users\\eland\\miniconda3\\envs\\macro-project\\lib\\site-packages (from statsmodels) (1.5.3)\n",
      "Requirement already satisfied: patsy>=0.5.4 in c:\\users\\eland\\miniconda3\\envs\\macro-project\\lib\\site-packages (from statsmodels) (0.5.4)\n",
      "Requirement already satisfied: packaging>=21.3 in c:\\users\\eland\\miniconda3\\envs\\macro-project\\lib\\site-packages (from statsmodels) (23.1)\n",
      "Requirement already satisfied: python-dateutil>=2.8.1 in c:\\users\\eland\\miniconda3\\envs\\macro-project\\lib\\site-packages (from pandas!=2.1.0,>=1.0->statsmodels) (2.8.2)\n",
      "Requirement already satisfied: pytz>=2020.1 in c:\\users\\eland\\miniconda3\\envs\\macro-project\\lib\\site-packages (from pandas!=2.1.0,>=1.0->statsmodels) (2023.3.post1)\n",
      "Requirement already satisfied: six in c:\\users\\eland\\miniconda3\\envs\\macro-project\\lib\\site-packages (from patsy>=0.5.4->statsmodels) (1.16.0)\n"
     ]
    },
    {
     "name": "stderr",
     "output_type": "stream",
     "text": [
      "DEPRECATION: pydeflate 1.0.1 has a non-standard dependency specifier pyarrow>=1.19.2xlrd>=2.0. pip 24.0 will enforce this behaviour change. A possible replacement is to upgrade to a newer version of pydeflate or contact the author to suggest that they release a version with a conforming dependency specifiers. Discussion can be found at https://github.com/pypa/pip/issues/12063\n"
     ]
    },
    {
     "name": "stdout",
     "output_type": "stream",
     "text": [
      "Requirement already satisfied: pydeflate in c:\\users\\eland\\miniconda3\\envs\\macro-project\\lib\\site-packages (1.0.1)\n",
      "Requirement already satisfied: pandas>=1.2.1 in c:\\users\\eland\\miniconda3\\envs\\macro-project\\lib\\site-packages (from pydeflate) (1.5.3)\n",
      "Requirement already satisfied: weo==0.7.0 in c:\\users\\eland\\miniconda3\\envs\\macro-project\\lib\\site-packages (from pydeflate) (0.7.0)\n",
      "Requirement already satisfied: numpy>=1.19.2 in c:\\users\\eland\\miniconda3\\envs\\macro-project\\lib\\site-packages (from pydeflate) (1.24.4)\n",
      "Requirement already satisfied: BeautifulSoup4>=4.0 in c:\\users\\eland\\miniconda3\\envs\\macro-project\\lib\\site-packages (from pydeflate) (4.12.2)\n",
      "Requirement already satisfied: pandas-datareader>=0.10.0 in c:\\users\\eland\\miniconda3\\envs\\macro-project\\lib\\site-packages (from pydeflate) (0.10.0)\n",
      "Requirement already satisfied: requests>=2.25.1 in c:\\users\\eland\\miniconda3\\envs\\macro-project\\lib\\site-packages (from pydeflate) (2.31.0)\n",
      "Requirement already satisfied: requests-cache==0.8.1 in c:\\users\\eland\\miniconda3\\envs\\macro-project\\lib\\site-packages (from pydeflate) (0.8.1)\n",
      "Requirement already satisfied: pyarrow>=1.19.2xlrd>=2.0 in c:\\users\\eland\\miniconda3\\envs\\macro-project\\lib\\site-packages (from pydeflate) (14.0.2)\n",
      "Requirement already satisfied: appdirs<2.0.0,>=1.4.4 in c:\\users\\eland\\miniconda3\\envs\\macro-project\\lib\\site-packages (from requests-cache==0.8.1->pydeflate) (1.4.4)\n",
      "Requirement already satisfied: attrs<22.0,>=21.2 in c:\\users\\eland\\miniconda3\\envs\\macro-project\\lib\\site-packages (from requests-cache==0.8.1->pydeflate) (21.4.0)\n",
      "Requirement already satisfied: cattrs<2.0,>=1.8 in c:\\users\\eland\\miniconda3\\envs\\macro-project\\lib\\site-packages (from requests-cache==0.8.1->pydeflate) (1.10.0)\n",
      "Requirement already satisfied: url-normalize<2.0,>=1.4 in c:\\users\\eland\\miniconda3\\envs\\macro-project\\lib\\site-packages (from requests-cache==0.8.1->pydeflate) (1.4.3)\n",
      "Requirement already satisfied: urllib3<2.0.0,>=1.25.5 in c:\\users\\eland\\miniconda3\\envs\\macro-project\\lib\\site-packages (from requests-cache==0.8.1->pydeflate) (1.26.18)\n",
      "Requirement already satisfied: iso3166<2.0.0,>=1.0.1 in c:\\users\\eland\\miniconda3\\envs\\macro-project\\lib\\site-packages (from weo==0.7.0->pydeflate) (1.0.1)\n",
      "Requirement already satisfied: toml<0.11.0,>=0.10.2 in c:\\users\\eland\\miniconda3\\envs\\macro-project\\lib\\site-packages (from weo==0.7.0->pydeflate) (0.10.2)\n",
      "Requirement already satisfied: soupsieve>1.2 in c:\\users\\eland\\miniconda3\\envs\\macro-project\\lib\\site-packages (from BeautifulSoup4>=4.0->pydeflate) (2.5)\n",
      "Requirement already satisfied: python-dateutil>=2.8.1 in c:\\users\\eland\\miniconda3\\envs\\macro-project\\lib\\site-packages (from pandas>=1.2.1->pydeflate) (2.8.2)\n",
      "Requirement already satisfied: pytz>=2020.1 in c:\\users\\eland\\miniconda3\\envs\\macro-project\\lib\\site-packages (from pandas>=1.2.1->pydeflate) (2023.3.post1)\n",
      "Requirement already satisfied: lxml in c:\\users\\eland\\miniconda3\\envs\\macro-project\\lib\\site-packages (from pandas-datareader>=0.10.0->pydeflate) (4.9.4)\n",
      "Requirement already satisfied: charset-normalizer<4,>=2 in c:\\users\\eland\\miniconda3\\envs\\macro-project\\lib\\site-packages (from requests>=2.25.1->pydeflate) (2.0.4)\n",
      "Requirement already satisfied: idna<4,>=2.5 in c:\\users\\eland\\miniconda3\\envs\\macro-project\\lib\\site-packages (from requests>=2.25.1->pydeflate) (3.4)\n",
      "Requirement already satisfied: certifi>=2017.4.17 in c:\\users\\eland\\miniconda3\\envs\\macro-project\\lib\\site-packages (from requests>=2.25.1->pydeflate) (2023.11.17)\n",
      "Requirement already satisfied: six>=1.5 in c:\\users\\eland\\miniconda3\\envs\\macro-project\\lib\\site-packages (from python-dateutil>=2.8.1->pandas>=1.2.1->pydeflate) (1.16.0)\n"
     ]
    },
    {
     "name": "stderr",
     "output_type": "stream",
     "text": [
      "DEPRECATION: pydeflate 1.0.1 has a non-standard dependency specifier pyarrow>=1.19.2xlrd>=2.0. pip 24.0 will enforce this behaviour change. A possible replacement is to upgrade to a newer version of pydeflate or contact the author to suggest that they release a version with a conforming dependency specifiers. Discussion can be found at https://github.com/pypa/pip/issues/12063\n"
     ]
    },
    {
     "name": "stdout",
     "output_type": "stream",
     "text": [
      "Requirement already satisfied: wbgapi in c:\\users\\eland\\miniconda3\\envs\\macro-project\\lib\\site-packages (1.0.12)\n",
      "Requirement already satisfied: requests in c:\\users\\eland\\miniconda3\\envs\\macro-project\\lib\\site-packages (from wbgapi) (2.31.0)\n",
      "Requirement already satisfied: PyYAML in c:\\users\\eland\\miniconda3\\envs\\macro-project\\lib\\site-packages (from wbgapi) (6.0.1)\n",
      "Requirement already satisfied: tabulate in c:\\users\\eland\\miniconda3\\envs\\macro-project\\lib\\site-packages (from wbgapi) (0.9.0)\n",
      "Requirement already satisfied: charset-normalizer<4,>=2 in c:\\users\\eland\\miniconda3\\envs\\macro-project\\lib\\site-packages (from requests->wbgapi) (2.0.4)\n",
      "Requirement already satisfied: idna<4,>=2.5 in c:\\users\\eland\\miniconda3\\envs\\macro-project\\lib\\site-packages (from requests->wbgapi) (3.4)\n",
      "Requirement already satisfied: urllib3<3,>=1.21.1 in c:\\users\\eland\\miniconda3\\envs\\macro-project\\lib\\site-packages (from requests->wbgapi) (1.26.18)\n",
      "Requirement already satisfied: certifi>=2017.4.17 in c:\\users\\eland\\miniconda3\\envs\\macro-project\\lib\\site-packages (from requests->wbgapi) (2023.11.17)\n"
     ]
    },
    {
     "name": "stderr",
     "output_type": "stream",
     "text": [
      "DEPRECATION: pydeflate 1.0.1 has a non-standard dependency specifier pyarrow>=1.19.2xlrd>=2.0. pip 24.0 will enforce this behaviour change. A possible replacement is to upgrade to a newer version of pydeflate or contact the author to suggest that they release a version with a conforming dependency specifiers. Discussion can be found at https://github.com/pypa/pip/issues/12063\n"
     ]
    },
    {
     "name": "stdout",
     "output_type": "stream",
     "text": [
      "Requirement already satisfied: wbdata in c:\\users\\eland\\miniconda3\\envs\\macro-project\\lib\\site-packages (0.3.0)\n",
      "Requirement already satisfied: appdirs<2.0,>=1.4 in c:\\users\\eland\\miniconda3\\envs\\macro-project\\lib\\site-packages (from wbdata) (1.4.4)\n",
      "Requirement already satisfied: decorator>=4.0 in c:\\users\\eland\\miniconda3\\envs\\macro-project\\lib\\site-packages (from wbdata) (5.1.1)\n",
      "Requirement already satisfied: requests>=2.0 in c:\\users\\eland\\miniconda3\\envs\\macro-project\\lib\\site-packages (from wbdata) (2.31.0)\n",
      "Requirement already satisfied: tabulate>=0.8.5 in c:\\users\\eland\\miniconda3\\envs\\macro-project\\lib\\site-packages (from wbdata) (0.9.0)\n",
      "Requirement already satisfied: charset-normalizer<4,>=2 in c:\\users\\eland\\miniconda3\\envs\\macro-project\\lib\\site-packages (from requests>=2.0->wbdata) (2.0.4)\n",
      "Requirement already satisfied: idna<4,>=2.5 in c:\\users\\eland\\miniconda3\\envs\\macro-project\\lib\\site-packages (from requests>=2.0->wbdata) (3.4)\n",
      "Requirement already satisfied: urllib3<3,>=1.21.1 in c:\\users\\eland\\miniconda3\\envs\\macro-project\\lib\\site-packages (from requests>=2.0->wbdata) (1.26.18)\n",
      "Requirement already satisfied: certifi>=2017.4.17 in c:\\users\\eland\\miniconda3\\envs\\macro-project\\lib\\site-packages (from requests>=2.0->wbdata) (2023.11.17)\n"
     ]
    },
    {
     "name": "stderr",
     "output_type": "stream",
     "text": [
      "DEPRECATION: pydeflate 1.0.1 has a non-standard dependency specifier pyarrow>=1.19.2xlrd>=2.0. pip 24.0 will enforce this behaviour change. A possible replacement is to upgrade to a newer version of pydeflate or contact the author to suggest that they release a version with a conforming dependency specifiers. Discussion can be found at https://github.com/pypa/pip/issues/12063\n"
     ]
    },
    {
     "name": "stdout",
     "output_type": "stream",
     "text": [
      "Requirement already satisfied: requests in c:\\users\\eland\\miniconda3\\envs\\macro-project\\lib\\site-packages (2.31.0)"
     ]
    },
    {
     "name": "stderr",
     "output_type": "stream",
     "text": [
      "DEPRECATION: pydeflate 1.0.1 has a non-standard dependency specifier pyarrow>=1.19.2xlrd>=2.0. pip 24.0 will enforce this behaviour change. A possible replacement is to upgrade to a newer version of pydeflate or contact the author to suggest that they release a version with a conforming dependency specifiers. Discussion can be found at https://github.com/pypa/pip/issues/12063\n"
     ]
    },
    {
     "name": "stdout",
     "output_type": "stream",
     "text": [
      "\n",
      "Requirement already satisfied: beautifulsoup4 in c:\\users\\eland\\miniconda3\\envs\\macro-project\\lib\\site-packages (4.12.2)\n",
      "Requirement already satisfied: pandas in c:\\users\\eland\\miniconda3\\envs\\macro-project\\lib\\site-packages (1.5.3)\n",
      "Requirement already satisfied: charset-normalizer<4,>=2 in c:\\users\\eland\\miniconda3\\envs\\macro-project\\lib\\site-packages (from requests) (2.0.4)\n",
      "Requirement already satisfied: idna<4,>=2.5 in c:\\users\\eland\\miniconda3\\envs\\macro-project\\lib\\site-packages (from requests) (3.4)\n",
      "Requirement already satisfied: urllib3<3,>=1.21.1 in c:\\users\\eland\\miniconda3\\envs\\macro-project\\lib\\site-packages (from requests) (1.26.18)\n",
      "Requirement already satisfied: certifi>=2017.4.17 in c:\\users\\eland\\miniconda3\\envs\\macro-project\\lib\\site-packages (from requests) (2023.11.17)\n",
      "Requirement already satisfied: soupsieve>1.2 in c:\\users\\eland\\miniconda3\\envs\\macro-project\\lib\\site-packages (from beautifulsoup4) (2.5)\n",
      "Requirement already satisfied: python-dateutil>=2.8.1 in c:\\users\\eland\\miniconda3\\envs\\macro-project\\lib\\site-packages (from pandas) (2.8.2)\n",
      "Requirement already satisfied: pytz>=2020.1 in c:\\users\\eland\\miniconda3\\envs\\macro-project\\lib\\site-packages (from pandas) (2023.3.post1)\n",
      "Requirement already satisfied: numpy>=1.20.3 in c:\\users\\eland\\miniconda3\\envs\\macro-project\\lib\\site-packages (from pandas) (1.24.4)\n",
      "Requirement already satisfied: six>=1.5 in c:\\users\\eland\\miniconda3\\envs\\macro-project\\lib\\site-packages (from python-dateutil>=2.8.1->pandas) (1.16.0)\n"
     ]
    }
   ],
   "source": [
    "# Packages download\n",
    "!pip install pandas\n",
    "!pip install pandas_datareader\n",
    "!pip install prettytable\n",
    "!pip install statsmodels\n",
    "!pip install --upgrade pydeflate\n",
    "!pip install wbgapi\n",
    "!pip install wbdata\n",
    "!pip install requests beautifulsoup4 pandas"
   ]
  },
  {
   "cell_type": "markdown",
   "id": "0eef55ca-3d09-4694-8a4a-5a8069c9c556",
   "metadata": {},
   "source": [
    "## **CHAPTER 1: DATA**"
   ]
  },
  {
   "cell_type": "markdown",
   "id": "6a5999db-4204-4fb6-8d27-e76645829ef4",
   "metadata": {},
   "source": [
    "### OVERVIEW on DATA IMPORT & ADJUSTMENT REQUIREMENTS"
   ]
  },
  {
   "cell_type": "markdown",
   "id": "0d3ff4de-b679-4748-b3d9-ceefbf99ce47",
   "metadata": {},
   "source": [
    "#### DATA REQUIREMENTS\n",
    "(N.B. the following table has not descriptive purposes, but it is rather intended as an auxiliary tool for the editors)\n",
    "\n",
    "| Step | Imported? | Season adjusted? | Currency adjusted? | Variable | Variable Name | Shortcut | Note | Source | Link | Date |\n",
    "|------|-----------|-------------------|---------------------|----------|---------------|----------|------|--------|------|------|\n",
    "| 1    | Yes       | Yes               | Yes               | Yt       | Real GDP      | NGDPRSAXDCSAQ | Domestic Currency, SA, Quarterly | FRED | [Link](https://fred.stlouisfed.org/series/NGDPRSAXDCSAQ) | 2010 - current |\n",
    "| 2    | Yes       |                   | Yes               | C        | Real Private Sector Final Consumption Expenditure | NCPRNSAXDCSAQ | Domestic Currency, Not SA, Quarterly | FRED | [Link](https://fred.stlouisfed.org/series/NCPRNSAXDCSAQ) | 2010 - current |\n",
    "| 3    | Yes       | I tried           | USD                 | It       | Gross Fixed Capital Formation | NE.GDI.FTOT.CD | Current US Dollar, Annual | WorldBank | [Link](https://data.worldbank.org/indicator/NE.GDI.FTOT.CD?locations=SA) | 1968-2022 |\n",
    "| 4    | Yes       | No                | USD                 | TBt      | Trade Balance | BN.GSR.GNFS.CD | Net trade in goods and services (BOP, current US$) | World Bank | [Link](https://data.worldbank.org/indicator/BN.GSR.GNFS.CD?locations=SA) | 1971-2022 |\n",
    "| 5    | No        | Fuck this         | I am adjusted       | Nt       | Average Hours of Work for Employed Persons | Excel attached | Measures the average weekly working hours of workers (15 years and over) | General Statistics Authority | [Link](https://database.stats.gov.sa/home/indicator/999118) | Q2 2016-Q2 2023 |\n",
    "| 6    | No        |                   |                     | wt       | Average Monthly Wages for Paid Employees | Excel attached | The sum of the monthly wages to the total of employed persons for wages | General Statistics Authority | [Link](https://database.stats.gov.sa/home/indicator/999118) | Q2 2016-Q2 2023 |\n",
    "| 7    | Yes       |                   | In %                |          | Real Long Term Bond Rate | - | 10-year government development bond yield, Quarterly | National Statistics, Saudi Central Bank | [Link](https://www.sama.gov.sa/en-US/GovtSecurity/pages/governmentdevelopmentbonds.aspx), [Specific Bond (19Jan2029)](https://cbonds.com/bonds/461405/) | Q1999-Q32007, Past 3 yrs |\n",
    "| 8    | Yes       |                   | In %                | rt       | Short Term Bond Rate | Excel attached | Quarterly average of interbank rate | Saudi Central Bank | [Link](https://www.sama.gov.sa/ar-sa/EconomicReports/Pages/report.aspx?cid=118) | 2007-current |\n",
    "| 9    | Yes       |                   | Riyal               | Kt       | Capital Stock at Constant National Prices | RKNANPSAA666NRUG | Millions of 2017 U.S. Dollars, Not SA, Annual | FRED | [Link](https://fred.stlouisfed.org/series/RKNANPSAA666NRUG) | 1970-2019 |\n",
    "| 10   | Yes       |                   | In %                | CAt      | Current Account | BN.CAB.XOKA.GD.ZS | Current account balance % of GDP, Annual | Worldbank | [Link](https://data.worldbank.org/indicator/BN.CAB.XOKA.GD.ZS?locations=SA) | 1970-2021 |\n",
    "| 11   | Yes       |                   | In %                |          | CPI           | Consumer Prices | FP.CPI.TOTL.ZG | % Annual | Worldbank | [Link](https://data.worldbank.org/indicator/FP.CPI.TOTL.ZG?locations=SA) | 1964-2021 |\n",
    "| 12   | Yes       |                   |                     | ER       | Exchange Rate  | - | The Saudi riyal has been at a fixed rate to the US dollar since June 1986 (SAR 3.7500 per USD) | Constant | - | - |\n",
    "| 13   | Yes       | USD               |                     | Oil      | Crude Oil, Brent Prices | Excel attached | Crude oil, average spot price of Brent, Dubai and West Texas Intermediate, equally weighed, Monthly | Worldbank | [Link](https://www.worldbank.org/en/research/commodity-markets) | - |\n"
   ]
  },
  {
   "cell_type": "markdown",
   "id": "f9aa6046-dd8d-4627-a7dd-f516d949180a",
   "metadata": {},
   "source": [
    "### DATA MANIPULATION and CLEANING"
   ]
  },
  {
   "cell_type": "markdown",
   "id": "89ad3fe3-97d6-4096-a66a-63983dd34d9a",
   "metadata": {},
   "source": [
    "#### 1) <u>Yt=Real Gross Domestic Product<u/>"
   ]
  },
  {
   "cell_type": "markdown",
   "id": "69f9037d-0f09-48f1-ae78-adf4c55d8439",
   "metadata": {},
   "source": [
    "##### 1.1) Reshaping & Seasonality correction"
   ]
  },
  {
   "cell_type": "code",
   "execution_count": 140,
   "id": "0f01026e-dd4f-4966-ba5d-73775901f968",
   "metadata": {
    "scrolled": true
   },
   "outputs": [
    {
     "data": {
      "text/html": [
       "<div>\n",
       "<style scoped>\n",
       "    .dataframe tbody tr th:only-of-type {\n",
       "        vertical-align: middle;\n",
       "    }\n",
       "\n",
       "    .dataframe tbody tr th {\n",
       "        vertical-align: top;\n",
       "    }\n",
       "\n",
       "    .dataframe thead th {\n",
       "        text-align: right;\n",
       "    }\n",
       "</style>\n",
       "<table border=\"1\" class=\"dataframe\">\n",
       "  <thead>\n",
       "    <tr style=\"text-align: right;\">\n",
       "      <th></th>\n",
       "      <th>Date</th>\n",
       "      <th>Yt</th>\n",
       "    </tr>\n",
       "  </thead>\n",
       "  <tbody>\n",
       "    <tr>\n",
       "      <th>0</th>\n",
       "      <td>2010-01-01</td>\n",
       "      <td>472498.1</td>\n",
       "    </tr>\n",
       "    <tr>\n",
       "      <th>1</th>\n",
       "      <td>2010-04-01</td>\n",
       "      <td>487268.9</td>\n",
       "    </tr>\n",
       "    <tr>\n",
       "      <th>2</th>\n",
       "      <td>2010-07-01</td>\n",
       "      <td>492963.7</td>\n",
       "    </tr>\n",
       "    <tr>\n",
       "      <th>3</th>\n",
       "      <td>2010-10-01</td>\n",
       "      <td>521219.1</td>\n",
       "    </tr>\n",
       "    <tr>\n",
       "      <th>4</th>\n",
       "      <td>2011-01-01</td>\n",
       "      <td>535829.9</td>\n",
       "    </tr>\n",
       "  </tbody>\n",
       "</table>\n",
       "</div>"
      ],
      "text/plain": [
       "        Date        Yt\n",
       "0 2010-01-01  472498.1\n",
       "1 2010-04-01  487268.9\n",
       "2 2010-07-01  492963.7\n",
       "3 2010-10-01  521219.1\n",
       "4 2011-01-01  535829.9"
      ]
     },
     "execution_count": 140,
     "metadata": {},
     "output_type": "execute_result"
    }
   ],
   "source": [
    "# Import necessary libraries\n",
    "import pandas as pd\n",
    "import numpy as np\n",
    "from pandas_datareader.fred import FredReader\n",
    "data = FredReader(symbols=['NGDPRSAXDCSAQ'], start='2010', end=None).read()\n",
    "data.to_csv('SA_gdp_seasonally_adjusted.csv')\n",
    "# Read the CSV file and parse 'DATE' as datetime\n",
    "df1 = pd.read_csv('SA_gdp_seasonally_adjusted.csv', parse_dates=['DATE'])\n",
    "# Save for merging later \n",
    "df1.to_csv('SA_gdp_seasonally_adjusted.csv', index=False)\n",
    "# Rename the columns\n",
    "df1.columns = ['Date', 'Yt']\n",
    "# Display the DataFrame\n",
    "df1.head()"
   ]
  },
  {
   "cell_type": "markdown",
   "id": "2fb28717-9689-4974-bc70-a88656ec5cf8",
   "metadata": {},
   "source": [
    "##### 1.2) Data format"
   ]
  },
  {
   "cell_type": "code",
   "execution_count": 56,
   "id": "c172a20f-b83c-4d87-bae6-31c8b7fee83e",
   "metadata": {
    "scrolled": true
   },
   "outputs": [
    {
     "name": "stdout",
     "output_type": "stream",
     "text": [
      "<class 'pandas.core.frame.DataFrame'>\n",
      "RangeIndex: 55 entries, 0 to 54\n",
      "Data columns (total 2 columns):\n",
      " #   Column  Non-Null Count  Dtype         \n",
      "---  ------  --------------  -----         \n",
      " 0   Date    55 non-null     datetime64[ns]\n",
      " 1   Y       55 non-null     float64       \n",
      "dtypes: datetime64[ns](1), float64(1)\n",
      "memory usage: 1008.0 bytes\n"
     ]
    }
   ],
   "source": [
    "# Check the format of the data so make sure we have a float variable\n",
    "df1.info()"
   ]
  },
  {
   "cell_type": "code",
   "execution_count": 142,
   "id": "a5fb69b4-4076-4d0c-9e51-62bd40bc7298",
   "metadata": {},
   "outputs": [
    {
     "data": {
      "text/html": [
       "<div>\n",
       "<style scoped>\n",
       "    .dataframe tbody tr th:only-of-type {\n",
       "        vertical-align: middle;\n",
       "    }\n",
       "\n",
       "    .dataframe tbody tr th {\n",
       "        vertical-align: top;\n",
       "    }\n",
       "\n",
       "    .dataframe thead th {\n",
       "        text-align: right;\n",
       "    }\n",
       "</style>\n",
       "<table border=\"1\" class=\"dataframe\">\n",
       "  <thead>\n",
       "    <tr style=\"text-align: right;\">\n",
       "      <th></th>\n",
       "      <th>Yt</th>\n",
       "    </tr>\n",
       "    <tr>\n",
       "      <th>Date</th>\n",
       "      <th></th>\n",
       "    </tr>\n",
       "  </thead>\n",
       "  <tbody>\n",
       "    <tr>\n",
       "      <th>2010-01-01</th>\n",
       "      <td>472498.1</td>\n",
       "    </tr>\n",
       "    <tr>\n",
       "      <th>2010-04-01</th>\n",
       "      <td>487268.9</td>\n",
       "    </tr>\n",
       "    <tr>\n",
       "      <th>2010-07-01</th>\n",
       "      <td>492963.7</td>\n",
       "    </tr>\n",
       "    <tr>\n",
       "      <th>2010-10-01</th>\n",
       "      <td>521219.1</td>\n",
       "    </tr>\n",
       "    <tr>\n",
       "      <th>2011-01-01</th>\n",
       "      <td>535829.9</td>\n",
       "    </tr>\n",
       "  </tbody>\n",
       "</table>\n",
       "</div>"
      ],
      "text/plain": [
       "                  Yt\n",
       "Date                \n",
       "2010-01-01  472498.1\n",
       "2010-04-01  487268.9\n",
       "2010-07-01  492963.7\n",
       "2010-10-01  521219.1\n",
       "2011-01-01  535829.9"
      ]
     },
     "execution_count": 142,
     "metadata": {},
     "output_type": "execute_result"
    }
   ],
   "source": [
    "# Create an index using our Date column\n",
    "df1.set_index('Date', inplace=True)\n",
    "df1.head()"
   ]
  },
  {
   "cell_type": "markdown",
   "id": "b85652e3-d84e-468b-9a87-50bde1da3adf",
   "metadata": {},
   "source": [
    "##### 1.4) Log adjustment (stationary test)"
   ]
  },
  {
   "cell_type": "code",
   "execution_count": 141,
   "id": "2d6f07db-606b-4712-b31e-33bae041ada9",
   "metadata": {
    "scrolled": true
   },
   "outputs": [
    {
     "name": "stdout",
     "output_type": "stream",
     "text": [
      "+----------------------+---------------------+------------------------+\n",
      "|      Statistic       |   Original Series   | Log-Transformed Series |\n",
      "+----------------------+---------------------+------------------------+\n",
      "|    ADF Statistic     |  -2.233491459545733 |   -2.791125939238542   |\n",
      "|       p-value        |  0.1943152570602683 |  0.05955258781075299   |\n",
      "| Critical Value (5%)  |  -2.925338105429433 |    -2.9178502070837    |\n",
      "| Critical Value (1%)  | -3.5778480370438146 |   -3.560242358792829   |\n",
      "| Critical Value (10%) | -2.6007735310095064 |  -2.5967964150943397   |\n",
      "+----------------------+---------------------+------------------------+\n"
     ]
    }
   ],
   "source": [
    "# Run the Dickey-Fuller test  to see if we need to adjust our data using logs due to stationary/non-stationary\n",
    "# Import necessary libraries\n",
    "from pandas import read_csv\n",
    "from statsmodels.tsa.stattools import adfuller\n",
    "import numpy as np\n",
    "from prettytable import PrettyTable\n",
    "# Read the CSV file\n",
    "series = read_csv('SA_gdp_seasonally_adjusted.csv', header=0, index_col=0)\n",
    "# Original time series\n",
    "X_original = series.values\n",
    "# Log-transformed time series\n",
    "X_log = np.log(df1.Yt)\n",
    "# Run the Dickey-Fuller test for the original time series\n",
    "result_original = adfuller(X_original)\n",
    "# Run the Dickey-Fuller test for the log-transformed time series\n",
    "result_log = adfuller(X_log)\n",
    "# Create a PrettyTable for the comparison\n",
    "comparison_table = PrettyTable()\n",
    "comparison_table.field_names = [\"Statistic\", \"Original Series\", \"Log-Transformed Series\"]\n",
    "comparison_table.add_row([\"ADF Statistic\", result_original[0], result_log[0]])\n",
    "comparison_table.add_row([\"p-value\", result_original[1], result_log[1]])\n",
    "# Find the common keys for critical values\n",
    "common_keys = set(result_original[4].keys()).intersection(result_log[4].keys())\n",
    "# Add critical values to the table\n",
    "for key in common_keys:\n",
    "    comparison_table.add_row([f\"Critical Value ({key})\", result_original[4][key], result_log[4][key]])\n",
    "# Print the comparison table\n",
    "print(comparison_table)"
   ]
  },
  {
   "cell_type": "markdown",
   "id": "6a589788-281b-4f6a-95a7-4750b0519500",
   "metadata": {},
   "source": [
    "##### The log-transformed time series, with a more negative ADF Statistic (-2.791) and a lower p-value (0.059) compared to the original series (-2.233 and 0.194), exhibits more compelling indications of stationarity. Given these Fuller test results, we opt for the log-transformed data for further analysis."
   ]
  },
  {
   "cell_type": "code",
   "execution_count": 59,
   "id": "657216f9-aa70-43b3-bb7e-f7900391400a",
   "metadata": {},
   "outputs": [
    {
     "name": "stdout",
     "output_type": "stream",
     "text": [
      "<class 'pandas.core.frame.DataFrame'>\n",
      "DatetimeIndex: 55 entries, 2010-01-01 to 2023-07-01\n",
      "Data columns (total 1 columns):\n",
      " #   Column  Non-Null Count  Dtype  \n",
      "---  ------  --------------  -----  \n",
      " 0   Y       55 non-null     float64\n",
      "dtypes: float64(1)\n",
      "memory usage: 880.0 bytes\n"
     ]
    }
   ],
   "source": [
    "df1.info()"
   ]
  },
  {
   "cell_type": "markdown",
   "id": "1c307dfb-3d66-40f6-8d27-63091db4c14c",
   "metadata": {},
   "source": [
    "##### 1.5) Currency Conversion"
   ]
  },
  {
   "cell_type": "code",
   "execution_count": 111,
   "id": "9e5dbbe3-e705-4071-8c01-002c4f579d50",
   "metadata": {},
   "outputs": [
    {
     "name": "stdout",
     "output_type": "stream",
     "text": [
      "            us_saudi_ER\n",
      "DATE                   \n",
      "2019-01-01         3.75\n",
      "2019-02-01         3.75\n",
      "2019-03-01         3.75\n",
      "2019-04-01         3.75\n",
      "2019-05-01         3.75\n"
     ]
    }
   ],
   "source": [
    "# Import necessary libraries\n",
    "import pydeflate\n",
    "import pandas as pd\n",
    "import pandas_datareader as pdr\n",
    "# Import data for US dollar-Saudi Riyal Exchange rate\n",
    "series_code = 'SAUCCUSMA02STM'\n",
    "us_saudi = pdr.get_data_fred(series_code)\n",
    "# Rename columns\n",
    "us_saudi = us_saudi.rename(columns={'SAUCCUSMA02STM': 'us_saudi_ER'})\n",
    "print(us_saudi.head())"
   ]
  },
  {
   "cell_type": "code",
   "execution_count": 121,
   "id": "81ac49d5-f4d8-4cef-9aa3-6f626581b1e4",
   "metadata": {},
   "outputs": [
    {
     "name": "stdout",
     "output_type": "stream",
     "text": [
      "        DATE  us_saudi_ER\n",
      "0 2019-03-31         3.75\n",
      "1 2019-06-30         3.75\n",
      "2 2019-09-30         3.75\n",
      "3 2019-12-31         3.75\n",
      "4 2020-03-31         3.75\n"
     ]
    },
    {
     "name": "stderr",
     "output_type": "stream",
     "text": [
      "C:\\Users\\eland\\AppData\\Local\\Temp\\ipykernel_8012\\621122527.py:1: FutureWarning: TimeGrouper.ax is deprecated and will be removed in a future version. Use Resampler.ax instead\n",
      "  us_saudi_q = us_saudi.resample('Q').mean()\n",
      "C:\\Users\\eland\\AppData\\Local\\Temp\\ipykernel_8012\\621122527.py:1: FutureWarning: TimeGrouper.indexer is deprecated and will be removed in a future version. Use Resampler.indexer instead.\n",
      "  us_saudi_q = us_saudi.resample('Q').mean()\n",
      "C:\\Users\\eland\\AppData\\Local\\Temp\\ipykernel_8012\\621122527.py:1: FutureWarning: TimeGrouper.obj is deprecated and will be removed in a future version. Use GroupBy.indexer instead.\n",
      "  us_saudi_q = us_saudi.resample('Q').mean()\n"
     ]
    }
   ],
   "source": [
    "# the actual time serie for US dollars-Riyal exchange rate has a monthly frequently, we want it quarterly \n",
    "us_saudi_q = us_saudi.resample('Q').mean()\n",
    "us_saudi_q.reset_index(inplace=True)\n",
    "print(us_saudi_q.head())"
   ]
  },
  {
   "cell_type": "code",
   "execution_count": 126,
   "id": "c70982b8-a399-44de-a9d2-710754891497",
   "metadata": {
    "scrolled": true
   },
   "outputs": [
    {
     "name": "stdout",
     "output_type": "stream",
     "text": [
      "df1:\n",
      "   level_0  index       Date         Y iso_code\n",
      "0        0      0 2010-01-01  472498.1      SAU\n",
      "1        1      1 2010-04-01  487268.9      SAU\n",
      "2        2      2 2010-07-01  492963.7      SAU\n",
      "3        3      3 2010-10-01  521219.1      SAU\n",
      "4        4      4 2011-01-01  535829.9      SAU\n",
      "\n",
      "us_saudi_q:\n",
      "        DATE  us_saudi_ER\n",
      "0 2019-03-31         3.75\n",
      "1 2019-06-30         3.75\n",
      "2 2019-09-30         3.75\n",
      "3 2019-12-31         3.75\n",
      "4 2020-03-31         3.75\n"
     ]
    }
   ],
   "source": [
    "# Having our GDP data in Saudi Riyal, to switch to US dollar, we only have to proprerly multiply Yt (Saudi Riyal) for the given fixed exchange rate\n",
    "# analyse the structure of the 2 datasets in question\n",
    "print(\"df1:\")\n",
    "print(df1.head())\n",
    "print(\"\\nus_saudi_q:\")\n",
    "print(us_saudi_q.head())"
   ]
  },
  {
   "cell_type": "code",
   "execution_count": 138,
   "id": "d654abe6-0df5-49b7-9864-b4ca4df87aff",
   "metadata": {},
   "outputs": [
    {
     "name": "stdout",
     "output_type": "stream",
     "text": [
      "Data type of 'Date' in df1: datetime64[ns]\n",
      "Data type of 'Date' in us_saudi_quarters: datetime64[ns]\n",
      "First few rows of df1:    level_0  index       Date         Y iso_code\n",
      "0        0      0 2010-01-01  472498.1      SAU\n",
      "1        1      1 2010-04-01  487268.9      SAU\n",
      "2        2      2 2010-07-01  492963.7      SAU\n",
      "3        3      3 2010-10-01  521219.1      SAU\n",
      "4        4      4 2011-01-01  535829.9      SAU\n",
      "First few rows of us_saudi_qs:         DATE  us_saudi_ER\n",
      "0 2019-03-31         3.75\n",
      "1 2019-06-30         3.75\n",
      "2 2019-09-30         3.75\n",
      "3 2019-12-31         3.75\n",
      "4 2020-03-31         3.75\n"
     ]
    }
   ],
   "source": [
    "# create a merged table from the two FUCKKKKKKKKKIIIIIIIIITTTTTTTTT, im tired bye, and i still havent done french\n",
    "df2 = pd.merge(df1, us_saudi_quarters, left_on='Date', right_on='DATE', how='inner')\n",
    "#check if the columns have the same format\n",
    "print(\"Data type of 'Date' in df1:\", df1['Date'].dtype)\n",
    "print(\"Data type of 'Date' in us_saudi_quarters:\", us_saudi_q['DATE'].dtype)\n",
    "\n",
    "df1['Date'] = pd.to_datetime(df1['Date'])\n",
    "us_saudi_q['DATE'] = pd.to_datetime(us_saudi_q['DATE'])\n",
    "print(\"First few rows of df1:\", df1.head())\n",
    "print(\"First few rows of us_saudi_qs:\", us_saudi_q.head())\n"
   ]
  },
  {
   "cell_type": "markdown",
   "id": "940d290c-c891-4a8a-87b6-61c069b3a862",
   "metadata": {},
   "source": [
    "#### 2) <u>C=Real Private Sector Final Consumption Expenditure<u/>"
   ]
  },
  {
   "cell_type": "code",
   "execution_count": null,
   "id": "6cf29794-e789-407e-a13d-53fd302f26f7",
   "metadata": {
    "scrolled": true
   },
   "outputs": [],
   "source": [
    "### Step 2 ## Importing Real Private Sector Final Consumption Expenditure\n",
    "## data is not seasonaly adjusted yet\n",
    "\n",
    "data = FredReader(symbols=['NCPRNSAXDCSAQ'], start='2010', end=None).read()\n",
    "data.to_csv('SA_real_private_consumption_not_adjusted.csv')\n",
    "\n",
    "# Read the CSV file and parse 'DATE' as datetime\n",
    "df2 = pd.read_csv('SA_real_private_consumption_not_adjusted.csv', parse_dates=['DATE'])\n",
    "\n",
    "# save for merging later \n",
    "df2.to_csv('SA_real_private_consumption_not_adjusted.csv', index=False)\n",
    "\n",
    "# Rename the columns\n",
    "df2.columns = ['Date', 'C']\n",
    "\n",
    "# Display the DataFrame\n",
    "df2.head()\n"
   ]
  },
  {
   "cell_type": "code",
   "execution_count": null,
   "id": "3fa30ae8-dec4-41f7-ade0-ad686ec8847d",
   "metadata": {
    "scrolled": true
   },
   "outputs": [],
   "source": [
    "# Check the format of data before merge\n",
    "df2.info()\n",
    "df2.plot()"
   ]
  },
  {
   "cell_type": "code",
   "execution_count": null,
   "id": "08ef7afc-b60d-433c-91da-d6f868601639",
   "metadata": {
    "scrolled": true
   },
   "outputs": [],
   "source": [
    "df2.C.map(np.log).diff().plot()"
   ]
  },
  {
   "cell_type": "code",
   "execution_count": null,
   "id": "dd05ae39-0cc2-4bfb-a366-10f9b4fc761e",
   "metadata": {
    "scrolled": true
   },
   "outputs": [],
   "source": [
    "df2['log_C'] = df2['C'].map(np.log)\n",
    "df2['diff_log_C'] = df2['log_C'].diff()\n",
    "\n",
    "# Include the 'Date' column from df2\n",
    "d_log_C = df2[['Date']].copy()\n",
    "d_log_C['diff_log_C'] = df2['diff_log_C']\n",
    "d_log_C.info()\n"
   ]
  },
  {
   "cell_type": "code",
   "execution_count": null,
   "id": "6dab6bc1-3192-496c-b482-9d94bf9ea9c6",
   "metadata": {
    "scrolled": true
   },
   "outputs": [],
   "source": [
    "# Extract quarter information\n",
    "d_log_C['Quarter'] = d_log_C['Date'].dt.quarter\n",
    "\n",
    "# Create a pivot table based on quarter and year\n",
    "d_C_pivot = d_log_C.pivot_table(index='Quarter', columns=d_log_C['Date'].dt.year, values='diff_log_C')\n",
    "\n",
    "# Display the pivot table\n",
    "d_C_pivot.head()"
   ]
  },
  {
   "cell_type": "code",
   "execution_count": null,
   "id": "812aef6f-3a28-4f54-846d-70647d449d97",
   "metadata": {
    "scrolled": true
   },
   "outputs": [],
   "source": [
    "d_C_pivot.plot(legend=False);\n"
   ]
  },
  {
   "cell_type": "markdown",
   "id": "7f637090-6f4f-4750-a1a6-7b2cf5b28433",
   "metadata": {},
   "source": [
    "Results seem not completly random but also not completly non random. Not adjusting for seasonality. "
   ]
  },
  {
   "cell_type": "code",
   "execution_count": null,
   "id": "26420882-05ee-48f6-bd06-1a31b6a1ddba",
   "metadata": {},
   "outputs": [],
   "source": [
    "### not done with the correct C I assume as I renamed it to get log before. Has to be adjusted I believe\n",
    "# add column to have identifier for SAudi Dollars\n",
    "df2['iso_code'] = 'SAU'\n",
    "\n",
    "# convert to USD 2023 constant prices\n",
    "if 'C' in df2.columns:\n",
    "    # If the column exists, strip any leading or trailing whitespaces\n",
    "    df2.columns = df2.columns.str.strip()\n",
    "\n",
    "    # Currency Conversion for C\n",
    "    df2 = pydeflate.exchange(\n",
    "        df=df2,\n",
    "        source_currency=\"SAU\",\n",
    "        target_currency=\"USA\",\n",
    "        rates_source='imf', \n",
    "        value_column='C',  # Ensure the correct column name is used\n",
    "        target_column='C_USD',\n",
    "        id_column=\"iso_code\",\n",
    "        id_type=\"ISO3\",\n",
    "        date_column=\"Date\",\n",
    "    )\n",
    "\n",
    "    # Currency Conversion for C_Log\n",
    "    df2 = pydeflate.exchange(\n",
    "        df=df2,\n",
    "        source_currency=\"SAU\",\n",
    "        target_currency=\"USA\",\n",
    "        rates_source='imf', \n",
    "        value_column='log_C', \n",
    "        target_column='Log_C_USD',\n",
    "        id_column=\"iso_code\",\n",
    "        id_type=\"ISO3\",\n",
    "        date_column=\"Date\",\n",
    "    )\n",
    "\n",
    "\n",
    "df2.info()\n",
    "df2.head"
   ]
  },
  {
   "cell_type": "code",
   "execution_count": null,
   "id": "ba51fd1d-5000-432f-a566-def1bd3505ac",
   "metadata": {},
   "outputs": [],
   "source": [
    "!pip install wbdata\n",
    "!pip install pandas_datareade"
   ]
  },
  {
   "cell_type": "code",
   "execution_count": null,
   "id": "92ebd607-4aab-4cbc-a2cf-4da6a68fda4e",
   "metadata": {},
   "outputs": [],
   "source": [
    "### Step 3 ## Importing Gross Fixed Capital Formation NE.GDI.FTOT.CD Annual\n",
    "\n",
    "## data is in current US Dollar\n",
    "\n",
    "import pandas as pd\n",
    "import pandas_datareader.wb as wb\n",
    "\n",
    "# Define the World Bank indicator code for \"Gross Fixed Capital Formation\"\n",
    "indicator_code = 'NE.GDI.FTOT.CD'\n",
    "\n",
    "# Define countries and time period\n",
    "countries = ['SA']\n",
    "start_date = '2010-01-01'\n",
    "end_date = '2023-12-31'\n",
    "\n",
    "# Fetch World Bank data using the pandas_datareader library\n",
    "world_bank_data = wb.download(indicator=indicator_code, country=countries, start=start_date, end=end_date)\n",
    "\n",
    "# Reset index to make 'Date' a column\n",
    "world_bank_data.reset_index(inplace=True)\n",
    "\n",
    "# Drop 'country' column\n",
    "world_bank_data.drop('country', axis=1, inplace=True)\n",
    "\n",
    "# Rename 'year' column to 'Date'\n",
    "world_bank_data.rename(columns={'year': 'Date', 'NE.GDI.FTOT.CD': 'I'}, inplace=True)\n",
    "world_bank_data['Date'] = pd.to_datetime(world_bank_data['Date'])  # Fix: use 'year' instead of 'Date'\n",
    "\n",
    "df3 = world_bank_data.copy()\n",
    "df3.info()\n",
    "\n",
    "\n",
    "\n"
   ]
  },
  {
   "cell_type": "code",
   "execution_count": null,
   "id": "a83e8834-40fd-44e8-a251-58a9f1878933",
   "metadata": {
    "scrolled": true
   },
   "outputs": [],
   "source": [
    "### resample data to fit quartelry framework\n",
    "# Set 'Date' column as the index\n",
    "df3.set_index('Date', inplace=True)\n",
    "\n",
    "# Resample data to fit quarterly framework\n",
    "df3_resampled = df3.I.resample('QS').asfreq()\n",
    "\n",
    "# Plot the resampled data\n",
    "df3_resampled.plot(marker='o')\n",
    "df3.I.resample('QS').asfreq().plot(marker='o')"
   ]
  },
  {
   "cell_type": "code",
   "execution_count": null,
   "id": "323f5ac1-16af-4cd6-b55e-ca048dfb3b36",
   "metadata": {},
   "outputs": [],
   "source": [
    "# taking a loook at the NA\n",
    "quarterly_I = df3.I.mul(0.25).resample('QS').asfreq()\n",
    "quarterly_I.tail()"
   ]
  },
  {
   "cell_type": "code",
   "execution_count": null,
   "id": "8cdcd588-9f2f-438e-aea8-89db70421e0f",
   "metadata": {},
   "outputs": [],
   "source": [
    "import statsmodels.api as sm\n",
    "\n",
    "# order is three numbers: (AR, Diff, MA). If this means nothing to you don't worry. But AR(1) corresponds to\n",
    "# order (1, 0, 0).\n",
    "\n",
    "# We set the trend to 'ctt' which means quadratic trend, since this data is increasing exponentially.\n",
    "mod = sm.tsa.SARIMAX(quarterly_I, order=(1, 0, 0), trend='ctt')\n",
    "res = mod.fit(method='nm', maxiter=10_000)"
   ]
  },
  {
   "cell_type": "code",
   "execution_count": null,
   "id": "7b20e80e-b49c-438c-b261-b847ad5701be",
   "metadata": {
    "scrolled": true
   },
   "outputs": [],
   "source": [
    "res.summary()"
   ]
  },
  {
   "cell_type": "code",
   "execution_count": null,
   "id": "b342a6aa-120f-475c-af4f-3051ff754837",
   "metadata": {
    "scrolled": true
   },
   "outputs": [],
   "source": [
    "fig, ax = plt.subplots()\n",
    "res.predict().plot(label='Predicted', ax=ax)\n",
    "ax.scatter(quarterly_I.index, quarterly_I.values, s=15, color='tab:orange', label='Data')\n",
    "ax.legend()\n",
    "plt.show()"
   ]
  },
  {
   "cell_type": "code",
   "execution_count": null,
   "id": "19823ed1-a300-428a-8632-c34b8241371a",
   "metadata": {
    "scrolled": true
   },
   "outputs": [],
   "source": [
    "# Plot the resampled data\n",
    "df3.I.resample('QS').asfreq().plot(marker='o')\n",
    "\n",
    "# Taking a look at the NA\n",
    "quarterly_I = df3.I.mul(0.25).resample('QS').asfreq()\n",
    "\n",
    "# Display the last few rows of the resampled quarterly data\n",
    "print(quarterly_I.tail())\n",
    "\n",
    "# SARIMAX Modeling\n",
    "mod = sm.tsa.SARIMAX(quarterly_I, order=(1, 0, 0), trend='ctt')\n",
    "res = mod.fit(method='nm', maxiter=10_000)\n",
    "\n",
    "# Generate quarterly periods\n",
    "quarterly_periods = pd.date_range(start=quarterly_I.index[-1] + pd.DateOffset(months=3), periods=4, freq='Q')\n",
    "\n",
    "# Make predictions for quarterly data\n",
    "predictions = res.get_prediction(start=quarterly_periods[0], end=quarterly_periods[-1])\n",
    "predicted_data = predictions.predicted_mean\n",
    "\n",
    "# Combine original quarterly data with predicted quarterly data\n",
    "I_predict = pd.concat([quarterly_I, pd.DataFrame(predicted_data, columns=['I'], index=quarterly_periods)])\n",
    "\n",
    "# Sort the combined data by the index (Date)\n",
    "I_predict.sort_index(inplace=True)\n",
    "\n",
    "# Reset index and rename to Date\n",
    "I_predict.reset_index(inplace=True)\n",
    "I_predict.rename(columns={'index': 'Date'}, inplace=True)\n",
    "\n",
    "# Forward-fill NAs\n",
    "I_predict.ffill(inplace=True)\n",
    "\n",
    "print(I_predict)"
   ]
  },
  {
   "cell_type": "code",
   "execution_count": null,
   "id": "57aa3b3e-f4ac-4374-a524-98620f789ea4",
   "metadata": {},
   "outputs": [],
   "source": [
    "# Reset index and rename to match your requirements\n",
    "#combined_data_I.reset_index(inplace=True)\n",
    "\n",
    "# Drop the number in the column row and also drop 'I' column\n",
    "\n",
    "I_predict.rename(columns={0: 'I_pred'}, inplace=True)\n",
    "I_predict.drop(columns='I', axis=1, inplace=True)\n",
    "I_predict.head()\n",
    "I_predict.info()"
   ]
  },
  {
   "cell_type": "code",
   "execution_count": null,
   "id": "fcc9c57b-798a-4c22-b6f2-bc36e31d97e3",
   "metadata": {},
   "outputs": [],
   "source": [
    "### Step 3.2 ## Change currency to Saudi Dollar petro money"
   ]
  },
  {
   "cell_type": "code",
   "execution_count": null,
   "id": "40ec36ec-7e0f-4ced-81c3-6464942cb0a1",
   "metadata": {},
   "outputs": [],
   "source": [
    "### Step 4 ## 4\tTBt\tTrade Balance trade in goods and services (BOP, current US$)\n",
    "\n",
    "## data is in current US Dollar\n",
    "\n",
    "import pandas as pd\n",
    "import pandas_datareader.wb as wb\n",
    "\n",
    "# Define World Bank indicator code for Trade Balance\n",
    "indicator_code = 'BN.GSR.GNFS.CD'\n",
    "\n",
    "# Define the countries and time period\n",
    "countries = ['SA']\n",
    "start_date = '2010-01-01'\n",
    "end_date = '2023-12-31'\n",
    "\n",
    "# Fetch World Bank data using pandas_datareader\n",
    "world_bank_data = wb.download(indicator=indicator_code, country=countries, start=start_date, end=end_date)\n",
    "\n",
    "# Reset index to build Date column\n",
    "world_bank_data.reset_index(inplace=True)\n",
    "\n",
    "# Drop country\n",
    "world_bank_data.drop('country', axis=1, inplace=True)\n",
    "\n",
    "# Rename year to Date\n",
    "world_bank_data.rename(columns={'year': 'Date', 'BN.GSR.GNFS.CD': 'TB'}, inplace=True)\n",
    "world_bank_data['Date'] = pd.to_datetime(world_bank_data['Date']) \n",
    "\n",
    "df4 = world_bank_data.copy()\n",
    "df4.info()\n",
    "df4.head()"
   ]
  },
  {
   "cell_type": "code",
   "execution_count": null,
   "id": "be03f01e-f29e-49f9-877e-0d0ba3c75452",
   "metadata": {},
   "outputs": [],
   "source": [
    "### Step 4.2 ## Trade Balance trade in goods and services (BOP, current US$)\n",
    "# change to quarterly numbers"
   ]
  },
  {
   "cell_type": "markdown",
   "id": "9bd4a8b5-a8d8-4b3b-a3b0-85ced03b5764",
   "metadata": {},
   "source": [
    "#### 5) <u>Nt=Average Hours of Work for Employed Persons<u/>"
   ]
  },
  {
   "cell_type": "code",
   "execution_count": 159,
   "id": "a48390de",
   "metadata": {},
   "outputs": [
    {
     "name": "stdout",
     "output_type": "stream",
     "text": [
      "                   Nt\n",
      "2016-02-01  38.967755\n",
      "2016-03-01  38.570345\n",
      "2016-04-01  38.753157\n",
      "2017-01-01  39.093367\n",
      "2017-02-01  38.859861\n"
     ]
    }
   ],
   "source": [
    "# Manually import data, given the unavailability of alternative API/code solutions to include the rethrieved data for the Average Hours of Work for Employed Persons\n",
    "Nt_data = {\n",
    "    '2016 / Q2': [38.96775504],\n",
    "    '2016 / Q3': [38.57034481],\n",
    "    '2016 / Q4': [38.75315665],\n",
    "    '2017 / Q1': [39.09336699],\n",
    "    '2017 / Q2': [38.85986074],\n",
    "    '2017 / Q3': [38.9159003],\n",
    "    '2017 / Q4': [39.58174661],\n",
    "    '2018 / Q1': [38.64750733],\n",
    "    '2018 / Q2': [38.80551713],\n",
    "    '2019 / Q1': [38.94281089],\n",
    "    '2019 / Q2': [38.43955095],\n",
    "    '2019 / Q3': [38.17616634],\n",
    "    '2019 / Q4': [37.88810263],\n",
    "    '2020 / Q1': [38.35162171],\n",
    "    '2020 / Q2': [39.31892759],\n",
    "    '2020 / Q3': [39.65375889],\n",
    "    '2020 / Q4': [40.16204173],\n",
    "    '2021 / Q1': [39.01231081],\n",
    "    '2021 / Q2': [38.43177217],\n",
    "    '2021 / Q3': [39.30209818],\n",
    "    '2021 / Q4': [40.29776716],\n",
    "    '2022 / Q1': [39.84260952],\n",
    "    '2022 / Q2': [40.12209799],\n",
    "    '2022 / Q3': [40.72582419],\n",
    "    '2022 / Q4': [40.11837913],\n",
    "    '2023 / Q1': [40.01679873],\n",
    "    '2023 / Q2': [40.35208325]\n",
    "}\n",
    "# Create a dataframe from the table\n",
    "df5 = pd.DataFrame(Nt_data)\n",
    "# In this structure, we have values for Nt alligned on single row, we prefer a column\n",
    "df5 = df5.transpose()\n",
    "# Rename the columns to fit the variable in question\n",
    "df5.columns = ['Nt']\n",
    "# Convert the index to datetime format with format specification\n",
    "df5.index = pd.to_datetime([f\"{quarter.split(' / ')[0]}-{quarter.split(' / ')[1].replace('Q', '-')}-01\" for quarter in df5.index])\n",
    "print(df5.head())"
   ]
  },
  {
   "cell_type": "code",
   "execution_count": 139,
   "id": "20885024-c258-428b-8995-4f76248680b8",
   "metadata": {},
   "outputs": [
    {
     "ename": "ModuleNotFoundError",
     "evalue": "No module named 'matplotlib'",
     "output_type": "error",
     "traceback": [
      "\u001b[1;31m---------------------------------------------------------------------------\u001b[0m",
      "\u001b[1;31mModuleNotFoundError\u001b[0m                       Traceback (most recent call last)",
      "Cell \u001b[1;32mIn[139], line 5\u001b[0m\n\u001b[0;32m      1\u001b[0m \u001b[38;5;66;03m### Step 5 take a look at the data\u001b[39;00m\n\u001b[0;32m      2\u001b[0m \u001b[38;5;66;03m# checking for missing values\u001b[39;00m\n\u001b[0;32m      3\u001b[0m \u001b[38;5;66;03m#print(df5.isnull().sum())\u001b[39;00m\n\u001b[0;32m      4\u001b[0m \u001b[38;5;66;03m# general overview\u001b[39;00m\n\u001b[1;32m----> 5\u001b[0m \u001b[38;5;28;01mimport\u001b[39;00m \u001b[38;5;21;01mmatplotlib\u001b[39;00m\u001b[38;5;21;01m.\u001b[39;00m\u001b[38;5;21;01mpyplot\u001b[39;00m \u001b[38;5;28;01mas\u001b[39;00m \u001b[38;5;21;01mplt\u001b[39;00m\n\u001b[0;32m      6\u001b[0m \u001b[38;5;28;01mimport\u001b[39;00m \u001b[38;5;21;01mpandas\u001b[39;00m \u001b[38;5;28;01mas\u001b[39;00m \u001b[38;5;21;01mpd\u001b[39;00m\n\u001b[0;32m      8\u001b[0m \u001b[38;5;66;03m# Set the display format for floating-point numbers\u001b[39;00m\n",
      "\u001b[1;31mModuleNotFoundError\u001b[0m: No module named 'matplotlib'"
     ]
    }
   ],
   "source": [
    "### Step 5 take a look at the data\n",
    "# checking for missing values\n",
    "#print(df5.isnull().sum())\n",
    "# general overview\n",
    "import matplotlib.pyplot as plt\n",
    "import pandas as pd\n",
    "\n",
    "# Set the display format for floating-point numbers\n",
    "pd.set_option('display.float_format', '{:.2f}'.format)\n",
    "\n",
    "# Summary statistics\n",
    "summary_stats = df5.describe()\n",
    "\n",
    "# min and max values\n",
    "min_values = df5.min()\n",
    "max_values = df5.max()\n",
    "\n",
    "# histograms\n",
    "df5.hist(figsize=(10, 8))\n",
    "plt.suptitle('Histograms')\n",
    "\n",
    "# Box plots\n",
    "df5.boxplot(figsize=(10, 6))\n",
    "plt.title('Box Plots')\n",
    "\n",
    "# Scatter plots for each pair of variables\n",
    "#numerical_columns = df5.select_dtypes(include='number').columns\n",
    "#scatter_matrix = pd.plotting.scatter_matrix(df5[numerical_columns], figsize=(12, 12), marker='o', diagonal='hist')\n",
    "#plt.suptitle('Scatter Plots', y=1.02)\n",
    "\n",
    "# # Line plot for total hours worked per year\n",
    "# plt.figure(figsize=(10, 6))\n",
    "# plt.plot(df5['Date'], df5['TOTAL_HOURS_OBSV'], marker='o', linestyle='-', color='b')\n",
    "# plt.title('Total Hours Worked Per Year')\n",
    "# plt.xlabel('Year')\n",
    "# plt.ylabel('Total Hours Worked')\n",
    "# plt.grid(True)\n",
    "\n",
    "\n",
    "# Sort the DataFrame by the 'YEAR_TIME' column\n",
    "df5_sorted = df5.sort_values(by='Date')\n",
    "\n",
    "# Line plot for total hours worked per year\n",
    "plt.figure(figsize=(10, 6))\n",
    "plt.plot(df5_sorted['Date'], df5_sorted['TOTAL_HOURS_OBSV'], marker='o', linestyle='-', color='b')\n",
    "plt.title('Total Hours Worked Per Year')\n",
    "plt.xlabel('Year')\n",
    "plt.ylabel('Total Hours Worked')\n",
    "plt.grid(True)\n",
    "plt.show()\n",
    "\n",
    "# Show plots\n",
    "plt.show()\n",
    "\n",
    "# Display the summary statistics, min, and max values\n",
    "print(\"Summary Statistics:\")\n",
    "print(summary_stats)\n",
    "print(\"\\nMin Values:\")\n",
    "print(min_values)\n",
    "print(\"\\nMax Values:\")\n",
    "print(max_values)\n"
   ]
  },
  {
   "cell_type": "markdown",
   "id": "0e3bf792-308c-4a4b-9d16-a9f967d3bf49",
   "metadata": {},
   "source": [
    "#### 6) <u>wt=Average Monthly Wages for Paid Employees<u/>"
   ]
  },
  {
   "cell_type": "code",
   "execution_count": 160,
   "id": "38dfef43-1c1a-47a3-bfe7-3c1cff36abcc",
   "metadata": {},
   "outputs": [
    {
     "name": "stdout",
     "output_type": "stream",
     "text": [
      "                      wt\n",
      "2016-02-01  10462.106420\n",
      "2016-03-01   9712.357822\n",
      "2016-04-01  10227.105740\n",
      "2017-01-01   9884.239590\n",
      "2017-02-01   9910.831884\n"
     ]
    }
   ],
   "source": [
    "# Manually import data, given the unavailability of alternative API/code solutions to include the rethrieved data for the Average Monthly Wages for Paid Employees\n",
    "wt_data = {\n",
    "    '2016 / Q2': [10462.10642],\n",
    "    '2016 / Q3': [9712.357822],\n",
    "    '2016 / Q4': [10227.10574],\n",
    "    '2017 / Q1': [9884.23959],\n",
    "    '2017 / Q2': [9910.831884],\n",
    "    '2017 / Q3': [10011.63187],\n",
    "    '2017 / Q4': [9939.325367],\n",
    "    '2018 / Q1': [10088.82327],\n",
    "    '2018 / Q2': [10237.6998],\n",
    "    '2019 / Q1': [10299.10765],\n",
    "    '2019 / Q2': [10341.84075],\n",
    "    '2019 / Q3': [10273.0132],\n",
    "    '2019 / Q4': [10256.36242],\n",
    "    '2020 / Q1': [10302.70319],\n",
    "    '2020 / Q2': [9970.297977],\n",
    "    '2020 / Q3': [9971.056802],\n",
    "    '2020 / Q4': [10539.69348],\n",
    "    '2021 / Q1': [10599.8789],\n",
    "    '2021 / Q2': [10491.248],\n",
    "    '2021 / Q3': [10474.12402],\n",
    "    '2021 / Q4': [10185.54969],\n",
    "    '2022 / Q1': [9811.756473],\n",
    "    '2022 / Q2': [10430.41218],\n",
    "    '2022 / Q3': [9583.143722],\n",
    "    '2022 / Q4': [9701.453807],\n",
    "    '2023 / Q1': [9893.242042],\n",
    "    '2023 / Q2': [9923.604891]\n",
    "}\n",
    "# Create a dataframe from the table\n",
    "df6 = pd.DataFrame(wt_data)\n",
    "# In this structure, we have values for Nt alligned on single row, we prefer a column\n",
    "df6 = df6.transpose()\n",
    "# Rename the columns to fit the variable in question\n",
    "df6.columns = ['wt']\n",
    "# Convert the index to datetime format\n",
    "df6.index = pd.to_datetime([f\"{quarter.split(' / ')[0]}-{quarter.split(' / ')[1].replace('Q', '-')}-01\" for quarter in df6.index])\n",
    "print(df6.head())"
   ]
  },
  {
   "cell_type": "code",
   "execution_count": null,
   "id": "966b6627-795b-4ced-a6a6-5d11080ece42",
   "metadata": {},
   "outputs": [],
   "source": [
    "### Step 6 ## Average Monthly Wages for Paid Employees\n",
    "\n",
    "\n",
    "# i still hate this thing\n",
    "sa_ave_wage_empl = 'https://database.stats.gov.sa/gastatapi/portal/api/v1/indicators/getData?format=@CSV&api=7563820c60aa782a9c85abcf47378b19184536fdfc8572a64c787b576ad46259eeffe7eba57b098eed5e5e4b28fac9f836d7c0bbbbd42ea0c7b3cc324add0657119ea69136445d759e41292d3d6c6828c1bc253adb97eadf45df2a6d3e9286501ce082b9ca038d4bde5a30967da3fabe0004ff8c5f9a2081679b2a33d0fe9f662e714b02aeeff24da1fff252beec6f04bf31f754e930bee313b87c923777b6f8d7dad96afb83bdd2e2f5832caf804844'\n",
    "df6 = pd.read_csv(sa_ave_wage_empl)\n",
    "df6.to_csv('sa_ave_wage_empl.csv', index=False)\n",
    "# rename year to date to stay consistent\n",
    "df6.columns = ['Date','EMPLYEES_PAYED_OBSV', 'MONTHLY_WAGE_OBSV']\n",
    "# not real date format but to stay consistent\n",
    "df6['Date'] = pd.to_datetime(df5['Date'], format='%Y')\n",
    "#adjust year_time to our quarterly date format\n",
    "#df6['YEAR_TIME'] = pd.to_datetime(df5['YEAR_TIME'].astype(str) + '-1', format='%Y-Q%m')\n",
    "#nevermind the format is not the biggest problem \n",
    "\n",
    "\n",
    "df6.info()\n",
    "df6.head()"
   ]
  },
  {
   "cell_type": "code",
   "execution_count": null,
   "id": "d24959c4-cb4c-45bb-b4bb-e1294e967f0a",
   "metadata": {},
   "outputs": [],
   "source": [
    "### Step 6 ## Average Monthly Wages for Paid Employees\n",
    "#change to quarterly numbers\n"
   ]
  },
  {
   "cell_type": "markdown",
   "id": "90c703fb-3c56-4fd9-923a-051e9e7bec33",
   "metadata": {},
   "source": [
    "#### 7) <u>Rt=Real Long Term Bond Rate (10 years)<u/>"
   ]
  },
  {
   "cell_type": "code",
   "execution_count": 165,
   "id": "7fcd1a52-64a6-4b99-afd0-e135e49fab33",
   "metadata": {},
   "outputs": [
    {
     "name": "stdout",
     "output_type": "stream",
     "text": [
      "              Rt\n",
      "2007-01-01  5.00\n",
      "2007-02-01  5.00\n",
      "2007-03-01  5.00\n",
      "2007-04-01  5.00\n",
      "2006-01-01  5.25\n"
     ]
    }
   ],
   "source": [
    "# Manually import data, given the unavailability of alternative API/code solutions to include the rethrieved data for the Real Long Term Bond Rate\n",
    "Rt_data = {\n",
    "    '2007 / Q1': [5.0], \n",
    "    '2007 / Q2': [5.0], \n",
    "    '2007 / Q3': [5.0],\n",
    "    '2007 / Q4': [5.0], \n",
    "    '2006 / Q1': [5.25], \n",
    "    '2006 / Q2': [5.25], \n",
    "    '2006 / Q3': [5.5], \n",
    "    '2006 / Q4': [5.5], \n",
    "    '2005 / Q1': [5.25], \n",
    "    '2005 / Q2': [5.25],\n",
    "    '2005 / Q3': [4.625],\n",
    "    '2005 / Q4': [4.625], \n",
    "    '2004 / Q1': [2.75],\n",
    "    '2004 / Q2': [2.75], \n",
    "    '2004 / Q3': [2.0],\n",
    "    '2004 / Q4': [5.194], \n",
    "    '2003 / Q1': [2.69], \n",
    "    '2003 / Q2': [3.72], \n",
    "    '2003 / Q3': [4.36], \n",
    "    '2003 / Q4': [3.6], \n",
    "    '2002 / Q1': [3.5], \n",
    "    '2002 / Q2': [5.05], \n",
    "    '2002 / Q3': [5.74], \n",
    "    '2002 / Q4': [6.36], \n",
    "    '2001 / Q1': [5.74], \n",
    "    '2001 / Q2': [6.79],\n",
    "    '2001 / Q3': [6.36]\n",
    "}\n",
    "# Create a dataframe from the table\n",
    "df7 = pd.DataFrame(Rt_data)\n",
    "# In this structure, we have values for Nt alligned on single row, we prefer a column\n",
    "df7 = df7.transpose()\n",
    "# Rename the columns to fit the variable in question\n",
    "df7.columns = ['Rt']\n",
    "# Convert the index to datetime format with format specification\n",
    "df7.index = pd.to_datetime([f\"{quarter.split(' / ')[0]}-{quarter.split(' / ')[1].replace('Q', '-')}-01\" for quarter in df7.index])\n",
    "print(df7.head())"
   ]
  },
  {
   "cell_type": "markdown",
   "id": "5b4d19c6-f92f-4b9b-845f-7670607aeaec",
   "metadata": {},
   "source": [
    "#### 8) <u>rt=Real Short Term Bond Rate (3 months)<u/>"
   ]
  },
  {
   "cell_type": "code",
   "execution_count": 170,
   "id": "abc83acc-ae22-4db9-9c91-8b89d09983e2",
   "metadata": {},
   "outputs": [
    {
     "name": "stdout",
     "output_type": "stream",
     "text": [
      "                  rt\n",
      "2007-01-01  5.086877\n",
      "2007-02-01  5.044793\n",
      "2007-03-01  5.051250\n",
      "2007-04-01  4.437500\n",
      "2008-01-01  2.750729\n"
     ]
    }
   ],
   "source": [
    "# Manually import data, given the unavailability of alternative API/code solutions to include the rethrieved data for the Real Short Term Bond Rate\n",
    "rt_data = {\n",
    "    'Q1 2007': [5.086876667],\n",
    "    'Q2 2007': [5.044793333],\n",
    "    'Q3 2007': [5.05125],\n",
    "    'Q4 2007': [4.4375],\n",
    "    'Q1 2008': [2.750729167],\n",
    "    'Q2 2008': [2.497683913],\n",
    "    'Q3 2008': [4.017900408],\n",
    "    'Q4 2008': [3.872003205],\n",
    "    'Q1 2009': [1.357266144],\n",
    "    'Q2 2009': [0.889771282],\n",
    "    'Q3 2009': [0.647518846],\n",
    "    'Q4 2009': [0.750644872],\n",
    "    'Q1 2010': [0.760368333],\n",
    "    'Q2 2010': [0.726157867],\n",
    "    'Q3 2010': [0.721976538],\n",
    "    'Q4 2010': [0.734948077],\n",
    "    'Q1 2011': [0.75],\n",
    "    'Q2 2011': [0.714846092],\n",
    "    'Q3 2011': [0.604153205],\n",
    "    'Q4 2011': [0.708867179],\n",
    "    'Q1 2012': [0.832301795],\n",
    "    'Q2 2012': [0.906203974],\n",
    "    'Q3 2012': [0.95003641],\n",
    "    'Q4 2012': [0.976722821],\n",
    "    'Q1 2013': [0.97589924],\n",
    "    'Q2 2013': [0.95818661],\n",
    "    'Q3 2013': [0.958199266],\n",
    "    'Q4 2013': [0.920658071],\n",
    "    'Q1 2014': [0.953805303],\n",
    "    'Q2 2014': [0.951747835],\n",
    "    'Q3 2014': [0.945912698],\n",
    "    'Q4 2014': [0.891596032],\n",
    "    'Q1 2015': [0.8162],\n",
    "    'Q2 2015': [0.773933333],\n",
    "    'Q3 2015': [0.828233333],\n",
    "    'Q4 2015': [1.1004],\n",
    "    'Q1 2016': [1.715762063],\n",
    "    'Q2 2016': [2.072859778],\n",
    "    'Q3 2016': [2.280601229],\n",
    "    'Q4 2016': [2.195467532],\n",
    "    'Q1 2017': [1.886523287],\n",
    "    'Q2 2017': [1.741016667],\n",
    "    'Q3 2017': [1.794616026],\n",
    "    'Q4 2017': [1.82451746],\n",
    "    'Q1 2018': [1.9542],\n",
    "    'Q2 2018': [2.414533333],\n",
    "    'Q3 2018': [2.6192],\n",
    "    'Q4 2018': [2.815995514],\n",
    "    'Q1 2019': [2.934282911],\n",
    "    'Q2 2019': [2.821566807],\n",
    "    'Q3 2019': [2.513837534],\n",
    "    'Q4 2019': [2.257692993],\n",
    "    'Q1 2020': [1.886206605],\n",
    "    'Q2 2020': [1.127925385],\n",
    "    'Q3 2020': [0.916],\n",
    "    'Q4 2020': [0.839034731],\n",
    "    'Q1 2021': [0.807223763],\n",
    "    'Q2 2021': [0.793675606],\n",
    "    'Q3 2021': [0.796229903],\n",
    "    'Q4 2021': [0.842836559],\n",
    "    'Q1 2022': [1.364613437],\n",
    "    'Q2 2022': [2.714606047],\n",
    "    'Q3 2022': [3.140852573],\n",
    "    'Q4 2022': [5.281579513],\n",
    "    'Q1 2023': [5.494883633],\n",
    "    'Q2 2023': [5.830097591],\n",
    "    'Q3 2023': [6.088936188],\n",
    "}\n",
    "# Create a dataframe from the table\n",
    "df8 = pd.DataFrame(rt_data)\n",
    "# In this structure, we have values for Nt alligned on single row, we prefer a column\n",
    "df8 = df8.transpose()\n",
    "# Rename the columns to fit the variable in question\n",
    "df8.columns = ['rt']\n",
    "# Convert the index to datetime format with format specification\n",
    "df8.index = pd.to_datetime([f\"{quarter.split(' ')[1]}-{quarter.split(' ')[0][1:]}-01\" for quarter in df8.index])\n",
    "print(df8.head())"
   ]
  },
  {
   "cell_type": "code",
   "execution_count": null,
   "id": "fb20c7b5-844d-44d9-b2bd-eddd5b6fbd1b",
   "metadata": {},
   "outputs": [],
   "source": [
    "### Step 9 ## Capital Stock at Constant National Prices\n",
    "## in USD\n",
    "## quarterly numbers\n",
    "\n",
    "data = FredReader(symbols=['NCPRNSAXDCSAQ'], start='2010', end=None).read()\n",
    "data.to_csv('Cap_stock_at_Constant_National_Prices_USD.csv')\n",
    "\n",
    "# Read the CSV file and parse 'DATE' as datetime\n",
    "df9 = pd.read_csv('Cap_stock_at_Constant_National_Prices_USD.csv', parse_dates=['DATE'])\n",
    "\n",
    "# save for merging later \n",
    "df9.to_csv('Cap_stock_at_Constant_National_Prices_USD.csv', index=False)\n",
    "\n",
    "# Rename the columns\n",
    "df9.columns = ['Date', 'K']\n",
    "\n",
    "# Display the DataFrame\n",
    "df9.head()\n",
    "df9.info()\n"
   ]
  },
  {
   "cell_type": "code",
   "execution_count": null,
   "id": "1f393442-9c6d-4d18-b26f-aa00045dbe6d",
   "metadata": {},
   "outputs": [],
   "source": [
    "### Step 10 ## Current Account\tBN.CAB.XOKA.GD.ZS\n",
    "#Current account balance % of GDP, Annual\n",
    "\n",
    "## data is in percent\n",
    "\n",
    "import pandas as pd\n",
    "import pandas_datareader.wb as wb\n",
    "\n",
    "# Define the World Bank indicator code for \"Gross Fixed Capital Formation\"\n",
    "indicator_code = 'BN.CAB.XOKA.GD.ZS'\n",
    "\n",
    "# Define the countries and time period you are interested in (only Saudi Arabia in this case)\n",
    "countries = ['SA']\n",
    "start_date = '2010-01-01'\n",
    "end_date = '2023-12-31'\n",
    "\n",
    "# Fetch World Bank data using the pandas_datareader library\n",
    "world_bank_data = wb.download(indicator=indicator_code, country=countries, start=start_date, end=end_date)\n",
    "\n",
    "# Reset index to make 'Date' a column\n",
    "world_bank_data.reset_index(inplace=True)\n",
    "\n",
    "# Drop 'country' column\n",
    "world_bank_data.drop('country', axis=1, inplace=True)\n",
    "\n",
    "# Rename 'year' column to 'Date'\n",
    "world_bank_data.rename(columns={'year': 'Date', 'BN.CAB.XOKA.GD.ZS': 'CA'}, inplace=True)\n",
    "world_bank_data['Date'] = pd.to_datetime(world_bank_data['Date'])  # Fix: use 'year' instead of 'Date'\n",
    "\n",
    "df10 = world_bank_data.copy()\n",
    "df10.info()\n",
    "df10.head()"
   ]
  },
  {
   "cell_type": "code",
   "execution_count": null,
   "id": "e8144bde-becd-46ee-999a-5436e57127fb",
   "metadata": {},
   "outputs": [],
   "source": [
    "### Step 10.2 ## Current Account\tBN.CAB.XOKA.GD.ZS\n",
    "#Current account balance % of GDP, Annual\n",
    "\n",
    "## change to quarterly\n"
   ]
  },
  {
   "cell_type": "code",
   "execution_count": null,
   "id": "60daaf1e-7a2b-4433-9885-42564640e4fb",
   "metadata": {},
   "outputs": [],
   "source": [
    "### Step 11 ## Consumer Prices\tFP.CPI.TOTL.ZG\n",
    "#Current account balance % of GDP, Annual\n",
    "\n",
    "## data is in percent\n",
    "\n",
    "import pandas as pd\n",
    "import pandas_datareader.wb as wb\n",
    "\n",
    "# Define the World Bank indicator code for \"Gross Fixed Capital Formation\"\n",
    "indicator_code = 'FP.CPI.TOTL.ZG'\n",
    "\n",
    "# Define the countries and time period you are interested in (only Saudi Arabia in this case)\n",
    "countries = ['SA']\n",
    "start_date = '2010-01-01'\n",
    "end_date = '2023-12-31'\n",
    "\n",
    "# Fetch World Bank data using the pandas_datareader library\n",
    "world_bank_data = wb.download(indicator=indicator_code, country=countries, start=start_date, end=end_date)\n",
    "\n",
    "# Reset index to make 'Date' a column\n",
    "world_bank_data.reset_index(inplace=True)\n",
    "\n",
    "# Drop 'country' column\n",
    "world_bank_data.drop('country', axis=1, inplace=True)\n",
    "\n",
    "# Rename 'year' column to 'Date'\n",
    "world_bank_data.rename(columns={'year': 'Date', 'FP.CPI.TOTL.ZG': 'CPI'}, inplace=True)\n",
    "world_bank_data['Date'] = pd.to_datetime(world_bank_data['Date'])  # Fix: use 'year' instead of 'Date'\n",
    "\n",
    "df11 = world_bank_data.copy()\n",
    "df11.info()\n",
    "df11.head()"
   ]
  },
  {
   "cell_type": "code",
   "execution_count": null,
   "id": "89568af7-69db-43f0-8225-db0dbe75f49c",
   "metadata": {},
   "outputs": [],
   "source": [
    "### Step 11.2 ## Consumer Prices\tFP.CPI.TOTL.ZG\n",
    "\n",
    "## change to quarterly\n"
   ]
  },
  {
   "cell_type": "code",
   "execution_count": null,
   "id": "97935aea-1519-4e12-83ad-adde65b266d4",
   "metadata": {},
   "outputs": [],
   "source": [
    "### Step 13 ## Oil prices  Prices\n",
    "\n",
    "!pip install wbgapi \n",
    "import wbgapi as wb\n",
    "wb.source.info()\n"
   ]
  },
  {
   "cell_type": "code",
   "execution_count": null,
   "id": "97dbc5f2",
   "metadata": {
    "scrolled": true
   },
   "outputs": [],
   "source": [
    "### Step 13 ## Oil prices  Prices\n",
    "\n",
    "## in USD\n",
    "## weekly numbers\n",
    "\n",
    "data = FredReader(symbols=['DCOILWTICO'], start='2010', end=None).read()\n",
    "data.to_csv('Cruide_oil_barrel_USD.csv')\n",
    "\n",
    "# Read the CSV file and parse 'DATE' as datetime\n",
    "df13 = pd.read_csv('Cruide_oil_barrel_USD.csv', parse_dates=['DATE'])\n",
    "\n",
    "# save for merging later \n",
    "df13.to_csv('Cruide_oil_barrel_USD.csv', index=False)\n",
    "\n",
    "# Rename the columns\n",
    "df13.columns = ['Date', 'Oil']\n",
    "\n",
    "# Display the DataFrame\n",
    "df13.head()\n"
   ]
  },
  {
   "cell_type": "code",
   "execution_count": null,
   "id": "e9d9fb6e-eb0e-4ce5-a261-f418f3d84114",
   "metadata": {},
   "outputs": [],
   "source": [
    "### step 13 # handle missing values\n",
    "df13['Date'] = pd.to_datetime(df13['Date'])\n",
    "df13.set_index('Date', inplace=True)\n",
    "df13_filled = df13.fillna((df13.ffill() + df13.bfill()) / 2)"
   ]
  },
  {
   "cell_type": "code",
   "execution_count": null,
   "id": "3055e293-f7a5-4f25-8dc4-ccfe7eb084bd",
   "metadata": {},
   "outputs": [],
   "source": [
    "### Step 13 ## Oil prices  Prices change to quarterly\n",
    "df13_quarterly = df13_filled.resample('Q').mean()\n",
    "\n",
    "## in USD\n",
    "## weekly numbers"
   ]
  },
  {
   "cell_type": "code",
   "execution_count": null,
   "id": "194c6d51-6b4b-44d4-a12a-94bcf5c10e95",
   "metadata": {},
   "outputs": [],
   "source": [
    "df13_filled.Oil.plot(label='Weekly', legend=True)\n",
    "df13_quarterly.Oil.plot(label='Quarterly', legend=True)"
   ]
  },
  {
   "cell_type": "code",
   "execution_count": null,
   "id": "b1eacbbf-0028-4cf0-a112-997b216b65d4",
   "metadata": {},
   "outputs": [],
   "source": [
    "wb.economy.metadata.get('SAU')\n",
    "wb.series.info(q='"
   ]
  },
  {
   "cell_type": "code",
   "execution_count": null,
   "id": "afb913ea-c85f-4767-885b-8aeae3e03d45",
   "metadata": {},
   "outputs": [],
   "source": []
  },
  {
   "cell_type": "markdown",
   "id": "806387e7-7d18-4369-9029-88045ea97c54",
   "metadata": {},
   "source": [
    "### Overview of Data that needs to get imported\n",
    "| Import step | Variable | Variable Name | Shortcut | Note | Source | Link | Date |\n",
    "| --- | --- | --- | --- | --- | --- | --- | --- |\n",
    "| 1 | Yt | Real Gross Domestic Product | NGDPRSAXDCSAQ | Domestic Currency, SA, Quarterly | FRED | [Link](https://fred.stlouisfed.org/series/NGDPRSAXDCSAQ) | 2010 - current |\n",
    "| 2 | C | Real Private Sector Final Consumption Expenditure | NCPRNSAXDCSAQ | Domestic Currency, Not SA, Quarterly | FRED | [Link](https://fred.stlouisfed.org/series/NCPRNSAXDCSAQ) | 2010 - current |\n",
    "| 3 | It | Gross Fixed Capital Formation | NE.GDI.FTOT.CD | Current US Dollar, Annual | WorldBank | [Link](https://data.worldbank.org/indicator/NE.GDI.FTOT.CD?locations=SA) | 1968-2022 |\n",
    "| 4 | TBt | Trade Balance | BN.GSR.GNFS.CD | Net trade in goods and services (BOP, current US$) | World Bank | [Link](https://data.worldbank.org/indicator/BN.GSR.GNFS.CD?locations=SA) | 1971-2022 |\n",
    "| 5 | Nt | Average Hours of Work for Employed Persons | Excel attached | Measures the average weekly working hours of workers (15 years and over) | General Statistics Authority | [Link](https://database.stats.gov.sa/home/indicator/999118) | Q2 2016-Q2 2023 |\n",
    "| 6 | wt | Average Monthly Wages for Paid Employees | Excel attached | The sum of the monthly wages to the total of employed persons for wages | General Statistics Authority | [Link](https://database.stats.gov.sa/home/indicator/999118) | Q2 2016-Q2 2023 |\n",
    "| 7 | Rt | Real Long Term Bond Rate | | 10-year government development bond yield, Quarterly | National Statistics, Saudi Central Bank | [Link](https://www.sama.gov.sa/en-US/GovtSecurity/pages/governmentdevelopmentbonds.aspx), [Specific Bond (19Jan2029)](https://cbonds.com/bonds/461405/) | Q1999-Q32007, Past 3 yrs |\n",
    "| 8 | rt | Short Term Bond Rate | Excel attached | Quarterly average of interbank rate | Saudi Central Bank | [Link](https://www.sama.gov.sa/ar-sa/EconomicReports/Pages/report.aspx?cid=118) | 2007-current |\n",
    "| 9 | Kt | Capital Stock at Constant National Prices | RKNANPSAA666NRUG | Millions of 2017 U.S. Dollars, Not SA, Annual | FRED | [Link](https://fred.stlouisfed.org/series/RKNANPSAA666NRUG) | 1970-2019 |\n",
    "| 10 | CAt | Current Account | BN.CAB.XOKA.GD.ZS | Current account balance % of GDP, Annual | Worldbank | [Link](https://data.worldbank.org/indicator/BN.CAB.XOKA.GD.ZS?locations=SA) | 1970-2018 |\n",
    "| 11 | CPI | Consumer Prices | FP.CPI.TOTL.ZG | % Annual | Worldbank | [Link](https://data.worldbank.org/indicator/FP.CPI.TOTL.ZG?locations=SA) | 1964-2022 |\n",
    "| 12 | ER | Exchange Rate | | The Saudi riyal has been at a fixed rate to the US dollar since June 1986 (SAR 3.7500 per USD) | Constant | - |\n",
    "| 13 | Oil | Crude Oil, Brent Prices | Excel attached | Crude oil, average spot price of Brent, Dubai and West Texas Intermediate, equally weighed, Monthly | Worldbank | [Link](https://www.worldbank.org/en/research/commodity-markets) | 960-current |\n"
   ]
  },
  {
   "cell_type": "code",
   "execution_count": null,
   "id": "32ba6e29-261b-4bb6-ba66-57efdfbdbaf8",
   "metadata": {},
   "outputs": [],
   "source": [
    "### last step merge all df frames\n",
    "# Merge the first two DataFrames on the 'Date' column\n",
    "df_merged = pd.merge(df1, df2, on='Date')\n",
    "\n",
    "# Merge the result with the third DataFrame ('I_predict') on the 'Date' column\n",
    "df_merged = pd.merge(df_merged, I_predict, on='Date')"
   ]
  },
  {
   "cell_type": "code",
   "execution_count": null,
   "id": "9646aeb7-bf83-4aa5-9ca8-0073147c4cac",
   "metadata": {
    "scrolled": true
   },
   "outputs": [],
   "source": [
    "df_merged.head()\n"
   ]
  },
  {
   "cell_type": "code",
   "execution_count": null,
   "id": "d7f8dc22-4f07-4eb0-8600-b75eb92c0610",
   "metadata": {},
   "outputs": [],
   "source": []
  }
 ],
 "metadata": {
  "kernelspec": {
   "display_name": "Python 3 (ipykernel)",
   "language": "python",
   "name": "python3"
  },
  "language_info": {
   "codemirror_mode": {
    "name": "ipython",
    "version": 3
   },
   "file_extension": ".py",
   "mimetype": "text/x-python",
   "name": "python",
   "nbconvert_exporter": "python",
   "pygments_lexer": "ipython3",
   "version": "3.11.4"
  }
 },
 "nbformat": 4,
 "nbformat_minor": 5
}
