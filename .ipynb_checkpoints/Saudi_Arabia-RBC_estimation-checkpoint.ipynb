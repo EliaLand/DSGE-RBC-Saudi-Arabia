{
 "cells": [
  {
   "cell_type": "code",
   "execution_count": 3,
   "id": "bd5235dc-6cab-41ad-8271-b5d845eb71eb",
   "metadata": {},
   "outputs": [
    {
     "name": "stdout",
     "output_type": "stream",
     "text": [
      "Initialized empty Git repository in C:/Users/eland/.git/\n"
     ]
    }
   ],
   "source": [
    "!git init"
   ]
  },
  {
   "cell_type": "code",
   "execution_count": 12,
   "id": "57d5d4ca-20b3-4f08-b3e2-c1fee04a2186",
   "metadata": {},
   "outputs": [
    {
     "data": {
      "text/plain": [
       "'C:\\\\Users\\\\eland'"
      ]
     },
     "execution_count": 12,
     "metadata": {},
     "output_type": "execute_result"
    }
   ],
   "source": [
    "import os\n",
    "os.getcwd()"
   ]
  },
  {
   "cell_type": "code",
   "execution_count": 13,
   "id": "c8e2ce18-a61e-4be1-b23a-aa8dcdec4da3",
   "metadata": {},
   "outputs": [
    {
     "name": "stdout",
     "output_type": "stream",
     "text": [
      "[WinError 123] The filename, directory name, or volume label syntax is incorrect: \"'C:\\\\\\\\Users\\\\\\\\eland'\"\n",
      "C:\\Users\\eland\n"
     ]
    }
   ],
   "source": [
    "cd 'C:\\\\Users\\\\eland'"
   ]
  },
  {
   "cell_type": "code",
   "execution_count": 11,
   "id": "82a044b8-d43e-4e17-8ce7-ecca31cbaabd",
   "metadata": {},
   "outputs": [
    {
     "ename": "SyntaxError",
     "evalue": "invalid syntax (3696674314.py, line 1)",
     "output_type": "error",
     "traceback": [
      "\u001b[1;36m  Cell \u001b[1;32mIn[11], line 1\u001b[1;36m\u001b[0m\n\u001b[1;33m    git add SaudiArabia_RBC_estimation.ipynb\u001b[0m\n\u001b[1;37m        ^\u001b[0m\n\u001b[1;31mSyntaxError\u001b[0m\u001b[1;31m:\u001b[0m invalid syntax\n"
     ]
    }
   ],
   "source": [
    "git init\n",
    "git add Uni-projects/Saudi_Arabia-RBC_estimation.ipynb  \n",
    "git commit -m \"Initial commit\"\n",
    "git remote add https://github.com/EliaLand/Uni-projects.git \n",
    "git push -u origin master  # Push to the master branch, adjust if you're using a different branch name "
   ]
  },
  {
   "cell_type": "code",
   "execution_count": null,
   "id": "2b52cf39-685c-4791-b445-807a98395047",
   "metadata": {},
   "outputs": [],
   "source": []
  }
 ],
 "metadata": {
  "kernelspec": {
   "display_name": "Python 3 (ipykernel)",
   "language": "python",
   "name": "python3"
  },
  "language_info": {
   "codemirror_mode": {
    "name": "ipython",
    "version": 3
   },
   "file_extension": ".py",
   "mimetype": "text/x-python",
   "name": "python",
   "nbconvert_exporter": "python",
   "pygments_lexer": "ipython3",
   "version": "3.8.18"
  }
 },
 "nbformat": 4,
 "nbformat_minor": 5
}
