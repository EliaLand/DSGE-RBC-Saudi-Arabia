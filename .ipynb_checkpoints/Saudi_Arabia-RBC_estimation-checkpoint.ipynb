{
 "cells": [
  {
   "cell_type": "code",
   "execution_count": 3,
   "id": "bd5235dc-6cab-41ad-8271-b5d845eb71eb",
   "metadata": {},
   "outputs": [
    {
     "name": "stdout",
     "output_type": "stream",
     "text": [
      "Initialized empty Git repository in C:/Users/eland/.git/\n"
     ]
    }
   ],
   "source": [
    "!git init"
   ]
  },
  {
   "cell_type": "code",
   "execution_count": 12,
   "id": "57d5d4ca-20b3-4f08-b3e2-c1fee04a2186",
   "metadata": {},
   "outputs": [
    {
     "data": {
      "text/plain": [
       "'C:\\\\Users\\\\eland'"
      ]
     },
     "execution_count": 12,
     "metadata": {},
     "output_type": "execute_result"
    }
   ],
   "source": [
    "import os\n",
    "os.getcwd()"
   ]
  },
  {
   "cell_type": "code",
   "execution_count": 13,
   "id": "c8e2ce18-a61e-4be1-b23a-aa8dcdec4da3",
   "metadata": {},
   "outputs": [
    {
     "name": "stdout",
     "output_type": "stream",
     "text": [
      "[WinError 123] The filename, directory name, or volume label syntax is incorrect: \"'C:\\\\\\\\Users\\\\\\\\eland'\"\n",
      "C:\\Users\\eland\n"
     ]
    }
   ],
   "source": [
    "cd 'C:\\\\Users\\\\eland'"
   ]
  },
  {
   "cell_type": "code",
   "execution_count": 18,
   "id": "2b52cf39-685c-4791-b445-807a98395047",
   "metadata": {},
   "outputs": [],
   "source": [
    "!git config --global user.email \"e.lando2001@gmail.com\"\n",
    "!git config --global user.name \"EliaLand\""
   ]
  },
  {
   "cell_type": "code",
   "execution_count": 21,
   "id": "b249e778-e5d9-4285-bfcb-713340ceebe9",
   "metadata": {},
   "outputs": [
    {
     "name": "stdout",
     "output_type": "stream",
     "text": [
      "On branch master\n",
      "Your branch is up to date with 'origin/master'.\n",
      "\n",
      "Untracked files:\n",
      "  (use \"git add <file>...\" to include in what will be committed)\n",
      "\t.bash_history\n",
      "\t.cache/\n",
      "\t.conda/\n",
      "\t.gitconfig\n",
      "\t.ipynb_checkpoints/\n",
      "\t.ipython/\n",
      "\t.jupyter/\n",
      "\t3D Objects/\n",
      "\tAppData/\n",
      "\tContacts/\n",
      "\tDesktop/\n",
      "\tDocuments/\n",
      "\tDownloads/\n",
      "\tFavorites/\n",
      "\tLinks/\n",
      "\tMicrosoftEdgeBackups/\n",
      "\tMusic/\n",
      "\tNTUSER.DAT\n",
      "\tNTUSER.DAT{d177735e-7557-11ed-9bb9-a49fe2bc9929}.TM.blf\n",
      "\tNTUSER.DAT{d177735e-7557-11ed-9bb9-a49fe2bc9929}.TMContainer00000000000000000001.regtrans-ms\n",
      "\tNTUSER.DAT{d177735e-7557-11ed-9bb9-a49fe2bc9929}.TMContainer00000000000000000002.regtrans-ms\n",
      "\tOneDrive/\n",
      "\tPictures/\n",
      "\tSaudi_Arabia-RBC_estimation.ipynb\n",
      "\tSaved Games/\n",
      "\tSearches/\n",
      "\tUni-projects/\n",
      "\tVideos/\n",
      "\tado/\n",
      "\tecon.yml\n",
      "\tminiconda3/\n",
      "\tntuser.dat.LOG1\n",
      "\tntuser.dat.LOG2\n",
      "\tntuser.ini\n",
      "\n",
      "nothing added to commit but untracked files present (use \"git add\" to track)\n"
     ]
    },
    {
     "name": "stderr",
     "output_type": "stream",
     "text": [
      "warning: could not open directory 'Cookies/': Permission denied\n",
      "warning: could not open directory 'Dati applicazioni/': Permission denied\n",
      "warning: could not open directory 'Documenti/': Permission denied\n",
      "warning: could not open directory 'Impostazioni locali/': Permission denied\n",
      "warning: could not open directory 'Menu Avvio/': Permission denied\n",
      "warning: could not open directory 'Modelli/': Permission denied\n",
      "warning: could not open directory 'Recenti/': Permission denied\n",
      "warning: could not open directory 'Risorse di rete/': Permission denied\n",
      "warning: could not open directory 'Risorse di stampa/': Permission denied\n",
      "warning: could not open directory 'SendTo/': Permission denied\n",
      "error: remote origin already exists.\n"
     ]
    },
    {
     "name": "stdout",
     "output_type": "stream",
     "text": [
      "branch 'master' set up to track 'origin/master'."
     ]
    },
    {
     "name": "stderr",
     "output_type": "stream",
     "text": [
      "Everything up-to-date\n"
     ]
    },
    {
     "name": "stdout",
     "output_type": "stream",
     "text": [
      "\n"
     ]
    }
   ],
   "source": [
    "!git add SaudiArabia_RBC_estimation.ipynb  \n",
    "!git commit -m \"Initial commit\"\n",
    "!git remote add origin https://github.com/EliaLand/Uni-projects.git\n",
    "!git push -u origin master  "
   ]
  },
  {
   "cell_type": "code",
   "execution_count": 1,
   "id": "2e6163b6-fe89-4e7d-97e3-616a05cc2fe5",
   "metadata": {},
   "outputs": [
    {
     "name": "stdout",
     "output_type": "stream",
     "text": [
      "Requirement already satisfied: pandas in c:\\users\\mauri\\miniconda3\\envs\\econ\\lib\\site-packages (2.1.1)\n",
      "Requirement already satisfied: numpy>=1.23.2 in c:\\users\\mauri\\miniconda3\\envs\\econ\\lib\\site-packages (from pandas) (1.24.4)\n",
      "Requirement already satisfied: python-dateutil>=2.8.2 in c:\\users\\mauri\\miniconda3\\envs\\econ\\lib\\site-packages (from pandas) (2.8.2)\n",
      "Requirement already satisfied: pytz>=2020.1 in c:\\users\\mauri\\miniconda3\\envs\\econ\\lib\\site-packages (from pandas) (2023.3.post1)\n",
      "Requirement already satisfied: tzdata>=2022.1 in c:\\users\\mauri\\miniconda3\\envs\\econ\\lib\\site-packages (from pandas) (2023.3)\n",
      "Requirement already satisfied: six>=1.5 in c:\\users\\mauri\\miniconda3\\envs\\econ\\lib\\site-packages (from python-dateutil>=2.8.2->pandas) (1.16.0)\n"
     ]
    }
   ],
   "source": [
    "!pip install pandas"
   ]
  },
  {
   "cell_type": "code",
   "execution_count": 2,
   "id": "c68d6c50-c7c4-467b-94a8-effa12185ab7",
   "metadata": {},
   "outputs": [],
   "source": [
    "import pandas as pd"
   ]
  },
  {
   "cell_type": "markdown",
   "id": "590acfc3-54f3-4ef3-9319-f9cf17011581",
   "metadata": {},
   "source": [
    "### Overview of Data that needs to get imported\r",
    "| step | Imported? | Season adjusted? | Currency adjusted? | Variable | Variable Name | Shortcut | Note | Source | Link | Date |\r\n",
    "|------|--------|------------|-----------|-------|-----------|----------|------|--------|------|------|\r\n",
    "| 1  | Yes |       Yes            |     Riyal                | Yt       | Real GDP      | NGDPRSAXDCSAQ | Domestic Currency, SA, Quarterly | FRED | [Link](https://fred.stlouisfed.org/series/NGDPRSAXDCSAQ) | 2010 - current |\r\n",
    "| 2  | Yes |         -          |         Riyal            | C        | Real Private Sector Final Consumption Expenditure | NCPRNSAXDCSAQ | Domestic Currency, Not SA, Quarterly | FRED | [Link](https://fred.stlouisfed.org/series/NCPRNSAXDCSAQ) | 2010 - current |\r\n",
    "| 3  | Yes |      I tried             |        USD             | It       | Gross Fixed Capital Formation | NE.GDI.FTOT.CD | Current US Dollar, Annual | WorldBank | [Link](https://data.worldbank.org/indicator/NE.GDI.FTOT.CD?locations=SA) | 1968-2022 |\r\n",
    "| 4  | Yes |     no              |    USD                 | TBt      | Trade Balance | BN.GSR.GNFS.CD | Net trade in goods and services (BOP, current US$) | World Bank | [Link](https://data.worldbank.org/indicator/BN.GSR.GNFS.CD?locations=SA) | 1971-2022 |\r\n",
    "| 5  | Yes |     -            |      | Nt       | Average Hours of Work for Employed Persons | Excel attached | Measures the average weekly working hours of workers (15 years and over) | General Statistics Authority | [Link](https://database.stats.gov.sa/home/indicator/999118) | Q2 2016-Q2 2023 |\r\n",
    "| 6  | Yes |      -             |                | wt            | Average Monthly Wages for Paid Employees | Excel attached | The sum of the monthly wages to the total of employed persons for wages | General Statistics Authority | [Link](https://database.stats.gov.sa/home/indicator/999118) | Q2 2016-Q2 2023 |\r\n",
    "| 7  | Yes   |       -            |   in %                       |             | Real Long Term Bond Rate | | 10-year government development bond yield, Quarterly | National Statistics, Saudi Central Bank | [Link](https://www.sama.gov.sa/en-US/GovtSecurity/pages/governmentdevelopmentbonds.aspx), [Specific Bond (19Jan2029)](https://cbonds.com/bonds/461405/) | Q1999-Q32007, Past 3 yrs |\r\n",
    "| 8  | Yes        |       -            | in %                    | rt       | Short Term Bond Rate | Excel attached | Quarterly average of interbank rate | Saudi Central Bank | [Link](https://www.sama.gov.sa/ar-sa/EconomicReports/Pages/report.aspx?cid=118) | 2007-current |\r\n",
    "| 9  | Yes        |       -            |  Riyal                   | Kt       | Capital Stock at Constant National Prices | RKNANPSAA666NRUG | Millions of 2017 U.S. Dollars, Not SA, Annual | FRED | [Link](https://fred.stlouisfed.org/series/RKNANPSAA666NRUG) | 1970-2019 |\r\n",
    "| 10 | Yes        |       -            |  in %           |        CAt           | Current Account | BN.CAB.XOKA.GD.ZS | Current account balance % of GDP, Annual | Worldbank | [Link](https://data.worldbank.org/indicator/BN.CAB.XOKA.GD.ZS?locations=SA) | 1970-2018 |\r\n",
    "| 11 | Yes        |  -         |     in %          |          CPI           | Consumer Prices | FP.CPI.TOTL.ZG | % Annual | Worldbank | [Link](https://data.worldbank.org/indicator/FP.CPI.TOTL.ZG?locations=SA) | 1964-2022 |\r\n",
    "| 12 | No        |            -       |                     | ER       | Exchange Rate  | | The Saudi riyal has been at a fixed rate to the US dollar since June 1986 (SAR 3.7500 per USD) | Constant | - | - |\r\n",
    "| 13 | Yes        |          USD         |                     | Oil      | Crude Oil, Brent Prices | Excel attached | Crude oil, average spot price of Brent, Dubai and West Texas Intermediate, equally weighed, Monthly | Worldbank | [Link](https://www.worldbank.org/en/research/commodity-markets) | 960-current |\r\n",
   ]
  },
  {
   "cell_type": "code",
   "execution_count": 91,
   "id": "0f01026e-dd4f-4966-ba5d-73775901f968",
   "metadata": {
    "scrolled": true
   },
   "outputs": [
    {
     "data": {
      "text/html": [
       "<div>\n",
       "<style scoped>\n",
       "    .dataframe tbody tr th:only-of-type {\n",
       "        vertical-align: middle;\n",
       "    }\n",
       "\n",
       "    .dataframe tbody tr th {\n",
       "        vertical-align: top;\n",
       "    }\n",
       "\n",
       "    .dataframe thead th {\n",
       "        text-align: right;\n",
       "    }\n",
       "</style>\n",
       "<table border=\"1\" class=\"dataframe\">\n",
       "  <thead>\n",
       "    <tr style=\"text-align: right;\">\n",
       "      <th></th>\n",
       "      <th>Date</th>\n",
       "      <th>Y</th>\n",
       "    </tr>\n",
       "  </thead>\n",
       "  <tbody>\n",
       "    <tr>\n",
       "      <th>0</th>\n",
       "      <td>2010-01-01</td>\n",
       "      <td>472498.1</td>\n",
       "    </tr>\n",
       "    <tr>\n",
       "      <th>1</th>\n",
       "      <td>2010-04-01</td>\n",
       "      <td>487268.9</td>\n",
       "    </tr>\n",
       "    <tr>\n",
       "      <th>2</th>\n",
       "      <td>2010-07-01</td>\n",
       "      <td>492963.7</td>\n",
       "    </tr>\n",
       "    <tr>\n",
       "      <th>3</th>\n",
       "      <td>2010-10-01</td>\n",
       "      <td>521219.1</td>\n",
       "    </tr>\n",
       "    <tr>\n",
       "      <th>4</th>\n",
       "      <td>2011-01-01</td>\n",
       "      <td>535829.9</td>\n",
       "    </tr>\n",
       "  </tbody>\n",
       "</table>\n",
       "</div>"
      ],
      "text/plain": [
       "        Date         Y\n",
       "0 2010-01-01  472498.1\n",
       "1 2010-04-01  487268.9\n",
       "2 2010-07-01  492963.7\n",
       "3 2010-10-01  521219.1\n",
       "4 2011-01-01  535829.9"
      ]
     },
     "execution_count": 91,
     "metadata": {},
     "output_type": "execute_result"
    }
   ],
   "source": [
    "### Step 1 ## Importing Real Gross Domestic Product\n",
    "import pandas as pd\n",
    "import numpy as np\n",
    "from pandas_datareader.fred import FredReader\n",
    "data = FredReader(symbols=['NGDPRSAXDCSAQ'], start='2010', end=None).read()\n",
    "data.to_csv('SA_gdp_seasonally_adjusted.csv')\n",
    "\n",
    "# Read the CSV file and parse 'DATE' as datetime\n",
    "df1 = pd.read_csv('SA_gdp_seasonally_adjusted.csv', parse_dates=['DATE'])\n",
    "\n",
    "# save for merging later \n",
    "df1.to_csv('SA_gdp_seasonally_adjusted.csv', index=False)\n",
    "\n",
    "# Rename the columns\n",
    "df1.columns = ['Date', 'Y']\n",
    "\n",
    "# Display the DataFrame\n",
    "df1.head()"
   ]
  },
  {
   "cell_type": "code",
   "execution_count": 89,
   "id": "c172a20f-b83c-4d87-bae6-31c8b7fee83e",
   "metadata": {
    "scrolled": true
   },
   "outputs": [
    {
     "name": "stdout",
     "output_type": "stream",
     "text": [
      "<class 'pandas.core.frame.DataFrame'>\n",
      "RangeIndex: 55 entries, 0 to 54\n",
      "Data columns (total 2 columns):\n",
      " #   Column  Non-Null Count  Dtype         \n",
      "---  ------  --------------  -----         \n",
      " 0   Date    55 non-null     datetime64[ns]\n",
      " 1   Y       55 non-null     float64       \n",
      "dtypes: datetime64[ns](1), float64(1)\n",
      "memory usage: 1012.0 bytes\n"
     ]
    }
   ],
   "source": [
    "# Check the format of the data so make sure we have a float variable\n",
    "df1.info()"
   ]
  },
  {
   "cell_type": "code",
   "execution_count": 54,
   "id": "a5fb69b4-4076-4d0c-9e51-62bd40bc7298",
   "metadata": {},
   "outputs": [],
   "source": [
    "# Create an index using our Date column\n",
    "df1.set_index('Date', inplace=True)"
   ]
  },
  {
   "cell_type": "code",
   "execution_count": 55,
   "id": "1e86a580-a091-4f5f-944e-48e3ec501ba4",
   "metadata": {
    "scrolled": true
   },
   "outputs": [
    {
     "data": {
      "text/html": [
       "<div>\n",
       "<style scoped>\n",
       "    .dataframe tbody tr th:only-of-type {\n",
       "        vertical-align: middle;\n",
       "    }\n",
       "\n",
       "    .dataframe tbody tr th {\n",
       "        vertical-align: top;\n",
       "    }\n",
       "\n",
       "    .dataframe thead th {\n",
       "        text-align: right;\n",
       "    }\n",
       "</style>\n",
       "<table border=\"1\" class=\"dataframe\">\n",
       "  <thead>\n",
       "    <tr style=\"text-align: right;\">\n",
       "      <th></th>\n",
       "      <th>Y</th>\n",
       "    </tr>\n",
       "    <tr>\n",
       "      <th>Date</th>\n",
       "      <th></th>\n",
       "    </tr>\n",
       "  </thead>\n",
       "  <tbody>\n",
       "    <tr>\n",
       "      <th>2010-01-01</th>\n",
       "      <td>472498.1</td>\n",
       "    </tr>\n",
       "    <tr>\n",
       "      <th>2010-04-01</th>\n",
       "      <td>487268.9</td>\n",
       "    </tr>\n",
       "    <tr>\n",
       "      <th>2010-07-01</th>\n",
       "      <td>492963.7</td>\n",
       "    </tr>\n",
       "    <tr>\n",
       "      <th>2010-10-01</th>\n",
       "      <td>521219.1</td>\n",
       "    </tr>\n",
       "    <tr>\n",
       "      <th>2011-01-01</th>\n",
       "      <td>535829.9</td>\n",
       "    </tr>\n",
       "  </tbody>\n",
       "</table>\n",
       "</div>"
      ],
      "text/plain": [
       "                   Y\n",
       "Date                \n",
       "2010-01-01  472498.1\n",
       "2010-04-01  487268.9\n",
       "2010-07-01  492963.7\n",
       "2010-10-01  521219.1\n",
       "2011-01-01  535829.9"
      ]
     },
     "execution_count": 55,
     "metadata": {},
     "output_type": "execute_result"
    }
   ],
   "source": [
    "df1.head()"
   ]
  },
  {
   "cell_type": "code",
   "execution_count": 93,
   "id": "cdbb371b-52c3-4130-8e84-e3f2ca6f77ca",
   "metadata": {},
   "outputs": [
    {
     "name": "stdout",
     "output_type": "stream",
     "text": [
      "Requirement already satisfied: prettytable in c:\\users\\mauri\\miniconda3\\envs\\econ\\lib\\site-packages (3.9.0)\n",
      "Requirement already satisfied: wcwidth in c:\\users\\mauri\\miniconda3\\envs\\econ\\lib\\site-packages (from prettytable) (0.2.7)\n",
      "Note: you may need to restart the kernel to use updated packages.\n"
     ]
    }
   ],
   "source": [
    "pip install prettytable"
   ]
  },
  {
   "cell_type": "code",
   "execution_count": 95,
   "id": "2d6f07db-606b-4712-b31e-33bae041ada9",
   "metadata": {
    "scrolled": true
   },
   "outputs": [
    {
     "name": "stdout",
     "output_type": "stream",
     "text": [
      "+----------------------+---------------------+------------------------+\n",
      "|      Statistic       |   Original Series   | Log-Transformed Series |\n",
      "+----------------------+---------------------+------------------------+\n",
      "|    ADF Statistic     | -2.2334914595457325 |  -2.7911259392385586   |\n",
      "|       p-value        |  0.1943152570602683 |   0.0595525878107506   |\n",
      "| Critical Value (1%)  | -3.5778480370438146 |   -3.560242358792829   |\n",
      "| Critical Value (5%)  |  -2.925338105429433 |    -2.9178502070837    |\n",
      "| Critical Value (10%) | -2.6007735310095064 |  -2.5967964150943397   |\n",
      "+----------------------+---------------------+------------------------+\n"
     ]
    }
   ],
   "source": [
    "# Run the Dickey-Fuller test  to see if we need to adjust our data using logs due to stationary/non-stationary\n",
    "# Import necessary libraries\n",
    "from pandas import read_csv\n",
    "from statsmodels.tsa.stattools import adfuller\n",
    "import numpy as np\n",
    "from prettytable import PrettyTable\n",
    "\n",
    "# Read the CSV file\n",
    "series = read_csv('SA_gdp_seasonally_adjusted.csv', header=0, index_col=0)\n",
    "\n",
    "# Original time series\n",
    "X_original = series.values\n",
    "\n",
    "# Log-transformed time series\n",
    "X_log = np.log(df1.Y)\n",
    "\n",
    "# Run the Dickey-Fuller test for the original time series\n",
    "result_original = adfuller(X_original)\n",
    "\n",
    "# Run the Dickey-Fuller test for the log-transformed time series\n",
    "result_log = adfuller(X_log)\n",
    "\n",
    "# Create a PrettyTable for the comparison\n",
    "comparison_table = PrettyTable()\n",
    "comparison_table.field_names = [\"Statistic\", \"Original Series\", \"Log-Transformed Series\"]\n",
    "comparison_table.add_row([\"ADF Statistic\", result_original[0], result_log[0]])\n",
    "comparison_table.add_row([\"p-value\", result_original[1], result_log[1]])\n",
    "\n",
    "# Find the common keys for critical values\n",
    "common_keys = set(result_original[4].keys()).intersection(result_log[4].keys())\n",
    "\n",
    "# Add critical values to the table\n",
    "for key in common_keys:\n",
    "    comparison_table.add_row([f\"Critical Value ({key})\", result_original[4][key], result_log[4][key]])\n",
    "\n",
    "# Print the comparison table\n",
    "print(comparison_table)\n",
    "\n"
   ]
  },
  {
   "cell_type": "markdown",
   "id": "6a589788-281b-4f6a-95a7-4750b0519500",
   "metadata": {},
   "source": [
    "The log-transformed time series, with a more negative ADF Statistic (-2.791) and a lower p-value (0.059) compared to the original series (-2.233 and 0.194), exhibits more compelling indications of stationarity. Given these Fuller test results, we opt for the log-transformed data for further analysis."
   ]
  },
  {
   "cell_type": "code",
   "execution_count": 134,
   "id": "6cf29794-e789-407e-a13d-53fd302f26f7",
   "metadata": {
    "scrolled": true
   },
   "outputs": [
    {
     "data": {
      "text/html": [
       "<div>\n",
       "<style scoped>\n",
       "    .dataframe tbody tr th:only-of-type {\n",
       "        vertical-align: middle;\n",
       "    }\n",
       "\n",
       "    .dataframe tbody tr th {\n",
       "        vertical-align: top;\n",
       "    }\n",
       "\n",
       "    .dataframe thead th {\n",
       "        text-align: right;\n",
       "    }\n",
       "</style>\n",
       "<table border=\"1\" class=\"dataframe\">\n",
       "  <thead>\n",
       "    <tr style=\"text-align: right;\">\n",
       "      <th></th>\n",
       "      <th>Date</th>\n",
       "      <th>C</th>\n",
       "    </tr>\n",
       "  </thead>\n",
       "  <tbody>\n",
       "    <tr>\n",
       "      <th>0</th>\n",
       "      <td>2010-01-01</td>\n",
       "      <td>156759.2</td>\n",
       "    </tr>\n",
       "    <tr>\n",
       "      <th>1</th>\n",
       "      <td>2010-04-01</td>\n",
       "      <td>164331.8</td>\n",
       "    </tr>\n",
       "    <tr>\n",
       "      <th>2</th>\n",
       "      <td>2010-07-01</td>\n",
       "      <td>159314.8</td>\n",
       "    </tr>\n",
       "    <tr>\n",
       "      <th>3</th>\n",
       "      <td>2010-10-01</td>\n",
       "      <td>159011.5</td>\n",
       "    </tr>\n",
       "    <tr>\n",
       "      <th>4</th>\n",
       "      <td>2011-01-01</td>\n",
       "      <td>159407.9</td>\n",
       "    </tr>\n",
       "  </tbody>\n",
       "</table>\n",
       "</div>"
      ],
      "text/plain": [
       "        Date         C\n",
       "0 2010-01-01  156759.2\n",
       "1 2010-04-01  164331.8\n",
       "2 2010-07-01  159314.8\n",
       "3 2010-10-01  159011.5\n",
       "4 2011-01-01  159407.9"
      ]
     },
     "execution_count": 134,
     "metadata": {},
     "output_type": "execute_result"
    }
   ],
   "source": [
    "### Step 2 ## Importing Real Private Sector Final Consumption Expenditure\n",
    "## data is not seasonaly adjusted yet\n",
    "\n",
    "data = FredReader(symbols=['NCPRNSAXDCSAQ'], start='2010', end=None).read()\n",
    "data.to_csv('SA_real_private_consumption_not_adjusted.csv')\n",
    "\n",
    "# Read the CSV file and parse 'DATE' as datetime\n",
    "df2 = pd.read_csv('SA_real_private_consumption_not_adjusted.csv', parse_dates=['DATE'])\n",
    "\n",
    "# save for merging later \n",
    "df2.to_csv('SA_real_private_consumption_not_adjusted.csv', index=False)\n",
    "\n",
    "# Rename the columns\n",
    "df2.columns = ['Date', 'C']\n",
    "\n",
    "# Display the DataFrame\n",
    "df2.head()\n"
   ]
  },
  {
   "cell_type": "code",
   "execution_count": 126,
   "id": "3fa30ae8-dec4-41f7-ade0-ad686ec8847d",
   "metadata": {
    "scrolled": true
   },
   "outputs": [
    {
     "name": "stdout",
     "output_type": "stream",
     "text": [
      "<class 'pandas.core.frame.DataFrame'>\n",
      "RangeIndex: 54 entries, 0 to 53\n",
      "Data columns (total 2 columns):\n",
      " #   Column  Non-Null Count  Dtype         \n",
      "---  ------  --------------  -----         \n",
      " 0   Date    54 non-null     datetime64[ns]\n",
      " 1   C       54 non-null     float64       \n",
      "dtypes: datetime64[ns](1), float64(1)\n",
      "memory usage: 996.0 bytes\n"
     ]
    },
    {
     "data": {
      "text/plain": [
       "<Axes: >"
      ]
     },
     "execution_count": 126,
     "metadata": {},
     "output_type": "execute_result"
    },
    {
     "data": {
      "image/png": "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",
      "text/plain": [
       "<Figure size 640x480 with 1 Axes>"
      ]
     },
     "metadata": {},
     "output_type": "display_data"
    }
   ],
   "source": [
    "# Check the format of data before merge\n",
    "df2.info()\n",
    "df2.plot()"
   ]
  },
  {
   "cell_type": "code",
   "execution_count": 117,
   "id": "08ef7afc-b60d-433c-91da-d6f868601639",
   "metadata": {
    "scrolled": true
   },
   "outputs": [
    {
     "data": {
      "text/plain": [
       "<Axes: >"
      ]
     },
     "execution_count": 117,
     "metadata": {},
     "output_type": "execute_result"
    },
    {
     "data": {
      "image/png": "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",
      "text/plain": [
       "<Figure size 640x480 with 1 Axes>"
      ]
     },
     "metadata": {},
     "output_type": "display_data"
    }
   ],
   "source": [
    "df2.C.map(np.log).diff().plot()"
   ]
  },
  {
   "cell_type": "code",
   "execution_count": 128,
   "id": "dd05ae39-0cc2-4bfb-a366-10f9b4fc761e",
   "metadata": {
    "scrolled": true
   },
   "outputs": [
    {
     "name": "stdout",
     "output_type": "stream",
     "text": [
      "<class 'pandas.core.frame.DataFrame'>\n",
      "RangeIndex: 54 entries, 0 to 53\n",
      "Data columns (total 2 columns):\n",
      " #   Column      Non-Null Count  Dtype         \n",
      "---  ------      --------------  -----         \n",
      " 0   Date        54 non-null     datetime64[ns]\n",
      " 1   diff_log_C  53 non-null     float64       \n",
      "dtypes: datetime64[ns](1), float64(1)\n",
      "memory usage: 996.0 bytes\n"
     ]
    }
   ],
   "source": [
    "df['log_C'] = df2['C'].map(np.log)\n",
    "df['diff_log_C'] = df['log_C'].diff()\n",
    "\n",
    "# Include the 'Date' column from df2\n",
    "d_log_C = df2[['Date']].copy()\n",
    "d_log_C['diff_log_C'] = df['diff_log_C']\n",
    "d_log_C.info()\n"
   ]
  },
  {
   "cell_type": "code",
   "execution_count": 132,
   "id": "6dab6bc1-3192-496c-b482-9d94bf9ea9c6",
   "metadata": {
    "scrolled": true
   },
   "outputs": [
    {
     "data": {
      "text/html": [
       "<div>\n",
       "<style scoped>\n",
       "    .dataframe tbody tr th:only-of-type {\n",
       "        vertical-align: middle;\n",
       "    }\n",
       "\n",
       "    .dataframe tbody tr th {\n",
       "        vertical-align: top;\n",
       "    }\n",
       "\n",
       "    .dataframe thead th {\n",
       "        text-align: right;\n",
       "    }\n",
       "</style>\n",
       "<table border=\"1\" class=\"dataframe\">\n",
       "  <thead>\n",
       "    <tr style=\"text-align: right;\">\n",
       "      <th>Date</th>\n",
       "      <th>2010</th>\n",
       "      <th>2011</th>\n",
       "      <th>2012</th>\n",
       "      <th>2013</th>\n",
       "      <th>2014</th>\n",
       "      <th>2015</th>\n",
       "      <th>2016</th>\n",
       "      <th>2017</th>\n",
       "      <th>2018</th>\n",
       "      <th>2019</th>\n",
       "      <th>2020</th>\n",
       "      <th>2021</th>\n",
       "      <th>2022</th>\n",
       "      <th>2023</th>\n",
       "    </tr>\n",
       "    <tr>\n",
       "      <th>Quarter</th>\n",
       "      <th></th>\n",
       "      <th></th>\n",
       "      <th></th>\n",
       "      <th></th>\n",
       "      <th></th>\n",
       "      <th></th>\n",
       "      <th></th>\n",
       "      <th></th>\n",
       "      <th></th>\n",
       "      <th></th>\n",
       "      <th></th>\n",
       "      <th></th>\n",
       "      <th></th>\n",
       "      <th></th>\n",
       "    </tr>\n",
       "  </thead>\n",
       "  <tbody>\n",
       "    <tr>\n",
       "      <th>1</th>\n",
       "      <td>NaN</td>\n",
       "      <td>0.002490</td>\n",
       "      <td>0.088834</td>\n",
       "      <td>0.009706</td>\n",
       "      <td>0.015630</td>\n",
       "      <td>0.064859</td>\n",
       "      <td>0.010054</td>\n",
       "      <td>0.033517</td>\n",
       "      <td>0.009254</td>\n",
       "      <td>0.058996</td>\n",
       "      <td>-0.008899</td>\n",
       "      <td>0.058971</td>\n",
       "      <td>0.032215</td>\n",
       "      <td>0.042092</td>\n",
       "    </tr>\n",
       "    <tr>\n",
       "      <th>2</th>\n",
       "      <td>0.047177</td>\n",
       "      <td>0.027746</td>\n",
       "      <td>0.035206</td>\n",
       "      <td>0.027400</td>\n",
       "      <td>0.000971</td>\n",
       "      <td>-0.019916</td>\n",
       "      <td>-0.011832</td>\n",
       "      <td>0.006701</td>\n",
       "      <td>0.010194</td>\n",
       "      <td>0.007391</td>\n",
       "      <td>-0.185693</td>\n",
       "      <td>-0.009551</td>\n",
       "      <td>-0.009727</td>\n",
       "      <td>-0.012612</td>\n",
       "    </tr>\n",
       "    <tr>\n",
       "      <th>3</th>\n",
       "      <td>-0.031005</td>\n",
       "      <td>-0.002099</td>\n",
       "      <td>-0.018139</td>\n",
       "      <td>0.009074</td>\n",
       "      <td>0.041665</td>\n",
       "      <td>-0.028333</td>\n",
       "      <td>0.001219</td>\n",
       "      <td>0.001019</td>\n",
       "      <td>-0.009459</td>\n",
       "      <td>0.001727</td>\n",
       "      <td>0.124447</td>\n",
       "      <td>0.032293</td>\n",
       "      <td>0.024922</td>\n",
       "      <td>NaN</td>\n",
       "    </tr>\n",
       "    <tr>\n",
       "      <th>4</th>\n",
       "      <td>-0.001906</td>\n",
       "      <td>0.002018</td>\n",
       "      <td>-0.003728</td>\n",
       "      <td>0.026167</td>\n",
       "      <td>0.012738</td>\n",
       "      <td>0.054886</td>\n",
       "      <td>0.006654</td>\n",
       "      <td>0.013513</td>\n",
       "      <td>0.002529</td>\n",
       "      <td>-0.009022</td>\n",
       "      <td>0.013345</td>\n",
       "      <td>-0.002525</td>\n",
       "      <td>-0.007316</td>\n",
       "      <td>NaN</td>\n",
       "    </tr>\n",
       "  </tbody>\n",
       "</table>\n",
       "</div>"
      ],
      "text/plain": [
       "Date         2010      2011      2012      2013      2014      2015      2016  \\\n",
       "Quarter                                                                         \n",
       "1             NaN  0.002490  0.088834  0.009706  0.015630  0.064859  0.010054   \n",
       "2        0.047177  0.027746  0.035206  0.027400  0.000971 -0.019916 -0.011832   \n",
       "3       -0.031005 -0.002099 -0.018139  0.009074  0.041665 -0.028333  0.001219   \n",
       "4       -0.001906  0.002018 -0.003728  0.026167  0.012738  0.054886  0.006654   \n",
       "\n",
       "Date         2017      2018      2019      2020      2021      2022      2023  \n",
       "Quarter                                                                        \n",
       "1        0.033517  0.009254  0.058996 -0.008899  0.058971  0.032215  0.042092  \n",
       "2        0.006701  0.010194  0.007391 -0.185693 -0.009551 -0.009727 -0.012612  \n",
       "3        0.001019 -0.009459  0.001727  0.124447  0.032293  0.024922       NaN  \n",
       "4        0.013513  0.002529 -0.009022  0.013345 -0.002525 -0.007316       NaN  "
      ]
     },
     "execution_count": 132,
     "metadata": {},
     "output_type": "execute_result"
    }
   ],
   "source": [
    "\n",
    "# Extract quarter information\n",
    "d_log_C['Quarter'] = d_log_C['Date'].dt.quarter\n",
    "\n",
    "# Create a pivot table based on quarter and year\n",
    "d_C_pivot = d_log_C.pivot_table(index='Quarter', columns=d_log_C['Date'].dt.year, values='diff_log_C')\n",
    "\n",
    "# Display the pivot table\n",
    "d_C_pivot.head()"
   ]
  },
  {
   "cell_type": "code",
   "execution_count": 133,
   "id": "812aef6f-3a28-4f54-846d-70647d449d97",
   "metadata": {
    "scrolled": true
   },
   "outputs": [
    {
     "data": {
      "image/png": "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",
      "text/plain": [
       "<Figure size 640x480 with 1 Axes>"
      ]
     },
     "metadata": {},
     "output_type": "display_data"
    }
   ],
   "source": [
    "d_C_pivot.plot(legend=False);\n"
   ]
  },
  {
   "cell_type": "markdown",
   "id": "7f637090-6f4f-4750-a1a6-7b2cf5b28433",
   "metadata": {},
   "source": [
    "Results seem not completly random but also not completly non random. Not adjusting for seasonality. "
   ]
  },
  {
   "cell_type": "code",
   "execution_count": 139,
   "id": "ba51fd1d-5000-432f-a566-def1bd3505ac",
   "metadata": {},
   "outputs": [
    {
     "name": "stdout",
     "output_type": "stream",
     "text": [
      "Requirement already satisfied: wbdata in c:\\users\\mauri\\miniconda3\\envs\\econ\\lib\\site-packages (0.3.0)\n",
      "Requirement already satisfied: appdirs<2.0,>=1.4 in c:\\users\\mauri\\miniconda3\\envs\\econ\\lib\\site-packages (from wbdata) (1.4.4)\n",
      "Requirement already satisfied: decorator>=4.0 in c:\\users\\mauri\\miniconda3\\envs\\econ\\lib\\site-packages (from wbdata) (5.1.1)\n",
      "Requirement already satisfied: requests>=2.0 in c:\\users\\mauri\\miniconda3\\envs\\econ\\lib\\site-packages (from wbdata) (2.31.0)\n",
      "Requirement already satisfied: tabulate>=0.8.5 in c:\\users\\mauri\\miniconda3\\envs\\econ\\lib\\site-packages (from wbdata) (0.9.0)\n",
      "Requirement already satisfied: charset-normalizer<4,>=2 in c:\\users\\mauri\\miniconda3\\envs\\econ\\lib\\site-packages (from requests>=2.0->wbdata) (3.2.0)\n",
      "Requirement already satisfied: idna<4,>=2.5 in c:\\users\\mauri\\miniconda3\\envs\\econ\\lib\\site-packages (from requests>=2.0->wbdata) (3.4)\n",
      "Requirement already satisfied: urllib3<3,>=1.21.1 in c:\\users\\mauri\\miniconda3\\envs\\econ\\lib\\site-packages (from requests>=2.0->wbdata) (2.0.5)\n",
      "Requirement already satisfied: certifi>=2017.4.17 in c:\\users\\mauri\\miniconda3\\envs\\econ\\lib\\site-packages (from requests>=2.0->wbdata) (2023.7.22)\n"
     ]
    },
    {
     "name": "stderr",
     "output_type": "stream",
     "text": [
      "ERROR: Could not find a version that satisfies the requirement pandas_datareade (from versions: none)\n",
      "ERROR: No matching distribution found for pandas_datareade\n"
     ]
    }
   ],
   "source": [
    "!pip install wbdata\n",
    "!pip install pandas_datareade"
   ]
  },
  {
   "cell_type": "code",
   "execution_count": 151,
   "id": "92ebd607-4aab-4cbc-a2cf-4da6a68fda4e",
   "metadata": {},
   "outputs": [
    {
     "name": "stdout",
     "output_type": "stream",
     "text": [
      "<class 'pandas.core.frame.DataFrame'>\n",
      "RangeIndex: 13 entries, 0 to 12\n",
      "Data columns (total 2 columns):\n",
      " #   Column  Non-Null Count  Dtype         \n",
      "---  ------  --------------  -----         \n",
      " 0   Date    13 non-null     datetime64[ns]\n",
      " 1   I       13 non-null     float64       \n",
      "dtypes: datetime64[ns](1), float64(1)\n",
      "memory usage: 340.0 bytes\n"
     ]
    }
   ],
   "source": [
    "### Step 3 ## Importing Gross Fixed Capital Formation NE.GDI.FTOT.CD Annual\n",
    "\n",
    "## data is in current US Dollar\n",
    "\n",
    "import pandas as pd\n",
    "import pandas_datareader.wb as wb\n",
    "\n",
    "# Define the World Bank indicator code for \"Gross Fixed Capital Formation\"\n",
    "indicator_code = 'NE.GDI.FTOT.CD'\n",
    "\n",
    "# Define the countries and time period you are interested in (only Saudi Arabia in this case)\n",
    "countries = ['SA']\n",
    "start_date = '2010-01-01'\n",
    "end_date = '2023-12-31'\n",
    "\n",
    "# Fetch World Bank data using the pandas_datareader library\n",
    "world_bank_data = wb.download(indicator=indicator_code, country=countries, start=start_date, end=end_date)\n",
    "\n",
    "# Reset index to make 'Date' a column\n",
    "world_bank_data.reset_index(inplace=True)\n",
    "\n",
    "# Drop 'country' column\n",
    "world_bank_data.drop('country', axis=1, inplace=True)\n",
    "\n",
    "# Rename 'year' column to 'Date'\n",
    "world_bank_data.rename(columns={'year': 'Date', 'NE.GDI.FTOT.CD': 'I'}, inplace=True)\n",
    "world_bank_data['Date'] = pd.to_datetime(world_bank_data['Date'])  # Fix: use 'year' instead of 'Date'\n",
    "\n",
    "df3 = world_bank_data.copy()\n",
    "df3.info()\n",
    "\n",
    "\n",
    "\n"
   ]
  },
  {
   "cell_type": "code",
   "execution_count": 156,
   "id": "a83e8834-40fd-44e8-a251-58a9f1878933",
   "metadata": {
    "scrolled": true
   },
   "outputs": [
    {
     "data": {
      "text/plain": [
       "<Axes: xlabel='Date'>"
      ]
     },
     "execution_count": 156,
     "metadata": {},
     "output_type": "execute_result"
    },
    {
     "data": {
      "image/png": "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",
      "text/plain": [
       "<Figure size 640x480 with 1 Axes>"
      ]
     },
     "metadata": {},
     "output_type": "display_data"
    }
   ],
   "source": [
    "### resample data to fit quartelry framework\n",
    "# Set 'Date' column as the index\n",
    "df3.set_index('Date', inplace=True)\n",
    "\n",
    "# Resample data to fit quarterly framework\n",
    "df3_resampled = df3.I.resample('QS').asfreq()\n",
    "\n",
    "# Plot the resampled data\n",
    "df3_resampled.plot(marker='o')\n",
    "df3.I.resample('QS').asfreq().plot(marker='o')"
   ]
  },
  {
   "cell_type": "code",
   "execution_count": 158,
   "id": "323f5ac1-16af-4cd6-b55e-ca048dfb3b36",
   "metadata": {},
   "outputs": [
    {
     "data": {
      "text/plain": [
       "Date\n",
       "2021-01-01    5.283724e+10\n",
       "2021-04-01             NaN\n",
       "2021-07-01             NaN\n",
       "2021-10-01             NaN\n",
       "2022-01-01    6.930574e+10\n",
       "Freq: QS-JAN, Name: I, dtype: float64"
      ]
     },
     "execution_count": 158,
     "metadata": {},
     "output_type": "execute_result"
    }
   ],
   "source": [
    "#taking a loook at the missing values\n",
    "quarterly_I = df3.I.mul(0.25).resample('QS').asfreq()\n",
    "quarterly_I.tail()"
   ]
  },
  {
   "cell_type": "code",
   "execution_count": 159,
   "id": "8cdcd588-9f2f-438e-aea8-89db70421e0f",
   "metadata": {},
   "outputs": [
    {
     "name": "stderr",
     "output_type": "stream",
     "text": [
      "C:\\Users\\mauri\\miniconda3\\envs\\econ\\Lib\\site-packages\\statsmodels\\tsa\\statespace\\sarimax.py:966: UserWarning: Non-stationary starting autoregressive parameters found. Using zeros as starting parameters.\n",
      "  warn('Non-stationary starting autoregressive parameters'\n"
     ]
    },
    {
     "name": "stdout",
     "output_type": "stream",
     "text": [
      "Optimization terminated successfully.\n",
      "         Current function value: 6.289181\n",
      "         Iterations: 961\n",
      "         Function evaluations: 1653\n"
     ]
    }
   ],
   "source": [
    "import statsmodels.api as sm\n",
    "\n",
    "# order is three numbers: (AR, Diff, MA). If this means nothing to you don't worry. But AR(1) corresponds to\n",
    "# order (1, 0, 0).\n",
    "\n",
    "# We set the trend to 'ctt' which means quadratic trend, since this data is increasing exponentially.\n",
    "mod = sm.tsa.SARIMAX(quarterly_I, order=(1, 0, 0), trend='ctt')\n",
    "res = mod.fit(method='nm', maxiter=10_000)"
   ]
  },
  {
   "cell_type": "code",
   "execution_count": 160,
   "id": "7b20e80e-b49c-438c-b261-b847ad5701be",
   "metadata": {
    "scrolled": true
   },
   "outputs": [
    {
     "data": {
      "text/html": [
       "<table class=\"simpletable\">\n",
       "<caption>SARIMAX Results</caption>\n",
       "<tr>\n",
       "  <th>Dep. Variable:</th>           <td>I</td>        <th>  No. Observations:  </th>    <td>49</td>   \n",
       "</tr>\n",
       "<tr>\n",
       "  <th>Model:</th>           <td>SARIMAX(1, 0, 0)</td> <th>  Log Likelihood     </th> <td>-308.170</td>\n",
       "</tr>\n",
       "<tr>\n",
       "  <th>Date:</th>            <td>Sat, 16 Dec 2023</td> <th>  AIC                </th>  <td>626.340</td>\n",
       "</tr>\n",
       "<tr>\n",
       "  <th>Time:</th>                <td>17:50:00</td>     <th>  BIC                </th>  <td>635.799</td>\n",
       "</tr>\n",
       "<tr>\n",
       "  <th>Sample:</th>             <td>01-01-2010</td>    <th>  HQIC               </th>  <td>629.928</td>\n",
       "</tr>\n",
       "<tr>\n",
       "  <th></th>                   <td>- 01-01-2022</td>   <th>                     </th>     <td> </td>   \n",
       "</tr>\n",
       "<tr>\n",
       "  <th>Covariance Type:</th>        <td>opg</td>       <th>                     </th>     <td> </td>   \n",
       "</tr>\n",
       "</table>\n",
       "<table class=\"simpletable\">\n",
       "<tr>\n",
       "      <td></td>         <th>coef</th>     <th>std err</th>      <th>z</th>      <th>P>|z|</th>  <th>[0.025</th>    <th>0.975]</th>  \n",
       "</tr>\n",
       "<tr>\n",
       "  <th>intercept</th> <td> 6.819e+10</td> <td> 3.68e-13</td> <td> 1.85e+23</td> <td> 0.000</td> <td> 6.82e+10</td> <td> 6.82e+10</td>\n",
       "</tr>\n",
       "<tr>\n",
       "  <th>drift</th>     <td>  -1.7e+07</td> <td> 1.81e-11</td> <td>-9.39e+17</td> <td> 0.000</td> <td> -1.7e+07</td> <td> -1.7e+07</td>\n",
       "</tr>\n",
       "<tr>\n",
       "  <th>trend.2</th>   <td> 2.267e+07</td> <td> 9.02e-10</td> <td> 2.51e+16</td> <td> 0.000</td> <td> 2.27e+07</td> <td> 2.27e+07</td>\n",
       "</tr>\n",
       "<tr>\n",
       "  <th>ar.L1</th>     <td>   -0.8824</td> <td>    0.057</td> <td>  -15.371</td> <td> 0.000</td> <td>   -0.995</td> <td>   -0.770</td>\n",
       "</tr>\n",
       "<tr>\n",
       "  <th>sigma2</th>    <td>   7.7e+18</td> <td> 3.85e-23</td> <td>    2e+41</td> <td> 0.000</td> <td>  7.7e+18</td> <td>  7.7e+18</td>\n",
       "</tr>\n",
       "</table>\n",
       "<table class=\"simpletable\">\n",
       "<tr>\n",
       "  <th>Ljung-Box (L1) (Q):</th>     <td>0.00</td> <th>  Jarque-Bera (JB):  </th> <td>68.28</td>\n",
       "</tr>\n",
       "<tr>\n",
       "  <th>Prob(Q):</th>                <td>1.00</td> <th>  Prob(JB):          </th> <td>0.00</td> \n",
       "</tr>\n",
       "<tr>\n",
       "  <th>Heteroskedasticity (H):</th> <td>3.27</td> <th>  Skew:              </th> <td>0.30</td> \n",
       "</tr>\n",
       "<tr>\n",
       "  <th>Prob(H) (two-sided):</th>    <td>0.02</td> <th>  Kurtosis:          </th> <td>8.75</td> \n",
       "</tr>\n",
       "</table><br/><br/>Warnings:<br/>[1] Covariance matrix calculated using the outer product of gradients (complex-step).<br/>[2] Covariance matrix is singular or near-singular, with condition number 2.12e+58. Standard errors may be unstable."
      ],
      "text/latex": [
       "\\begin{center}\n",
       "\\begin{tabular}{lclc}\n",
       "\\toprule\n",
       "\\textbf{Dep. Variable:}          &        I         & \\textbf{  No. Observations:  } &     49      \\\\\n",
       "\\textbf{Model:}                  & SARIMAX(1, 0, 0) & \\textbf{  Log Likelihood     } &  -308.170   \\\\\n",
       "\\textbf{Date:}                   & Sat, 16 Dec 2023 & \\textbf{  AIC                } &  626.340    \\\\\n",
       "\\textbf{Time:}                   &     17:50:00     & \\textbf{  BIC                } &  635.799    \\\\\n",
       "\\textbf{Sample:}                 &    01-01-2010    & \\textbf{  HQIC               } &  629.928    \\\\\n",
       "\\textbf{}                        &   - 01-01-2022   & \\textbf{                     } &             \\\\\n",
       "\\textbf{Covariance Type:}        &       opg        & \\textbf{                     } &             \\\\\n",
       "\\bottomrule\n",
       "\\end{tabular}\n",
       "\\begin{tabular}{lcccccc}\n",
       "                   & \\textbf{coef} & \\textbf{std err} & \\textbf{z} & \\textbf{P$> |$z$|$} & \\textbf{[0.025} & \\textbf{0.975]}  \\\\\n",
       "\\midrule\n",
       "\\textbf{intercept} &    6.819e+10  &     3.68e-13     &  1.85e+23  &         0.000        &     6.82e+10    &     6.82e+10     \\\\\n",
       "\\textbf{drift}     &     -1.7e+07  &     1.81e-11     & -9.39e+17  &         0.000        &     -1.7e+07    &     -1.7e+07     \\\\\n",
       "\\textbf{trend.2}   &    2.267e+07  &     9.02e-10     &  2.51e+16  &         0.000        &     2.27e+07    &     2.27e+07     \\\\\n",
       "\\textbf{ar.L1}     &      -0.8824  &        0.057     &   -15.371  &         0.000        &       -0.995    &       -0.770     \\\\\n",
       "\\textbf{sigma2}    &      7.7e+18  &     3.85e-23     &     2e+41  &         0.000        &      7.7e+18    &      7.7e+18     \\\\\n",
       "\\bottomrule\n",
       "\\end{tabular}\n",
       "\\begin{tabular}{lclc}\n",
       "\\textbf{Ljung-Box (L1) (Q):}     & 0.00 & \\textbf{  Jarque-Bera (JB):  } & 68.28  \\\\\n",
       "\\textbf{Prob(Q):}                & 1.00 & \\textbf{  Prob(JB):          } &  0.00  \\\\\n",
       "\\textbf{Heteroskedasticity (H):} & 3.27 & \\textbf{  Skew:              } &  0.30  \\\\\n",
       "\\textbf{Prob(H) (two-sided):}    & 0.02 & \\textbf{  Kurtosis:          } &  8.75  \\\\\n",
       "\\bottomrule\n",
       "\\end{tabular}\n",
       "%\\caption{SARIMAX Results}\n",
       "\\end{center}\n",
       "\n",
       "Warnings: \\newline\n",
       " [1] Covariance matrix calculated using the outer product of gradients (complex-step). \\newline\n",
       " [2] Covariance matrix is singular or near-singular, with condition number 2.12e+58. Standard errors may be unstable."
      ],
      "text/plain": [
       "<class 'statsmodels.iolib.summary.Summary'>\n",
       "\"\"\"\n",
       "                               SARIMAX Results                                \n",
       "==============================================================================\n",
       "Dep. Variable:                      I   No. Observations:                   49\n",
       "Model:               SARIMAX(1, 0, 0)   Log Likelihood                -308.170\n",
       "Date:                Sat, 16 Dec 2023   AIC                            626.340\n",
       "Time:                        17:50:00   BIC                            635.799\n",
       "Sample:                    01-01-2010   HQIC                           629.928\n",
       "                         - 01-01-2022                                         \n",
       "Covariance Type:                  opg                                         \n",
       "==============================================================================\n",
       "                 coef    std err          z      P>|z|      [0.025      0.975]\n",
       "------------------------------------------------------------------------------\n",
       "intercept   6.819e+10   3.68e-13   1.85e+23      0.000    6.82e+10    6.82e+10\n",
       "drift        -1.7e+07   1.81e-11  -9.39e+17      0.000    -1.7e+07    -1.7e+07\n",
       "trend.2     2.267e+07   9.02e-10   2.51e+16      0.000    2.27e+07    2.27e+07\n",
       "ar.L1         -0.8824      0.057    -15.371      0.000      -0.995      -0.770\n",
       "sigma2        7.7e+18   3.85e-23      2e+41      0.000     7.7e+18     7.7e+18\n",
       "===================================================================================\n",
       "Ljung-Box (L1) (Q):                   0.00   Jarque-Bera (JB):                68.28\n",
       "Prob(Q):                              1.00   Prob(JB):                         0.00\n",
       "Heteroskedasticity (H):               3.27   Skew:                             0.30\n",
       "Prob(H) (two-sided):                  0.02   Kurtosis:                         8.75\n",
       "===================================================================================\n",
       "\n",
       "Warnings:\n",
       "[1] Covariance matrix calculated using the outer product of gradients (complex-step).\n",
       "[2] Covariance matrix is singular or near-singular, with condition number 2.12e+58. Standard errors may be unstable.\n",
       "\"\"\""
      ]
     },
     "execution_count": 160,
     "metadata": {},
     "output_type": "execute_result"
    }
   ],
   "source": [
    "res.summary()"
   ]
  },
  {
   "cell_type": "code",
   "execution_count": 163,
   "id": "b342a6aa-120f-475c-af4f-3051ff754837",
   "metadata": {
    "scrolled": true
   },
   "outputs": [
    {
     "data": {
      "image/png": "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",
      "text/plain": [
       "<Figure size 640x480 with 1 Axes>"
      ]
     },
     "metadata": {},
     "output_type": "display_data"
    }
   ],
   "source": [
    "fig, ax = plt.subplots()\n",
    "res.predict().plot(label='Predicted', ax=ax)\n",
    "ax.scatter(quarterly_I.index, quarterly_I.values, s=15, color='tab:orange', label='Data')\n",
    "ax.legend()\n",
    "plt.show()"
   ]
  },
  {
   "cell_type": "code",
   "execution_count": 182,
   "id": "19823ed1-a300-428a-8632-c34b8241371a",
   "metadata": {
    "scrolled": true
   },
   "outputs": [
    {
     "name": "stdout",
     "output_type": "stream",
     "text": [
      "Date\n",
      "2021-01-01    5.283724e+10\n",
      "2021-04-01             NaN\n",
      "2021-07-01             NaN\n",
      "2021-10-01             NaN\n",
      "2022-01-01    6.930574e+10\n",
      "Freq: QS-JAN, Name: I, dtype: float64\n"
     ]
    },
    {
     "name": "stderr",
     "output_type": "stream",
     "text": [
      "C:\\Users\\mauri\\miniconda3\\envs\\econ\\Lib\\site-packages\\statsmodels\\tsa\\statespace\\sarimax.py:966: UserWarning: Non-stationary starting autoregressive parameters found. Using zeros as starting parameters.\n",
      "  warn('Non-stationary starting autoregressive parameters'\n"
     ]
    },
    {
     "name": "stdout",
     "output_type": "stream",
     "text": [
      "Optimization terminated successfully.\n",
      "         Current function value: 6.289181\n",
      "         Iterations: 961\n",
      "         Function evaluations: 1653\n",
      "         Date             0   I\n",
      "0  2010-01-01  3.226140e+10 NaN\n",
      "1  2010-04-01  3.226140e+10 NaN\n",
      "2  2010-07-01  3.226140e+10 NaN\n",
      "3  2010-10-01  3.226140e+10 NaN\n",
      "4  2011-01-01  3.792189e+10 NaN\n",
      "5  2011-04-01  3.792189e+10 NaN\n",
      "6  2011-07-01  3.792189e+10 NaN\n",
      "7  2011-10-01  3.792189e+10 NaN\n",
      "8  2012-01-01  4.101167e+10 NaN\n",
      "9  2012-04-01  4.101167e+10 NaN\n",
      "10 2012-07-01  4.101167e+10 NaN\n",
      "11 2012-10-01  4.101167e+10 NaN\n",
      "12 2013-01-01  4.422764e+10 NaN\n",
      "13 2013-04-01  4.422764e+10 NaN\n",
      "14 2013-07-01  4.422764e+10 NaN\n",
      "15 2013-10-01  4.422764e+10 NaN\n",
      "16 2014-01-01  4.777339e+10 NaN\n",
      "17 2014-04-01  4.777339e+10 NaN\n",
      "18 2014-07-01  4.777339e+10 NaN\n",
      "19 2014-10-01  4.777339e+10 NaN\n",
      "20 2015-01-01  4.913349e+10 NaN\n",
      "21 2015-04-01  4.913349e+10 NaN\n",
      "22 2015-07-01  4.913349e+10 NaN\n",
      "23 2015-10-01  4.913349e+10 NaN\n",
      "24 2016-01-01  4.263684e+10 NaN\n",
      "25 2016-04-01  4.263684e+10 NaN\n",
      "26 2016-07-01  4.263684e+10 NaN\n",
      "27 2016-10-01  4.263684e+10 NaN\n",
      "28 2017-01-01  4.280641e+10 NaN\n",
      "29 2017-04-01  4.280641e+10 NaN\n",
      "30 2017-07-01  4.280641e+10 NaN\n",
      "31 2017-10-01  4.280641e+10 NaN\n",
      "32 2018-01-01  4.385511e+10 NaN\n",
      "33 2018-04-01  4.385511e+10 NaN\n",
      "34 2018-07-01  4.385511e+10 NaN\n",
      "35 2018-10-01  4.385511e+10 NaN\n",
      "36 2019-01-01  4.693030e+10 NaN\n",
      "37 2019-04-01  4.693030e+10 NaN\n",
      "38 2019-07-01  4.693030e+10 NaN\n",
      "39 2019-10-01  4.693030e+10 NaN\n",
      "40 2020-01-01  4.423638e+10 NaN\n",
      "41 2020-04-01  4.423638e+10 NaN\n",
      "42 2020-07-01  4.423638e+10 NaN\n",
      "43 2020-10-01  4.423638e+10 NaN\n",
      "44 2021-01-01  5.283724e+10 NaN\n",
      "45 2021-04-01  5.283724e+10 NaN\n",
      "46 2021-07-01  5.283724e+10 NaN\n",
      "47 2021-10-01  5.283724e+10 NaN\n",
      "48 2022-01-01  6.930574e+10 NaN\n",
      "49 2022-06-30  6.930574e+10 NaN\n",
      "50 2022-09-30  6.930574e+10 NaN\n",
      "51 2022-12-31  6.930574e+10 NaN\n",
      "52 2023-03-31  6.930574e+10 NaN\n"
     ]
    },
    {
     "data": {
      "image/png": "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",
      "text/plain": [
       "<Figure size 640x480 with 1 Axes>"
      ]
     },
     "metadata": {},
     "output_type": "display_data"
    }
   ],
   "source": [
    "# Plot the resampled data\n",
    "df3.I.resample('QS').asfreq().plot(marker='o')\n",
    "\n",
    "# Taking a look at the missing values\n",
    "quarterly_I = df3.I.mul(0.25).resample('QS').asfreq()\n",
    "\n",
    "# Display the last few rows of the resampled quarterly data\n",
    "print(quarterly_I.tail())\n",
    "\n",
    "# SARIMAX Modeling\n",
    "mod = sm.tsa.SARIMAX(quarterly_I, order=(1, 0, 0), trend='ctt')\n",
    "res = mod.fit(method='nm', maxiter=10_000)\n",
    "\n",
    "# Generate quarterly periods\n",
    "quarterly_periods = pd.date_range(start=quarterly_I.index[-1] + pd.DateOffset(months=3), periods=4, freq='Q')\n",
    "\n",
    "# Make predictions for quarterly data\n",
    "predictions = res.get_prediction(start=quarterly_periods[0], end=quarterly_periods[-1])\n",
    "predicted_data = predictions.predicted_mean\n",
    "\n",
    "# Combine original quarterly data with predicted quarterly data\n",
    "I_predict = pd.concat([quarterly_I, pd.DataFrame(predicted_data, columns=['I'], index=quarterly_periods)])\n",
    "\n",
    "# Sort the combined data by the index (Date)\n",
    "I_predict.sort_index(inplace=True)\n",
    "\n",
    "# Reset index and rename to match your requirements\n",
    "I_predict.reset_index(inplace=True)\n",
    "I_predict.rename(columns={'index': 'Date'}, inplace=True)\n",
    "\n",
    "# Optional: Forward-fill missing values\n",
    "I_predict.ffill(inplace=True)\n",
    "\n",
    "# Display the combined data\n",
    "print(I_predict)"
   ]
  },
  {
   "cell_type": "code",
   "execution_count": 196,
   "id": "57aa3b3e-f4ac-4374-a524-98620f789ea4",
   "metadata": {},
   "outputs": [
    {
     "name": "stdout",
     "output_type": "stream",
     "text": [
      "<class 'pandas.core.frame.DataFrame'>\n",
      "RangeIndex: 53 entries, 0 to 52\n",
      "Data columns (total 2 columns):\n",
      " #   Column  Non-Null Count  Dtype         \n",
      "---  ------  --------------  -----         \n",
      " 0   Date    53 non-null     datetime64[ns]\n",
      " 1   I_pred  53 non-null     float64       \n",
      "dtypes: datetime64[ns](1), float64(1)\n",
      "memory usage: 980.0 bytes\n"
     ]
    }
   ],
   "source": [
    "# Reset index and rename to match your requirements\n",
    "#combined_data_I.reset_index(inplace=True)\n",
    "\n",
    "# Drop the number in the column row and also drop 'I' column\n",
    "\n",
    "I_predict.rename(columns={0: 'I_pred'}, inplace=True)\n",
    "I_predict.drop(columns='I', axis=1, inplace=True)\n",
    "I_predict.head()\n",
    "I_predict.info()"
   ]
  },
  {
   "cell_type": "code",
   "execution_count": null,
   "id": "fcc9c57b-798a-4c22-b6f2-bc36e31d97e3",
   "metadata": {},
   "outputs": [],
   "source": [
    "### Step 3.2 ## Change currency to Saudi Dollar petro money"
   ]
  },
  {
   "cell_type": "code",
   "execution_count": 202,
   "id": "68acaf34-f2fa-46ca-a853-40e740e05867",
   "metadata": {},
   "outputs": [
    {
     "name": "stdout",
     "output_type": "stream",
     "text": [
      "<class 'pandas.core.frame.DataFrame'>\n",
      "RangeIndex: 13 entries, 0 to 12\n",
      "Data columns (total 2 columns):\n",
      " #   Column  Non-Null Count  Dtype         \n",
      "---  ------  --------------  -----         \n",
      " 0   Date    13 non-null     datetime64[ns]\n",
      " 1   TB      13 non-null     float64       \n",
      "dtypes: datetime64[ns](1), float64(1)\n",
      "memory usage: 340.0 bytes\n"
     ]
    }
   ],
   "source": [
    "### Step 4 ## 4\tTBt\tTrade BalaNet trade in goods and services (BOP, current US$)\n",
    "\n",
    "## data is in current US Dollar\n",
    "\n",
    "import pandas as pd\n",
    "import pandas_datareader.wb as wb\n",
    "\n",
    "# Define the World Bank indicator code for \"Gross Fixed Capital Formation\"\n",
    "indicator_code = 'BN.GSR.GNFS.CD'\n",
    "\n",
    "# Define the countries and time period you are interested in (only Saudi Arabia in this case)\n",
    "countries = ['SA']\n",
    "start_date = '2010-01-01'\n",
    "end_date = '2023-12-31'\n",
    "\n",
    "# Fetch World Bank data using the pandas_datareader library\n",
    "world_bank_data = wb.download(indicator=indicator_code, country=countries, start=start_date, end=end_date)\n",
    "\n",
    "# Reset index to make 'Date' a column\n",
    "world_bank_data.reset_index(inplace=True)\n",
    "\n",
    "# Drop 'country' column\n",
    "world_bank_data.drop('country', axis=1, inplace=True)\n",
    "\n",
    "# Rename 'year' column to 'Date'\n",
    "world_bank_data.rename(columns={'year': 'Date', 'BN.GSR.GNFS.CD': 'TB'}, inplace=True)\n",
    "world_bank_data['Date'] = pd.to_datetime(world_bank_data['Date'])  # Fix: use 'year' instead of 'Date'\n",
    "\n",
    "df4 = world_bank_data.copy()\n",
    "df4.info()"
   ]
  },
  {
   "cell_type": "code",
   "execution_count": 206,
   "id": "40ec36ec-7e0f-4ced-81c3-6464942cb0a1",
   "metadata": {},
   "outputs": [
    {
     "name": "stdout",
     "output_type": "stream",
     "text": [
      "<class 'pandas.core.frame.DataFrame'>\n",
      "RangeIndex: 13 entries, 0 to 12\n",
      "Data columns (total 2 columns):\n",
      " #   Column  Non-Null Count  Dtype         \n",
      "---  ------  --------------  -----         \n",
      " 0   Date    13 non-null     datetime64[ns]\n",
      " 1   TB      13 non-null     float64       \n",
      "dtypes: datetime64[ns](1), float64(1)\n",
      "memory usage: 340.0 bytes\n"
     ]
    },
    {
     "data": {
      "text/html": [
       "<div>\n",
       "<style scoped>\n",
       "    .dataframe tbody tr th:only-of-type {\n",
       "        vertical-align: middle;\n",
       "    }\n",
       "\n",
       "    .dataframe tbody tr th {\n",
       "        vertical-align: top;\n",
       "    }\n",
       "\n",
       "    .dataframe thead th {\n",
       "        text-align: right;\n",
       "    }\n",
       "</style>\n",
       "<table border=\"1\" class=\"dataframe\">\n",
       "  <thead>\n",
       "    <tr style=\"text-align: right;\">\n",
       "      <th></th>\n",
       "      <th>Date</th>\n",
       "      <th>TB</th>\n",
       "    </tr>\n",
       "  </thead>\n",
       "  <tbody>\n",
       "    <tr>\n",
       "      <th>0</th>\n",
       "      <td>2022-01-01</td>\n",
       "      <td>1.837795e+11</td>\n",
       "    </tr>\n",
       "    <tr>\n",
       "      <th>1</th>\n",
       "      <td>2021-01-01</td>\n",
       "      <td>7.348577e+10</td>\n",
       "    </tr>\n",
       "    <tr>\n",
       "      <th>2</th>\n",
       "      <td>2020-01-01</td>\n",
       "      <td>6.642772e+08</td>\n",
       "    </tr>\n",
       "    <tr>\n",
       "      <th>3</th>\n",
       "      <td>2019-01-01</td>\n",
       "      <td>6.691908e+10</td>\n",
       "    </tr>\n",
       "    <tr>\n",
       "      <th>4</th>\n",
       "      <td>2018-01-01</td>\n",
       "      <td>1.053272e+11</td>\n",
       "    </tr>\n",
       "  </tbody>\n",
       "</table>\n",
       "</div>"
      ],
      "text/plain": [
       "        Date            TB\n",
       "0 2022-01-01  1.837795e+11\n",
       "1 2021-01-01  7.348577e+10\n",
       "2 2020-01-01  6.642772e+08\n",
       "3 2019-01-01  6.691908e+10\n",
       "4 2018-01-01  1.053272e+11"
      ]
     },
     "execution_count": 206,
     "metadata": {},
     "output_type": "execute_result"
    }
   ],
   "source": [
    "### Step 4 ## 4\tTBt\tTrade Balance trade in goods and services (BOP, current US$)\n",
    "\n",
    "## data is in current US Dollar\n",
    "\n",
    "import pandas as pd\n",
    "import pandas_datareader.wb as wb\n",
    "\n",
    "# Define the World Bank indicator code for \"Gross Fixed Capital Formation\"\n",
    "indicator_code = 'BN.GSR.GNFS.CD'\n",
    "\n",
    "# Define the countries and time period you are interested in (only Saudi Arabia in this case)\n",
    "countries = ['SA']\n",
    "start_date = '2010-01-01'\n",
    "end_date = '2023-12-31'\n",
    "\n",
    "# Fetch World Bank data using the pandas_datareader library\n",
    "world_bank_data = wb.download(indicator=indicator_code, country=countries, start=start_date, end=end_date)\n",
    "\n",
    "# Reset index to make 'Date' a column\n",
    "world_bank_data.reset_index(inplace=True)\n",
    "\n",
    "# Drop 'country' column\n",
    "world_bank_data.drop('country', axis=1, inplace=True)\n",
    "\n",
    "# Rename 'year' column to 'Date'\n",
    "world_bank_data.rename(columns={'year': 'Date', 'BN.GSR.GNFS.CD': 'TB'}, inplace=True)\n",
    "world_bank_data['Date'] = pd.to_datetime(world_bank_data['Date'])  # Fix: use 'year' instead of 'Date'\n",
    "\n",
    "df4 = world_bank_data.copy()\n",
    "df4.info()\n",
    "df4.head()"
   ]
  },
  {
   "cell_type": "code",
   "execution_count": null,
   "id": "be03f01e-f29e-49f9-877e-0d0ba3c75452",
   "metadata": {},
   "outputs": [],
   "source": [
    "### Step 4.2 ## Trade Balance trade in goods and services (BOP, current US$)\n",
    "# change to quarterly numbers"
   ]
  },
  {
   "cell_type": "code",
   "execution_count": 203,
   "id": "a48390de",
   "metadata": {},
   "outputs": [
    {
     "name": "stdout",
     "output_type": "stream",
     "text": [
      "<class 'pandas.core.frame.DataFrame'>\n",
      "RangeIndex: 13 entries, 0 to 12\n",
      "Data columns (total 2 columns):\n",
      " #   Column  Non-Null Count  Dtype         \n",
      "---  ------  --------------  -----         \n",
      " 0   Date    13 non-null     datetime64[ns]\n",
      " 1   TB      13 non-null     float64       \n",
      "dtypes: datetime64[ns](1), float64(1)\n",
      "memory usage: 340.0 bytes\n"
     ]
    },
    {
     "data": {
      "text/html": [
       "<div>\n",
       "<style scoped>\n",
       "    .dataframe tbody tr th:only-of-type {\n",
       "        vertical-align: middle;\n",
       "    }\n",
       "\n",
       "    .dataframe tbody tr th {\n",
       "        vertical-align: top;\n",
       "    }\n",
       "\n",
       "    .dataframe thead th {\n",
       "        text-align: right;\n",
       "    }\n",
       "</style>\n",
       "<table border=\"1\" class=\"dataframe\">\n",
       "  <thead>\n",
       "    <tr style=\"text-align: right;\">\n",
       "      <th></th>\n",
       "      <th>Date</th>\n",
       "      <th>TB</th>\n",
       "    </tr>\n",
       "  </thead>\n",
       "  <tbody>\n",
       "    <tr>\n",
       "      <th>0</th>\n",
       "      <td>2022-01-01</td>\n",
       "      <td>1.837795e+11</td>\n",
       "    </tr>\n",
       "    <tr>\n",
       "      <th>1</th>\n",
       "      <td>2021-01-01</td>\n",
       "      <td>7.348577e+10</td>\n",
       "    </tr>\n",
       "    <tr>\n",
       "      <th>2</th>\n",
       "      <td>2020-01-01</td>\n",
       "      <td>6.642772e+08</td>\n",
       "    </tr>\n",
       "    <tr>\n",
       "      <th>3</th>\n",
       "      <td>2019-01-01</td>\n",
       "      <td>6.691908e+10</td>\n",
       "    </tr>\n",
       "    <tr>\n",
       "      <th>4</th>\n",
       "      <td>2018-01-01</td>\n",
       "      <td>1.053272e+11</td>\n",
       "    </tr>\n",
       "  </tbody>\n",
       "</table>\n",
       "</div>"
      ],
      "text/plain": [
       "        Date            TB\n",
       "0 2022-01-01  1.837795e+11\n",
       "1 2021-01-01  7.348577e+10\n",
       "2 2020-01-01  6.642772e+08\n",
       "3 2019-01-01  6.691908e+10\n",
       "4 2018-01-01  1.053272e+11"
      ]
     },
     "execution_count": 203,
     "metadata": {},
     "output_type": "execute_result"
    }
   ],
   "source": [
    "### Step 5 ## Average Hours of Work for Employed Persons\n",
    "\n",
    "df5.info()\n",
    "df5.head()"
   ]
  },
  {
   "cell_type": "code",
   "execution_count": null,
   "id": "966b6627-795b-4ced-a6a6-5d11080ece42",
   "metadata": {},
   "outputs": [],
   "source": [
    "### Step 6 ## Average Monthly Wages for Paid Employees\n",
    "\n",
    "df6.info()\n",
    "df6.head()"
   ]
  },
  {
   "cell_type": "code",
   "execution_count": null,
   "id": "d24959c4-cb4c-45bb-b4bb-e1294e967f0a",
   "metadata": {},
   "outputs": [],
   "source": [
    "### Step 6 ## Current Account\n",
    "#change to quarterly numbers"
   ]
  },
  {
   "cell_type": "code",
   "execution_count": null,
   "id": "7fcd1a52-64a6-4b99-afd0-e135e49fab33",
   "metadata": {},
   "outputs": [],
   "source": [
    "### Step 7 ## Real Long Term Bond Rate\n",
    "## wrong years\n",
    "\n",
    "df7.info()\n",
    "df7.head()"
   ]
  },
  {
   "cell_type": "code",
   "execution_count": null,
   "id": "abc83acc-ae22-4db9-9c91-8b89d09983e2",
   "metadata": {},
   "outputs": [],
   "source": [
    "### Step 8 ## Short Term Bond Rate\t\n",
    "## quarterly numbers\n",
    "\n",
    "df8.info()\n",
    "df8.head()"
   ]
  },
  {
   "cell_type": "code",
   "execution_count": 207,
   "id": "fb20c7b5-844d-44d9-b2bd-eddd5b6fbd1b",
   "metadata": {},
   "outputs": [
    {
     "name": "stdout",
     "output_type": "stream",
     "text": [
      "<class 'pandas.core.frame.DataFrame'>\n",
      "RangeIndex: 54 entries, 0 to 53\n",
      "Data columns (total 2 columns):\n",
      " #   Column  Non-Null Count  Dtype         \n",
      "---  ------  --------------  -----         \n",
      " 0   Date    54 non-null     datetime64[ns]\n",
      " 1   K       54 non-null     float64       \n",
      "dtypes: datetime64[ns](1), float64(1)\n",
      "memory usage: 996.0 bytes\n"
     ]
    }
   ],
   "source": [
    "### Step 9 ## Capital Stock at Constant National Prices\n",
    "## in USD\n",
    "## quarterly numbers\n",
    "\n",
    "data = FredReader(symbols=['NCPRNSAXDCSAQ'], start='2010', end=None).read()\n",
    "data.to_csv('Cap_stock_at_Constant_National_Prices_USD.csv')\n",
    "\n",
    "# Read the CSV file and parse 'DATE' as datetime\n",
    "df9 = pd.read_csv('Cap_stock_at_Constant_National_Prices_USD.csv', parse_dates=['DATE'])\n",
    "\n",
    "# save for merging later \n",
    "df9.to_csv('Cap_stock_at_Constant_National_Prices_USD.csv', index=False)\n",
    "\n",
    "# Rename the columns\n",
    "df9.columns = ['Date', 'K']\n",
    "\n",
    "# Display the DataFrame\n",
    "df9.head()\n",
    "df9.info()\n"
   ]
  },
  {
   "cell_type": "code",
   "execution_count": 208,
   "id": "1f393442-9c6d-4d18-b26f-aa00045dbe6d",
   "metadata": {},
   "outputs": [
    {
     "name": "stdout",
     "output_type": "stream",
     "text": [
      "<class 'pandas.core.frame.DataFrame'>\n",
      "RangeIndex: 13 entries, 0 to 12\n",
      "Data columns (total 2 columns):\n",
      " #   Column  Non-Null Count  Dtype         \n",
      "---  ------  --------------  -----         \n",
      " 0   Date    13 non-null     datetime64[ns]\n",
      " 1   CA      13 non-null     float64       \n",
      "dtypes: datetime64[ns](1), float64(1)\n",
      "memory usage: 340.0 bytes\n"
     ]
    },
    {
     "data": {
      "text/html": [
       "<div>\n",
       "<style scoped>\n",
       "    .dataframe tbody tr th:only-of-type {\n",
       "        vertical-align: middle;\n",
       "    }\n",
       "\n",
       "    .dataframe tbody tr th {\n",
       "        vertical-align: top;\n",
       "    }\n",
       "\n",
       "    .dataframe thead th {\n",
       "        text-align: right;\n",
       "    }\n",
       "</style>\n",
       "<table border=\"1\" class=\"dataframe\">\n",
       "  <thead>\n",
       "    <tr style=\"text-align: right;\">\n",
       "      <th></th>\n",
       "      <th>Date</th>\n",
       "      <th>CA</th>\n",
       "    </tr>\n",
       "  </thead>\n",
       "  <tbody>\n",
       "    <tr>\n",
       "      <th>0</th>\n",
       "      <td>2022-01-01</td>\n",
       "      <td>13.604047</td>\n",
       "    </tr>\n",
       "    <tr>\n",
       "      <th>1</th>\n",
       "      <td>2021-01-01</td>\n",
       "      <td>5.102952</td>\n",
       "    </tr>\n",
       "    <tr>\n",
       "      <th>2</th>\n",
       "      <td>2020-01-01</td>\n",
       "      <td>-3.107060</td>\n",
       "    </tr>\n",
       "    <tr>\n",
       "      <th>3</th>\n",
       "      <td>2019-01-01</td>\n",
       "      <td>4.558965</td>\n",
       "    </tr>\n",
       "    <tr>\n",
       "      <th>4</th>\n",
       "      <td>2018-01-01</td>\n",
       "      <td>8.501446</td>\n",
       "    </tr>\n",
       "  </tbody>\n",
       "</table>\n",
       "</div>"
      ],
      "text/plain": [
       "        Date         CA\n",
       "0 2022-01-01  13.604047\n",
       "1 2021-01-01   5.102952\n",
       "2 2020-01-01  -3.107060\n",
       "3 2019-01-01   4.558965\n",
       "4 2018-01-01   8.501446"
      ]
     },
     "execution_count": 208,
     "metadata": {},
     "output_type": "execute_result"
    }
   ],
   "source": [
    "### Step 10 ## Current Account\tBN.CAB.XOKA.GD.ZS\n",
    "#Current account balance % of GDP, Annual\n",
    "\n",
    "## data is in percent\n",
    "\n",
    "import pandas as pd\n",
    "import pandas_datareader.wb as wb\n",
    "\n",
    "# Define the World Bank indicator code for \"Gross Fixed Capital Formation\"\n",
    "indicator_code = 'BN.CAB.XOKA.GD.ZS'\n",
    "\n",
    "# Define the countries and time period you are interested in (only Saudi Arabia in this case)\n",
    "countries = ['SA']\n",
    "start_date = '2010-01-01'\n",
    "end_date = '2023-12-31'\n",
    "\n",
    "# Fetch World Bank data using the pandas_datareader library\n",
    "world_bank_data = wb.download(indicator=indicator_code, country=countries, start=start_date, end=end_date)\n",
    "\n",
    "# Reset index to make 'Date' a column\n",
    "world_bank_data.reset_index(inplace=True)\n",
    "\n",
    "# Drop 'country' column\n",
    "world_bank_data.drop('country', axis=1, inplace=True)\n",
    "\n",
    "# Rename 'year' column to 'Date'\n",
    "world_bank_data.rename(columns={'year': 'Date', 'BN.CAB.XOKA.GD.ZS': 'CA'}, inplace=True)\n",
    "world_bank_data['Date'] = pd.to_datetime(world_bank_data['Date'])  # Fix: use 'year' instead of 'Date'\n",
    "\n",
    "df10 = world_bank_data.copy()\n",
    "df10.info()\n",
    "df10.head()"
   ]
  },
  {
   "cell_type": "code",
   "execution_count": null,
   "id": "e8144bde-becd-46ee-999a-5436e57127fb",
   "metadata": {},
   "outputs": [],
   "source": [
    "### Step 10.2 ## Current Account\tBN.CAB.XOKA.GD.ZS\n",
    "#Current account balance % of GDP, Annual\n",
    "\n",
    "## change to quarterly\n"
   ]
  },
  {
   "cell_type": "code",
   "execution_count": 209,
   "id": "60daaf1e-7a2b-4433-9885-42564640e4fb",
   "metadata": {},
   "outputs": [
    {
     "name": "stdout",
     "output_type": "stream",
     "text": [
      "<class 'pandas.core.frame.DataFrame'>\n",
      "RangeIndex: 13 entries, 0 to 12\n",
      "Data columns (total 2 columns):\n",
      " #   Column  Non-Null Count  Dtype         \n",
      "---  ------  --------------  -----         \n",
      " 0   Date    13 non-null     datetime64[ns]\n",
      " 1   CPI     13 non-null     float64       \n",
      "dtypes: datetime64[ns](1), float64(1)\n",
      "memory usage: 340.0 bytes\n"
     ]
    },
    {
     "data": {
      "text/html": [
       "<div>\n",
       "<style scoped>\n",
       "    .dataframe tbody tr th:only-of-type {\n",
       "        vertical-align: middle;\n",
       "    }\n",
       "\n",
       "    .dataframe tbody tr th {\n",
       "        vertical-align: top;\n",
       "    }\n",
       "\n",
       "    .dataframe thead th {\n",
       "        text-align: right;\n",
       "    }\n",
       "</style>\n",
       "<table border=\"1\" class=\"dataframe\">\n",
       "  <thead>\n",
       "    <tr style=\"text-align: right;\">\n",
       "      <th></th>\n",
       "      <th>Date</th>\n",
       "      <th>CPI</th>\n",
       "    </tr>\n",
       "  </thead>\n",
       "  <tbody>\n",
       "    <tr>\n",
       "      <th>0</th>\n",
       "      <td>2022-01-01</td>\n",
       "      <td>2.474074</td>\n",
       "    </tr>\n",
       "    <tr>\n",
       "      <th>1</th>\n",
       "      <td>2021-01-01</td>\n",
       "      <td>3.063290</td>\n",
       "    </tr>\n",
       "    <tr>\n",
       "      <th>2</th>\n",
       "      <td>2020-01-01</td>\n",
       "      <td>3.445458</td>\n",
       "    </tr>\n",
       "    <tr>\n",
       "      <th>3</th>\n",
       "      <td>2019-01-01</td>\n",
       "      <td>-2.093333</td>\n",
       "    </tr>\n",
       "    <tr>\n",
       "      <th>4</th>\n",
       "      <td>2018-01-01</td>\n",
       "      <td>2.458142</td>\n",
       "    </tr>\n",
       "  </tbody>\n",
       "</table>\n",
       "</div>"
      ],
      "text/plain": [
       "        Date       CPI\n",
       "0 2022-01-01  2.474074\n",
       "1 2021-01-01  3.063290\n",
       "2 2020-01-01  3.445458\n",
       "3 2019-01-01 -2.093333\n",
       "4 2018-01-01  2.458142"
      ]
     },
     "execution_count": 209,
     "metadata": {},
     "output_type": "execute_result"
    }
   ],
   "source": [
    "### Step 11 ## Consumer Prices\tFP.CPI.TOTL.ZG\n",
    "#Current account balance % of GDP, Annual\n",
    "\n",
    "## data is in percent\n",
    "\n",
    "import pandas as pd\n",
    "import pandas_datareader.wb as wb\n",
    "\n",
    "# Define the World Bank indicator code for \"Gross Fixed Capital Formation\"\n",
    "indicator_code = 'FP.CPI.TOTL.ZG'\n",
    "\n",
    "# Define the countries and time period you are interested in (only Saudi Arabia in this case)\n",
    "countries = ['SA']\n",
    "start_date = '2010-01-01'\n",
    "end_date = '2023-12-31'\n",
    "\n",
    "# Fetch World Bank data using the pandas_datareader library\n",
    "world_bank_data = wb.download(indicator=indicator_code, country=countries, start=start_date, end=end_date)\n",
    "\n",
    "# Reset index to make 'Date' a column\n",
    "world_bank_data.reset_index(inplace=True)\n",
    "\n",
    "# Drop 'country' column\n",
    "world_bank_data.drop('country', axis=1, inplace=True)\n",
    "\n",
    "# Rename 'year' column to 'Date'\n",
    "world_bank_data.rename(columns={'year': 'Date', 'FP.CPI.TOTL.ZG': 'CPI'}, inplace=True)\n",
    "world_bank_data['Date'] = pd.to_datetime(world_bank_data['Date'])  # Fix: use 'year' instead of 'Date'\n",
    "\n",
    "df11 = world_bank_data.copy()\n",
    "df11.info()\n",
    "df11.head()"
   ]
  },
  {
   "cell_type": "code",
   "execution_count": null,
   "id": "89568af7-69db-43f0-8225-db0dbe75f49c",
   "metadata": {},
   "outputs": [],
   "source": [
    "### Step 11.2 ## Consumer Prices\tFP.CPI.TOTL.ZG\n",
    "\n",
    "## change to quarterly\n"
   ]
  },
  {
   "cell_type": "code",
   "execution_count": 213,
   "id": "97935aea-1519-4e12-83ad-adde65b266d4",
   "metadata": {},
   "outputs": [
    {
     "name": "stdout",
     "output_type": "stream",
     "text": [
      "Requirement already satisfied: wbgapi in c:\\users\\mauri\\miniconda3\\envs\\econ\\lib\\site-packages (1.0.12)\n",
      "Requirement already satisfied: requests in c:\\users\\mauri\\miniconda3\\envs\\econ\\lib\\site-packages (from wbgapi) (2.31.0)\n",
      "Requirement already satisfied: PyYAML in c:\\users\\mauri\\miniconda3\\envs\\econ\\lib\\site-packages (from wbgapi) (6.0.1)\n",
      "Requirement already satisfied: tabulate in c:\\users\\mauri\\miniconda3\\envs\\econ\\lib\\site-packages (from wbgapi) (0.9.0)\n",
      "Requirement already satisfied: charset-normalizer<4,>=2 in c:\\users\\mauri\\miniconda3\\envs\\econ\\lib\\site-packages (from requests->wbgapi) (3.2.0)\n",
      "Requirement already satisfied: idna<4,>=2.5 in c:\\users\\mauri\\miniconda3\\envs\\econ\\lib\\site-packages (from requests->wbgapi) (3.4)\n",
      "Requirement already satisfied: urllib3<3,>=1.21.1 in c:\\users\\mauri\\miniconda3\\envs\\econ\\lib\\site-packages (from requests->wbgapi) (2.0.5)\n",
      "Requirement already satisfied: certifi>=2017.4.17 in c:\\users\\mauri\\miniconda3\\envs\\econ\\lib\\site-packages (from requests->wbgapi) (2023.7.22)\n"
     ]
    },
    {
     "data": {
      "text/html": [
       "<div class=\"wbgapi\"><table>\n",
       "<thead>\n",
       "<tr><th>id  </th><th>name                                                                </th><th>code  </th><th style=\"text-align: right;\">  concepts</th><th>lastupdated  </th></tr>\n",
       "</thead>\n",
       "<tbody>\n",
       "<tr><td>1   </td><td>Doing Business                                                      </td><td>DBS   </td><td style=\"text-align: right;\">         3</td><td>2021-08-18   </td></tr>\n",
       "<tr><td>2   </td><td>World Development Indicators                                        </td><td>WDI   </td><td style=\"text-align: right;\">         3</td><td>2023-10-26   </td></tr>\n",
       "<tr><td>3   </td><td>Worldwide Governance Indicators                                     </td><td>WGI   </td><td style=\"text-align: right;\">         3</td><td>2023-09-29   </td></tr>\n",
       "<tr><td>5   </td><td>Subnational Malnutrition Database                                   </td><td>SNM   </td><td style=\"text-align: right;\">         3</td><td>2016-03-21   </td></tr>\n",
       "<tr><td>6   </td><td>International Debt Statistics                                       </td><td>IDS   </td><td style=\"text-align: right;\">         4</td><td>2023-12-13   </td></tr>\n",
       "<tr><td>11  </td><td>Africa Development Indicators                                       </td><td>ADI   </td><td style=\"text-align: right;\">         3</td><td>2013-02-22   </td></tr>\n",
       "<tr><td>12  </td><td>Education Statistics                                                </td><td>EDS   </td><td style=\"text-align: right;\">         3</td><td>2023-10-12   </td></tr>\n",
       "<tr><td>13  </td><td>Enterprise Surveys                                                  </td><td>ESY   </td><td style=\"text-align: right;\">         3</td><td>2022-03-25   </td></tr>\n",
       "<tr><td>14  </td><td>Gender Statistics                                                   </td><td>GDS   </td><td style=\"text-align: right;\">         3</td><td>2023-10-30   </td></tr>\n",
       "<tr><td>15  </td><td>Global Economic Monitor                                             </td><td>GEM   </td><td style=\"text-align: right;\">         3</td><td>2023-11-29   </td></tr>\n",
       "<tr><td>16  </td><td>Health Nutrition and Population Statistics                          </td><td>HNP   </td><td style=\"text-align: right;\">         3</td><td>2023-09-21   </td></tr>\n",
       "<tr><td>18  </td><td>IDA Results Measurement System                                      </td><td>IDA   </td><td style=\"text-align: right;\">         3</td><td>2021-07-23   </td></tr>\n",
       "<tr><td>19  </td><td>Millennium Development Goals                                        </td><td>MDG   </td><td style=\"text-align: right;\">         3</td><td>2018-09-19   </td></tr>\n",
       "<tr><td>20  </td><td>Quarterly Public Sector Debt                                        </td><td>PSD   </td><td style=\"text-align: right;\">         3</td><td>2023-11-10   </td></tr>\n",
       "<tr><td>22  </td><td>Quarterly External Debt Statistics SDDS                             </td><td>QDS   </td><td style=\"text-align: right;\">         3</td><td>2023-10-31   </td></tr>\n",
       "<tr><td>23  </td><td>Quarterly External Debt Statistics GDDS                             </td><td>QDG   </td><td style=\"text-align: right;\">         3</td><td>2023-10-31   </td></tr>\n",
       "<tr><td>25  </td><td>Jobs                                                                </td><td>JOB   </td><td style=\"text-align: right;\">         3</td><td>2022-06-29   </td></tr>\n",
       "<tr><td>27  </td><td>Global Economic Prospects                                           </td><td>GEP   </td><td style=\"text-align: right;\">         3</td><td>2023-06-06   </td></tr>\n",
       "<tr><td>28  </td><td>Global Financial Inclusion                                          </td><td>FDX   </td><td style=\"text-align: right;\">         3</td><td>2023-04-12   </td></tr>\n",
       "<tr><td>29  </td><td>The Atlas of Social Protection: Indicators of Resilience and Equity </td><td>GSP   </td><td style=\"text-align: right;\">         3</td><td>2023-05-23   </td></tr>\n",
       "<tr><td>30  </td><td>Exporter Dynamics Database – Indicators at Country-Year Level       </td><td>ED1   </td><td style=\"text-align: right;\">         3</td><td>2016-03-31   </td></tr>\n",
       "<tr><td>31  </td><td>Country Policy and Institutional Assessment                         </td><td>CPI   </td><td style=\"text-align: right;\">         3</td><td>2023-07-24   </td></tr>\n",
       "<tr><td>32  </td><td>Global Financial Development                                        </td><td>GFD   </td><td style=\"text-align: right;\">         3</td><td>2022-09-23   </td></tr>\n",
       "<tr><td>33  </td><td>G20 Financial Inclusion Indicators                                  </td><td>G2F   </td><td style=\"text-align: right;\">         3</td><td>2019-02-27   </td></tr>\n",
       "<tr><td>34  </td><td>Global Partnership for Education                                    </td><td>GPE   </td><td style=\"text-align: right;\">         3</td><td>2013-04-12   </td></tr>\n",
       "<tr><td>35  </td><td>Sustainable Energy for All                                          </td><td>SE4   </td><td style=\"text-align: right;\">         3</td><td>2018-06-30   </td></tr>\n",
       "<tr><td>37  </td><td>LAC Equity Lab                                                      </td><td>LEL   </td><td style=\"text-align: right;\">         3</td><td>2016-04-06   </td></tr>\n",
       "<tr><td>38  </td><td>Subnational Poverty                                                 </td><td>SNP   </td><td style=\"text-align: right;\">         3</td><td>2015-04-27   </td></tr>\n",
       "<tr><td>39  </td><td>Health Nutrition and Population Statistics by Wealth Quintile       </td><td>HNQ   </td><td style=\"text-align: right;\">         3</td><td>2022-12-13   </td></tr>\n",
       "<tr><td>40  </td><td>Population estimates and projections                                </td><td>HPP   </td><td style=\"text-align: right;\">         3</td><td>2023-07-05   </td></tr>\n",
       "<tr><td>41  </td><td>Country Partnership Strategy for India (FY2013 - 17)                </td><td>CPS   </td><td style=\"text-align: right;\">         3</td><td>2015-05-22   </td></tr>\n",
       "<tr><td>43  </td><td>Adjusted Net Savings                                                </td><td>WAT   </td><td style=\"text-align: right;\">         3</td><td>2023-06-08   </td></tr>\n",
       "<tr><td>45  </td><td>Indonesia Database for Policy and Economic Research                 </td><td>IDD   </td><td style=\"text-align: right;\">         3</td><td>2022-08-11   </td></tr>\n",
       "<tr><td>46  </td><td>Sustainable Development Goals                                       </td><td>SDG   </td><td style=\"text-align: right;\">         3</td><td>2022-07-22   </td></tr>\n",
       "<tr><td>50  </td><td>Subnational Population                                              </td><td>SNT   </td><td style=\"text-align: right;\">         3</td><td>2017-09-21   </td></tr>\n",
       "<tr><td>54  </td><td>Joint External Debt Hub                                             </td><td>JED   </td><td style=\"text-align: right;\">         3</td><td>2023-09-13   </td></tr>\n",
       "<tr><td>57  </td><td>WDI Database Archives                                               </td><td>WDA   </td><td style=\"text-align: right;\">         4</td><td>2023-08-10   </td></tr>\n",
       "<tr><td>58  </td><td>Universal Health Coverage                                           </td><td>UHC   </td><td style=\"text-align: right;\">         3</td><td>2019-04-25   </td></tr>\n",
       "<tr><td>59  </td><td>Wealth Accounts                                                     </td><td>WAC   </td><td style=\"text-align: right;\">         3</td><td>2021-10-27   </td></tr>\n",
       "<tr><td>60  </td><td>Economic Fitness                                                    </td><td>EFT   </td><td style=\"text-align: right;\">         3</td><td>2018-04-19   </td></tr>\n",
       "<tr><td>61  </td><td>PPPs Regulatory Quality                                             </td><td>PRQ   </td><td style=\"text-align: right;\">         3</td><td>2019-04-25   </td></tr>\n",
       "<tr><td>62  </td><td>International Comparison Program (ICP) 2011                         </td><td>ICP   </td><td style=\"text-align: right;\">         4</td><td>2020-08-24   </td></tr>\n",
       "<tr><td>63  </td><td>Human Capital Index                                                 </td><td>HCI   </td><td style=\"text-align: right;\">         3</td><td>2020-09-21   </td></tr>\n",
       "<tr><td>64  </td><td>Worldwide Bureaucracy Indicators                                    </td><td>WBI   </td><td style=\"text-align: right;\">         3</td><td>2022-09-20   </td></tr>\n",
       "<tr><td>65  </td><td>Health Equity and Financial Protection Indicators                   </td><td>HPI   </td><td style=\"text-align: right;\">         3</td><td>2019-11-06   </td></tr>\n",
       "<tr><td>66  </td><td>Logistics Performance Index                                         </td><td>LPI   </td><td style=\"text-align: right;\">         3</td><td>2019-10-29   </td></tr>\n",
       "<tr><td>67  </td><td>PEFA 2011                                                           </td><td>PF1   </td><td style=\"text-align: right;\">         4</td><td>2022-11-23   </td></tr>\n",
       "<tr><td>68  </td><td>PEFA 2016                                                           </td><td>PF6   </td><td style=\"text-align: right;\">         4</td><td>2023-10-27   </td></tr>\n",
       "<tr><td>69  </td><td>Global Financial Inclusion and Consumer Protection Survey           </td><td>RFA   </td><td style=\"text-align: right;\">         3</td><td>2019-06-27   </td></tr>\n",
       "<tr><td>70  </td><td>Economic Fitness 2                                                  </td><td>EF2   </td><td style=\"text-align: right;\">         3</td><td>2022-07-21   </td></tr>\n",
       "<tr><td>71  </td><td>International Comparison Program (ICP) 2005                         </td><td>IC5   </td><td style=\"text-align: right;\">         4</td><td>2021-09-10   </td></tr>\n",
       "<tr><td>73  </td><td>Global Financial Inclusion and Consumer Protection Survey (Internal)</td><td>RFI   </td><td style=\"text-align: right;\">         3</td><td>2019-06-27   </td></tr>\n",
       "<tr><td>75  </td><td>Environment, Social and Governance (ESG) Data                       </td><td>ESG   </td><td style=\"text-align: right;\">         3</td><td>2023-10-02   </td></tr>\n",
       "<tr><td>76  </td><td>Remittance Prices Worldwide (Sending Countries)                     </td><td>RWS   </td><td style=\"text-align: right;\">         3</td><td>2020-12-07   </td></tr>\n",
       "<tr><td>77  </td><td>Remittance Prices Worldwide (Receiving Countries)                   </td><td>RWR   </td><td style=\"text-align: right;\">         3</td><td>2020-12-07   </td></tr>\n",
       "<tr><td>78  </td><td>ICP 2017                                                            </td><td>IC7   </td><td style=\"text-align: right;\">         4</td><td>2020-10-21   </td></tr>\n",
       "<tr><td>79  </td><td>PEFA_GRPFM                                                          </td><td>GRP   </td><td style=\"text-align: right;\">         4</td><td>2023-11-28   </td></tr>\n",
       "<tr><td>80  </td><td>Gender Disaggregated Labor Database (GDLD)                          </td><td>GDL   </td><td style=\"text-align: right;\">         4</td><td>2020-07-25   </td></tr>\n",
       "<tr><td>81  </td><td>International Debt Statistics: DSSI                                 </td><td>DSI   </td><td style=\"text-align: right;\">         4</td><td>2023-12-12   </td></tr>\n",
       "<tr><td>82  </td><td>Global Public Procurement                                           </td><td>GPP   </td><td style=\"text-align: right;\">         3</td><td>2021-03-24   </td></tr>\n",
       "<tr><td>83  </td><td>Statistical Performance Indicators (SPI)                            </td><td>SPI   </td><td style=\"text-align: right;\">         3</td><td>2021-04-01   </td></tr>\n",
       "<tr><td>84  </td><td>Education Policy                                                    </td><td>EDP   </td><td style=\"text-align: right;\">         3</td><td>2023-01-30   </td></tr>\n",
       "<tr><td>85  </td><td>PEFA_2021_SNG                                                       </td><td>SNG   </td><td style=\"text-align: right;\">         4</td><td>2023-11-27   </td></tr>\n",
       "<tr><td>86  </td><td>Global Jobs Indicators Database (JOIN)                              </td><td>JON   </td><td style=\"text-align: right;\">         3</td><td>2023-05-22   </td></tr>\n",
       "<tr><td>87  </td><td>Country Climate and Development Report (CCDR)                       </td><td>CCD   </td><td style=\"text-align: right;\">         3</td><td>2022-10-07   </td></tr>\n",
       "<tr><td>88  </td><td>Food Prices for Nutrition                                           </td><td>FPN   </td><td style=\"text-align: right;\">         4</td><td>2023-12-15   </td></tr>\n",
       "<tr><td>89  </td><td>Identification for Development (ID4D) Data                          </td><td>ID4   </td><td style=\"text-align: right;\">         3</td><td>2022-12-21   </td></tr>\n",
       "<tr><td>    </td><td>67 elements                                                         </td><td>      </td><td style=\"text-align: right;\">          </td><td>             </td></tr>\n",
       "</tbody>\n",
       "</table></div>"
      ],
      "text/plain": [
       "id    name                                                                  code      concepts  lastupdated\n",
       "----  --------------------------------------------------------------------  ------  ----------  -------------\n",
       "1     Doing Business                                                        DBS              3  2021-08-18\n",
       "2     World Development Indicators                                          WDI              3  2023-10-26\n",
       "3     Worldwide Governance Indicators                                       WGI              3  2023-09-29\n",
       "5     Subnational Malnutrition Database                                     SNM              3  2016-03-21\n",
       "6     International Debt Statistics                                         IDS              4  2023-12-13\n",
       "11    Africa Development Indicators                                         ADI              3  2013-02-22\n",
       "12    Education Statistics                                                  EDS              3  2023-10-12\n",
       "13    Enterprise Surveys                                                    ESY              3  2022-03-25\n",
       "14    Gender Statistics                                                     GDS              3  2023-10-30\n",
       "15    Global Economic Monitor                                               GEM              3  2023-11-29\n",
       "16    Health Nutrition and Population Statistics                            HNP              3  2023-09-21\n",
       "18    IDA Results Measurement System                                        IDA              3  2021-07-23\n",
       "19    Millennium Development Goals                                          MDG              3  2018-09-19\n",
       "20    Quarterly Public Sector Debt                                          PSD              3  2023-11-10\n",
       "22    Quarterly External Debt Statistics SDDS                               QDS              3  2023-10-31\n",
       "23    Quarterly External Debt Statistics GDDS                               QDG              3  2023-10-31\n",
       "25    Jobs                                                                  JOB              3  2022-06-29\n",
       "27    Global Economic Prospects                                             GEP              3  2023-06-06\n",
       "28    Global Financial Inclusion                                            FDX              3  2023-04-12\n",
       "29    The Atlas of Social Protection: Indicators of Resilience and Equity   GSP              3  2023-05-23\n",
       "30    Exporter Dynamics Database – Indicators at Country-Year Level         ED1              3  2016-03-31\n",
       "31    Country Policy and Institutional Assessment                           CPI              3  2023-07-24\n",
       "32    Global Financial Development                                          GFD              3  2022-09-23\n",
       "33    G20 Financial Inclusion Indicators                                    G2F              3  2019-02-27\n",
       "34    Global Partnership for Education                                      GPE              3  2013-04-12\n",
       "35    Sustainable Energy for All                                            SE4              3  2018-06-30\n",
       "37    LAC Equity Lab                                                        LEL              3  2016-04-06\n",
       "38    Subnational Poverty                                                   SNP              3  2015-04-27\n",
       "39    Health Nutrition and Population Statistics by Wealth Quintile         HNQ              3  2022-12-13\n",
       "40    Population estimates and projections                                  HPP              3  2023-07-05\n",
       "41    Country Partnership Strategy for India (FY2013 - 17)                  CPS              3  2015-05-22\n",
       "43    Adjusted Net Savings                                                  WAT              3  2023-06-08\n",
       "45    Indonesia Database for Policy and Economic Research                   IDD              3  2022-08-11\n",
       "46    Sustainable Development Goals                                         SDG              3  2022-07-22\n",
       "50    Subnational Population                                                SNT              3  2017-09-21\n",
       "54    Joint External Debt Hub                                               JED              3  2023-09-13\n",
       "57    WDI Database Archives                                                 WDA              4  2023-08-10\n",
       "58    Universal Health Coverage                                             UHC              3  2019-04-25\n",
       "59    Wealth Accounts                                                       WAC              3  2021-10-27\n",
       "60    Economic Fitness                                                      EFT              3  2018-04-19\n",
       "61    PPPs Regulatory Quality                                               PRQ              3  2019-04-25\n",
       "62    International Comparison Program (ICP) 2011                           ICP              4  2020-08-24\n",
       "63    Human Capital Index                                                   HCI              3  2020-09-21\n",
       "64    Worldwide Bureaucracy Indicators                                      WBI              3  2022-09-20\n",
       "65    Health Equity and Financial Protection Indicators                     HPI              3  2019-11-06\n",
       "66    Logistics Performance Index                                           LPI              3  2019-10-29\n",
       "67    PEFA 2011                                                             PF1              4  2022-11-23\n",
       "68    PEFA 2016                                                             PF6              4  2023-10-27\n",
       "69    Global Financial Inclusion and Consumer Protection Survey             RFA              3  2019-06-27\n",
       "70    Economic Fitness 2                                                    EF2              3  2022-07-21\n",
       "71    International Comparison Program (ICP) 2005                           IC5              4  2021-09-10\n",
       "73    Global Financial Inclusion and Consumer Protection Survey (Internal)  RFI              3  2019-06-27\n",
       "75    Environment, Social and Governance (ESG) Data                         ESG              3  2023-10-02\n",
       "76    Remittance Prices Worldwide (Sending Countries)                       RWS              3  2020-12-07\n",
       "77    Remittance Prices Worldwide (Receiving Countries)                     RWR              3  2020-12-07\n",
       "78    ICP 2017                                                              IC7              4  2020-10-21\n",
       "79    PEFA_GRPFM                                                            GRP              4  2023-11-28\n",
       "80    Gender Disaggregated Labor Database (GDLD)                            GDL              4  2020-07-25\n",
       "81    International Debt Statistics: DSSI                                   DSI              4  2023-12-12\n",
       "82    Global Public Procurement                                             GPP              3  2021-03-24\n",
       "83    Statistical Performance Indicators (SPI)                              SPI              3  2021-04-01\n",
       "84    Education Policy                                                      EDP              3  2023-01-30\n",
       "85    PEFA_2021_SNG                                                         SNG              4  2023-11-27\n",
       "86    Global Jobs Indicators Database (JOIN)                                JON              3  2023-05-22\n",
       "87    Country Climate and Development Report (CCDR)                         CCD              3  2022-10-07\n",
       "88    Food Prices for Nutrition                                             FPN              4  2023-12-15\n",
       "89    Identification for Development (ID4D) Data                            ID4              3  2022-12-21\n",
       "      67 elements"
      ]
     },
     "execution_count": 213,
     "metadata": {},
     "output_type": "execute_result"
    }
   ],
   "source": [
    "### Step 13 ## Oil prices  Prices\n",
    "\n",
    "!pip install wbgapi \n",
    "import wbgapi as wb\n",
    "wb.source.info()\n"
   ]
  },
  {
   "cell_type": "code",
   "execution_count": 281,
   "id": "97dbc5f2",
   "metadata": {
    "scrolled": true
   },
   "outputs": [
    {
     "data": {
      "text/html": [
       "<div>\n",
       "<style scoped>\n",
       "    .dataframe tbody tr th:only-of-type {\n",
       "        vertical-align: middle;\n",
       "    }\n",
       "\n",
       "    .dataframe tbody tr th {\n",
       "        vertical-align: top;\n",
       "    }\n",
       "\n",
       "    .dataframe thead th {\n",
       "        text-align: right;\n",
       "    }\n",
       "</style>\n",
       "<table border=\"1\" class=\"dataframe\">\n",
       "  <thead>\n",
       "    <tr style=\"text-align: right;\">\n",
       "      <th></th>\n",
       "      <th>Date</th>\n",
       "      <th>Oil</th>\n",
       "    </tr>\n",
       "  </thead>\n",
       "  <tbody>\n",
       "    <tr>\n",
       "      <th>0</th>\n",
       "      <td>2010-01-01</td>\n",
       "      <td>NaN</td>\n",
       "    </tr>\n",
       "    <tr>\n",
       "      <th>1</th>\n",
       "      <td>2010-01-04</td>\n",
       "      <td>81.52</td>\n",
       "    </tr>\n",
       "    <tr>\n",
       "      <th>2</th>\n",
       "      <td>2010-01-05</td>\n",
       "      <td>81.74</td>\n",
       "    </tr>\n",
       "    <tr>\n",
       "      <th>3</th>\n",
       "      <td>2010-01-06</td>\n",
       "      <td>83.12</td>\n",
       "    </tr>\n",
       "    <tr>\n",
       "      <th>4</th>\n",
       "      <td>2010-01-07</td>\n",
       "      <td>82.60</td>\n",
       "    </tr>\n",
       "  </tbody>\n",
       "</table>\n",
       "</div>"
      ],
      "text/plain": [
       "        Date    Oil\n",
       "0 2010-01-01    NaN\n",
       "1 2010-01-04  81.52\n",
       "2 2010-01-05  81.74\n",
       "3 2010-01-06  83.12\n",
       "4 2010-01-07  82.60"
      ]
     },
     "execution_count": 281,
     "metadata": {},
     "output_type": "execute_result"
    }
   ],
   "source": [
    "### Step 13 ## Oil prices  Prices\n",
    "\n",
    "## in USD\n",
    "## weekly numbers\n",
    "\n",
    "data = FredReader(symbols=['DCOILWTICO'], start='2010', end=None).read()\n",
    "data.to_csv('Cruide_oil_barrel_USD.csv')\n",
    "\n",
    "# Read the CSV file and parse 'DATE' as datetime\n",
    "df13 = pd.read_csv('Cruide_oil_barrel_USD.csv', parse_dates=['DATE'])\n",
    "\n",
    "# save for merging later \n",
    "df13.to_csv('Cruide_oil_barrel_USD.csv', index=False)\n",
    "\n",
    "# Rename the columns\n",
    "df13.columns = ['Date', 'Oil']\n",
    "\n",
    "# Display the DataFrame\n",
    "df13.head()\n"
   ]
  },
  {
   "cell_type": "code",
   "execution_count": 282,
   "id": "e9d9fb6e-eb0e-4ce5-a261-f418f3d84114",
   "metadata": {},
   "outputs": [],
   "source": [
    "### step 13 # handle missing values\n",
    "df13['Date'] = pd.to_datetime(df13['Date'])\n",
    "df13.set_index('Date', inplace=True)\n",
    "df13_filled = df13.fillna((df13.ffill() + df13.bfill()) / 2)"
   ]
  },
  {
   "cell_type": "code",
   "execution_count": 283,
   "id": "3055e293-f7a5-4f25-8dc4-ccfe7eb084bd",
   "metadata": {},
   "outputs": [],
   "source": [
    "### Step 13 ## Oil prices  Prices change to quarterly\n",
    "df13_quarterly = df13_filled.resample('Q').mean()\n",
    "\n",
    "## in USD\n",
    "## weekly numbers"
   ]
  },
  {
   "cell_type": "code",
   "execution_count": 284,
   "id": "194c6d51-6b4b-44d4-a12a-94bcf5c10e95",
   "metadata": {},
   "outputs": [
    {
     "name": "stderr",
     "output_type": "stream",
     "text": [
      "C:\\Users\\mauri\\miniconda3\\envs\\econ\\Lib\\site-packages\\matplotlib\\axis.py:1769: FutureWarning: Period with BDay freq is deprecated and will be removed in a future version. Use a DatetimeIndex with BDay freq instead.\n",
      "  ret = self.converter.convert(x, self.units, self)\n",
      "C:\\Users\\mauri\\miniconda3\\envs\\econ\\Lib\\site-packages\\matplotlib\\axis.py:1769: FutureWarning: PeriodDtype[B] is deprecated and will be removed in a future version. Use a DatetimeIndex with freq='B' instead\n",
      "  ret = self.converter.convert(x, self.units, self)\n",
      "C:\\Users\\mauri\\miniconda3\\envs\\econ\\Lib\\site-packages\\matplotlib\\axis.py:1495: FutureWarning: Period with BDay freq is deprecated and will be removed in a future version. Use a DatetimeIndex with BDay freq instead.\n",
      "  return self.major.locator()\n",
      "C:\\Users\\mauri\\miniconda3\\envs\\econ\\Lib\\site-packages\\matplotlib\\axis.py:1495: FutureWarning: PeriodDtype[B] is deprecated and will be removed in a future version. Use a DatetimeIndex with freq='B' instead\n",
      "  return self.major.locator()\n",
      "C:\\Users\\mauri\\miniconda3\\envs\\econ\\Lib\\site-packages\\matplotlib\\ticker.py:216: FutureWarning: Period with BDay freq is deprecated and will be removed in a future version. Use a DatetimeIndex with BDay freq instead.\n",
      "  return [self(value, i) for i, value in enumerate(values)]\n",
      "C:\\Users\\mauri\\AppData\\Local\\Temp\\ipykernel_14004\\1711029499.py:2: FutureWarning: PeriodDtype[B] is deprecated and will be removed in a future version. Use a DatetimeIndex with freq='B' instead\n",
      "  df13_quarterly.Oil.plot(label='Quarterly', legend=True)\n",
      "C:\\Users\\mauri\\miniconda3\\envs\\econ\\Lib\\site-packages\\matplotlib\\axis.py:1769: FutureWarning: PeriodDtype[B] is deprecated and will be removed in a future version. Use a DatetimeIndex with freq='B' instead\n",
      "  ret = self.converter.convert(x, self.units, self)\n",
      "C:\\Users\\mauri\\miniconda3\\envs\\econ\\Lib\\site-packages\\matplotlib\\axis.py:1495: FutureWarning: Period with BDay freq is deprecated and will be removed in a future version. Use a DatetimeIndex with BDay freq instead.\n",
      "  return self.major.locator()\n",
      "C:\\Users\\mauri\\miniconda3\\envs\\econ\\Lib\\site-packages\\matplotlib\\axis.py:1495: FutureWarning: PeriodDtype[B] is deprecated and will be removed in a future version. Use a DatetimeIndex with freq='B' instead\n",
      "  return self.major.locator()\n",
      "C:\\Users\\mauri\\miniconda3\\envs\\econ\\Lib\\site-packages\\matplotlib\\ticker.py:216: FutureWarning: Period with BDay freq is deprecated and will be removed in a future version. Use a DatetimeIndex with BDay freq instead.\n",
      "  return [self(value, i) for i, value in enumerate(values)]\n"
     ]
    },
    {
     "data": {
      "text/plain": [
       "<Axes: xlabel='Date'>"
      ]
     },
     "execution_count": 284,
     "metadata": {},
     "output_type": "execute_result"
    },
    {
     "data": {
      "image/png": "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",
      "text/plain": [
       "<Figure size 640x480 with 1 Axes>"
      ]
     },
     "metadata": {},
     "output_type": "display_data"
    }
   ],
   "source": [
    "df13_filled.Oil.plot(label='Weekly', legend=True)\n",
    "df13_quarterly.Oil.plot(label='Quarterly', legend=True)"
   ]
  },
  {
   "cell_type": "code",
   "execution_count": 268,
   "id": "b1eacbbf-0028-4cf0-a112-997b216b65d4",
   "metadata": {},
   "outputs": [
    {
     "ename": "SyntaxError",
     "evalue": "unterminated string literal (detected at line 2) (1107924104.py, line 2)",
     "output_type": "error",
     "traceback": [
      "\u001b[1;36m  Cell \u001b[1;32mIn[268], line 2\u001b[1;36m\u001b[0m\n\u001b[1;33m    wb.series.info(q='\u001b[0m\n\u001b[1;37m                     ^\u001b[0m\n\u001b[1;31mSyntaxError\u001b[0m\u001b[1;31m:\u001b[0m unterminated string literal (detected at line 2)\n"
     ]
    }
   ],
   "source": [
    "wb.economy.metadata.get('SAU')\n",
    "wb.series.info(q='"
   ]
  },
  {
   "cell_type": "markdown",
   "id": "806387e7-7d18-4369-9029-88045ea97c54",
   "metadata": {},
   "source": [
    "### Overview of Data that needs to get imported\n",
    "| Import step | Variable | Variable Name | Shortcut | Note | Source | Link | Date |\n",
    "| --- | --- | --- | --- | --- | --- | --- | --- |\n",
    "| 1 | Yt | Real Gross Domestic Product | NGDPRSAXDCSAQ | Domestic Currency, SA, Quarterly | FRED | [Link](https://fred.stlouisfed.org/series/NGDPRSAXDCSAQ) | 2010 - current |\n",
    "| 2 | C | Real Private Sector Final Consumption Expenditure | NCPRNSAXDCSAQ | Domestic Currency, Not SA, Quarterly | FRED | [Link](https://fred.stlouisfed.org/series/NCPRNSAXDCSAQ) | 2010 - current |\n",
    "| 3 | It | Gross Fixed Capital Formation | NE.GDI.FTOT.CD | Current US Dollar, Annual | WorldBank | [Link](https://data.worldbank.org/indicator/NE.GDI.FTOT.CD?locations=SA) | 1968-2022 |\n",
    "| 4 | TBt | Trade Balance | BN.GSR.GNFS.CD | Net trade in goods and services (BOP, current US$) | World Bank | [Link](https://data.worldbank.org/indicator/BN.GSR.GNFS.CD?locations=SA) | 1971-2022 |\n",
    "| 5 | Nt | Average Hours of Work for Employed Persons | Excel attached | Measures the average weekly working hours of workers (15 years and over) | General Statistics Authority | [Link](https://database.stats.gov.sa/home/indicator/999118) | Q2 2016-Q2 2023 |\n",
    "| 6 | wt | Average Monthly Wages for Paid Employees | Excel attached | The sum of the monthly wages to the total of employed persons for wages | General Statistics Authority | [Link](https://database.stats.gov.sa/home/indicator/999118) | Q2 2016-Q2 2023 |\n",
    "| 7 | Rt | Real Long Term Bond Rate | | 10-year government development bond yield, Quarterly | National Statistics, Saudi Central Bank | [Link](https://www.sama.gov.sa/en-US/GovtSecurity/pages/governmentdevelopmentbonds.aspx), [Specific Bond (19Jan2029)](https://cbonds.com/bonds/461405/) | Q1999-Q32007, Past 3 yrs |\n",
    "| 8 | rt | Short Term Bond Rate | Excel attached | Quarterly average of interbank rate | Saudi Central Bank | [Link](https://www.sama.gov.sa/ar-sa/EconomicReports/Pages/report.aspx?cid=118) | 2007-current |\n",
    "| 9 | Kt | Capital Stock at Constant National Prices | RKNANPSAA666NRUG | Millions of 2017 U.S. Dollars, Not SA, Annual | FRED | [Link](https://fred.stlouisfed.org/series/RKNANPSAA666NRUG) | 1970-2019 |\n",
    "| 10 | CAt | Current Account | BN.CAB.XOKA.GD.ZS | Current account balance % of GDP, Annual | Worldbank | [Link](https://data.worldbank.org/indicator/BN.CAB.XOKA.GD.ZS?locations=SA) | 1970-2018 |\n",
    "| 11 | CPI | Consumer Prices | FP.CPI.TOTL.ZG | % Annual | Worldbank | [Link](https://data.worldbank.org/indicator/FP.CPI.TOTL.ZG?locations=SA) | 1964-2022 |\n",
    "| 12 | ER | Exchange Rate | | The Saudi riyal has been at a fixed rate to the US dollar since June 1986 (SAR 3.7500 per USD) | Constant | - |\n",
    "| 13 | Oil | Crude Oil, Brent Prices | Excel attached | Crude oil, average spot price of Brent, Dubai and West Texas Intermediate, equally weighed, Monthly | Worldbank | [Link](https://www.worldbank.org/en/research/commodity-markets) | 960-current |\n"
   ]
  },
  {
   "cell_type": "code",
   "execution_count": 199,
   "id": "32ba6e29-261b-4bb6-ba66-57efdfbdbaf8",
   "metadata": {},
   "outputs": [],
   "source": [
    "### last step merge all df frames\n",
    "# Merge the first two DataFrames on the 'Date' column\n",
    "df_merged = pd.merge(df1, df2, on='Date')\n",
    "\n",
    "# Merge the result with the third DataFrame ('I_predict') on the 'Date' column\n",
    "df_merged = pd.merge(df_merged, I_predict, on='Date')"
   ]
  },
  {
   "cell_type": "code",
   "execution_count": 201,
   "id": "9646aeb7-bf83-4aa5-9ca8-0073147c4cac",
   "metadata": {
    "scrolled": true
   },
   "outputs": [
    {
     "data": {
      "text/html": [
       "<div>\n",
       "<style scoped>\n",
       "    .dataframe tbody tr th:only-of-type {\n",
       "        vertical-align: middle;\n",
       "    }\n",
       "\n",
       "    .dataframe tbody tr th {\n",
       "        vertical-align: top;\n",
       "    }\n",
       "\n",
       "    .dataframe thead th {\n",
       "        text-align: right;\n",
       "    }\n",
       "</style>\n",
       "<table border=\"1\" class=\"dataframe\">\n",
       "  <thead>\n",
       "    <tr style=\"text-align: right;\">\n",
       "      <th></th>\n",
       "      <th>Date</th>\n",
       "      <th>Y</th>\n",
       "      <th>C</th>\n",
       "      <th>I_pred</th>\n",
       "    </tr>\n",
       "  </thead>\n",
       "  <tbody>\n",
       "    <tr>\n",
       "      <th>0</th>\n",
       "      <td>2010-01-01</td>\n",
       "      <td>472498.1</td>\n",
       "      <td>156759.2</td>\n",
       "      <td>3.226140e+10</td>\n",
       "    </tr>\n",
       "    <tr>\n",
       "      <th>1</th>\n",
       "      <td>2010-04-01</td>\n",
       "      <td>487268.9</td>\n",
       "      <td>164331.8</td>\n",
       "      <td>3.226140e+10</td>\n",
       "    </tr>\n",
       "    <tr>\n",
       "      <th>2</th>\n",
       "      <td>2010-07-01</td>\n",
       "      <td>492963.7</td>\n",
       "      <td>159314.8</td>\n",
       "      <td>3.226140e+10</td>\n",
       "    </tr>\n",
       "    <tr>\n",
       "      <th>3</th>\n",
       "      <td>2010-10-01</td>\n",
       "      <td>521219.1</td>\n",
       "      <td>159011.5</td>\n",
       "      <td>3.226140e+10</td>\n",
       "    </tr>\n",
       "    <tr>\n",
       "      <th>4</th>\n",
       "      <td>2011-01-01</td>\n",
       "      <td>535829.9</td>\n",
       "      <td>159407.9</td>\n",
       "      <td>3.792189e+10</td>\n",
       "    </tr>\n",
       "  </tbody>\n",
       "</table>\n",
       "</div>"
      ],
      "text/plain": [
       "        Date         Y         C        I_pred\n",
       "0 2010-01-01  472498.1  156759.2  3.226140e+10\n",
       "1 2010-04-01  487268.9  164331.8  3.226140e+10\n",
       "2 2010-07-01  492963.7  159314.8  3.226140e+10\n",
       "3 2010-10-01  521219.1  159011.5  3.226140e+10\n",
       "4 2011-01-01  535829.9  159407.9  3.792189e+10"
      ]
     },
     "execution_count": 201,
     "metadata": {},
     "output_type": "execute_result"
    }
   ],
   "source": [
    "df_merged.head()\n"
   ]
  },
  {
   "cell_type": "code",
   "execution_count": null,
   "id": "d7f8dc22-4f07-4eb0-8600-b75eb92c0610",
   "metadata": {},
   "outputs": [],
   "source": []
  }
 ],
 "metadata": {
  "kernelspec": {
   "display_name": "Python 3 (ipykernel)",
   "language": "python",
   "name": "python3"
  },
  "language_info": {
   "codemirror_mode": {
    "name": "ipython",
    "version": 3
   },
   "file_extension": ".py",
   "mimetype": "text/x-python",
   "name": "python",
   "nbconvert_exporter": "python",
   "pygments_lexer": "ipython3",
   "version": "3.11.5"
  }
 },
 "nbformat": 4,
 "nbformat_minor": 5
}
