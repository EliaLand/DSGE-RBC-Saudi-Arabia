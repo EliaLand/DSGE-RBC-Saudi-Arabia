{
 "cells": [
  {
   "cell_type": "code",
   "execution_count": 1,
   "id": "87c64280-d43b-436b-9e5c-b183feed4501",
   "metadata": {},
   "outputs": [],
   "source": [
    "# Basic Rules for data analysis on Python (linked with your GitHub)\n",
    "Disclaimer: we use capital alphabetic letters like X, Y, or Z to indicate names or paths to be substituted \n"
   ]
  },
  {
   "cell_type": "code",
   "execution_count": null,
   "id": "378d7a95-dbcf-4c5c-b769-b6876acf6c67",
   "metadata": {},
   "outputs": [],
   "source": [
    "##1)SET UP"
   ]
  },
  {
   "cell_type": "code",
   "execution_count": null,
   "id": "286401e6-f1f9-4566-b3d1-fba7a38e82fd",
   "metadata": {},
   "outputs": [],
   "source": [
    "###*On ANACONDA PROMPT*"
   ]
  },
  {
   "cell_type": "code",
   "execution_count": null,
   "id": "ebb1f52c-3103-4b15-950b-5d7cae8242ba",
   "metadata": {},
   "outputs": [],
   "source": [
    "####1)create and activate an environment \n",
    "conda create --name X Python==3.8\n",
    "conda activate X"
   ]
  },
  {
   "cell_type": "code",
   "execution_count": null,
   "id": "4fbd0a16-f565-47c1-9336-37c0af952ef9",
   "metadata": {},
   "outputs": [],
   "source": [
    "####2)install GitHub\n",
    "conda install github"
   ]
  },
  {
   "cell_type": "code",
   "execution_count": null,
   "id": "429fc241-66ec-45cc-b7bc-b7aa74e44273",
   "metadata": {},
   "outputs": [],
   "source": [
    "####3)install Jupyter \n",
    "conda install Jupyter \n",
    "jupyter notebook "
   ]
  },
  {
   "cell_type": "code",
   "execution_count": null,
   "id": "8d3f0bae-fdfa-43a6-859b-ce5111815bea",
   "metadata": {},
   "outputs": [],
   "source": [
    "###*On JUPYTER*"
   ]
  },
  {
   "cell_type": "code",
   "execution_count": null,
   "id": "07017f5f-e78f-4e1f-b50b-9732c5111cf5",
   "metadata": {},
   "outputs": [],
   "source": [
    "###4a)create a new jupyter file and move it inside the folder related to"
   ]
  },
  {
   "cell_type": "code",
   "execution_count": null,
   "id": "51a58cfd-3e80-456b-bde4-cf62d0c4c234",
   "metadata": {},
   "outputs": [],
   "source": [
    "####4b)browse and open your target jupyter notebook (or you can also create a new one)"
   ]
  },
  {
   "cell_type": "code",
   "execution_count": null,
   "id": "dd111d3b-c00a-4162-967b-3a22fb742981",
   "metadata": {},
   "outputs": [],
   "source": [
    "####1)login into github \n",
    "!git init\n",
    "!git config --global user.email \"e.lando2001@gmail.com\"\n",
    "!git config --global user.name \"EliaLand\""
   ]
  },
  {
   "cell_type": "code",
   "execution_count": null,
   "id": "58de692c-140b-436d-8d2c-dfba5e763778",
   "metadata": {},
   "outputs": [],
   "source": [
    "####2) open your target file uploaded on GitHhub \n",
    "!git add pathX.ipynb  \n",
    "!git commit -m \"Initial commit\"\n",
    "!git remote add origin https://github.com/EliaLand/repositoryY.git\n",
    "!git push -u origin master  "
   ]
  },
  {
   "cell_type": "code",
   "execution_count": null,
   "id": "5f26f8af-3b8f-4cbf-a227-7adf60c876a6",
   "metadata": {},
   "outputs": [],
   "source": [
    "####3)you can even optionally install some packages (here the most frequent ones)\n",
    "!pip install pandas\n",
    "!pip install pandas_datareader"
   ]
  },
  {
   "cell_type": "code",
   "execution_count": null,
   "id": "6e3f7f3d-7f1b-4760-92ab-a5561c767fba",
   "metadata": {},
   "outputs": [],
   "source": [
    "##2)DATA IMPORT"
   ]
  }
 ],
 "metadata": {
  "kernelspec": {
   "display_name": "Python 3 (ipykernel)",
   "language": "python",
   "name": "python3"
  },
  "language_info": {
   "codemirror_mode": {
    "name": "ipython",
    "version": 3
   },
   "file_extension": ".py",
   "mimetype": "text/x-python",
   "name": "python",
   "nbconvert_exporter": "python",
   "pygments_lexer": "ipython3",
   "version": "3.8.0"
  }
 },
 "nbformat": 4,
 "nbformat_minor": 5
}
