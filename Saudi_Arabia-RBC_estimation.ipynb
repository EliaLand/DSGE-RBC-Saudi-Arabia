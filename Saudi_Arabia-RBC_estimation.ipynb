{
 "cells": [
  {
   "cell_type": "code",
   "execution_count": 194,
   "id": "bd5235dc-6cab-41ad-8271-b5d845eb71eb",
   "metadata": {},
   "outputs": [
    {
     "name": "stderr",
     "output_type": "stream",
     "text": [
      "Der Befehl \"git\" ist entweder falsch geschrieben oder\n",
      "konnte nicht gefunden werden.\n"
     ]
    }
   ],
   "source": [
    "!git init"
   ]
  },
  {
   "cell_type": "code",
   "execution_count": 195,
   "id": "57d5d4ca-20b3-4f08-b3e2-c1fee04a2186",
   "metadata": {},
   "outputs": [
    {
     "data": {
      "text/plain": [
       "'C:\\\\Users\\\\mauri\\\\Documents\\\\GitHub\\\\Uni-projects'"
      ]
     },
     "execution_count": 195,
     "metadata": {},
     "output_type": "execute_result"
    }
   ],
   "source": [
    "import os\n",
    "os.getcwd()"
   ]
  },
  {
   "cell_type": "code",
   "execution_count": 196,
   "id": "c8e2ce18-a61e-4be1-b23a-aa8dcdec4da3",
   "metadata": {},
   "outputs": [
    {
     "name": "stdout",
     "output_type": "stream",
     "text": [
      "[WinError 123] Die Syntax für den Dateinamen, Verzeichnisnamen oder die Datenträgerbezeichnung ist falsch: \"'C:\\\\\\\\Users\\\\\\\\eland'\"\n",
      "C:\\Users\\mauri\\Documents\\GitHub\\Uni-projects\n"
     ]
    }
   ],
   "source": [
    "cd 'C:\\\\Users\\\\eland'"
   ]
  },
  {
   "cell_type": "code",
   "execution_count": 197,
   "id": "2b52cf39-685c-4791-b445-807a98395047",
   "metadata": {},
   "outputs": [
    {
     "name": "stderr",
     "output_type": "stream",
     "text": [
      "Der Befehl \"git\" ist entweder falsch geschrieben oder\n",
      "konnte nicht gefunden werden.\n",
      "Der Befehl \"git\" ist entweder falsch geschrieben oder\n",
      "konnte nicht gefunden werden.\n"
     ]
    }
   ],
   "source": [
    "!git config --global user.email \"e.lando2001@gmail.com\"\n",
    "!git config --global user.name \"EliaLand\""
   ]
  },
  {
   "cell_type": "code",
   "execution_count": 198,
   "id": "b249e778-e5d9-4285-bfcb-713340ceebe9",
   "metadata": {},
   "outputs": [
    {
     "name": "stderr",
     "output_type": "stream",
     "text": [
      "Der Befehl \"git\" ist entweder falsch geschrieben oder\n",
      "konnte nicht gefunden werden.\n",
      "Der Befehl \"git\" ist entweder falsch geschrieben oder\n",
      "konnte nicht gefunden werden.\n",
      "Der Befehl \"git\" ist entweder falsch geschrieben oder\n",
      "konnte nicht gefunden werden.\n",
      "Der Befehl \"git\" ist entweder falsch geschrieben oder\n",
      "konnte nicht gefunden werden.\n"
     ]
    }
   ],
   "source": [
    "!git add SaudiArabia_RBC_estimation.ipynb  \n",
    "!git commit -m \"Initial commit\"\n",
    "!git remote add origin https://github.com/EliaLand/Uni-projects.git\n",
    "!git push -u origin master  "
   ]
  },
  {
   "cell_type": "code",
   "execution_count": 199,
   "id": "2e6163b6-fe89-4e7d-97e3-616a05cc2fe5",
   "metadata": {},
   "outputs": [
    {
     "name": "stdout",
     "output_type": "stream",
     "text": [
      "Requirement already satisfied: pandas in c:\\users\\mauri\\miniconda3\\envs\\econ\\lib\\site-packages (2.1.1)\n",
      "Requirement already satisfied: numpy>=1.23.2 in c:\\users\\mauri\\miniconda3\\envs\\econ\\lib\\site-packages (from pandas) (1.26.2)\n",
      "Requirement already satisfied: python-dateutil>=2.8.2 in c:\\users\\mauri\\miniconda3\\envs\\econ\\lib\\site-packages (from pandas) (2.8.2)\n",
      "Requirement already satisfied: pytz>=2020.1 in c:\\users\\mauri\\miniconda3\\envs\\econ\\lib\\site-packages (from pandas) (2023.3.post1)\n",
      "Requirement already satisfied: tzdata>=2022.1 in c:\\users\\mauri\\miniconda3\\envs\\econ\\lib\\site-packages (from pandas) (2023.3)\n",
      "Requirement already satisfied: six>=1.5 in c:\\users\\mauri\\miniconda3\\envs\\econ\\lib\\site-packages (from python-dateutil>=2.8.2->pandas) (1.16.0)\n"
     ]
    }
   ],
   "source": [
    "!pip install pandas"
   ]
  },
  {
   "cell_type": "markdown",
   "id": "0d3ff4de-b679-4748-b3d9-ceefbf99ce47",
   "metadata": {},
   "source": [
    "### Overview of Data that needs to get imported\n",
    "\n",
    "| Step | Imported? | Season adjusted? | Currency adjusted? | Variable | Variable Name | Shortcut | Note | Source | Link | Date |\n",
    "|------|-----------|-------------------|---------------------|----------|---------------|----------|------|--------|------|------|\n",
    "| 1    | Yes       | Yes               | Yes               | Yt       | Real GDP      | NGDPRSAXDCSAQ | Domestic Currency, SA, Quarterly | FRED | [Link](https://fred.stlouisfed.org/series/NGDPRSAXDCSAQ) | 2010 - current |\n",
    "| 2    | Yes       |                   | Yes               | C        | Real Private Sector Final Consumption Expenditure | NCPRNSAXDCSAQ | Domestic Currency, Not SA, Quarterly | FRED | [Link](https://fred.stlouisfed.org/series/NCPRNSAXDCSAQ) | 2010 - current |\n",
    "| 3    | Yes       | I tried           | USD                 | It       | Gross Fixed Capital Formation | NE.GDI.FTOT.CD | Current US Dollar, Annual | WorldBank | [Link](https://data.worldbank.org/indicator/NE.GDI.FTOT.CD?locations=SA) | 1968-2022 |\n",
    "| 4    | Yes       | No                | USD                 | TBt      | Trade Balance | BN.GSR.GNFS.CD | Net trade in goods and services (BOP, current US$) | World Bank | [Link](https://data.worldbank.org/indicator/BN.GSR.GNFS.CD?locations=SA) | 1971-2022 |\n",
    "| 5    | No        | Fuck this         | I am adjusted       | Nt       | Average Hours of Work for Employed Persons | Excel attached | Measures the average weekly working hours of workers (15 years and over) | General Statistics Authority | [Link](https://database.stats.gov.sa/home/indicator/999118) | Q2 2016-Q2 2023 |\n",
    "| 6    | No        |                   |                     | wt       | Average Monthly Wages for Paid Employees | Excel attached | The sum of the monthly wages to the total of employed persons for wages | General Statistics Authority | [Link](https://database.stats.gov.sa/home/indicator/999118) | Q2 2016-Q2 2023 |\n",
    "| 7    | Yes       |                   | In %                |          | Real Long Term Bond Rate | - | 10-year government development bond yield, Quarterly | National Statistics, Saudi Central Bank | [Link](https://www.sama.gov.sa/en-US/GovtSecurity/pages/governmentdevelopmentbonds.aspx), [Specific Bond (19Jan2029)](https://cbonds.com/bonds/461405/) | Q1999-Q32007, Past 3 yrs |\n",
    "| 8    | Yes       |                   | In %                | rt       | Short Term Bond Rate | Excel attached | Quarterly average of interbank rate | Saudi Central Bank | [Link](https://www.sama.gov.sa/ar-sa/EconomicReports/Pages/report.aspx?cid=118) | 2007-current |\n",
    "| 9    | Yes       |                   | Riyal               | Kt       | Capital Stock at Constant National Prices | RKNANPSAA666NRUG | Millions of 2017 U.S. Dollars, Not SA, Annual | FRED | [Link](https://fred.stlouisfed.org/series/RKNANPSAA666NRUG) | 1970-2019 |\n",
    "| 10   | Yes       |                   | In %                | CAt      | Current Account | BN.CAB.XOKA.GD.ZS | Current account balance % of GDP, Annual | Worldbank | [Link](https://data.worldbank.org/indicator/BN.CAB.XOKA.GD.ZS?locations=SA) | 1970-2021 |\n",
    "| 11   | Yes       |                   | In %                |          | CPI           | Consumer Prices | FP.CPI.TOTL.ZG | % Annual | Worldbank | [Link](https://data.worldbank.org/indicator/FP.CPI.TOTL.ZG?locations=SA) | 1964-2021 |\n",
    "| 12   | Yes       |                   |                     | ER       | Exchange Rate  | - | The Saudi riyal has been at a fixed rate to the US dollar since June 1986 (SAR 3.7500 per USD) | Constant | - | - |\n",
    "| 13   | Yes       | USD               |                     | Oil      | Crude Oil, Brent Prices | Excel attached | Crude oil, average spot price of Brent, Dubai and West Texas Intermediate, equally weighed, Monthly | Worldbank | [Link](https://www.worldbank.org/en/research/commodity-markets) | - |\n"
   ]
  },
  {
   "cell_type": "code",
   "execution_count": 200,
   "id": "0f01026e-dd4f-4966-ba5d-73775901f968",
   "metadata": {
    "scrolled": true
   },
   "outputs": [
    {
     "data": {
      "text/html": [
       "<div>\n",
       "<style scoped>\n",
       "    .dataframe tbody tr th:only-of-type {\n",
       "        vertical-align: middle;\n",
       "    }\n",
       "\n",
       "    .dataframe tbody tr th {\n",
       "        vertical-align: top;\n",
       "    }\n",
       "\n",
       "    .dataframe thead th {\n",
       "        text-align: right;\n",
       "    }\n",
       "</style>\n",
       "<table border=\"1\" class=\"dataframe\">\n",
       "  <thead>\n",
       "    <tr style=\"text-align: right;\">\n",
       "      <th></th>\n",
       "      <th>Date</th>\n",
       "      <th>Y</th>\n",
       "    </tr>\n",
       "  </thead>\n",
       "  <tbody>\n",
       "    <tr>\n",
       "      <th>0</th>\n",
       "      <td>2010-01-01</td>\n",
       "      <td>472498.10</td>\n",
       "    </tr>\n",
       "    <tr>\n",
       "      <th>1</th>\n",
       "      <td>2010-04-01</td>\n",
       "      <td>487268.90</td>\n",
       "    </tr>\n",
       "    <tr>\n",
       "      <th>2</th>\n",
       "      <td>2010-07-01</td>\n",
       "      <td>492963.70</td>\n",
       "    </tr>\n",
       "    <tr>\n",
       "      <th>3</th>\n",
       "      <td>2010-10-01</td>\n",
       "      <td>521219.10</td>\n",
       "    </tr>\n",
       "    <tr>\n",
       "      <th>4</th>\n",
       "      <td>2011-01-01</td>\n",
       "      <td>535829.90</td>\n",
       "    </tr>\n",
       "  </tbody>\n",
       "</table>\n",
       "</div>"
      ],
      "text/plain": [
       "        Date         Y\n",
       "0 2010-01-01 472498.10\n",
       "1 2010-04-01 487268.90\n",
       "2 2010-07-01 492963.70\n",
       "3 2010-10-01 521219.10\n",
       "4 2011-01-01 535829.90"
      ]
     },
     "execution_count": 200,
     "metadata": {},
     "output_type": "execute_result"
    }
   ],
   "source": [
    "### Step 1 ## Importing Real Gross Domestic Product\n",
    "import pandas as pd\n",
    "import numpy as np\n",
    "from pandas_datareader.fred import FredReader\n",
    "data = FredReader(symbols=['NGDPRSAXDCSAQ'], start='2010', end=None).read()\n",
    "data.to_csv('SA_gdp_seasonally_adjusted.csv')\n",
    "\n",
    "# Read the CSV file and parse 'DATE' as datetime\n",
    "df1 = pd.read_csv('SA_gdp_seasonally_adjusted.csv', parse_dates=['DATE'])\n",
    "\n",
    "# save for merging later \n",
    "df1.to_csv('SA_gdp_seasonally_adjusted.csv', index=False)\n",
    "\n",
    "# Rename the columns\n",
    "df1.columns = ['Date', 'Y']\n",
    "\n",
    "# Display the DataFrame\n",
    "df1.head()"
   ]
  },
  {
   "cell_type": "code",
   "execution_count": 201,
   "id": "c172a20f-b83c-4d87-bae6-31c8b7fee83e",
   "metadata": {
    "scrolled": true
   },
   "outputs": [
    {
     "name": "stdout",
     "output_type": "stream",
     "text": [
      "<class 'pandas.core.frame.DataFrame'>\n",
      "RangeIndex: 55 entries, 0 to 54\n",
      "Data columns (total 2 columns):\n",
      " #   Column  Non-Null Count  Dtype         \n",
      "---  ------  --------------  -----         \n",
      " 0   Date    55 non-null     datetime64[ns]\n",
      " 1   Y       55 non-null     float64       \n",
      "dtypes: datetime64[ns](1), float64(1)\n",
      "memory usage: 1012.0 bytes\n"
     ]
    }
   ],
   "source": [
    "# Check the format of the data so make sure we have a float variable\n",
    "df1.info()"
   ]
  },
  {
   "cell_type": "code",
   "execution_count": 202,
   "id": "a5fb69b4-4076-4d0c-9e51-62bd40bc7298",
   "metadata": {},
   "outputs": [],
   "source": [
    "# Create an index using our Date column\n",
    "df1.set_index('Date', inplace=True)"
   ]
  },
  {
   "cell_type": "code",
   "execution_count": 203,
   "id": "1e86a580-a091-4f5f-944e-48e3ec501ba4",
   "metadata": {
    "scrolled": true
   },
   "outputs": [
    {
     "data": {
      "text/html": [
       "<div>\n",
       "<style scoped>\n",
       "    .dataframe tbody tr th:only-of-type {\n",
       "        vertical-align: middle;\n",
       "    }\n",
       "\n",
       "    .dataframe tbody tr th {\n",
       "        vertical-align: top;\n",
       "    }\n",
       "\n",
       "    .dataframe thead th {\n",
       "        text-align: right;\n",
       "    }\n",
       "</style>\n",
       "<table border=\"1\" class=\"dataframe\">\n",
       "  <thead>\n",
       "    <tr style=\"text-align: right;\">\n",
       "      <th></th>\n",
       "      <th>Y</th>\n",
       "    </tr>\n",
       "    <tr>\n",
       "      <th>Date</th>\n",
       "      <th></th>\n",
       "    </tr>\n",
       "  </thead>\n",
       "  <tbody>\n",
       "    <tr>\n",
       "      <th>2010-01-01</th>\n",
       "      <td>472498.10</td>\n",
       "    </tr>\n",
       "    <tr>\n",
       "      <th>2010-04-01</th>\n",
       "      <td>487268.90</td>\n",
       "    </tr>\n",
       "    <tr>\n",
       "      <th>2010-07-01</th>\n",
       "      <td>492963.70</td>\n",
       "    </tr>\n",
       "    <tr>\n",
       "      <th>2010-10-01</th>\n",
       "      <td>521219.10</td>\n",
       "    </tr>\n",
       "    <tr>\n",
       "      <th>2011-01-01</th>\n",
       "      <td>535829.90</td>\n",
       "    </tr>\n",
       "  </tbody>\n",
       "</table>\n",
       "</div>"
      ],
      "text/plain": [
       "                   Y\n",
       "Date                \n",
       "2010-01-01 472498.10\n",
       "2010-04-01 487268.90\n",
       "2010-07-01 492963.70\n",
       "2010-10-01 521219.10\n",
       "2011-01-01 535829.90"
      ]
     },
     "execution_count": 203,
     "metadata": {},
     "output_type": "execute_result"
    }
   ],
   "source": [
    "df1.head()"
   ]
  },
  {
   "cell_type": "code",
   "execution_count": 204,
   "id": "cdbb371b-52c3-4130-8e84-e3f2ca6f77ca",
   "metadata": {},
   "outputs": [
    {
     "name": "stdout",
     "output_type": "stream",
     "text": [
      "Requirement already satisfied: prettytable in c:\\users\\mauri\\miniconda3\\envs\\econ\\lib\\site-packages (3.9.0)Note: you may need to restart the kernel to use updated packages.\n",
      "\n",
      "Requirement already satisfied: wcwidth in c:\\users\\mauri\\miniconda3\\envs\\econ\\lib\\site-packages (from prettytable) (0.2.7)\n"
     ]
    }
   ],
   "source": [
    "pip install prettytable"
   ]
  },
  {
   "cell_type": "code",
   "execution_count": 205,
   "id": "2d6f07db-606b-4712-b31e-33bae041ada9",
   "metadata": {
    "scrolled": true
   },
   "outputs": [
    {
     "name": "stdout",
     "output_type": "stream",
     "text": [
      "+----------------------+---------------------+------------------------+\n",
      "|      Statistic       |   Original Series   | Log-Transformed Series |\n",
      "+----------------------+---------------------+------------------------+\n",
      "|    ADF Statistic     | -2.2334914595457325 |  -2.7911259392385586   |\n",
      "|       p-value        |  0.1943152570602683 |   0.0595525878107506   |\n",
      "| Critical Value (5%)  |  -2.925338105429433 |    -2.9178502070837    |\n",
      "| Critical Value (10%) | -2.6007735310095064 |  -2.5967964150943397   |\n",
      "| Critical Value (1%)  | -3.5778480370438146 |   -3.560242358792829   |\n",
      "+----------------------+---------------------+------------------------+\n"
     ]
    }
   ],
   "source": [
    "# Run the Dickey-Fuller test  to see if we need to adjust our data using logs due to stationary/non-stationary\n",
    "# Import necessary libraries\n",
    "from pandas import read_csv\n",
    "from statsmodels.tsa.stattools import adfuller\n",
    "import numpy as np\n",
    "from prettytable import PrettyTable\n",
    "\n",
    "# Read the CSV file\n",
    "series = read_csv('SA_gdp_seasonally_adjusted.csv', header=0, index_col=0)\n",
    "\n",
    "# Original time series\n",
    "X_original = series.values\n",
    "\n",
    "# Log-transformed time series\n",
    "X_log = np.log(df1.Y)\n",
    "\n",
    "# Run the Dickey-Fuller test for the original time series\n",
    "result_original = adfuller(X_original)\n",
    "\n",
    "# Run the Dickey-Fuller test for the log-transformed time series\n",
    "result_log = adfuller(X_log)\n",
    "\n",
    "# Create a PrettyTable for the comparison\n",
    "comparison_table = PrettyTable()\n",
    "comparison_table.field_names = [\"Statistic\", \"Original Series\", \"Log-Transformed Series\"]\n",
    "comparison_table.add_row([\"ADF Statistic\", result_original[0], result_log[0]])\n",
    "comparison_table.add_row([\"p-value\", result_original[1], result_log[1]])\n",
    "\n",
    "# Find the common keys for critical values\n",
    "common_keys = set(result_original[4].keys()).intersection(result_log[4].keys())\n",
    "\n",
    "# Add critical values to the table\n",
    "for key in common_keys:\n",
    "    comparison_table.add_row([f\"Critical Value ({key})\", result_original[4][key], result_log[4][key]])\n",
    "\n",
    "# Print the comparison table\n",
    "print(comparison_table)\n",
    "\n"
   ]
  },
  {
   "cell_type": "markdown",
   "id": "6a589788-281b-4f6a-95a7-4750b0519500",
   "metadata": {},
   "source": [
    "The log-transformed time series, with a more negative ADF Statistic (-2.791) and a lower p-value (0.059) compared to the original series (-2.233 and 0.194), exhibits more compelling indications of stationarity. Given these Fuller test results, we opt for the log-transformed data for further analysis."
   ]
  },
  {
   "cell_type": "code",
   "execution_count": 206,
   "id": "657216f9-aa70-43b3-bb7e-f7900391400a",
   "metadata": {},
   "outputs": [
    {
     "name": "stdout",
     "output_type": "stream",
     "text": [
      "<class 'pandas.core.frame.DataFrame'>\n",
      "DatetimeIndex: 55 entries, 2010-01-01 to 2023-07-01\n",
      "Data columns (total 1 columns):\n",
      " #   Column  Non-Null Count  Dtype  \n",
      "---  ------  --------------  -----  \n",
      " 0   Y       55 non-null     float64\n",
      "dtypes: float64(1)\n",
      "memory usage: 880.0 bytes\n"
     ]
    }
   ],
   "source": [
    "df1.info()"
   ]
  },
  {
   "cell_type": "code",
   "execution_count": 207,
   "id": "d24fc83a-d5f8-461c-af17-3ddcc3a6fc4a",
   "metadata": {
    "scrolled": true
   },
   "outputs": [
    {
     "name": "stdout",
     "output_type": "stream",
     "text": [
      "Requirement already satisfied: pydeflate in c:\\users\\mauri\\miniconda3\\envs\\econ\\lib\\site-packages (1.3.10)\n",
      "Requirement already satisfied: bblocks<2.0.0,>=1.2.1 in c:\\users\\mauri\\miniconda3\\envs\\econ\\lib\\site-packages (from pydeflate) (1.2.1)\n",
      "Requirement already satisfied: beautifulsoup4<5.0,>=4.12 in c:\\users\\mauri\\miniconda3\\envs\\econ\\lib\\site-packages (from pydeflate) (4.12.2)\n",
      "Requirement already satisfied: country-converter<2,>=1 in c:\\users\\mauri\\miniconda3\\envs\\econ\\lib\\site-packages (from pydeflate) (1.2)\n",
      "Requirement already satisfied: numpy<2.0,>=1.26 in c:\\users\\mauri\\miniconda3\\envs\\econ\\lib\\site-packages (from pydeflate) (1.26.2)\n",
      "Requirement already satisfied: pandas<3,>=2 in c:\\users\\mauri\\miniconda3\\envs\\econ\\lib\\site-packages (from pydeflate) (2.1.1)\n",
      "Requirement already satisfied: pyarrow<15.0,>=14.0 in c:\\users\\mauri\\miniconda3\\envs\\econ\\lib\\site-packages (from pydeflate) (14.0.1)\n",
      "Requirement already satisfied: requests<3.0.0,>=2.28.2 in c:\\users\\mauri\\miniconda3\\envs\\econ\\lib\\site-packages (from pydeflate) (2.31.0)\n",
      "Requirement already satisfied: weo<0.8.0,>=0.7.4 in c:\\users\\mauri\\miniconda3\\envs\\econ\\lib\\site-packages (from pydeflate) (0.7.4)\n",
      "Requirement already satisfied: xlrd<3.0.0,>=2.0.1 in c:\\users\\mauri\\miniconda3\\envs\\econ\\lib\\site-packages (from pydeflate) (2.0.1)\n",
      "Requirement already satisfied: camelot-py<0.12,>=0.11 in c:\\users\\mauri\\miniconda3\\envs\\econ\\lib\\site-packages (from bblocks<2.0.0,>=1.2.1->pydeflate) (0.11.0)\n",
      "Requirement already satisfied: opencv-python<5.0.0,>=4.7.0 in c:\\users\\mauri\\miniconda3\\envs\\econ\\lib\\site-packages (from bblocks<2.0.0,>=1.2.1->pydeflate) (4.8.1.78)\n",
      "Requirement already satisfied: openpyxl<4.0.0,>=3.0.10 in c:\\users\\mauri\\miniconda3\\envs\\econ\\lib\\site-packages (from bblocks<2.0.0,>=1.2.1->pydeflate) (3.1.2)\n",
      "Requirement already satisfied: pyjstat<3.0,>=2.3 in c:\\users\\mauri\\miniconda3\\envs\\econ\\lib\\site-packages (from bblocks<2.0.0,>=1.2.1->pydeflate) (2.4.0)\n",
      "Requirement already satisfied: pypdf<4.0,>=3.17 in c:\\users\\mauri\\miniconda3\\envs\\econ\\lib\\site-packages (from bblocks<2.0.0,>=1.2.1->pydeflate) (3.17.2)\n",
      "Requirement already satisfied: wbgapi<1.1 in c:\\users\\mauri\\miniconda3\\envs\\econ\\lib\\site-packages (from bblocks<2.0.0,>=1.2.1->pydeflate) (1.0.12)\n",
      "Requirement already satisfied: soupsieve>1.2 in c:\\users\\mauri\\miniconda3\\envs\\econ\\lib\\site-packages (from beautifulsoup4<5.0,>=4.12->pydeflate) (2.5)\n",
      "Requirement already satisfied: python-dateutil>=2.8.2 in c:\\users\\mauri\\miniconda3\\envs\\econ\\lib\\site-packages (from pandas<3,>=2->pydeflate) (2.8.2)\n",
      "Requirement already satisfied: pytz>=2020.1 in c:\\users\\mauri\\miniconda3\\envs\\econ\\lib\\site-packages (from pandas<3,>=2->pydeflate) (2023.3.post1)\n",
      "Requirement already satisfied: tzdata>=2022.1 in c:\\users\\mauri\\miniconda3\\envs\\econ\\lib\\site-packages (from pandas<3,>=2->pydeflate) (2023.3)\n",
      "Requirement already satisfied: charset-normalizer<4,>=2 in c:\\users\\mauri\\miniconda3\\envs\\econ\\lib\\site-packages (from requests<3.0.0,>=2.28.2->pydeflate) (3.2.0)\n",
      "Requirement already satisfied: idna<4,>=2.5 in c:\\users\\mauri\\miniconda3\\envs\\econ\\lib\\site-packages (from requests<3.0.0,>=2.28.2->pydeflate) (3.4)\n",
      "Requirement already satisfied: urllib3<3,>=1.21.1 in c:\\users\\mauri\\miniconda3\\envs\\econ\\lib\\site-packages (from requests<3.0.0,>=2.28.2->pydeflate) (2.0.5)\n",
      "Requirement already satisfied: certifi>=2017.4.17 in c:\\users\\mauri\\miniconda3\\envs\\econ\\lib\\site-packages (from requests<3.0.0,>=2.28.2->pydeflate) (2023.7.22)\n",
      "Requirement already satisfied: httpx<0.24,>=0.22 in c:\\users\\mauri\\miniconda3\\envs\\econ\\lib\\site-packages (from weo<0.8.0,>=0.7.4->pydeflate) (0.23.3)\n",
      "Requirement already satisfied: iso3166<3.0.0,>=2.0.2 in c:\\users\\mauri\\miniconda3\\envs\\econ\\lib\\site-packages (from weo<0.8.0,>=0.7.4->pydeflate) (2.1.1)\n",
      "Requirement already satisfied: chardet>=3.0.4 in c:\\users\\mauri\\miniconda3\\envs\\econ\\lib\\site-packages (from camelot-py<0.12,>=0.11->bblocks<2.0.0,>=1.2.1->pydeflate) (5.2.0)\n",
      "Requirement already satisfied: click>=6.7 in c:\\users\\mauri\\miniconda3\\envs\\econ\\lib\\site-packages (from camelot-py<0.12,>=0.11->bblocks<2.0.0,>=1.2.1->pydeflate) (8.1.7)\n",
      "Requirement already satisfied: pdfminer.six>=20200726 in c:\\users\\mauri\\miniconda3\\envs\\econ\\lib\\site-packages (from camelot-py<0.12,>=0.11->bblocks<2.0.0,>=1.2.1->pydeflate) (20221105)\n",
      "Requirement already satisfied: tabulate>=0.8.9 in c:\\users\\mauri\\miniconda3\\envs\\econ\\lib\\site-packages (from camelot-py<0.12,>=0.11->bblocks<2.0.0,>=1.2.1->pydeflate) (0.9.0)\n",
      "Requirement already satisfied: httpcore<0.17.0,>=0.15.0 in c:\\users\\mauri\\miniconda3\\envs\\econ\\lib\\site-packages (from httpx<0.24,>=0.22->weo<0.8.0,>=0.7.4->pydeflate) (0.16.3)\n",
      "Requirement already satisfied: rfc3986[idna2008]<2,>=1.3 in c:\\users\\mauri\\miniconda3\\envs\\econ\\lib\\site-packages (from httpx<0.24,>=0.22->weo<0.8.0,>=0.7.4->pydeflate) (1.5.0)\n",
      "Requirement already satisfied: sniffio in c:\\users\\mauri\\miniconda3\\envs\\econ\\lib\\site-packages (from httpx<0.24,>=0.22->weo<0.8.0,>=0.7.4->pydeflate) (1.3.0)\n",
      "Requirement already satisfied: et-xmlfile in c:\\users\\mauri\\miniconda3\\envs\\econ\\lib\\site-packages (from openpyxl<4.0.0,>=3.0.10->bblocks<2.0.0,>=1.2.1->pydeflate) (1.1.0)\n",
      "Requirement already satisfied: six>=1.5 in c:\\users\\mauri\\miniconda3\\envs\\econ\\lib\\site-packages (from python-dateutil>=2.8.2->pandas<3,>=2->pydeflate) (1.16.0)\n",
      "Requirement already satisfied: PyYAML in c:\\users\\mauri\\miniconda3\\envs\\econ\\lib\\site-packages (from wbgapi<1.1->bblocks<2.0.0,>=1.2.1->pydeflate) (6.0.1)\n",
      "Requirement already satisfied: colorama in c:\\users\\mauri\\miniconda3\\envs\\econ\\lib\\site-packages (from click>=6.7->camelot-py<0.12,>=0.11->bblocks<2.0.0,>=1.2.1->pydeflate) (0.4.6)\n",
      "Requirement already satisfied: h11<0.15,>=0.13 in c:\\users\\mauri\\miniconda3\\envs\\econ\\lib\\site-packages (from httpcore<0.17.0,>=0.15.0->httpx<0.24,>=0.22->weo<0.8.0,>=0.7.4->pydeflate) (0.14.0)\n",
      "Requirement already satisfied: anyio<5.0,>=3.0 in c:\\users\\mauri\\miniconda3\\envs\\econ\\lib\\site-packages (from httpcore<0.17.0,>=0.15.0->httpx<0.24,>=0.22->weo<0.8.0,>=0.7.4->pydeflate) (4.0.0)\n",
      "Requirement already satisfied: cryptography>=36.0.0 in c:\\users\\mauri\\miniconda3\\envs\\econ\\lib\\site-packages (from pdfminer.six>=20200726->camelot-py<0.12,>=0.11->bblocks<2.0.0,>=1.2.1->pydeflate) (41.0.7)\n",
      "Requirement already satisfied: cffi>=1.12 in c:\\users\\mauri\\miniconda3\\envs\\econ\\lib\\site-packages (from cryptography>=36.0.0->pdfminer.six>=20200726->camelot-py<0.12,>=0.11->bblocks<2.0.0,>=1.2.1->pydeflate) (1.16.0)\n",
      "Requirement already satisfied: pycparser in c:\\users\\mauri\\miniconda3\\envs\\econ\\lib\\site-packages (from cffi>=1.12->cryptography>=36.0.0->pdfminer.six>=20200726->camelot-py<0.12,>=0.11->bblocks<2.0.0,>=1.2.1->pydeflate) (2.21)\n"
     ]
    }
   ],
   "source": [
    "### STEP 1 ## Currency conversion\n",
    "!pip install pydeflate\n",
    "import pydeflate\n",
    "import pandas as pd\n"
   ]
  },
  {
   "cell_type": "code",
   "execution_count": 218,
   "id": "9e5dbbe3-e705-4071-8c01-002c4f579d50",
   "metadata": {},
   "outputs": [
    {
     "name": "stderr",
     "output_type": "stream",
     "text": [
      "INFO [imf.py: __load_indicator:] Loaded indicator: PCPI\n",
      "INFO [imf.py: __load_indicator:] Loaded indicator: PCPIE\n",
      "INFO [imf.py: __load_indicator:] Loaded indicator: NGDP_D\n",
      "INFO [imf.py: __load_indicator:] Loaded indicator: NGDP_D\n",
      "INFO [imf.py: __load_indicator:] Loaded indicator: PCPI\n",
      "INFO [imf.py: __load_indicator:] Loaded indicator: PCPIE\n",
      "INFO [imf.py: __load_indicator:] Loaded indicator: NGDP\n",
      "INFO [imf.py: __load_indicator:] Loaded indicator: NGDPD\n"
     ]
    },
    {
     "name": "stdout",
     "output_type": "stream",
     "text": [
      "<class 'pandas.core.frame.DataFrame'>\n",
      "RangeIndex: 14 entries, 0 to 13\n",
      "Data columns (total 6 columns):\n",
      " #   Column     Non-Null Count  Dtype         \n",
      "---  ------     --------------  -----         \n",
      " 0   index      14 non-null     int64         \n",
      " 1   Date       14 non-null     datetime64[ns]\n",
      " 2   Y          14 non-null     float64       \n",
      " 3   iso_code   14 non-null     object        \n",
      " 4   value_USD  14 non-null     float64       \n",
      " 5   Y_USD      14 non-null     float64       \n",
      "dtypes: datetime64[ns](1), float64(3), int64(1), object(1)\n",
      "memory usage: 804.0+ bytes\n"
     ]
    },
    {
     "data": {
      "text/plain": [
       "<bound method NDFrame.head of     index       Date         Y iso_code  value_USD     Y_USD\n",
       "0       0 2010-01-01 472498.10      SAU  125999.25 125999.25\n",
       "1       1 2011-01-01 535829.90      SAU  142888.04 142888.04\n",
       "2       2 2012-01-01 573404.10      SAU  152907.62 152907.62\n",
       "3       3 2013-01-01 573734.00      SAU  152995.73 152995.73\n",
       "4       4 2014-01-01 613298.00      SAU  163546.28 163546.28\n",
       "5       5 2015-01-01 632607.00      SAU  168695.12 168695.12\n",
       "6       6 2016-01-01 654664.50      SAU  174576.94 174576.94\n",
       "7       7 2017-01-01 657094.20      SAU  175224.96 175224.96\n",
       "8       8 2018-01-01 671938.80      SAU  179183.68 179183.68\n",
       "9       9 2019-01-01 686137.30      SAU  182969.87 182969.87\n",
       "10     10 2020-01-01 675203.20      SAU  180053.94 180053.94\n",
       "11     11 2021-01-01 656841.10      SAU  175157.49 175157.49\n",
       "12     12 2022-01-01 733469.20      SAU  195591.90 195591.90\n",
       "13     13 2023-01-01 750487.30      SAU  200130.45 200130.45>"
      ]
     },
     "execution_count": 218,
     "metadata": {},
     "output_type": "execute_result"
    }
   ],
   "source": [
    "### STEP 1 CUrrency conversion\n",
    "# add column to have identifier for SAudi Dollars\n",
    "df1['iso_code'] = 'SAU'\n",
    "\n",
    "# convert to USD 2023 constant prices\n",
    "# Check if 'Y' and 'Date' are in the columns\n",
    "if 'Y' in df1.columns:\n",
    "    # If the columns exist, strip any leading or trailing whitespaces\n",
    "    df1.columns = df1.columns.str.strip()\n",
    "\n",
    "    # Reset the index to convert 'Date' from index to a regular column\n",
    "    df1.reset_index(inplace=True)\n",
    "\n",
    "    # do the conversion\n",
    "    df1 = pydeflate.exchange(\n",
    "        df=df1,\n",
    "        source_currency=\"SAU\",\n",
    "        target_currency=\"USA\",\n",
    "        rates_source='imf', \n",
    "        value_column='Y',\n",
    "        target_column='Y_USD',\n",
    "        id_column=\"iso_code\",\n",
    "        id_type=\"ISO3\",\n",
    "        date_column=\"Date\",\n",
    "    )\n",
    "\n",
    "\n",
    "df1.info()\n",
    "df1.head"
   ]
  },
  {
   "cell_type": "code",
   "execution_count": null,
   "id": "6cf29794-e789-407e-a13d-53fd302f26f7",
   "metadata": {
    "scrolled": true
   },
   "outputs": [],
   "source": [
    "### Step 2 ## Importing Real Private Sector Final Consumption Expenditure\n",
    "## data is not seasonaly adjusted yet\n",
    "\n",
    "data = FredReader(symbols=['NCPRNSAXDCSAQ'], start='2010', end=None).read()\n",
    "data.to_csv('SA_real_private_consumption_not_adjusted.csv')\n",
    "\n",
    "# Read the CSV file and parse 'DATE' as datetime\n",
    "df2 = pd.read_csv('SA_real_private_consumption_not_adjusted.csv', parse_dates=['DATE'])\n",
    "\n",
    "# save for merging later \n",
    "df2.to_csv('SA_real_private_consumption_not_adjusted.csv', index=False)\n",
    "\n",
    "# Rename the columns\n",
    "df2.columns = ['Date', 'C']\n",
    "\n",
    "# Display the DataFrame\n",
    "df2.head()\n"
   ]
  },
  {
   "cell_type": "code",
   "execution_count": null,
   "id": "3fa30ae8-dec4-41f7-ade0-ad686ec8847d",
   "metadata": {
    "scrolled": true
   },
   "outputs": [],
   "source": [
    "# Check the format of data before merge\n",
    "df2.info()\n",
    "df2.plot()"
   ]
  },
  {
   "cell_type": "code",
   "execution_count": null,
   "id": "08ef7afc-b60d-433c-91da-d6f868601639",
   "metadata": {
    "scrolled": true
   },
   "outputs": [],
   "source": [
    "df2.C.map(np.log).diff().plot()"
   ]
  },
  {
   "cell_type": "code",
   "execution_count": null,
   "id": "dd05ae39-0cc2-4bfb-a366-10f9b4fc761e",
   "metadata": {
    "scrolled": true
   },
   "outputs": [],
   "source": [
    "df2['log_C'] = df2['C'].map(np.log)\n",
    "df2['diff_log_C'] = df2['log_C'].diff()\n",
    "\n",
    "# Include the 'Date' column from df2\n",
    "d_log_C = df2[['Date']].copy()\n",
    "d_log_C['diff_log_C'] = df2['diff_log_C']\n",
    "d_log_C.info()\n"
   ]
  },
  {
   "cell_type": "code",
   "execution_count": null,
   "id": "6dab6bc1-3192-496c-b482-9d94bf9ea9c6",
   "metadata": {
    "scrolled": true
   },
   "outputs": [],
   "source": [
    "\n",
    "# Extract quarter information\n",
    "d_log_C['Quarter'] = d_log_C['Date'].dt.quarter\n",
    "\n",
    "# Create a pivot table based on quarter and year\n",
    "d_C_pivot = d_log_C.pivot_table(index='Quarter', columns=d_log_C['Date'].dt.year, values='diff_log_C')\n",
    "\n",
    "# Display the pivot table\n",
    "d_C_pivot.head()"
   ]
  },
  {
   "cell_type": "code",
   "execution_count": null,
   "id": "812aef6f-3a28-4f54-846d-70647d449d97",
   "metadata": {
    "scrolled": true
   },
   "outputs": [],
   "source": [
    "d_C_pivot.plot(legend=False);\n"
   ]
  },
  {
   "cell_type": "markdown",
   "id": "7f637090-6f4f-4750-a1a6-7b2cf5b28433",
   "metadata": {},
   "source": [
    "Results seem not completly random but also not completly non random. Not adjusting for seasonality. "
   ]
  },
  {
   "cell_type": "code",
   "execution_count": 220,
   "id": "26420882-05ee-48f6-bd06-1a31b6a1ddba",
   "metadata": {},
   "outputs": [
    {
     "name": "stderr",
     "output_type": "stream",
     "text": [
      "INFO [imf.py: __load_indicator:] Loaded indicator: PCPI\n",
      "INFO [imf.py: __load_indicator:] Loaded indicator: PCPIE\n",
      "INFO [imf.py: __load_indicator:] Loaded indicator: NGDP_D\n",
      "INFO [imf.py: __load_indicator:] Loaded indicator: NGDP_D\n",
      "INFO [imf.py: __load_indicator:] Loaded indicator: PCPI\n",
      "INFO [imf.py: __load_indicator:] Loaded indicator: PCPIE\n",
      "INFO [imf.py: __load_indicator:] Loaded indicator: NGDP\n",
      "INFO [imf.py: __load_indicator:] Loaded indicator: NGDPD\n",
      "INFO [imf.py: __load_indicator:] Loaded indicator: PCPI\n",
      "INFO [imf.py: __load_indicator:] Loaded indicator: PCPIE\n",
      "INFO [imf.py: __load_indicator:] Loaded indicator: NGDP_D\n",
      "INFO [imf.py: __load_indicator:] Loaded indicator: NGDP_D\n",
      "INFO [imf.py: __load_indicator:] Loaded indicator: PCPI\n",
      "INFO [imf.py: __load_indicator:] Loaded indicator: PCPIE\n",
      "INFO [imf.py: __load_indicator:] Loaded indicator: NGDP\n",
      "INFO [imf.py: __load_indicator:] Loaded indicator: NGDPD\n"
     ]
    },
    {
     "name": "stdout",
     "output_type": "stream",
     "text": [
      "<class 'pandas.core.frame.DataFrame'>\n",
      "RangeIndex: 14 entries, 0 to 13\n",
      "Data columns (total 8 columns):\n",
      " #   Column      Non-Null Count  Dtype         \n",
      "---  ------      --------------  -----         \n",
      " 0   Date        14 non-null     datetime64[ns]\n",
      " 1   C           14 non-null     float64       \n",
      " 2   log_C       14 non-null     float64       \n",
      " 3   diff_log_C  13 non-null     float64       \n",
      " 4   iso_code    14 non-null     object        \n",
      " 5   value_USD   14 non-null     float64       \n",
      " 6   C_USD       14 non-null     float64       \n",
      " 7   Log_C_USD   14 non-null     float64       \n",
      "dtypes: datetime64[ns](1), float64(6), object(1)\n",
      "memory usage: 1.0+ KB\n"
     ]
    },
    {
     "data": {
      "text/plain": [
       "<bound method NDFrame.head of          Date         C  log_C  diff_log_C iso_code  value_USD    C_USD  \\\n",
       "0  2010-01-01 156759.20  11.96         NaN      SAU   41802.37 41802.37   \n",
       "1  2011-01-01 159407.90  11.98        0.00      SAU   42508.79 42508.79   \n",
       "2  2012-01-01 179103.50  12.10        0.09      SAU   47760.89 47760.89   \n",
       "3  2013-01-01 183278.90  12.12        0.01      SAU   48874.37 48874.37   \n",
       "4  2014-01-01 198200.50  12.20        0.02      SAU   52853.51 52853.51   \n",
       "5  2015-01-01 223522.70  12.32        0.06      SAU   59606.02 59606.02   \n",
       "6  2016-01-01 227284.90  12.33        0.01      SAU   60609.22 60609.22   \n",
       "7  2017-01-01 234103.30  12.36        0.03      SAU   62427.49 62427.49   \n",
       "8  2018-01-01 241350.50  12.39        0.01      SAU   64360.13 64360.13   \n",
       "9  2019-01-01 256854.80  12.46        0.06      SAU   68494.59 68494.59   \n",
       "10 2020-01-01 254603.50  12.45       -0.01      SAU   67894.17 67894.17   \n",
       "11 2021-01-01 257437.30  12.46        0.06      SAU   68649.89 68649.89   \n",
       "12 2022-01-01 271295.20  12.51        0.03      SAU   72345.43 72345.43   \n",
       "13 2023-01-01 285196.30  12.56        0.04      SAU   76052.54 76052.54   \n",
       "\n",
       "    Log_C_USD  \n",
       "0        3.19  \n",
       "1        3.19  \n",
       "2        3.23  \n",
       "3        3.23  \n",
       "4        3.25  \n",
       "5        3.28  \n",
       "6        3.29  \n",
       "7        3.30  \n",
       "8        3.31  \n",
       "9        3.32  \n",
       "10       3.32  \n",
       "11       3.32  \n",
       "12       3.34  \n",
       "13       3.35  >"
      ]
     },
     "execution_count": 220,
     "metadata": {},
     "output_type": "execute_result"
    }
   ],
   "source": [
    "### not done with the correct C I assume as I renamed it to get log before. Has to be adjusted I believe\n",
    "# add column to have identifier for SAudi Dollars\n",
    "df2['iso_code'] = 'SAU'\n",
    "\n",
    "# convert to USD 2023 constant prices\n",
    "if 'C' in df2.columns:\n",
    "    # If the column exists, strip any leading or trailing whitespaces\n",
    "    df2.columns = df2.columns.str.strip()\n",
    "\n",
    "    # Currency Conversion for C\n",
    "    df2 = pydeflate.exchange(\n",
    "        df=df2,\n",
    "        source_currency=\"SAU\",\n",
    "        target_currency=\"USA\",\n",
    "        rates_source='imf', \n",
    "        value_column='C',  # Ensure the correct column name is used\n",
    "        target_column='C_USD',\n",
    "        id_column=\"iso_code\",\n",
    "        id_type=\"ISO3\",\n",
    "        date_column=\"Date\",\n",
    "    )\n",
    "\n",
    "    # Currency Conversion for C_Log\n",
    "    df2 = pydeflate.exchange(\n",
    "        df=df2,\n",
    "        source_currency=\"SAU\",\n",
    "        target_currency=\"USA\",\n",
    "        rates_source='imf', \n",
    "        value_column='log_C', \n",
    "        target_column='Log_C_USD',\n",
    "        id_column=\"iso_code\",\n",
    "        id_type=\"ISO3\",\n",
    "        date_column=\"Date\",\n",
    "    )\n",
    "\n",
    "\n",
    "df2.info()\n",
    "df2.head"
   ]
  },
  {
   "cell_type": "code",
   "execution_count": null,
   "id": "ba51fd1d-5000-432f-a566-def1bd3505ac",
   "metadata": {},
   "outputs": [],
   "source": [
    "!pip install wbdata\n",
    "!pip install pandas_datareade"
   ]
  },
  {
   "cell_type": "code",
   "execution_count": null,
   "id": "92ebd607-4aab-4cbc-a2cf-4da6a68fda4e",
   "metadata": {},
   "outputs": [],
   "source": [
    "### Step 3 ## Importing Gross Fixed Capital Formation NE.GDI.FTOT.CD Annual\n",
    "\n",
    "## data is in current US Dollar\n",
    "\n",
    "import pandas as pd\n",
    "import pandas_datareader.wb as wb\n",
    "\n",
    "# Define the World Bank indicator code for \"Gross Fixed Capital Formation\"\n",
    "indicator_code = 'NE.GDI.FTOT.CD'\n",
    "\n",
    "# Define countries and time period\n",
    "countries = ['SA']\n",
    "start_date = '2010-01-01'\n",
    "end_date = '2023-12-31'\n",
    "\n",
    "# Fetch World Bank data using the pandas_datareader library\n",
    "world_bank_data = wb.download(indicator=indicator_code, country=countries, start=start_date, end=end_date)\n",
    "\n",
    "# Reset index to make 'Date' a column\n",
    "world_bank_data.reset_index(inplace=True)\n",
    "\n",
    "# Drop 'country' column\n",
    "world_bank_data.drop('country', axis=1, inplace=True)\n",
    "\n",
    "# Rename 'year' column to 'Date'\n",
    "world_bank_data.rename(columns={'year': 'Date', 'NE.GDI.FTOT.CD': 'I'}, inplace=True)\n",
    "world_bank_data['Date'] = pd.to_datetime(world_bank_data['Date'])  # Fix: use 'year' instead of 'Date'\n",
    "\n",
    "df3 = world_bank_data.copy()\n",
    "df3.info()\n",
    "\n",
    "\n",
    "\n"
   ]
  },
  {
   "cell_type": "code",
   "execution_count": null,
   "id": "a83e8834-40fd-44e8-a251-58a9f1878933",
   "metadata": {
    "scrolled": true
   },
   "outputs": [],
   "source": [
    "### resample data to fit quartelry framework\n",
    "# Set 'Date' column as the index\n",
    "df3.set_index('Date', inplace=True)\n",
    "\n",
    "# Resample data to fit quarterly framework\n",
    "df3_resampled = df3.I.resample('QS').asfreq()\n",
    "\n",
    "# Plot the resampled data\n",
    "df3_resampled.plot(marker='o')\n",
    "df3.I.resample('QS').asfreq().plot(marker='o')"
   ]
  },
  {
   "cell_type": "code",
   "execution_count": null,
   "id": "323f5ac1-16af-4cd6-b55e-ca048dfb3b36",
   "metadata": {},
   "outputs": [],
   "source": [
    "# taking a loook at the NA\n",
    "quarterly_I = df3.I.mul(0.25).resample('QS').asfreq()\n",
    "quarterly_I.tail()"
   ]
  },
  {
   "cell_type": "code",
   "execution_count": null,
   "id": "8cdcd588-9f2f-438e-aea8-89db70421e0f",
   "metadata": {},
   "outputs": [],
   "source": [
    "import statsmodels.api as sm\n",
    "\n",
    "# order is three numbers: (AR, Diff, MA). If this means nothing to you don't worry. But AR(1) corresponds to\n",
    "# order (1, 0, 0).\n",
    "\n",
    "# We set the trend to 'ctt' which means quadratic trend, since this data is increasing exponentially.\n",
    "mod = sm.tsa.SARIMAX(quarterly_I, order=(1, 0, 0), trend='ctt')\n",
    "res = mod.fit(method='nm', maxiter=10_000)"
   ]
  },
  {
   "cell_type": "code",
   "execution_count": null,
   "id": "7b20e80e-b49c-438c-b261-b847ad5701be",
   "metadata": {
    "scrolled": true
   },
   "outputs": [],
   "source": [
    "res.summary()"
   ]
  },
  {
   "cell_type": "code",
   "execution_count": null,
   "id": "b342a6aa-120f-475c-af4f-3051ff754837",
   "metadata": {
    "scrolled": true
   },
   "outputs": [],
   "source": [
    "fig, ax = plt.subplots()\n",
    "res.predict().plot(label='Predicted', ax=ax)\n",
    "ax.scatter(quarterly_I.index, quarterly_I.values, s=15, color='tab:orange', label='Data')\n",
    "ax.legend()\n",
    "plt.show()"
   ]
  },
  {
   "cell_type": "code",
   "execution_count": null,
   "id": "19823ed1-a300-428a-8632-c34b8241371a",
   "metadata": {
    "scrolled": true
   },
   "outputs": [],
   "source": [
    "# Plot the resampled data\n",
    "df3.I.resample('QS').asfreq().plot(marker='o')\n",
    "\n",
    "# Taking a look at the NA\n",
    "quarterly_I = df3.I.mul(0.25).resample('QS').asfreq()\n",
    "\n",
    "# Display the last few rows of the resampled quarterly data\n",
    "print(quarterly_I.tail())\n",
    "\n",
    "# SARIMAX Modeling\n",
    "mod = sm.tsa.SARIMAX(quarterly_I, order=(1, 0, 0), trend='ctt')\n",
    "res = mod.fit(method='nm', maxiter=10_000)\n",
    "\n",
    "# Generate quarterly periods\n",
    "quarterly_periods = pd.date_range(start=quarterly_I.index[-1] + pd.DateOffset(months=3), periods=4, freq='Q')\n",
    "\n",
    "# Make predictions for quarterly data\n",
    "predictions = res.get_prediction(start=quarterly_periods[0], end=quarterly_periods[-1])\n",
    "predicted_data = predictions.predicted_mean\n",
    "\n",
    "# Combine original quarterly data with predicted quarterly data\n",
    "I_predict = pd.concat([quarterly_I, pd.DataFrame(predicted_data, columns=['I'], index=quarterly_periods)])\n",
    "\n",
    "# Sort the combined data by the index (Date)\n",
    "I_predict.sort_index(inplace=True)\n",
    "\n",
    "# Reset index and rename to Date\n",
    "I_predict.reset_index(inplace=True)\n",
    "I_predict.rename(columns={'index': 'Date'}, inplace=True)\n",
    "\n",
    "# Forward-fill NAs\n",
    "I_predict.ffill(inplace=True)\n",
    "\n",
    "print(I_predict)"
   ]
  },
  {
   "cell_type": "code",
   "execution_count": null,
   "id": "57aa3b3e-f4ac-4374-a524-98620f789ea4",
   "metadata": {},
   "outputs": [],
   "source": [
    "# Reset index and rename to match your requirements\n",
    "#combined_data_I.reset_index(inplace=True)\n",
    "\n",
    "# Drop the number in the column row and also drop 'I' column\n",
    "\n",
    "I_predict.rename(columns={0: 'I_pred'}, inplace=True)\n",
    "I_predict.drop(columns='I', axis=1, inplace=True)\n",
    "I_predict.head()\n",
    "I_predict.info()"
   ]
  },
  {
   "cell_type": "code",
   "execution_count": null,
   "id": "fcc9c57b-798a-4c22-b6f2-bc36e31d97e3",
   "metadata": {},
   "outputs": [],
   "source": [
    "### Step 3.2 ## Change currency to Saudi Dollar petro money"
   ]
  },
  {
   "cell_type": "code",
   "execution_count": null,
   "id": "40ec36ec-7e0f-4ced-81c3-6464942cb0a1",
   "metadata": {},
   "outputs": [],
   "source": [
    "### Step 4 ## 4\tTBt\tTrade Balance trade in goods and services (BOP, current US$)\n",
    "\n",
    "## data is in current US Dollar\n",
    "\n",
    "import pandas as pd\n",
    "import pandas_datareader.wb as wb\n",
    "\n",
    "# Define World Bank indicator code for Trade Balance\n",
    "indicator_code = 'BN.GSR.GNFS.CD'\n",
    "\n",
    "# Define the countries and time period\n",
    "countries = ['SA']\n",
    "start_date = '2010-01-01'\n",
    "end_date = '2023-12-31'\n",
    "\n",
    "# Fetch World Bank data using pandas_datareader\n",
    "world_bank_data = wb.download(indicator=indicator_code, country=countries, start=start_date, end=end_date)\n",
    "\n",
    "# Reset index to build Date column\n",
    "world_bank_data.reset_index(inplace=True)\n",
    "\n",
    "# Drop country\n",
    "world_bank_data.drop('country', axis=1, inplace=True)\n",
    "\n",
    "# Rename year to Date\n",
    "world_bank_data.rename(columns={'year': 'Date', 'BN.GSR.GNFS.CD': 'TB'}, inplace=True)\n",
    "world_bank_data['Date'] = pd.to_datetime(world_bank_data['Date']) \n",
    "\n",
    "df4 = world_bank_data.copy()\n",
    "df4.info()\n",
    "df4.head()"
   ]
  },
  {
   "cell_type": "code",
   "execution_count": null,
   "id": "be03f01e-f29e-49f9-877e-0d0ba3c75452",
   "metadata": {},
   "outputs": [],
   "source": [
    "### Step 4.2 ## Trade Balance trade in goods and services (BOP, current US$)\n",
    "# change to quarterly numbers"
   ]
  },
  {
   "cell_type": "code",
   "execution_count": null,
   "id": "a48390de",
   "metadata": {},
   "outputs": [],
   "source": [
    "### Step 5 ## Average Hours of Work for Employed Persons\n",
    "#import pandas as pd\n",
    "\n",
    "# this API import is killing me\n",
    "sa_ave_hours_worked = 'https://database.stats.gov.sa/gastatapi/portal/api/v1/indicators/getData?format=@CSV&api=7563820c60aa782a9c85abcf47378b198fdbff06b72c12cdfe9ae32b623f2ac1ba97c1197512c692d0d8ef53d2ff3bd69fe848f7dd7c817472066e4a441f89496a67e3d726b1f710d3618b10d5e5360d41628cd6b78d97694aa88997f4f1a4abbf201543c0f6d2beec472c4957f9d4d8c9d0c7aa20a58f056496572745478d003b4e1f28b2ba7652e2883a8c120e8150cbdcbb3df0efb7b3c2ad003f07f60852'\n",
    "# different  setup\n",
    "df5 = pd.read_csv(sa_ave_hours_worked)\n",
    "df5.to_csv('sa_ave_hours_worked.csv', index=False)\n",
    "# rename year to date to stay consistent\n",
    "df5.columns = ['EMPLYEES_OBSV', 'Date', 'TOTAL_HOURS_OBSV']\n",
    "# not real date format but to stay consistent\n",
    "df5['Date'] = pd.to_datetime(df5['Date'], format='%Y')\n",
    "#adjust year_time to our quarterly date format\n",
    "#df5['YEAR_TIME'] = pd.to_datetime(df5['YEAR_TIME'].astype(str) + '-1', format='%Y-Q%m')\n",
    "#nevermind the format is not the biggest problem \n",
    "\n",
    "#import from files\n",
    "#this is also not working. I dont Saudi Arabia\n",
    "#ave_hour_down = r'C:\\Users\\mauri\\Documents\\GitHub\\Uni-projects\\ave_hour_down.csv'\n",
    "#df5_down = pd.read_csv(ave_hour_down)\n",
    "#df5_down.info()\n",
    "\n",
    "df5.info()"
   ]
  },
  {
   "cell_type": "code",
   "execution_count": null,
   "id": "20885024-c258-428b-8995-4f76248680b8",
   "metadata": {},
   "outputs": [],
   "source": [
    "### Step 5 take a look at the data\n",
    "# checking for missing values\n",
    "#print(df5.isnull().sum())\n",
    "# general overview\n",
    "import matplotlib.pyplot as plt\n",
    "import pandas as pd\n",
    "\n",
    "# Set the display format for floating-point numbers\n",
    "pd.set_option('display.float_format', '{:.2f}'.format)\n",
    "\n",
    "# Summary statistics\n",
    "summary_stats = df5.describe()\n",
    "\n",
    "# min and max values\n",
    "min_values = df5.min()\n",
    "max_values = df5.max()\n",
    "\n",
    "# histograms\n",
    "df5.hist(figsize=(10, 8))\n",
    "plt.suptitle('Histograms')\n",
    "\n",
    "# Box plots\n",
    "df5.boxplot(figsize=(10, 6))\n",
    "plt.title('Box Plots')\n",
    "\n",
    "# Scatter plots for each pair of variables\n",
    "#numerical_columns = df5.select_dtypes(include='number').columns\n",
    "#scatter_matrix = pd.plotting.scatter_matrix(df5[numerical_columns], figsize=(12, 12), marker='o', diagonal='hist')\n",
    "#plt.suptitle('Scatter Plots', y=1.02)\n",
    "\n",
    "# # Line plot for total hours worked per year\n",
    "# plt.figure(figsize=(10, 6))\n",
    "# plt.plot(df5['Date'], df5['TOTAL_HOURS_OBSV'], marker='o', linestyle='-', color='b')\n",
    "# plt.title('Total Hours Worked Per Year')\n",
    "# plt.xlabel('Year')\n",
    "# plt.ylabel('Total Hours Worked')\n",
    "# plt.grid(True)\n",
    "\n",
    "\n",
    "# Sort the DataFrame by the 'YEAR_TIME' column\n",
    "df5_sorted = df5.sort_values(by='Date')\n",
    "\n",
    "# Line plot for total hours worked per year\n",
    "plt.figure(figsize=(10, 6))\n",
    "plt.plot(df5_sorted['Date'], df5_sorted['TOTAL_HOURS_OBSV'], marker='o', linestyle='-', color='b')\n",
    "plt.title('Total Hours Worked Per Year')\n",
    "plt.xlabel('Year')\n",
    "plt.ylabel('Total Hours Worked')\n",
    "plt.grid(True)\n",
    "plt.show()\n",
    "\n",
    "# Show plots\n",
    "plt.show()\n",
    "\n",
    "# Display the summary statistics, min, and max values\n",
    "print(\"Summary Statistics:\")\n",
    "print(summary_stats)\n",
    "print(\"\\nMin Values:\")\n",
    "print(min_values)\n",
    "print(\"\\nMax Values:\")\n",
    "print(max_values)\n"
   ]
  },
  {
   "cell_type": "code",
   "execution_count": null,
   "id": "966b6627-795b-4ced-a6a6-5d11080ece42",
   "metadata": {},
   "outputs": [],
   "source": [
    "### Step 6 ## Average Monthly Wages for Paid Employees\n",
    "\n",
    "\n",
    "# i still hate this thing\n",
    "sa_ave_wage_empl = 'https://database.stats.gov.sa/gastatapi/portal/api/v1/indicators/getData?format=@CSV&api=7563820c60aa782a9c85abcf47378b19184536fdfc8572a64c787b576ad46259eeffe7eba57b098eed5e5e4b28fac9f836d7c0bbbbd42ea0c7b3cc324add0657119ea69136445d759e41292d3d6c6828c1bc253adb97eadf45df2a6d3e9286501ce082b9ca038d4bde5a30967da3fabe0004ff8c5f9a2081679b2a33d0fe9f662e714b02aeeff24da1fff252beec6f04bf31f754e930bee313b87c923777b6f8d7dad96afb83bdd2e2f5832caf804844'\n",
    "df6 = pd.read_csv(sa_ave_wage_empl)\n",
    "df6.to_csv('sa_ave_wage_empl.csv', index=False)\n",
    "# rename year to date to stay consistent\n",
    "df6.columns = ['Date','EMPLYEES_PAYED_OBSV', 'MONTHLY_WAGE_OBSV']\n",
    "# not real date format but to stay consistent\n",
    "df6['Date'] = pd.to_datetime(df5['Date'], format='%Y')\n",
    "#adjust year_time to our quarterly date format\n",
    "#df6['YEAR_TIME'] = pd.to_datetime(df5['YEAR_TIME'].astype(str) + '-1', format='%Y-Q%m')\n",
    "#nevermind the format is not the biggest problem \n",
    "\n",
    "\n",
    "df6.info()\n",
    "df6.head()"
   ]
  },
  {
   "cell_type": "code",
   "execution_count": null,
   "id": "d24959c4-cb4c-45bb-b4bb-e1294e967f0a",
   "metadata": {},
   "outputs": [],
   "source": [
    "### Step 6 ## Average Monthly Wages for Paid Employees\n",
    "#change to quarterly numbers"
   ]
  },
  {
   "cell_type": "code",
   "execution_count": null,
   "id": "7fcd1a52-64a6-4b99-afd0-e135e49fab33",
   "metadata": {},
   "outputs": [],
   "source": [
    "### Step 7 ## Real Long Term Bond Rate\n",
    "## wrong years\n",
    "\n",
    "df7.info()\n",
    "df7.head()"
   ]
  },
  {
   "cell_type": "code",
   "execution_count": null,
   "id": "abc83acc-ae22-4db9-9c91-8b89d09983e2",
   "metadata": {},
   "outputs": [],
   "source": [
    "### Step 8 ## Short Term Bond Rate\t\n",
    "## quarterly numbers\n",
    "\n",
    "df8.info()\n",
    "df8.head()"
   ]
  },
  {
   "cell_type": "code",
   "execution_count": null,
   "id": "fb20c7b5-844d-44d9-b2bd-eddd5b6fbd1b",
   "metadata": {},
   "outputs": [],
   "source": [
    "### Step 9 ## Capital Stock at Constant National Prices\n",
    "## in USD\n",
    "## quarterly numbers\n",
    "\n",
    "data = FredReader(symbols=['NCPRNSAXDCSAQ'], start='2010', end=None).read()\n",
    "data.to_csv('Cap_stock_at_Constant_National_Prices_USD.csv')\n",
    "\n",
    "# Read the CSV file and parse 'DATE' as datetime\n",
    "df9 = pd.read_csv('Cap_stock_at_Constant_National_Prices_USD.csv', parse_dates=['DATE'])\n",
    "\n",
    "# save for merging later \n",
    "df9.to_csv('Cap_stock_at_Constant_National_Prices_USD.csv', index=False)\n",
    "\n",
    "# Rename the columns\n",
    "df9.columns = ['Date', 'K']\n",
    "\n",
    "# Display the DataFrame\n",
    "df9.head()\n",
    "df9.info()\n"
   ]
  },
  {
   "cell_type": "code",
   "execution_count": null,
   "id": "1f393442-9c6d-4d18-b26f-aa00045dbe6d",
   "metadata": {},
   "outputs": [],
   "source": [
    "### Step 10 ## Current Account\tBN.CAB.XOKA.GD.ZS\n",
    "#Current account balance % of GDP, Annual\n",
    "\n",
    "## data is in percent\n",
    "\n",
    "import pandas as pd\n",
    "import pandas_datareader.wb as wb\n",
    "\n",
    "# Define the World Bank indicator code for \"Gross Fixed Capital Formation\"\n",
    "indicator_code = 'BN.CAB.XOKA.GD.ZS'\n",
    "\n",
    "# Define the countries and time period you are interested in (only Saudi Arabia in this case)\n",
    "countries = ['SA']\n",
    "start_date = '2010-01-01'\n",
    "end_date = '2023-12-31'\n",
    "\n",
    "# Fetch World Bank data using the pandas_datareader library\n",
    "world_bank_data = wb.download(indicator=indicator_code, country=countries, start=start_date, end=end_date)\n",
    "\n",
    "# Reset index to make 'Date' a column\n",
    "world_bank_data.reset_index(inplace=True)\n",
    "\n",
    "# Drop 'country' column\n",
    "world_bank_data.drop('country', axis=1, inplace=True)\n",
    "\n",
    "# Rename 'year' column to 'Date'\n",
    "world_bank_data.rename(columns={'year': 'Date', 'BN.CAB.XOKA.GD.ZS': 'CA'}, inplace=True)\n",
    "world_bank_data['Date'] = pd.to_datetime(world_bank_data['Date'])  # Fix: use 'year' instead of 'Date'\n",
    "\n",
    "df10 = world_bank_data.copy()\n",
    "df10.info()\n",
    "df10.head()"
   ]
  },
  {
   "cell_type": "code",
   "execution_count": null,
   "id": "e8144bde-becd-46ee-999a-5436e57127fb",
   "metadata": {},
   "outputs": [],
   "source": [
    "### Step 10.2 ## Current Account\tBN.CAB.XOKA.GD.ZS\n",
    "#Current account balance % of GDP, Annual\n",
    "\n",
    "## change to quarterly\n"
   ]
  },
  {
   "cell_type": "code",
   "execution_count": null,
   "id": "60daaf1e-7a2b-4433-9885-42564640e4fb",
   "metadata": {},
   "outputs": [],
   "source": [
    "### Step 11 ## Consumer Prices\tFP.CPI.TOTL.ZG\n",
    "#Current account balance % of GDP, Annual\n",
    "\n",
    "## data is in percent\n",
    "\n",
    "import pandas as pd\n",
    "import pandas_datareader.wb as wb\n",
    "\n",
    "# Define the World Bank indicator code for \"Gross Fixed Capital Formation\"\n",
    "indicator_code = 'FP.CPI.TOTL.ZG'\n",
    "\n",
    "# Define the countries and time period you are interested in (only Saudi Arabia in this case)\n",
    "countries = ['SA']\n",
    "start_date = '2010-01-01'\n",
    "end_date = '2023-12-31'\n",
    "\n",
    "# Fetch World Bank data using the pandas_datareader library\n",
    "world_bank_data = wb.download(indicator=indicator_code, country=countries, start=start_date, end=end_date)\n",
    "\n",
    "# Reset index to make 'Date' a column\n",
    "world_bank_data.reset_index(inplace=True)\n",
    "\n",
    "# Drop 'country' column\n",
    "world_bank_data.drop('country', axis=1, inplace=True)\n",
    "\n",
    "# Rename 'year' column to 'Date'\n",
    "world_bank_data.rename(columns={'year': 'Date', 'FP.CPI.TOTL.ZG': 'CPI'}, inplace=True)\n",
    "world_bank_data['Date'] = pd.to_datetime(world_bank_data['Date'])  # Fix: use 'year' instead of 'Date'\n",
    "\n",
    "df11 = world_bank_data.copy()\n",
    "df11.info()\n",
    "df11.head()"
   ]
  },
  {
   "cell_type": "code",
   "execution_count": null,
   "id": "89568af7-69db-43f0-8225-db0dbe75f49c",
   "metadata": {},
   "outputs": [],
   "source": [
    "### Step 11.2 ## Consumer Prices\tFP.CPI.TOTL.ZG\n",
    "\n",
    "## change to quarterly\n"
   ]
  },
  {
   "cell_type": "code",
   "execution_count": null,
   "id": "97935aea-1519-4e12-83ad-adde65b266d4",
   "metadata": {},
   "outputs": [],
   "source": [
    "### Step 13 ## Oil prices  Prices\n",
    "\n",
    "!pip install wbgapi \n",
    "import wbgapi as wb\n",
    "wb.source.info()\n"
   ]
  },
  {
   "cell_type": "code",
   "execution_count": null,
   "id": "97dbc5f2",
   "metadata": {
    "scrolled": true
   },
   "outputs": [],
   "source": [
    "### Step 13 ## Oil prices  Prices\n",
    "\n",
    "## in USD\n",
    "## weekly numbers\n",
    "\n",
    "data = FredReader(symbols=['DCOILWTICO'], start='2010', end=None).read()\n",
    "data.to_csv('Cruide_oil_barrel_USD.csv')\n",
    "\n",
    "# Read the CSV file and parse 'DATE' as datetime\n",
    "df13 = pd.read_csv('Cruide_oil_barrel_USD.csv', parse_dates=['DATE'])\n",
    "\n",
    "# save for merging later \n",
    "df13.to_csv('Cruide_oil_barrel_USD.csv', index=False)\n",
    "\n",
    "# Rename the columns\n",
    "df13.columns = ['Date', 'Oil']\n",
    "\n",
    "# Display the DataFrame\n",
    "df13.head()\n"
   ]
  },
  {
   "cell_type": "code",
   "execution_count": null,
   "id": "e9d9fb6e-eb0e-4ce5-a261-f418f3d84114",
   "metadata": {},
   "outputs": [],
   "source": [
    "### step 13 # handle missing values\n",
    "df13['Date'] = pd.to_datetime(df13['Date'])\n",
    "df13.set_index('Date', inplace=True)\n",
    "df13_filled = df13.fillna((df13.ffill() + df13.bfill()) / 2)"
   ]
  },
  {
   "cell_type": "code",
   "execution_count": null,
   "id": "3055e293-f7a5-4f25-8dc4-ccfe7eb084bd",
   "metadata": {},
   "outputs": [],
   "source": [
    "### Step 13 ## Oil prices  Prices change to quarterly\n",
    "df13_quarterly = df13_filled.resample('Q').mean()\n",
    "\n",
    "## in USD\n",
    "## weekly numbers"
   ]
  },
  {
   "cell_type": "code",
   "execution_count": null,
   "id": "194c6d51-6b4b-44d4-a12a-94bcf5c10e95",
   "metadata": {},
   "outputs": [],
   "source": [
    "df13_filled.Oil.plot(label='Weekly', legend=True)\n",
    "df13_quarterly.Oil.plot(label='Quarterly', legend=True)"
   ]
  },
  {
   "cell_type": "code",
   "execution_count": null,
   "id": "b1eacbbf-0028-4cf0-a112-997b216b65d4",
   "metadata": {},
   "outputs": [],
   "source": [
    "wb.economy.metadata.get('SAU')\n",
    "wb.series.info(q='"
   ]
  },
  {
   "cell_type": "markdown",
   "id": "806387e7-7d18-4369-9029-88045ea97c54",
   "metadata": {},
   "source": [
    "### Overview of Data that needs to get imported\n",
    "| Import step | Variable | Variable Name | Shortcut | Note | Source | Link | Date |\n",
    "| --- | --- | --- | --- | --- | --- | --- | --- |\n",
    "| 1 | Yt | Real Gross Domestic Product | NGDPRSAXDCSAQ | Domestic Currency, SA, Quarterly | FRED | [Link](https://fred.stlouisfed.org/series/NGDPRSAXDCSAQ) | 2010 - current |\n",
    "| 2 | C | Real Private Sector Final Consumption Expenditure | NCPRNSAXDCSAQ | Domestic Currency, Not SA, Quarterly | FRED | [Link](https://fred.stlouisfed.org/series/NCPRNSAXDCSAQ) | 2010 - current |\n",
    "| 3 | It | Gross Fixed Capital Formation | NE.GDI.FTOT.CD | Current US Dollar, Annual | WorldBank | [Link](https://data.worldbank.org/indicator/NE.GDI.FTOT.CD?locations=SA) | 1968-2022 |\n",
    "| 4 | TBt | Trade Balance | BN.GSR.GNFS.CD | Net trade in goods and services (BOP, current US$) | World Bank | [Link](https://data.worldbank.org/indicator/BN.GSR.GNFS.CD?locations=SA) | 1971-2022 |\n",
    "| 5 | Nt | Average Hours of Work for Employed Persons | Excel attached | Measures the average weekly working hours of workers (15 years and over) | General Statistics Authority | [Link](https://database.stats.gov.sa/home/indicator/999118) | Q2 2016-Q2 2023 |\n",
    "| 6 | wt | Average Monthly Wages for Paid Employees | Excel attached | The sum of the monthly wages to the total of employed persons for wages | General Statistics Authority | [Link](https://database.stats.gov.sa/home/indicator/999118) | Q2 2016-Q2 2023 |\n",
    "| 7 | Rt | Real Long Term Bond Rate | | 10-year government development bond yield, Quarterly | National Statistics, Saudi Central Bank | [Link](https://www.sama.gov.sa/en-US/GovtSecurity/pages/governmentdevelopmentbonds.aspx), [Specific Bond (19Jan2029)](https://cbonds.com/bonds/461405/) | Q1999-Q32007, Past 3 yrs |\n",
    "| 8 | rt | Short Term Bond Rate | Excel attached | Quarterly average of interbank rate | Saudi Central Bank | [Link](https://www.sama.gov.sa/ar-sa/EconomicReports/Pages/report.aspx?cid=118) | 2007-current |\n",
    "| 9 | Kt | Capital Stock at Constant National Prices | RKNANPSAA666NRUG | Millions of 2017 U.S. Dollars, Not SA, Annual | FRED | [Link](https://fred.stlouisfed.org/series/RKNANPSAA666NRUG) | 1970-2019 |\n",
    "| 10 | CAt | Current Account | BN.CAB.XOKA.GD.ZS | Current account balance % of GDP, Annual | Worldbank | [Link](https://data.worldbank.org/indicator/BN.CAB.XOKA.GD.ZS?locations=SA) | 1970-2018 |\n",
    "| 11 | CPI | Consumer Prices | FP.CPI.TOTL.ZG | % Annual | Worldbank | [Link](https://data.worldbank.org/indicator/FP.CPI.TOTL.ZG?locations=SA) | 1964-2022 |\n",
    "| 12 | ER | Exchange Rate | | The Saudi riyal has been at a fixed rate to the US dollar since June 1986 (SAR 3.7500 per USD) | Constant | - |\n",
    "| 13 | Oil | Crude Oil, Brent Prices | Excel attached | Crude oil, average spot price of Brent, Dubai and West Texas Intermediate, equally weighed, Monthly | Worldbank | [Link](https://www.worldbank.org/en/research/commodity-markets) | 960-current |\n"
   ]
  },
  {
   "cell_type": "code",
   "execution_count": null,
   "id": "32ba6e29-261b-4bb6-ba66-57efdfbdbaf8",
   "metadata": {},
   "outputs": [],
   "source": [
    "### last step merge all df frames\n",
    "# Merge the first two DataFrames on the 'Date' column\n",
    "df_merged = pd.merge(df1, df2, on='Date')\n",
    "\n",
    "# Merge the result with the third DataFrame ('I_predict') on the 'Date' column\n",
    "df_merged = pd.merge(df_merged, I_predict, on='Date')"
   ]
  },
  {
   "cell_type": "code",
   "execution_count": null,
   "id": "9646aeb7-bf83-4aa5-9ca8-0073147c4cac",
   "metadata": {
    "scrolled": true
   },
   "outputs": [],
   "source": [
    "df_merged.head()\n"
   ]
  },
  {
   "cell_type": "code",
   "execution_count": null,
   "id": "d7f8dc22-4f07-4eb0-8600-b75eb92c0610",
   "metadata": {},
   "outputs": [],
   "source": []
  }
 ],
 "metadata": {
  "kernelspec": {
   "display_name": "Python 3 (ipykernel)",
   "language": "python",
   "name": "python3"
  },
  "language_info": {
   "codemirror_mode": {
    "name": "ipython",
    "version": 3
   },
   "file_extension": ".py",
   "mimetype": "text/x-python",
   "name": "python",
   "nbconvert_exporter": "python",
   "pygments_lexer": "ipython3",
   "version": "3.8.18"
  }
 },
 "nbformat": 4,
 "nbformat_minor": 5
}
