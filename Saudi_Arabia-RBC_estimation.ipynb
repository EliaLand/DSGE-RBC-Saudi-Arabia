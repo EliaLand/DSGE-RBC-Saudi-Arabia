{
 "cells": [
  {
   "cell_type": "code",
   "execution_count": 139,
   "id": "bd5235dc-6cab-41ad-8271-b5d845eb71eb",
   "metadata": {},
   "outputs": [
    {
     "name": "stderr",
     "output_type": "stream",
     "text": [
      "Der Befehl \"git\" ist entweder falsch geschrieben oder\n",
      "konnte nicht gefunden werden.\n"
     ]
    }
   ],
   "source": [
    "!git init"
   ]
  },
  {
   "cell_type": "code",
   "execution_count": 140,
   "id": "57d5d4ca-20b3-4f08-b3e2-c1fee04a2186",
   "metadata": {},
   "outputs": [
    {
     "data": {
      "text/plain": [
       "'C:\\\\Users\\\\mauri\\\\Documents\\\\GitHub\\\\Uni-projects'"
      ]
     },
     "execution_count": 140,
     "metadata": {},
     "output_type": "execute_result"
    }
   ],
   "source": [
    "import os\n",
    "os.getcwd()"
   ]
  },
  {
   "cell_type": "code",
   "execution_count": 141,
   "id": "c8e2ce18-a61e-4be1-b23a-aa8dcdec4da3",
   "metadata": {},
   "outputs": [
    {
     "name": "stdout",
     "output_type": "stream",
     "text": [
      "[WinError 123] Die Syntax für den Dateinamen, Verzeichnisnamen oder die Datenträgerbezeichnung ist falsch: \"'C:\\\\\\\\Users\\\\\\\\eland'\"\n",
      "C:\\Users\\mauri\\Documents\\GitHub\\Uni-projects\n"
     ]
    }
   ],
   "source": [
    "cd 'C:\\\\Users\\\\eland'"
   ]
  },
  {
   "cell_type": "code",
   "execution_count": 142,
   "id": "2b52cf39-685c-4791-b445-807a98395047",
   "metadata": {},
   "outputs": [
    {
     "name": "stderr",
     "output_type": "stream",
     "text": [
      "Der Befehl \"git\" ist entweder falsch geschrieben oder\n",
      "konnte nicht gefunden werden.\n",
      "Der Befehl \"git\" ist entweder falsch geschrieben oder\n",
      "konnte nicht gefunden werden.\n"
     ]
    }
   ],
   "source": [
    "!git config --global user.email \"e.lando2001@gmail.com\"\n",
    "!git config --global user.name \"EliaLand\""
   ]
  },
  {
   "cell_type": "code",
   "execution_count": 143,
   "id": "b249e778-e5d9-4285-bfcb-713340ceebe9",
   "metadata": {},
   "outputs": [
    {
     "name": "stderr",
     "output_type": "stream",
     "text": [
      "Der Befehl \"git\" ist entweder falsch geschrieben oder\n",
      "konnte nicht gefunden werden.\n",
      "Der Befehl \"git\" ist entweder falsch geschrieben oder\n",
      "konnte nicht gefunden werden.\n",
      "Der Befehl \"git\" ist entweder falsch geschrieben oder\n",
      "konnte nicht gefunden werden.\n",
      "Der Befehl \"git\" ist entweder falsch geschrieben oder\n",
      "konnte nicht gefunden werden.\n"
     ]
    }
   ],
   "source": [
    "!git add SaudiArabia_RBC_estimation.ipynb  \n",
    "!git commit -m \"Initial commit\"\n",
    "!git remote add origin https://github.com/EliaLand/Uni-projects.git\n",
    "!git push -u origin master  "
   ]
  },
  {
   "cell_type": "code",
   "execution_count": 144,
   "id": "2e6163b6-fe89-4e7d-97e3-616a05cc2fe5",
   "metadata": {},
   "outputs": [
    {
     "name": "stdout",
     "output_type": "stream",
     "text": [
      "Requirement already satisfied: pandas in c:\\users\\mauri\\miniconda3\\envs\\econ\\lib\\site-packages (2.1.1)\n",
      "Requirement already satisfied: numpy>=1.23.2 in c:\\users\\mauri\\miniconda3\\envs\\econ\\lib\\site-packages (from pandas) (1.24.4)\n",
      "Requirement already satisfied: python-dateutil>=2.8.2 in c:\\users\\mauri\\miniconda3\\envs\\econ\\lib\\site-packages (from pandas) (2.8.2)\n",
      "Requirement already satisfied: pytz>=2020.1 in c:\\users\\mauri\\miniconda3\\envs\\econ\\lib\\site-packages (from pandas) (2023.3.post1)\n",
      "Requirement already satisfied: tzdata>=2022.1 in c:\\users\\mauri\\miniconda3\\envs\\econ\\lib\\site-packages (from pandas) (2023.3)\n",
      "Requirement already satisfied: six>=1.5 in c:\\users\\mauri\\miniconda3\\envs\\econ\\lib\\site-packages (from python-dateutil>=2.8.2->pandas) (1.16.0)\n"
     ]
    }
   ],
   "source": [
    "!pip install pandas"
   ]
  },
  {
   "cell_type": "markdown",
   "id": "0d3ff4de-b679-4748-b3d9-ceefbf99ce47",
   "metadata": {},
   "source": [
    "### Overview of Data that needs to get imported\n",
    "\n",
    "| Step | Imported? | Season adjusted? | Currency adjusted? | Variable | Variable Name | Shortcut | Note | Source | Link | Date |\n",
    "|------|-----------|-------------------|---------------------|----------|---------------|----------|------|--------|------|------|\n",
    "| 1    | Yes       | Yes               | Riyal               | Yt       | Real GDP      | NGDPRSAXDCSAQ | Domestic Currency, SA, Quarterly | FRED | [Link](https://fred.stlouisfed.org/series/NGDPRSAXDCSAQ) | 2010 - current |\n",
    "| 2    | Yes       |                   | Riyal               | C        | Real Private Sector Final Consumption Expenditure | NCPRNSAXDCSAQ | Domestic Currency, Not SA, Quarterly | FRED | [Link](https://fred.stlouisfed.org/series/NCPRNSAXDCSAQ) | 2010 - current |\n",
    "| 3    | Yes       | I tried           | USD                 | It       | Gross Fixed Capital Formation | NE.GDI.FTOT.CD | Current US Dollar, Annual | WorldBank | [Link](https://data.worldbank.org/indicator/NE.GDI.FTOT.CD?locations=SA) | 1968-2022 |\n",
    "| 4    | Yes       | No                | USD                 | TBt      | Trade Balance | BN.GSR.GNFS.CD | Net trade in goods and services (BOP, current US$) | World Bank | [Link](https://data.worldbank.org/indicator/BN.GSR.GNFS.CD?locations=SA) | 1971-2022 |\n",
    "| 5    | No        | Fuck this         | I am adjusted       | Nt       | Average Hours of Work for Employed Persons | Excel attached | Measures the average weekly working hours of workers (15 years and over) | General Statistics Authority | [Link](https://database.stats.gov.sa/home/indicator/999118) | Q2 2016-Q2 2023 |\n",
    "| 6    | No        |                   |                     | wt       | Average Monthly Wages for Paid Employees | Excel attached | The sum of the monthly wages to the total of employed persons for wages | General Statistics Authority | [Link](https://database.stats.gov.sa/home/indicator/999118) | Q2 2016-Q2 2023 |\n",
    "| 7    | Yes       |                   | In %                |          | Real Long Term Bond Rate | - | 10-year government development bond yield, Quarterly | National Statistics, Saudi Central Bank | [Link](https://www.sama.gov.sa/en-US/GovtSecurity/pages/governmentdevelopmentbonds.aspx), [Specific Bond (19Jan2029)](https://cbonds.com/bonds/461405/) | Q1999-Q32007, Past 3 yrs |\n",
    "| 8    | Yes       |                   | In %                | rt       | Short Term Bond Rate | Excel attached | Quarterly average of interbank rate | Saudi Central Bank | [Link](https://www.sama.gov.sa/ar-sa/EconomicReports/Pages/report.aspx?cid=118) | 2007-current |\n",
    "| 9    | Yes       |                   | Riyal               | Kt       | Capital Stock at Constant National Prices | RKNANPSAA666NRUG | Millions of 2017 U.S. Dollars, Not SA, Annual | FRED | [Link](https://fred.stlouisfed.org/series/RKNANPSAA666NRUG) | 1970-2019 |\n",
    "| 10   | Yes       |                   | In %                | CAt      | Current Account | BN.CAB.XOKA.GD.ZS | Current account balance % of GDP, Annual | Worldbank | [Link](https://data.worldbank.org/indicator/BN.CAB.XOKA.GD.ZS?locations=SA) | 1970-2021 |\n",
    "| 11   | Yes       |                   | In %                |          | CPI           | Consumer Prices | FP.CPI.TOTL.ZG | % Annual | Worldbank | [Link](https://data.worldbank.org/indicator/FP.CPI.TOTL.ZG?locations=SA) | 1964-2021 |\n",
    "| 12   | Yes       |                   |                     | ER       | Exchange Rate  | - | The Saudi riyal has been at a fixed rate to the US dollar since June 1986 (SAR 3.7500 per USD) | Constant | - | - |\n",
    "| 13   | Yes       | USD               |                     | Oil      | Crude Oil, Brent Prices | Excel attached | Crude oil, average spot price of Brent, Dubai and West Texas Intermediate, equally weighed, Monthly | Worldbank | [Link](https://www.worldbank.org/en/research/commodity-markets) | - |\n"
   ]
  },
  {
   "cell_type": "code",
   "execution_count": 145,
   "id": "0f01026e-dd4f-4966-ba5d-73775901f968",
   "metadata": {
    "scrolled": true
   },
   "outputs": [
    {
     "data": {
      "text/html": [
       "<div>\n",
       "<style scoped>\n",
       "    .dataframe tbody tr th:only-of-type {\n",
       "        vertical-align: middle;\n",
       "    }\n",
       "\n",
       "    .dataframe tbody tr th {\n",
       "        vertical-align: top;\n",
       "    }\n",
       "\n",
       "    .dataframe thead th {\n",
       "        text-align: right;\n",
       "    }\n",
       "</style>\n",
       "<table border=\"1\" class=\"dataframe\">\n",
       "  <thead>\n",
       "    <tr style=\"text-align: right;\">\n",
       "      <th></th>\n",
       "      <th>Date</th>\n",
       "      <th>Y</th>\n",
       "    </tr>\n",
       "  </thead>\n",
       "  <tbody>\n",
       "    <tr>\n",
       "      <th>0</th>\n",
       "      <td>2010-01-01</td>\n",
       "      <td>472498.10</td>\n",
       "    </tr>\n",
       "    <tr>\n",
       "      <th>1</th>\n",
       "      <td>2010-04-01</td>\n",
       "      <td>487268.90</td>\n",
       "    </tr>\n",
       "    <tr>\n",
       "      <th>2</th>\n",
       "      <td>2010-07-01</td>\n",
       "      <td>492963.70</td>\n",
       "    </tr>\n",
       "    <tr>\n",
       "      <th>3</th>\n",
       "      <td>2010-10-01</td>\n",
       "      <td>521219.10</td>\n",
       "    </tr>\n",
       "    <tr>\n",
       "      <th>4</th>\n",
       "      <td>2011-01-01</td>\n",
       "      <td>535829.90</td>\n",
       "    </tr>\n",
       "  </tbody>\n",
       "</table>\n",
       "</div>"
      ],
      "text/plain": [
       "        Date         Y\n",
       "0 2010-01-01 472498.10\n",
       "1 2010-04-01 487268.90\n",
       "2 2010-07-01 492963.70\n",
       "3 2010-10-01 521219.10\n",
       "4 2011-01-01 535829.90"
      ]
     },
     "execution_count": 145,
     "metadata": {},
     "output_type": "execute_result"
    }
   ],
   "source": [
    "### Step 1 ## Importing Real Gross Domestic Product\n",
    "import pandas as pd\n",
    "import numpy as np\n",
    "from pandas_datareader.fred import FredReader\n",
    "data = FredReader(symbols=['NGDPRSAXDCSAQ'], start='2010', end=None).read()\n",
    "data.to_csv('SA_gdp_seasonally_adjusted.csv')\n",
    "\n",
    "# Read the CSV file and parse 'DATE' as datetime\n",
    "df1 = pd.read_csv('SA_gdp_seasonally_adjusted.csv', parse_dates=['DATE'])\n",
    "\n",
    "# save for merging later \n",
    "df1.to_csv('SA_gdp_seasonally_adjusted.csv', index=False)\n",
    "\n",
    "# Rename the columns\n",
    "df1.columns = ['Date', 'Y']\n",
    "\n",
    "# Display the DataFrame\n",
    "df1.head()"
   ]
  },
  {
   "cell_type": "code",
   "execution_count": 146,
   "id": "c172a20f-b83c-4d87-bae6-31c8b7fee83e",
   "metadata": {
    "scrolled": true
   },
   "outputs": [
    {
     "name": "stdout",
     "output_type": "stream",
     "text": [
      "<class 'pandas.core.frame.DataFrame'>\n",
      "RangeIndex: 55 entries, 0 to 54\n",
      "Data columns (total 2 columns):\n",
      " #   Column  Non-Null Count  Dtype         \n",
      "---  ------  --------------  -----         \n",
      " 0   Date    55 non-null     datetime64[ns]\n",
      " 1   Y       55 non-null     float64       \n",
      "dtypes: datetime64[ns](1), float64(1)\n",
      "memory usage: 1012.0 bytes\n"
     ]
    }
   ],
   "source": [
    "# Check the format of the data so make sure we have a float variable\n",
    "df1.info()"
   ]
  },
  {
   "cell_type": "code",
   "execution_count": 147,
   "id": "a5fb69b4-4076-4d0c-9e51-62bd40bc7298",
   "metadata": {},
   "outputs": [],
   "source": [
    "# Create an index using our Date column\n",
    "df1.set_index('Date', inplace=True)"
   ]
  },
  {
   "cell_type": "code",
   "execution_count": 148,
   "id": "1e86a580-a091-4f5f-944e-48e3ec501ba4",
   "metadata": {
    "scrolled": true
   },
   "outputs": [
    {
     "data": {
      "text/html": [
       "<div>\n",
       "<style scoped>\n",
       "    .dataframe tbody tr th:only-of-type {\n",
       "        vertical-align: middle;\n",
       "    }\n",
       "\n",
       "    .dataframe tbody tr th {\n",
       "        vertical-align: top;\n",
       "    }\n",
       "\n",
       "    .dataframe thead th {\n",
       "        text-align: right;\n",
       "    }\n",
       "</style>\n",
       "<table border=\"1\" class=\"dataframe\">\n",
       "  <thead>\n",
       "    <tr style=\"text-align: right;\">\n",
       "      <th></th>\n",
       "      <th>Y</th>\n",
       "    </tr>\n",
       "    <tr>\n",
       "      <th>Date</th>\n",
       "      <th></th>\n",
       "    </tr>\n",
       "  </thead>\n",
       "  <tbody>\n",
       "    <tr>\n",
       "      <th>2010-01-01</th>\n",
       "      <td>472498.10</td>\n",
       "    </tr>\n",
       "    <tr>\n",
       "      <th>2010-04-01</th>\n",
       "      <td>487268.90</td>\n",
       "    </tr>\n",
       "    <tr>\n",
       "      <th>2010-07-01</th>\n",
       "      <td>492963.70</td>\n",
       "    </tr>\n",
       "    <tr>\n",
       "      <th>2010-10-01</th>\n",
       "      <td>521219.10</td>\n",
       "    </tr>\n",
       "    <tr>\n",
       "      <th>2011-01-01</th>\n",
       "      <td>535829.90</td>\n",
       "    </tr>\n",
       "  </tbody>\n",
       "</table>\n",
       "</div>"
      ],
      "text/plain": [
       "                   Y\n",
       "Date                \n",
       "2010-01-01 472498.10\n",
       "2010-04-01 487268.90\n",
       "2010-07-01 492963.70\n",
       "2010-10-01 521219.10\n",
       "2011-01-01 535829.90"
      ]
     },
     "execution_count": 148,
     "metadata": {},
     "output_type": "execute_result"
    }
   ],
   "source": [
    "df1.head()"
   ]
  },
  {
   "cell_type": "code",
   "execution_count": 149,
   "id": "cdbb371b-52c3-4130-8e84-e3f2ca6f77ca",
   "metadata": {},
   "outputs": [
    {
     "name": "stdout",
     "output_type": "stream",
     "text": [
      "Requirement already satisfied: prettytable in c:\\users\\mauri\\miniconda3\\envs\\econ\\lib\\site-packages (3.9.0)\n",
      "Requirement already satisfied: wcwidth in c:\\users\\mauri\\miniconda3\\envs\\econ\\lib\\site-packages (from prettytable) (0.2.7)\n",
      "Note: you may need to restart the kernel to use updated packages.\n"
     ]
    }
   ],
   "source": [
    "pip install prettytable"
   ]
  },
  {
   "cell_type": "code",
   "execution_count": 150,
   "id": "2d6f07db-606b-4712-b31e-33bae041ada9",
   "metadata": {
    "scrolled": true
   },
   "outputs": [
    {
     "name": "stdout",
     "output_type": "stream",
     "text": [
      "+----------------------+---------------------+------------------------+\n",
      "|      Statistic       |   Original Series   | Log-Transformed Series |\n",
      "+----------------------+---------------------+------------------------+\n",
      "|    ADF Statistic     | -2.2334914595457325 |  -2.7911259392385586   |\n",
      "|       p-value        |  0.1943152570602683 |   0.0595525878107506   |\n",
      "| Critical Value (5%)  |  -2.925338105429433 |    -2.9178502070837    |\n",
      "| Critical Value (10%) | -2.6007735310095064 |  -2.5967964150943397   |\n",
      "| Critical Value (1%)  | -3.5778480370438146 |   -3.560242358792829   |\n",
      "+----------------------+---------------------+------------------------+\n"
     ]
    }
   ],
   "source": [
    "# Run the Dickey-Fuller test  to see if we need to adjust our data using logs due to stationary/non-stationary\n",
    "# Import necessary libraries\n",
    "from pandas import read_csv\n",
    "from statsmodels.tsa.stattools import adfuller\n",
    "import numpy as np\n",
    "from prettytable import PrettyTable\n",
    "\n",
    "# Read the CSV file\n",
    "series = read_csv('SA_gdp_seasonally_adjusted.csv', header=0, index_col=0)\n",
    "\n",
    "# Original time series\n",
    "X_original = series.values\n",
    "\n",
    "# Log-transformed time series\n",
    "X_log = np.log(df1.Y)\n",
    "\n",
    "# Run the Dickey-Fuller test for the original time series\n",
    "result_original = adfuller(X_original)\n",
    "\n",
    "# Run the Dickey-Fuller test for the log-transformed time series\n",
    "result_log = adfuller(X_log)\n",
    "\n",
    "# Create a PrettyTable for the comparison\n",
    "comparison_table = PrettyTable()\n",
    "comparison_table.field_names = [\"Statistic\", \"Original Series\", \"Log-Transformed Series\"]\n",
    "comparison_table.add_row([\"ADF Statistic\", result_original[0], result_log[0]])\n",
    "comparison_table.add_row([\"p-value\", result_original[1], result_log[1]])\n",
    "\n",
    "# Find the common keys for critical values\n",
    "common_keys = set(result_original[4].keys()).intersection(result_log[4].keys())\n",
    "\n",
    "# Add critical values to the table\n",
    "for key in common_keys:\n",
    "    comparison_table.add_row([f\"Critical Value ({key})\", result_original[4][key], result_log[4][key]])\n",
    "\n",
    "# Print the comparison table\n",
    "print(comparison_table)\n",
    "\n"
   ]
  },
  {
   "cell_type": "markdown",
   "id": "6a589788-281b-4f6a-95a7-4750b0519500",
   "metadata": {},
   "source": [
    "The log-transformed time series, with a more negative ADF Statistic (-2.791) and a lower p-value (0.059) compared to the original series (-2.233 and 0.194), exhibits more compelling indications of stationarity. Given these Fuller test results, we opt for the log-transformed data for further analysis."
   ]
  },
  {
   "cell_type": "code",
   "execution_count": 151,
   "id": "6cf29794-e789-407e-a13d-53fd302f26f7",
   "metadata": {
    "scrolled": true
   },
   "outputs": [
    {
     "data": {
      "text/html": [
       "<div>\n",
       "<style scoped>\n",
       "    .dataframe tbody tr th:only-of-type {\n",
       "        vertical-align: middle;\n",
       "    }\n",
       "\n",
       "    .dataframe tbody tr th {\n",
       "        vertical-align: top;\n",
       "    }\n",
       "\n",
       "    .dataframe thead th {\n",
       "        text-align: right;\n",
       "    }\n",
       "</style>\n",
       "<table border=\"1\" class=\"dataframe\">\n",
       "  <thead>\n",
       "    <tr style=\"text-align: right;\">\n",
       "      <th></th>\n",
       "      <th>Date</th>\n",
       "      <th>C</th>\n",
       "    </tr>\n",
       "  </thead>\n",
       "  <tbody>\n",
       "    <tr>\n",
       "      <th>0</th>\n",
       "      <td>2010-01-01</td>\n",
       "      <td>156759.20</td>\n",
       "    </tr>\n",
       "    <tr>\n",
       "      <th>1</th>\n",
       "      <td>2010-04-01</td>\n",
       "      <td>164331.80</td>\n",
       "    </tr>\n",
       "    <tr>\n",
       "      <th>2</th>\n",
       "      <td>2010-07-01</td>\n",
       "      <td>159314.80</td>\n",
       "    </tr>\n",
       "    <tr>\n",
       "      <th>3</th>\n",
       "      <td>2010-10-01</td>\n",
       "      <td>159011.50</td>\n",
       "    </tr>\n",
       "    <tr>\n",
       "      <th>4</th>\n",
       "      <td>2011-01-01</td>\n",
       "      <td>159407.90</td>\n",
       "    </tr>\n",
       "  </tbody>\n",
       "</table>\n",
       "</div>"
      ],
      "text/plain": [
       "        Date         C\n",
       "0 2010-01-01 156759.20\n",
       "1 2010-04-01 164331.80\n",
       "2 2010-07-01 159314.80\n",
       "3 2010-10-01 159011.50\n",
       "4 2011-01-01 159407.90"
      ]
     },
     "execution_count": 151,
     "metadata": {},
     "output_type": "execute_result"
    }
   ],
   "source": [
    "### Step 2 ## Importing Real Private Sector Final Consumption Expenditure\n",
    "## data is not seasonaly adjusted yet\n",
    "\n",
    "data = FredReader(symbols=['NCPRNSAXDCSAQ'], start='2010', end=None).read()\n",
    "data.to_csv('SA_real_private_consumption_not_adjusted.csv')\n",
    "\n",
    "# Read the CSV file and parse 'DATE' as datetime\n",
    "df2 = pd.read_csv('SA_real_private_consumption_not_adjusted.csv', parse_dates=['DATE'])\n",
    "\n",
    "# save for merging later \n",
    "df2.to_csv('SA_real_private_consumption_not_adjusted.csv', index=False)\n",
    "\n",
    "# Rename the columns\n",
    "df2.columns = ['Date', 'C']\n",
    "\n",
    "# Display the DataFrame\n",
    "df2.head()\n"
   ]
  },
  {
   "cell_type": "code",
   "execution_count": 152,
   "id": "3fa30ae8-dec4-41f7-ade0-ad686ec8847d",
   "metadata": {
    "scrolled": true
   },
   "outputs": [
    {
     "name": "stdout",
     "output_type": "stream",
     "text": [
      "<class 'pandas.core.frame.DataFrame'>\n",
      "RangeIndex: 54 entries, 0 to 53\n",
      "Data columns (total 2 columns):\n",
      " #   Column  Non-Null Count  Dtype         \n",
      "---  ------  --------------  -----         \n",
      " 0   Date    54 non-null     datetime64[ns]\n",
      " 1   C       54 non-null     float64       \n",
      "dtypes: datetime64[ns](1), float64(1)\n",
      "memory usage: 996.0 bytes\n"
     ]
    },
    {
     "data": {
      "text/plain": [
       "<Axes: >"
      ]
     },
     "execution_count": 152,
     "metadata": {},
     "output_type": "execute_result"
    },
    {
     "data": {
      "image/png": "[encoded data removed]",
      "text/plain": [
       "<Figure size 640x480 with 1 Axes>"
      ]
     },
     "metadata": {},
     "output_type": "display_data"
    }
   ],
   "source": [
    "# Check the format of data before merge\n",
    "df2.info()\n",
    "df2.plot()"
   ]
  },
  {
   "cell_type": "code",
   "execution_count": 153,
   "id": "08ef7afc-b60d-433c-91da-d6f868601639",
   "metadata": {
    "scrolled": true
   },
   "outputs": [
    {
     "data": {
      "text/plain": [
       "<Axes: >"
      ]
     },
     "execution_count": 153,
     "metadata": {},
     "output_type": "execute_result"
    },
    {
     "data": {
      "image/png": "[encoded data removed]",
      "text/plain": [
       "<Figure size 640x480 with 1 Axes>"
      ]
     },
     "metadata": {},
     "output_type": "display_data"
    }
   ],
   "source": [
    "df2.C.map(np.log).diff().plot()"
   ]
  },
  {
   "cell_type": "code",
   "execution_count": 154,
   "id": "dd05ae39-0cc2-4bfb-a366-10f9b4fc761e",
   "metadata": {
    "scrolled": true
   },
   "outputs": [
    {
     "name": "stdout",
     "output_type": "stream",
     "text": [
      "<class 'pandas.core.frame.DataFrame'>\n",
      "RangeIndex: 54 entries, 0 to 53\n",
      "Data columns (total 2 columns):\n",
      " #   Column      Non-Null Count  Dtype         \n",
      "---  ------      --------------  -----         \n",
      " 0   Date        54 non-null     datetime64[ns]\n",
      " 1   diff_log_C  53 non-null     float64       \n",
      "dtypes: datetime64[ns](1), float64(1)\n",
      "memory usage: 996.0 bytes\n"
     ]
    }
   ],
   "source": [
    "df2['log_C'] = df2['C'].map(np.log)\n",
    "df2['diff_log_C'] = df2['log_C'].diff()\n",
    "\n",
    "# Include the 'Date' column from df2\n",
    "d_log_C = df2[['Date']].copy()\n",
    "d_log_C['diff_log_C'] = df2['diff_log_C']\n",
    "d_log_C.info()\n"
   ]
  },
  {
   "cell_type": "code",
   "execution_count": 155,
   "id": "6dab6bc1-3192-496c-b482-9d94bf9ea9c6",
   "metadata": {
    "scrolled": true
   },
   "outputs": [
    {
     "data": {
      "text/html": [
       "<div>\n",
       "<style scoped>\n",
       "    .dataframe tbody tr th:only-of-type {\n",
       "        vertical-align: middle;\n",
       "    }\n",
       "\n",
       "    .dataframe tbody tr th {\n",
       "        vertical-align: top;\n",
       "    }\n",
       "\n",
       "    .dataframe thead th {\n",
       "        text-align: right;\n",
       "    }\n",
       "</style>\n",
       "<table border=\"1\" class=\"dataframe\">\n",
       "  <thead>\n",
       "    <tr style=\"text-align: right;\">\n",
       "      <th>Date</th>\n",
       "      <th>2010</th>\n",
       "      <th>2011</th>\n",
       "      <th>2012</th>\n",
       "      <th>2013</th>\n",
       "      <th>2014</th>\n",
       "      <th>2015</th>\n",
       "      <th>2016</th>\n",
       "      <th>2017</th>\n",
       "      <th>2018</th>\n",
       "      <th>2019</th>\n",
       "      <th>2020</th>\n",
       "      <th>2021</th>\n",
       "      <th>2022</th>\n",
       "      <th>2023</th>\n",
       "    </tr>\n",
       "    <tr>\n",
       "      <th>Quarter</th>\n",
       "      <th></th>\n",
       "      <th></th>\n",
       "      <th></th>\n",
       "      <th></th>\n",
       "      <th></th>\n",
       "      <th></th>\n",
       "      <th></th>\n",
       "      <th></th>\n",
       "      <th></th>\n",
       "      <th></th>\n",
       "      <th></th>\n",
       "      <th></th>\n",
       "      <th></th>\n",
       "      <th></th>\n",
       "    </tr>\n",
       "  </thead>\n",
       "  <tbody>\n",
       "    <tr>\n",
       "      <th>1</th>\n",
       "      <td>NaN</td>\n",
       "      <td>0.00</td>\n",
       "      <td>0.09</td>\n",
       "      <td>0.01</td>\n",
       "      <td>0.02</td>\n",
       "      <td>0.06</td>\n",
       "      <td>0.01</td>\n",
       "      <td>0.03</td>\n",
       "      <td>0.01</td>\n",
       "      <td>0.06</td>\n",
       "      <td>-0.01</td>\n",
       "      <td>0.06</td>\n",
       "      <td>0.03</td>\n",
       "      <td>0.04</td>\n",
       "    </tr>\n",
       "    <tr>\n",
       "      <th>2</th>\n",
       "      <td>0.05</td>\n",
       "      <td>0.03</td>\n",
       "      <td>0.04</td>\n",
       "      <td>0.03</td>\n",
       "      <td>0.00</td>\n",
       "      <td>-0.02</td>\n",
       "      <td>-0.01</td>\n",
       "      <td>0.01</td>\n",
       "      <td>0.01</td>\n",
       "      <td>0.01</td>\n",
       "      <td>-0.19</td>\n",
       "      <td>-0.01</td>\n",
       "      <td>-0.01</td>\n",
       "      <td>-0.01</td>\n",
       "    </tr>\n",
       "    <tr>\n",
       "      <th>3</th>\n",
       "      <td>-0.03</td>\n",
       "      <td>-0.00</td>\n",
       "      <td>-0.02</td>\n",
       "      <td>0.01</td>\n",
       "      <td>0.04</td>\n",
       "      <td>-0.03</td>\n",
       "      <td>0.00</td>\n",
       "      <td>0.00</td>\n",
       "      <td>-0.01</td>\n",
       "      <td>0.00</td>\n",
       "      <td>0.12</td>\n",
       "      <td>0.03</td>\n",
       "      <td>0.02</td>\n",
       "      <td>NaN</td>\n",
       "    </tr>\n",
       "    <tr>\n",
       "      <th>4</th>\n",
       "      <td>-0.00</td>\n",
       "      <td>0.00</td>\n",
       "      <td>-0.00</td>\n",
       "      <td>0.03</td>\n",
       "      <td>0.01</td>\n",
       "      <td>0.05</td>\n",
       "      <td>0.01</td>\n",
       "      <td>0.01</td>\n",
       "      <td>0.00</td>\n",
       "      <td>-0.01</td>\n",
       "      <td>0.01</td>\n",
       "      <td>-0.00</td>\n",
       "      <td>-0.01</td>\n",
       "      <td>NaN</td>\n",
       "    </tr>\n",
       "  </tbody>\n",
       "</table>\n",
       "</div>"
      ],
      "text/plain": [
       "Date     2010  2011  2012  2013  2014  2015  2016  2017  2018  2019  2020  \\\n",
       "Quarter                                                                     \n",
       "1         NaN  0.00  0.09  0.01  0.02  0.06  0.01  0.03  0.01  0.06 -0.01   \n",
       "2        0.05  0.03  0.04  0.03  0.00 -0.02 -0.01  0.01  0.01  0.01 -0.19   \n",
       "3       -0.03 -0.00 -0.02  0.01  0.04 -0.03  0.00  0.00 -0.01  0.00  0.12   \n",
       "4       -0.00  0.00 -0.00  0.03  0.01  0.05  0.01  0.01  0.00 -0.01  0.01   \n",
       "\n",
       "Date     2021  2022  2023  \n",
       "Quarter                    \n",
       "1        0.06  0.03  0.04  \n",
       "2       -0.01 -0.01 -0.01  \n",
       "3        0.03  0.02   NaN  \n",
       "4       -0.00 -0.01   NaN  "
      ]
     },
     "execution_count": 155,
     "metadata": {},
     "output_type": "execute_result"
    }
   ],
   "source": [
    "\n",
    "# Extract quarter information\n",
    "d_log_C['Quarter'] = d_log_C['Date'].dt.quarter\n",
    "\n",
    "# Create a pivot table based on quarter and year\n",
    "d_C_pivot = d_log_C.pivot_table(index='Quarter', columns=d_log_C['Date'].dt.year, values='diff_log_C')\n",
    "\n",
    "# Display the pivot table\n",
    "d_C_pivot.head()"
   ]
  },
  {
   "cell_type": "code",
   "execution_count": 156,
   "id": "812aef6f-3a28-4f54-846d-70647d449d97",
   "metadata": {
    "scrolled": true
   },
   "outputs": [
    {
     "data": {
      "image/png": "[encoded data removed]",
      "text/plain": [
       "<Figure size 640x480 with 1 Axes>"
      ]
     },
     "metadata": {},
     "output_type": "display_data"
    }
   ],
   "source": [
    "d_C_pivot.plot(legend=False);\n"
   ]
  },
  {
   "cell_type": "markdown",
   "id": "7f637090-6f4f-4750-a1a6-7b2cf5b28433",
   "metadata": {},
   "source": [
    "Results seem not completly random but also not completly non random. Not adjusting for seasonality. "
   ]
  },
  {
   "cell_type": "code",
   "execution_count": 157,
   "id": "ba51fd1d-5000-432f-a566-def1bd3505ac",
   "metadata": {},
   "outputs": [
    {
     "name": "stdout",
     "output_type": "stream",
     "text": [
      "Requirement already satisfied: wbdata in c:\\users\\mauri\\miniconda3\\envs\\econ\\lib\\site-packages (0.3.0)\n",
      "Requirement already satisfied: appdirs<2.0,>=1.4 in c:\\users\\mauri\\miniconda3\\envs\\econ\\lib\\site-packages (from wbdata) (1.4.4)\n",
      "Requirement already satisfied: decorator>=4.0 in c:\\users\\mauri\\miniconda3\\envs\\econ\\lib\\site-packages (from wbdata) (5.1.1)\n",
      "Requirement already satisfied: requests>=2.0 in c:\\users\\mauri\\miniconda3\\envs\\econ\\lib\\site-packages (from wbdata) (2.31.0)\n",
      "Requirement already satisfied: tabulate>=0.8.5 in c:\\users\\mauri\\miniconda3\\envs\\econ\\lib\\site-packages (from wbdata) (0.9.0)\n",
      "Requirement already satisfied: charset-normalizer<4,>=2 in c:\\users\\mauri\\miniconda3\\envs\\econ\\lib\\site-packages (from requests>=2.0->wbdata) (3.2.0)\n",
      "Requirement already satisfied: idna<4,>=2.5 in c:\\users\\mauri\\miniconda3\\envs\\econ\\lib\\site-packages (from requests>=2.0->wbdata) (3.4)\n",
      "Requirement already satisfied: urllib3<3,>=1.21.1 in c:\\users\\mauri\\miniconda3\\envs\\econ\\lib\\site-packages (from requests>=2.0->wbdata) (2.0.5)\n",
      "Requirement already satisfied: certifi>=2017.4.17 in c:\\users\\mauri\\miniconda3\\envs\\econ\\lib\\site-packages (from requests>=2.0->wbdata) (2023.7.22)\n"
     ]
    },
    {
     "name": "stderr",
     "output_type": "stream",
     "text": [
      "ERROR: Could not find a version that satisfies the requirement pandas_datareade (from versions: none)\n",
      "ERROR: No matching distribution found for pandas_datareade\n"
     ]
    }
   ],
   "source": [
    "!pip install wbdata\n",
    "!pip install pandas_datareade"
   ]
  },
  {
   "cell_type": "code",
   "execution_count": 158,
   "id": "92ebd607-4aab-4cbc-a2cf-4da6a68fda4e",
   "metadata": {},
   "outputs": [
    {
     "name": "stdout",
     "output_type": "stream",
     "text": [
      "<class 'pandas.core.frame.DataFrame'>\n",
      "RangeIndex: 13 entries, 0 to 12\n",
      "Data columns (total 2 columns):\n",
      " #   Column  Non-Null Count  Dtype         \n",
      "---  ------  --------------  -----         \n",
      " 0   Date    13 non-null     datetime64[ns]\n",
      " 1   I       13 non-null     float64       \n",
      "dtypes: datetime64[ns](1), float64(1)\n",
      "memory usage: 340.0 bytes\n"
     ]
    }
   ],
   "source": [
    "### Step 3 ## Importing Gross Fixed Capital Formation NE.GDI.FTOT.CD Annual\n",
    "\n",
    "## data is in current US Dollar\n",
    "\n",
    "import pandas as pd\n",
    "import pandas_datareader.wb as wb\n",
    "\n",
    "# Define the World Bank indicator code for \"Gross Fixed Capital Formation\"\n",
    "indicator_code = 'NE.GDI.FTOT.CD'\n",
    "\n",
    "# Define the countries and time period you are interested in (only Saudi Arabia in this case)\n",
    "countries = ['SA']\n",
    "start_date = '2010-01-01'\n",
    "end_date = '2023-12-31'\n",
    "\n",
    "# Fetch World Bank data using the pandas_datareader library\n",
    "world_bank_data = wb.download(indicator=indicator_code, country=countries, start=start_date, end=end_date)\n",
    "\n",
    "# Reset index to make 'Date' a column\n",
    "world_bank_data.reset_index(inplace=True)\n",
    "\n",
    "# Drop 'country' column\n",
    "world_bank_data.drop('country', axis=1, inplace=True)\n",
    "\n",
    "# Rename 'year' column to 'Date'\n",
    "world_bank_data.rename(columns={'year': 'Date', 'NE.GDI.FTOT.CD': 'I'}, inplace=True)\n",
    "world_bank_data['Date'] = pd.to_datetime(world_bank_data['Date'])  # Fix: use 'year' instead of 'Date'\n",
    "\n",
    "df3 = world_bank_data.copy()\n",
    "df3.info()\n",
    "\n",
    "\n",
    "\n"
   ]
  },
  {
   "cell_type": "code",
   "execution_count": 159,
   "id": "a83e8834-40fd-44e8-a251-58a9f1878933",
   "metadata": {
    "scrolled": true
   },
   "outputs": [
    {
     "data": {
      "text/plain": [
       "<Axes: xlabel='Date'>"
      ]
     },
     "execution_count": 159,
     "metadata": {},
     "output_type": "execute_result"
    },
    {
     "data": {
      "image/png": "[encoded data removed]",
      "text/plain": [
       "<Figure size 640x480 with 1 Axes>"
      ]
     },
     "metadata": {},
     "output_type": "display_data"
    }
   ],
   "source": [
    "### resample data to fit quartelry framework\n",
    "# Set 'Date' column as the index\n",
    "df3.set_index('Date', inplace=True)\n",
    "\n",
    "# Resample data to fit quarterly framework\n",
    "df3_resampled = df3.I.resample('QS').asfreq()\n",
    "\n",
    "# Plot the resampled data\n",
    "df3_resampled.plot(marker='o')\n",
    "df3.I.resample('QS').asfreq().plot(marker='o')"
   ]
  },
  {
   "cell_type": "code",
   "execution_count": 160,
   "id": "323f5ac1-16af-4cd6-b55e-ca048dfb3b36",
   "metadata": {},
   "outputs": [
    {
     "data": {
      "text/plain": [
       "Date\n",
       "2021-01-01   52837242836.74\n",
       "2021-04-01              NaN\n",
       "2021-07-01              NaN\n",
       "2021-10-01              NaN\n",
       "2022-01-01   69305738408.35\n",
       "Freq: QS-JAN, Name: I, dtype: float64"
      ]
     },
     "execution_count": 160,
     "metadata": {},
     "output_type": "execute_result"
    }
   ],
   "source": [
    "#taking a loook at the missing values\n",
    "quarterly_I = df3.I.mul(0.25).resample('QS').asfreq()\n",
    "quarterly_I.tail()"
   ]
  },
  {
   "cell_type": "code",
   "execution_count": 161,
   "id": "8cdcd588-9f2f-438e-aea8-89db70421e0f",
   "metadata": {},
   "outputs": [
    {
     "name": "stderr",
     "output_type": "stream",
     "text": [
      "C:\\Users\\mauri\\miniconda3\\envs\\econ\\Lib\\site-packages\\statsmodels\\tsa\\statespace\\sarimax.py:966: UserWarning: Non-stationary starting autoregressive parameters found. Using zeros as starting parameters.\n",
      "  warn('Non-stationary starting autoregressive parameters'\n"
     ]
    },
    {
     "name": "stdout",
     "output_type": "stream",
     "text": [
      "Optimization terminated successfully.\n",
      "         Current function value: 6.289181\n",
      "         Iterations: 961\n",
      "         Function evaluations: 1653\n"
     ]
    }
   ],
   "source": [
    "import statsmodels.api as sm\n",
    "\n",
    "# order is three numbers: (AR, Diff, MA). If this means nothing to you don't worry. But AR(1) corresponds to\n",
    "# order (1, 0, 0).\n",
    "\n",
    "# We set the trend to 'ctt' which means quadratic trend, since this data is increasing exponentially.\n",
    "mod = sm.tsa.SARIMAX(quarterly_I, order=(1, 0, 0), trend='ctt')\n",
    "res = mod.fit(method='nm', maxiter=10_000)"
   ]
  },
  {
   "cell_type": "code",
   "execution_count": 162,
   "id": "7b20e80e-b49c-438c-b261-b847ad5701be",
   "metadata": {
    "scrolled": true
   },
   "outputs": [
    {
     "data": {
      "text/html": [
       "<table class=\"simpletable\">\n",
       "<caption>SARIMAX Results</caption>\n",
       "<tr>\n",
       "  <th>Dep. Variable:</th>           <td>I</td>        <th>  No. Observations:  </th>    <td>49</td>   \n",
       "</tr>\n",
       "<tr>\n",
       "  <th>Model:</th>           <td>SARIMAX(1, 0, 0)</td> <th>  Log Likelihood     </th> <td>-308.170</td>\n",
       "</tr>\n",
       "<tr>\n",
       "  <th>Date:</th>            <td>Sun, 17 Dec 2023</td> <th>  AIC                </th>  <td>626.340</td>\n",
       "</tr>\n",
       "<tr>\n",
       "  <th>Time:</th>                <td>17:57:59</td>     <th>  BIC                </th>  <td>635.799</td>\n",
       "</tr>\n",
       "<tr>\n",
       "  <th>Sample:</th>             <td>01-01-2010</td>    <th>  HQIC               </th>  <td>629.928</td>\n",
       "</tr>\n",
       "<tr>\n",
       "  <th></th>                   <td>- 01-01-2022</td>   <th>                     </th>     <td> </td>   \n",
       "</tr>\n",
       "<tr>\n",
       "  <th>Covariance Type:</th>        <td>opg</td>       <th>                     </th>     <td> </td>   \n",
       "</tr>\n",
       "</table>\n",
       "<table class=\"simpletable\">\n",
       "<tr>\n",
       "      <td></td>         <th>coef</th>     <th>std err</th>      <th>z</th>      <th>P>|z|</th>  <th>[0.025</th>    <th>0.975]</th>  \n",
       "</tr>\n",
       "<tr>\n",
       "  <th>intercept</th> <td> 6.819e+10</td> <td> 3.68e-13</td> <td> 1.85e+23</td> <td> 0.000</td> <td> 6.82e+10</td> <td> 6.82e+10</td>\n",
       "</tr>\n",
       "<tr>\n",
       "  <th>drift</th>     <td>  -1.7e+07</td> <td> 1.81e-11</td> <td>-9.39e+17</td> <td> 0.000</td> <td> -1.7e+07</td> <td> -1.7e+07</td>\n",
       "</tr>\n",
       "<tr>\n",
       "  <th>trend.2</th>   <td> 2.267e+07</td> <td> 9.02e-10</td> <td> 2.51e+16</td> <td> 0.000</td> <td> 2.27e+07</td> <td> 2.27e+07</td>\n",
       "</tr>\n",
       "<tr>\n",
       "  <th>ar.L1</th>     <td>   -0.8824</td> <td>    0.057</td> <td>  -15.371</td> <td> 0.000</td> <td>   -0.995</td> <td>   -0.770</td>\n",
       "</tr>\n",
       "<tr>\n",
       "  <th>sigma2</th>    <td>   7.7e+18</td> <td> 3.85e-23</td> <td>    2e+41</td> <td> 0.000</td> <td>  7.7e+18</td> <td>  7.7e+18</td>\n",
       "</tr>\n",
       "</table>\n",
       "<table class=\"simpletable\">\n",
       "<tr>\n",
       "  <th>Ljung-Box (L1) (Q):</th>     <td>0.00</td> <th>  Jarque-Bera (JB):  </th> <td>68.28</td>\n",
       "</tr>\n",
       "<tr>\n",
       "  <th>Prob(Q):</th>                <td>1.00</td> <th>  Prob(JB):          </th> <td>0.00</td> \n",
       "</tr>\n",
       "<tr>\n",
       "  <th>Heteroskedasticity (H):</th> <td>3.27</td> <th>  Skew:              </th> <td>0.30</td> \n",
       "</tr>\n",
       "<tr>\n",
       "  <th>Prob(H) (two-sided):</th>    <td>0.02</td> <th>  Kurtosis:          </th> <td>8.75</td> \n",
       "</tr>\n",
       "</table><br/><br/>Warnings:<br/>[1] Covariance matrix calculated using the outer product of gradients (complex-step).<br/>[2] Covariance matrix is singular or near-singular, with condition number 2.12e+58. Standard errors may be unstable."
      ],
      "text/latex": [
       "\\begin{center}\n",
       "\\begin{tabular}{lclc}\n",
       "\\toprule\n",
       "\\textbf{Dep. Variable:}          &        I         & \\textbf{  No. Observations:  } &     49      \\\\\n",
       "\\textbf{Model:}                  & SARIMAX(1, 0, 0) & \\textbf{  Log Likelihood     } &  -308.170   \\\\\n",
       "\\textbf{Date:}                   & Sun, 17 Dec 2023 & \\textbf{  AIC                } &  626.340    \\\\\n",
       "\\textbf{Time:}                   &     17:57:59     & \\textbf{  BIC                } &  635.799    \\\\\n",
       "\\textbf{Sample:}                 &    01-01-2010    & \\textbf{  HQIC               } &  629.928    \\\\\n",
       "\\textbf{}                        &   - 01-01-2022   & \\textbf{                     } &             \\\\\n",
       "\\textbf{Covariance Type:}        &       opg        & \\textbf{                     } &             \\\\\n",
       "\\bottomrule\n",
       "\\end{tabular}\n",
       "\\begin{tabular}{lcccccc}\n",
       "                   & \\textbf{coef} & \\textbf{std err} & \\textbf{z} & \\textbf{P$> |$z$|$} & \\textbf{[0.025} & \\textbf{0.975]}  \\\\\n",
       "\\midrule\n",
       "\\textbf{intercept} &    6.819e+10  &     3.68e-13     &  1.85e+23  &         0.000        &     6.82e+10    &     6.82e+10     \\\\\n",
       "\\textbf{drift}     &     -1.7e+07  &     1.81e-11     & -9.39e+17  &         0.000        &     -1.7e+07    &     -1.7e+07     \\\\\n",
       "\\textbf{trend.2}   &    2.267e+07  &     9.02e-10     &  2.51e+16  &         0.000        &     2.27e+07    &     2.27e+07     \\\\\n",
       "\\textbf{ar.L1}     &      -0.8824  &        0.057     &   -15.371  &         0.000        &       -0.995    &       -0.770     \\\\\n",
       "\\textbf{sigma2}    &      7.7e+18  &     3.85e-23     &     2e+41  &         0.000        &      7.7e+18    &      7.7e+18     \\\\\n",
       "\\bottomrule\n",
       "\\end{tabular}\n",
       "\\begin{tabular}{lclc}\n",
       "\\textbf{Ljung-Box (L1) (Q):}     & 0.00 & \\textbf{  Jarque-Bera (JB):  } & 68.28  \\\\\n",
       "\\textbf{Prob(Q):}                & 1.00 & \\textbf{  Prob(JB):          } &  0.00  \\\\\n",
       "\\textbf{Heteroskedasticity (H):} & 3.27 & \\textbf{  Skew:              } &  0.30  \\\\\n",
       "\\textbf{Prob(H) (two-sided):}    & 0.02 & \\textbf{  Kurtosis:          } &  8.75  \\\\\n",
       "\\bottomrule\n",
       "\\end{tabular}\n",
       "%\\caption{SARIMAX Results}\n",
       "\\end{center}\n",
       "\n",
       "Warnings: \\newline\n",
       " [1] Covariance matrix calculated using the outer product of gradients (complex-step). \\newline\n",
       " [2] Covariance matrix is singular or near-singular, with condition number 2.12e+58. Standard errors may be unstable."
      ],
      "text/plain": [
       "<class 'statsmodels.iolib.summary.Summary'>\n",
       "\"\"\"\n",
       "                               SARIMAX Results                                \n",
       "==============================================================================\n",
       "Dep. Variable:                      I   No. Observations:                   49\n",
       "Model:               SARIMAX(1, 0, 0)   Log Likelihood                -308.170\n",
       "Date:                Sun, 17 Dec 2023   AIC                            626.340\n",
       "Time:                        17:57:59   BIC                            635.799\n",
       "Sample:                    01-01-2010   HQIC                           629.928\n",
       "                         - 01-01-2022                                         \n",
       "Covariance Type:                  opg                                         \n",
       "==============================================================================\n",
       "                 coef    std err          z      P>|z|      [0.025      0.975]\n",
       "------------------------------------------------------------------------------\n",
       "intercept   6.819e+10   3.68e-13   1.85e+23      0.000    6.82e+10    6.82e+10\n",
       "drift        -1.7e+07   1.81e-11  -9.39e+17      0.000    -1.7e+07    -1.7e+07\n",
       "trend.2     2.267e+07   9.02e-10   2.51e+16      0.000    2.27e+07    2.27e+07\n",
       "ar.L1         -0.8824      0.057    -15.371      0.000      -0.995      -0.770\n",
       "sigma2        7.7e+18   3.85e-23      2e+41      0.000     7.7e+18     7.7e+18\n",
       "===================================================================================\n",
       "Ljung-Box (L1) (Q):                   0.00   Jarque-Bera (JB):                68.28\n",
       "Prob(Q):                              1.00   Prob(JB):                         0.00\n",
       "Heteroskedasticity (H):               3.27   Skew:                             0.30\n",
       "Prob(H) (two-sided):                  0.02   Kurtosis:                         8.75\n",
       "===================================================================================\n",
       "\n",
       "Warnings:\n",
       "[1] Covariance matrix calculated using the outer product of gradients (complex-step).\n",
       "[2] Covariance matrix is singular or near-singular, with condition number 2.12e+58. Standard errors may be unstable.\n",
       "\"\"\""
      ]
     },
     "execution_count": 162,
     "metadata": {},
     "output_type": "execute_result"
    }
   ],
   "source": [
    "res.summary()"
   ]
  },
  {
   "cell_type": "code",
   "execution_count": 163,
   "id": "b342a6aa-120f-475c-af4f-3051ff754837",
   "metadata": {
    "scrolled": true
   },
   "outputs": [
    {
     "data": {
      "image/png": "[encoded data removed]",
      "text/plain": [
       "<Figure size 640x480 with 1 Axes>"
      ]
     },
     "metadata": {},
     "output_type": "display_data"
    }
   ],
   "source": [
    "fig, ax = plt.subplots()\n",
    "res.predict().plot(label='Predicted', ax=ax)\n",
    "ax.scatter(quarterly_I.index, quarterly_I.values, s=15, color='tab:orange', label='Data')\n",
    "ax.legend()\n",
    "plt.show()"
   ]
  },
  {
   "cell_type": "code",
   "execution_count": 164,
   "id": "19823ed1-a300-428a-8632-c34b8241371a",
   "metadata": {
    "scrolled": true
   },
   "outputs": [
    {
     "name": "stdout",
     "output_type": "stream",
     "text": [
      "Date\n",
      "2021-01-01   52837242836.74\n",
      "2021-04-01              NaN\n",
      "2021-07-01              NaN\n",
      "2021-10-01              NaN\n",
      "2022-01-01   69305738408.35\n",
      "Freq: QS-JAN, Name: I, dtype: float64\n"
     ]
    },
    {
     "name": "stderr",
     "output_type": "stream",
     "text": [
      "C:\\Users\\mauri\\miniconda3\\envs\\econ\\Lib\\site-packages\\statsmodels\\tsa\\statespace\\sarimax.py:966: UserWarning: Non-stationary starting autoregressive parameters found. Using zeros as starting parameters.\n",
      "  warn('Non-stationary starting autoregressive parameters'\n"
     ]
    },
    {
     "name": "stdout",
     "output_type": "stream",
     "text": [
      "Optimization terminated successfully.\n",
      "         Current function value: 6.289181\n",
      "         Iterations: 961\n",
      "         Function evaluations: 1653\n",
      "         Date              0   I\n",
      "0  2010-01-01 32261400000.00 NaN\n",
      "1  2010-04-01 32261400000.00 NaN\n",
      "2  2010-07-01 32261400000.00 NaN\n",
      "3  2010-10-01 32261400000.00 NaN\n",
      "4  2011-01-01 37921886751.06 NaN\n",
      "5  2011-04-01 37921886751.06 NaN\n",
      "6  2011-07-01 37921886751.06 NaN\n",
      "7  2011-10-01 37921886751.06 NaN\n",
      "8  2012-01-01 41011668759.01 NaN\n",
      "9  2012-04-01 41011668759.01 NaN\n",
      "10 2012-07-01 41011668759.01 NaN\n",
      "11 2012-10-01 41011668759.01 NaN\n",
      "12 2013-01-01 44227638609.41 NaN\n",
      "13 2013-04-01 44227638609.41 NaN\n",
      "14 2013-07-01 44227638609.41 NaN\n",
      "15 2013-10-01 44227638609.41 NaN\n",
      "16 2014-01-01 47773388988.54 NaN\n",
      "17 2014-04-01 47773388988.54 NaN\n",
      "18 2014-07-01 47773388988.54 NaN\n",
      "19 2014-10-01 47773388988.54 NaN\n",
      "20 2015-01-01 49133489549.42 NaN\n",
      "21 2015-04-01 49133489549.42 NaN\n",
      "22 2015-07-01 49133489549.42 NaN\n",
      "23 2015-10-01 49133489549.42 NaN\n",
      "24 2016-01-01 42636840761.57 NaN\n",
      "25 2016-04-01 42636840761.57 NaN\n",
      "26 2016-07-01 42636840761.57 NaN\n",
      "27 2016-10-01 42636840761.57 NaN\n",
      "28 2017-01-01 42806410765.87 NaN\n",
      "29 2017-04-01 42806410765.87 NaN\n",
      "30 2017-07-01 42806410765.87 NaN\n",
      "31 2017-10-01 42806410765.87 NaN\n",
      "32 2018-01-01 43855113139.06 NaN\n",
      "33 2018-04-01 43855113139.06 NaN\n",
      "34 2018-07-01 43855113139.06 NaN\n",
      "35 2018-10-01 43855113139.06 NaN\n",
      "36 2019-01-01 46930302738.40 NaN\n",
      "37 2019-04-01 46930302738.40 NaN\n",
      "38 2019-07-01 46930302738.40 NaN\n",
      "39 2019-10-01 46930302738.40 NaN\n",
      "40 2020-01-01 44236378886.93 NaN\n",
      "41 2020-04-01 44236378886.93 NaN\n",
      "42 2020-07-01 44236378886.93 NaN\n",
      "43 2020-10-01 44236378886.93 NaN\n",
      "44 2021-01-01 52837242836.74 NaN\n",
      "45 2021-04-01 52837242836.74 NaN\n",
      "46 2021-07-01 52837242836.74 NaN\n",
      "47 2021-10-01 52837242836.74 NaN\n",
      "48 2022-01-01 69305738408.35 NaN\n",
      "49 2022-06-30 69305738408.35 NaN\n",
      "50 2022-09-30 69305738408.35 NaN\n",
      "51 2022-12-31 69305738408.35 NaN\n",
      "52 2023-03-31 69305738408.35 NaN\n"
     ]
    },
    {
     "data": {
      "image/png": "[encoded data removed]",
      "text/plain": [
       "<Figure size 640x480 with 1 Axes>"
      ]
     },
     "metadata": {},
     "output_type": "display_data"
    }
   ],
   "source": [
    "# Plot the resampled data\n",
    "df3.I.resample('QS').asfreq().plot(marker='o')\n",
    "\n",
    "# Taking a look at the missing values\n",
    "quarterly_I = df3.I.mul(0.25).resample('QS').asfreq()\n",
    "\n",
    "# Display the last few rows of the resampled quarterly data\n",
    "print(quarterly_I.tail())\n",
    "\n",
    "# SARIMAX Modeling\n",
    "mod = sm.tsa.SARIMAX(quarterly_I, order=(1, 0, 0), trend='ctt')\n",
    "res = mod.fit(method='nm', maxiter=10_000)\n",
    "\n",
    "# Generate quarterly periods\n",
    "quarterly_periods = pd.date_range(start=quarterly_I.index[-1] + pd.DateOffset(months=3), periods=4, freq='Q')\n",
    "\n",
    "# Make predictions for quarterly data\n",
    "predictions = res.get_prediction(start=quarterly_periods[0], end=quarterly_periods[-1])\n",
    "predicted_data = predictions.predicted_mean\n",
    "\n",
    "# Combine original quarterly data with predicted quarterly data\n",
    "I_predict = pd.concat([quarterly_I, pd.DataFrame(predicted_data, columns=['I'], index=quarterly_periods)])\n",
    "\n",
    "# Sort the combined data by the index (Date)\n",
    "I_predict.sort_index(inplace=True)\n",
    "\n",
    "# Reset index and rename to match your requirements\n",
    "I_predict.reset_index(inplace=True)\n",
    "I_predict.rename(columns={'index': 'Date'}, inplace=True)\n",
    "\n",
    "# Optional: Forward-fill missing values\n",
    "I_predict.ffill(inplace=True)\n",
    "\n",
    "# Display the combined data\n",
    "print(I_predict)"
   ]
  },
  {
   "cell_type": "code",
   "execution_count": 165,
   "id": "57aa3b3e-f4ac-4374-a524-98620f789ea4",
   "metadata": {},
   "outputs": [
    {
     "name": "stdout",
     "output_type": "stream",
     "text": [
      "<class 'pandas.core.frame.DataFrame'>\n",
      "RangeIndex: 53 entries, 0 to 52\n",
      "Data columns (total 2 columns):\n",
      " #   Column  Non-Null Count  Dtype         \n",
      "---  ------  --------------  -----         \n",
      " 0   Date    53 non-null     datetime64[ns]\n",
      " 1   I_pred  53 non-null     float64       \n",
      "dtypes: datetime64[ns](1), float64(1)\n",
      "memory usage: 980.0 bytes\n"
     ]
    }
   ],
   "source": [
    "# Reset index and rename to match your requirements\n",
    "#combined_data_I.reset_index(inplace=True)\n",
    "\n",
    "# Drop the number in the column row and also drop 'I' column\n",
    "\n",
    "I_predict.rename(columns={0: 'I_pred'}, inplace=True)\n",
    "I_predict.drop(columns='I', axis=1, inplace=True)\n",
    "I_predict.head()\n",
    "I_predict.info()"
   ]
  },
  {
   "cell_type": "code",
   "execution_count": 166,
   "id": "fcc9c57b-798a-4c22-b6f2-bc36e31d97e3",
   "metadata": {},
   "outputs": [],
   "source": [
    "### Step 3.2 ## Change currency to Saudi Dollar petro money"
   ]
  },
  {
   "cell_type": "code",
   "execution_count": 167,
   "id": "68acaf34-f2fa-46ca-a853-40e740e05867",
   "metadata": {},
   "outputs": [
    {
     "name": "stdout",
     "output_type": "stream",
     "text": [
      "<class 'pandas.core.frame.DataFrame'>\n",
      "RangeIndex: 13 entries, 0 to 12\n",
      "Data columns (total 2 columns):\n",
      " #   Column  Non-Null Count  Dtype         \n",
      "---  ------  --------------  -----         \n",
      " 0   Date    13 non-null     datetime64[ns]\n",
      " 1   TB      13 non-null     float64       \n",
      "dtypes: datetime64[ns](1), float64(1)\n",
      "memory usage: 340.0 bytes\n"
     ]
    }
   ],
   "source": [
    "### Step 4 ## 4\tTBt\tTrade BalaNet trade in goods and services (BOP, current US$)\n",
    "\n",
    "## data is in current US Dollar\n",
    "\n",
    "import pandas as pd\n",
    "import pandas_datareader.wb as wb\n",
    "\n",
    "# Define the World Bank indicator code for \"Gross Fixed Capital Formation\"\n",
    "indicator_code = 'BN.GSR.GNFS.CD'\n",
    "\n",
    "# Define the countries and time period you are interested in (only Saudi Arabia in this case)\n",
    "countries = ['SA']\n",
    "start_date = '2010-01-01'\n",
    "end_date = '2023-12-31'\n",
    "\n",
    "# Fetch World Bank data using the pandas_datareader library\n",
    "world_bank_data = wb.download(indicator=indicator_code, country=countries, start=start_date, end=end_date)\n",
    "\n",
    "# Reset index to make 'Date' a column\n",
    "world_bank_data.reset_index(inplace=True)\n",
    "\n",
    "# Drop 'country' column\n",
    "world_bank_data.drop('country', axis=1, inplace=True)\n",
    "\n",
    "# Rename 'year' column to 'Date'\n",
    "world_bank_data.rename(columns={'year': 'Date', 'BN.GSR.GNFS.CD': 'TB'}, inplace=True)\n",
    "world_bank_data['Date'] = pd.to_datetime(world_bank_data['Date'])  # Fix: use 'year' instead of 'Date'\n",
    "\n",
    "df4 = world_bank_data.copy()\n",
    "df4.info()"
   ]
  },
  {
   "cell_type": "code",
   "execution_count": 168,
   "id": "40ec36ec-7e0f-4ced-81c3-6464942cb0a1",
   "metadata": {},
   "outputs": [
    {
     "name": "stdout",
     "output_type": "stream",
     "text": [
      "<class 'pandas.core.frame.DataFrame'>\n",
      "RangeIndex: 13 entries, 0 to 12\n",
      "Data columns (total 2 columns):\n",
      " #   Column  Non-Null Count  Dtype         \n",
      "---  ------  --------------  -----         \n",
      " 0   Date    13 non-null     datetime64[ns]\n",
      " 1   TB      13 non-null     float64       \n",
      "dtypes: datetime64[ns](1), float64(1)\n",
      "memory usage: 340.0 bytes\n"
     ]
    },
    {
     "data": {
      "text/html": [
       "<div>\n",
       "<style scoped>\n",
       "    .dataframe tbody tr th:only-of-type {\n",
       "        vertical-align: middle;\n",
       "    }\n",
       "\n",
       "    .dataframe tbody tr th {\n",
       "        vertical-align: top;\n",
       "    }\n",
       "\n",
       "    .dataframe thead th {\n",
       "        text-align: right;\n",
       "    }\n",
       "</style>\n",
       "<table border=\"1\" class=\"dataframe\">\n",
       "  <thead>\n",
       "    <tr style=\"text-align: right;\">\n",
       "      <th></th>\n",
       "      <th>Date</th>\n",
       "      <th>TB</th>\n",
       "    </tr>\n",
       "  </thead>\n",
       "  <tbody>\n",
       "    <tr>\n",
       "      <th>0</th>\n",
       "      <td>2022-01-01</td>\n",
       "      <td>183779506385.14</td>\n",
       "    </tr>\n",
       "    <tr>\n",
       "      <th>1</th>\n",
       "      <td>2021-01-01</td>\n",
       "      <td>73485768182.57</td>\n",
       "    </tr>\n",
       "    <tr>\n",
       "      <th>2</th>\n",
       "      <td>2020-01-01</td>\n",
       "      <td>664277187.04</td>\n",
       "    </tr>\n",
       "    <tr>\n",
       "      <th>3</th>\n",
       "      <td>2019-01-01</td>\n",
       "      <td>66919075410.82</td>\n",
       "    </tr>\n",
       "    <tr>\n",
       "      <th>4</th>\n",
       "      <td>2018-01-01</td>\n",
       "      <td>105327188543.36</td>\n",
       "    </tr>\n",
       "  </tbody>\n",
       "</table>\n",
       "</div>"
      ],
      "text/plain": [
       "        Date              TB\n",
       "0 2022-01-01 183779506385.14\n",
       "1 2021-01-01  73485768182.57\n",
       "2 2020-01-01    664277187.04\n",
       "3 2019-01-01  66919075410.82\n",
       "4 2018-01-01 105327188543.36"
      ]
     },
     "execution_count": 168,
     "metadata": {},
     "output_type": "execute_result"
    }
   ],
   "source": [
    "### Step 4 ## 4\tTBt\tTrade Balance trade in goods and services (BOP, current US$)\n",
    "\n",
    "## data is in current US Dollar\n",
    "\n",
    "import pandas as pd\n",
    "import pandas_datareader.wb as wb\n",
    "\n",
    "# Define the World Bank indicator code for \"Gross Fixed Capital Formation\"\n",
    "indicator_code = 'BN.GSR.GNFS.CD'\n",
    "\n",
    "# Define the countries and time period you are interested in (only Saudi Arabia in this case)\n",
    "countries = ['SA']\n",
    "start_date = '2010-01-01'\n",
    "end_date = '2023-12-31'\n",
    "\n",
    "# Fetch World Bank data using the pandas_datareader library\n",
    "world_bank_data = wb.download(indicator=indicator_code, country=countries, start=start_date, end=end_date)\n",
    "\n",
    "# Reset index to make 'Date' a column\n",
    "world_bank_data.reset_index(inplace=True)\n",
    "\n",
    "# Drop 'country' column\n",
    "world_bank_data.drop('country', axis=1, inplace=True)\n",
    "\n",
    "# Rename 'year' column to 'Date'\n",
    "world_bank_data.rename(columns={'year': 'Date', 'BN.GSR.GNFS.CD': 'TB'}, inplace=True)\n",
    "world_bank_data['Date'] = pd.to_datetime(world_bank_data['Date'])  # Fix: use 'year' instead of 'Date'\n",
    "\n",
    "df4 = world_bank_data.copy()\n",
    "df4.info()\n",
    "df4.head()"
   ]
  },
  {
   "cell_type": "code",
   "execution_count": 169,
   "id": "be03f01e-f29e-49f9-877e-0d0ba3c75452",
   "metadata": {},
   "outputs": [],
   "source": [
    "### Step 4.2 ## Trade Balance trade in goods and services (BOP, current US$)\n",
    "# change to quarterly numbers"
   ]
  },
  {
   "cell_type": "code",
   "execution_count": 173,
   "id": "a48390de",
   "metadata": {},
   "outputs": [
    {
     "name": "stdout",
     "output_type": "stream",
     "text": [
      "<class 'pandas.core.frame.DataFrame'>\n",
      "Index: 8 entries, nan to nan\n",
      "Data columns (total 3 columns):\n",
      " #   Column            Non-Null Count  Dtype         \n",
      "---  ------            --------------  -----         \n",
      " 0   EMPLYEES_OBSV     8 non-null      int64         \n",
      " 1   Date              8 non-null      datetime64[ns]\n",
      " 2   TOTAL_HOURS_OBSV  8 non-null      float64       \n",
      "dtypes: datetime64[ns](1), float64(1), int64(1)\n",
      "memory usage: 256.0 bytes\n"
     ]
    }
   ],
   "source": [
    "### Step 5 ## Average Hours of Work for Employed Persons\n",
    "#import pandas as pd\n",
    "\n",
    "#not using this API import because it is fucked. I will use a csv so we have the data but i cannot figure out how to get proper data out of it.\n",
    "sa_ave_hours_worked = 'https://database.stats.gov.sa/gastatapi/portal/api/v1/indicators/getData?format=@CSV&api=7563820c60aa782a9c85abcf47378b198fdbff06b72c12cdfe9ae32b623f2ac1ba97c1197512c692d0d8ef53d2ff3bd69fe848f7dd7c817472066e4a441f89496a67e3d726b1f710d3618b10d5e5360d41628cd6b78d97694aa88997f4f1a4abbf201543c0f6d2beec472c4957f9d4d8c9d0c7aa20a58f056496572745478d003b4e1f28b2ba7652e2883a8c120e8150cbdcbb3df0efb7b3c2ad003f07f60852'\n",
    "#different api setup\n",
    "df5 = pd.read_csv(sa_ave_hours_worked)\n",
    "df5.to_csv('sa_ave_hours_worked.csv', index=False)\n",
    "# rename year to date to stay consistent\n",
    "df5.columns = ['EMPLYEES_OBSV', 'Date', 'TOTAL_HOURS_OBSV']\n",
    "# not real date format but to stay consistent\n",
    "df5['Date'] = pd.to_datetime(df5['Date'], format='%Y')\n",
    "#adjust year_time to our quarterly date format\n",
    "#df5['YEAR_TIME'] = pd.to_datetime(df5['YEAR_TIME'].astype(str) + '-1', format='%Y-Q%m')\n",
    "#nevermind the format is not the bigges problem \n",
    "\n",
    "#import from files\n",
    "#this is also shit\n",
    "#ave_hour_down = r'C:\\Users\\mauri\\Documents\\GitHub\\Uni-projects\\ave_hour_down.csv'\n",
    "#df5_down = pd.read_csv(ave_hour_down)\n",
    "#df5_down.info()\n",
    "\n",
    "df5.info()"
   ]
  },
  {
   "cell_type": "code",
   "execution_count": 174,
   "id": "20885024-c258-428b-8995-4f76248680b8",
   "metadata": {},
   "outputs": [
    {
     "data": {
      "image/png": "[encoded data removed]",
      "text/plain": [
       "<Figure size 1000x800 with 4 Axes>"
      ]
     },
     "metadata": {},
     "output_type": "display_data"
    },
    {
     "data": {
      "image/png": "[encoded data removed]",
      "text/plain": [
       "<Figure size 1000x600 with 1 Axes>"
      ]
     },
     "metadata": {},
     "output_type": "display_data"
    },
    {
     "data": {
      "text/plain": [
       "<Figure size 640x480 with 0 Axes>"
      ]
     },
     "metadata": {},
     "output_type": "display_data"
    },
    {
     "name": "stdout",
     "output_type": "stream",
     "text": [
      "Summary Statistics:\n",
      "       EMPLYEES_OBSV                 Date  TOTAL_HOURS_OBSV\n",
      "count           8.00                    8              8.00\n",
      "mean     48230214.50  2019-07-02 18:00:00     2140410059.28\n",
      "min      26984739.00  2016-01-01 00:00:00     1212582920.50\n",
      "25%      47461784.25  2017-10-01 18:00:00     2152537225.50\n",
      "50%      53182579.00  2019-07-02 12:00:00     2355022761.45\n",
      "75%      54114554.25  2021-04-02 06:00:00     2399126463.74\n",
      "max      55630013.00  2023-01-01 00:00:00     2405975392.55\n",
      "std      10501626.62                  NaN      446517513.96\n",
      "\n",
      "Min Values:\n",
      "EMPLYEES_OBSV                  26984739\n",
      "Date                2016-01-01 00:00:00\n",
      "TOTAL_HOURS_OBSV          1212582920.50\n",
      "dtype: object\n",
      "\n",
      "Max Values:\n",
      "EMPLYEES_OBSV                  55630013\n",
      "Date                2023-01-01 00:00:00\n",
      "TOTAL_HOURS_OBSV          2405975392.55\n",
      "dtype: object\n"
     ]
    }
   ],
   "source": [
    "### Step 5 take a look at the data\n",
    "# checking for missing values\n",
    "#print(df5.isnull().sum())\n",
    "# general overview\n",
    "import matplotlib.pyplot as plt\n",
    "import pandas as pd\n",
    "\n",
    "# Set the display format for floating-point numbers\n",
    "pd.set_option('display.float_format', '{:.2f}'.format)\n",
    "\n",
    "# Display basic summary statistics\n",
    "summary_stats = df5.describe()\n",
    "\n",
    "# Display minimum and maximum values\n",
    "min_values = df5.min()\n",
    "max_values = df5.max()\n",
    "\n",
    "# Create histograms\n",
    "df5.hist(figsize=(10, 8))\n",
    "plt.suptitle('Histograms')\n",
    "\n",
    "# Box plots\n",
    "df5.boxplot(figsize=(10, 6))\n",
    "plt.title('Box Plots')\n",
    "\n",
    "# Scatter plots for each pair of variables\n",
    "#numerical_columns = df5.select_dtypes(include='number').columns\n",
    "#scatter_matrix = pd.plotting.scatter_matrix(df5[numerical_columns], figsize=(12, 12), marker='o', diagonal='hist')\n",
    "#plt.suptitle('Scatter Plots', y=1.02)\n",
    "\n",
    "# # Line plot for total hours worked per year\n",
    "# plt.figure(figsize=(10, 6))\n",
    "# plt.plot(df5['Date'], df5['TOTAL_HOURS_OBSV'], marker='o', linestyle='-', color='b')\n",
    "# plt.title('Total Hours Worked Per Year')\n",
    "# plt.xlabel('Year')\n",
    "# plt.ylabel('Total Hours Worked')\n",
    "# plt.grid(True)\n",
    "\n",
    "\n",
    "# Sort the DataFrame by the 'YEAR_TIME' column\n",
    "df5_sorted = df5.sort_values(by='Date')\n",
    "\n",
    "# Line plot for total hours worked per year\n",
    "plt.figure(figsize=(10, 6))\n",
    "plt.plot(df5_sorted['Date'], df5_sorted['TOTAL_HOURS_OBSV'], marker='o', linestyle='-', color='b')\n",
    "plt.title('Total Hours Worked Per Year')\n",
    "plt.xlabel('Year')\n",
    "plt.ylabel('Total Hours Worked')\n",
    "plt.grid(True)\n",
    "plt.show()\n",
    "\n",
    "# Save the plots to a file (replace 'summary_plots.png' with your desired file name)\n",
    "plt.savefig('summary_plots.png')\n",
    "\n",
    "# Show plots\n",
    "plt.show()\n",
    "\n",
    "# Display the summary statistics, min, and max values\n",
    "print(\"Summary Statistics:\")\n",
    "print(summary_stats)\n",
    "print(\"\\nMin Values:\")\n",
    "print(min_values)\n",
    "print(\"\\nMax Values:\")\n",
    "print(max_values)\n"
   ]
  },
  {
   "cell_type": "code",
   "execution_count": 176,
   "id": "966b6627-795b-4ced-a6a6-5d11080ece42",
   "metadata": {},
   "outputs": [
    {
     "name": "stdout",
     "output_type": "stream",
     "text": [
      "<class 'pandas.core.frame.DataFrame'>\n",
      "Index: 8 entries, nan to nan\n",
      "Data columns (total 3 columns):\n",
      " #   Column               Non-Null Count  Dtype         \n",
      "---  ------               --------------  -----         \n",
      " 0   Date                 8 non-null      datetime64[ns]\n",
      " 1   EMPLYEES_PAYED_OBSV  8 non-null      int64         \n",
      " 2   MONTHLY_WAGE_OBSV    8 non-null      float64       \n",
      "dtypes: datetime64[ns](1), float64(1), int64(1)\n",
      "memory usage: 256.0 bytes\n"
     ]
    },
    {
     "data": {
      "text/html": [
       "<div>\n",
       "<style scoped>\n",
       "    .dataframe tbody tr th:only-of-type {\n",
       "        vertical-align: middle;\n",
       "    }\n",
       "\n",
       "    .dataframe tbody tr th {\n",
       "        vertical-align: top;\n",
       "    }\n",
       "\n",
       "    .dataframe thead th {\n",
       "        text-align: right;\n",
       "    }\n",
       "</style>\n",
       "<table border=\"1\" class=\"dataframe\">\n",
       "  <thead>\n",
       "    <tr style=\"text-align: right;\">\n",
       "      <th></th>\n",
       "      <th>Date</th>\n",
       "      <th>EMPLYEES_PAYED_OBSV</th>\n",
       "      <th>MONTHLY_WAGE_OBSV</th>\n",
       "    </tr>\n",
       "  </thead>\n",
       "  <tbody>\n",
       "    <tr>\n",
       "      <th>NaN</th>\n",
       "      <td>2021-01-01</td>\n",
       "      <td>51658610</td>\n",
       "      <td>322738484452.00</td>\n",
       "    </tr>\n",
       "    <tr>\n",
       "      <th>NaN</th>\n",
       "      <td>2018-01-01</td>\n",
       "      <td>26279486</td>\n",
       "      <td>181510124450.93</td>\n",
       "    </tr>\n",
       "    <tr>\n",
       "      <th>NaN</th>\n",
       "      <td>2023-01-01</td>\n",
       "      <td>45179854</td>\n",
       "      <td>295567660375.91</td>\n",
       "    </tr>\n",
       "    <tr>\n",
       "      <th>NaN</th>\n",
       "      <td>2017-01-01</td>\n",
       "      <td>49503998</td>\n",
       "      <td>301544502880.00</td>\n",
       "    </tr>\n",
       "    <tr>\n",
       "      <th>NaN</th>\n",
       "      <td>2016-01-01</td>\n",
       "      <td>35371901</td>\n",
       "      <td>216328295629.00</td>\n",
       "    </tr>\n",
       "  </tbody>\n",
       "</table>\n",
       "</div>"
      ],
      "text/plain": [
       "          Date  EMPLYEES_PAYED_OBSV  MONTHLY_WAGE_OBSV\n",
       "NaN 2021-01-01             51658610    322738484452.00\n",
       "NaN 2018-01-01             26279486    181510124450.93\n",
       "NaN 2023-01-01             45179854    295567660375.91\n",
       "NaN 2017-01-01             49503998    301544502880.00\n",
       "NaN 2016-01-01             35371901    216328295629.00"
      ]
     },
     "execution_count": 176,
     "metadata": {},
     "output_type": "execute_result"
    }
   ],
   "source": [
    "### Step 6 ## Average Monthly Wages for Paid Employees\n",
    "\n",
    "\n",
    "# i hate this api\n",
    "sa_ave_wage_empl = 'https://database.stats.gov.sa/gastatapi/portal/api/v1/indicators/getData?format=@CSV&api=7563820c60aa782a9c85abcf47378b19184536fdfc8572a64c787b576ad46259eeffe7eba57b098eed5e5e4b28fac9f836d7c0bbbbd42ea0c7b3cc324add0657119ea69136445d759e41292d3d6c6828c1bc253adb97eadf45df2a6d3e9286501ce082b9ca038d4bde5a30967da3fabe0004ff8c5f9a2081679b2a33d0fe9f662e714b02aeeff24da1fff252beec6f04bf31f754e930bee313b87c923777b6f8d7dad96afb83bdd2e2f5832caf804844'\n",
    "df6 = pd.read_csv(sa_ave_wage_empl)\n",
    "df6.to_csv('sa_ave_wage_empl.csv', index=False)\n",
    "# rename year to date to stay consistent\n",
    "df6.columns = ['Date','EMPLYEES_PAYED_OBSV', 'MONTHLY_WAGE_OBSV']\n",
    "# not real date format but to stay consistent\n",
    "df6['Date'] = pd.to_datetime(df5['Date'], format='%Y')\n",
    "#adjust year_time to our quarterly date format\n",
    "#df6['YEAR_TIME'] = pd.to_datetime(df5['YEAR_TIME'].astype(str) + '-1', format='%Y-Q%m')\n",
    "#nevermind the format is not the biggest problem \n",
    "\n",
    "\n",
    "df6.info()\n",
    "df6.head()"
   ]
  },
  {
   "cell_type": "code",
   "execution_count": null,
   "id": "d24959c4-cb4c-45bb-b4bb-e1294e967f0a",
   "metadata": {},
   "outputs": [],
   "source": [
    "### Step 6 ## Average Monthly Wages for Paid Employees\n",
    "#change to quarterly numbers"
   ]
  },
  {
   "cell_type": "code",
   "execution_count": null,
   "id": "7fcd1a52-64a6-4b99-afd0-e135e49fab33",
   "metadata": {},
   "outputs": [],
   "source": [
    "### Step 7 ## Real Long Term Bond Rate\n",
    "## wrong years\n",
    "\n",
    "df7.info()\n",
    "df7.head()"
   ]
  },
  {
   "cell_type": "code",
   "execution_count": null,
   "id": "abc83acc-ae22-4db9-9c91-8b89d09983e2",
   "metadata": {},
   "outputs": [],
   "source": [
    "### Step 8 ## Short Term Bond Rate\t\n",
    "## quarterly numbers\n",
    "\n",
    "df8.info()\n",
    "df8.head()"
   ]
  },
  {
   "cell_type": "code",
   "execution_count": null,
   "id": "fb20c7b5-844d-44d9-b2bd-eddd5b6fbd1b",
   "metadata": {},
   "outputs": [],
   "source": [
    "### Step 9 ## Capital Stock at Constant National Prices\n",
    "## in USD\n",
    "## quarterly numbers\n",
    "\n",
    "data = FredReader(symbols=['NCPRNSAXDCSAQ'], start='2010', end=None).read()\n",
    "data.to_csv('Cap_stock_at_Constant_National_Prices_USD.csv')\n",
    "\n",
    "# Read the CSV file and parse 'DATE' as datetime\n",
    "df9 = pd.read_csv('Cap_stock_at_Constant_National_Prices_USD.csv', parse_dates=['DATE'])\n",
    "\n",
    "# save for merging later \n",
    "df9.to_csv('Cap_stock_at_Constant_National_Prices_USD.csv', index=False)\n",
    "\n",
    "# Rename the columns\n",
    "df9.columns = ['Date', 'K']\n",
    "\n",
    "# Display the DataFrame\n",
    "df9.head()\n",
    "df9.info()\n"
   ]
  },
  {
   "cell_type": "code",
   "execution_count": null,
   "id": "1f393442-9c6d-4d18-b26f-aa00045dbe6d",
   "metadata": {},
   "outputs": [],
   "source": [
    "### Step 10 ## Current Account\tBN.CAB.XOKA.GD.ZS\n",
    "#Current account balance % of GDP, Annual\n",
    "\n",
    "## data is in percent\n",
    "\n",
    "import pandas as pd\n",
    "import pandas_datareader.wb as wb\n",
    "\n",
    "# Define the World Bank indicator code for \"Gross Fixed Capital Formation\"\n",
    "indicator_code = 'BN.CAB.XOKA.GD.ZS'\n",
    "\n",
    "# Define the countries and time period you are interested in (only Saudi Arabia in this case)\n",
    "countries = ['SA']\n",
    "start_date = '2010-01-01'\n",
    "end_date = '2023-12-31'\n",
    "\n",
    "# Fetch World Bank data using the pandas_datareader library\n",
    "world_bank_data = wb.download(indicator=indicator_code, country=countries, start=start_date, end=end_date)\n",
    "\n",
    "# Reset index to make 'Date' a column\n",
    "world_bank_data.reset_index(inplace=True)\n",
    "\n",
    "# Drop 'country' column\n",
    "world_bank_data.drop('country', axis=1, inplace=True)\n",
    "\n",
    "# Rename 'year' column to 'Date'\n",
    "world_bank_data.rename(columns={'year': 'Date', 'BN.CAB.XOKA.GD.ZS': 'CA'}, inplace=True)\n",
    "world_bank_data['Date'] = pd.to_datetime(world_bank_data['Date'])  # Fix: use 'year' instead of 'Date'\n",
    "\n",
    "df10 = world_bank_data.copy()\n",
    "df10.info()\n",
    "df10.head()"
   ]
  },
  {
   "cell_type": "code",
   "execution_count": null,
   "id": "e8144bde-becd-46ee-999a-5436e57127fb",
   "metadata": {},
   "outputs": [],
   "source": [
    "### Step 10.2 ## Current Account\tBN.CAB.XOKA.GD.ZS\n",
    "#Current account balance % of GDP, Annual\n",
    "\n",
    "## change to quarterly\n"
   ]
  },
  {
   "cell_type": "code",
   "execution_count": null,
   "id": "60daaf1e-7a2b-4433-9885-42564640e4fb",
   "metadata": {},
   "outputs": [],
   "source": [
    "### Step 11 ## Consumer Prices\tFP.CPI.TOTL.ZG\n",
    "#Current account balance % of GDP, Annual\n",
    "\n",
    "## data is in percent\n",
    "\n",
    "import pandas as pd\n",
    "import pandas_datareader.wb as wb\n",
    "\n",
    "# Define the World Bank indicator code for \"Gross Fixed Capital Formation\"\n",
    "indicator_code = 'FP.CPI.TOTL.ZG'\n",
    "\n",
    "# Define the countries and time period you are interested in (only Saudi Arabia in this case)\n",
    "countries = ['SA']\n",
    "start_date = '2010-01-01'\n",
    "end_date = '2023-12-31'\n",
    "\n",
    "# Fetch World Bank data using the pandas_datareader library\n",
    "world_bank_data = wb.download(indicator=indicator_code, country=countries, start=start_date, end=end_date)\n",
    "\n",
    "# Reset index to make 'Date' a column\n",
    "world_bank_data.reset_index(inplace=True)\n",
    "\n",
    "# Drop 'country' column\n",
    "world_bank_data.drop('country', axis=1, inplace=True)\n",
    "\n",
    "# Rename 'year' column to 'Date'\n",
    "world_bank_data.rename(columns={'year': 'Date', 'FP.CPI.TOTL.ZG': 'CPI'}, inplace=True)\n",
    "world_bank_data['Date'] = pd.to_datetime(world_bank_data['Date'])  # Fix: use 'year' instead of 'Date'\n",
    "\n",
    "df11 = world_bank_data.copy()\n",
    "df11.info()\n",
    "df11.head()"
   ]
  },
  {
   "cell_type": "code",
   "execution_count": null,
   "id": "89568af7-69db-43f0-8225-db0dbe75f49c",
   "metadata": {},
   "outputs": [],
   "source": [
    "### Step 11.2 ## Consumer Prices\tFP.CPI.TOTL.ZG\n",
    "\n",
    "## change to quarterly\n"
   ]
  },
  {
   "cell_type": "code",
   "execution_count": null,
   "id": "97935aea-1519-4e12-83ad-adde65b266d4",
   "metadata": {},
   "outputs": [],
   "source": [
    "### Step 13 ## Oil prices  Prices\n",
    "\n",
    "!pip install wbgapi \n",
    "import wbgapi as wb\n",
    "wb.source.info()\n"
   ]
  },
  {
   "cell_type": "code",
   "execution_count": null,
   "id": "97dbc5f2",
   "metadata": {
    "scrolled": true
   },
   "outputs": [],
   "source": [
    "### Step 13 ## Oil prices  Prices\n",
    "\n",
    "## in USD\n",
    "## weekly numbers\n",
    "\n",
    "data = FredReader(symbols=['DCOILWTICO'], start='2010', end=None).read()\n",
    "data.to_csv('Cruide_oil_barrel_USD.csv')\n",
    "\n",
    "# Read the CSV file and parse 'DATE' as datetime\n",
    "df13 = pd.read_csv('Cruide_oil_barrel_USD.csv', parse_dates=['DATE'])\n",
    "\n",
    "# save for merging later \n",
    "df13.to_csv('Cruide_oil_barrel_USD.csv', index=False)\n",
    "\n",
    "# Rename the columns\n",
    "df13.columns = ['Date', 'Oil']\n",
    "\n",
    "# Display the DataFrame\n",
    "df13.head()\n"
   ]
  },
  {
   "cell_type": "code",
   "execution_count": null,
   "id": "e9d9fb6e-eb0e-4ce5-a261-f418f3d84114",
   "metadata": {},
   "outputs": [],
   "source": [
    "### step 13 # handle missing values\n",
    "df13['Date'] = pd.to_datetime(df13['Date'])\n",
    "df13.set_index('Date', inplace=True)\n",
    "df13_filled = df13.fillna((df13.ffill() + df13.bfill()) / 2)"
   ]
  },
  {
   "cell_type": "code",
   "execution_count": null,
   "id": "3055e293-f7a5-4f25-8dc4-ccfe7eb084bd",
   "metadata": {},
   "outputs": [],
   "source": [
    "### Step 13 ## Oil prices  Prices change to quarterly\n",
    "df13_quarterly = df13_filled.resample('Q').mean()\n",
    "\n",
    "## in USD\n",
    "## weekly numbers"
   ]
  },
  {
   "cell_type": "code",
   "execution_count": null,
   "id": "194c6d51-6b4b-44d4-a12a-94bcf5c10e95",
   "metadata": {},
   "outputs": [],
   "source": [
    "df13_filled.Oil.plot(label='Weekly', legend=True)\n",
    "df13_quarterly.Oil.plot(label='Quarterly', legend=True)"
   ]
  },
  {
   "cell_type": "code",
   "execution_count": null,
   "id": "b1eacbbf-0028-4cf0-a112-997b216b65d4",
   "metadata": {},
   "outputs": [],
   "source": [
    "wb.economy.metadata.get('SAU')\n",
    "wb.series.info(q='"
   ]
  },
  {
   "cell_type": "markdown",
   "id": "806387e7-7d18-4369-9029-88045ea97c54",
   "metadata": {},
   "source": [
    "### Overview of Data that needs to get imported\n",
    "| Import step | Variable | Variable Name | Shortcut | Note | Source | Link | Date |\n",
    "| --- | --- | --- | --- | --- | --- | --- | --- |\n",
    "| 1 | Yt | Real Gross Domestic Product | NGDPRSAXDCSAQ | Domestic Currency, SA, Quarterly | FRED | [Link](https://fred.stlouisfed.org/series/NGDPRSAXDCSAQ) | 2010 - current |\n",
    "| 2 | C | Real Private Sector Final Consumption Expenditure | NCPRNSAXDCSAQ | Domestic Currency, Not SA, Quarterly | FRED | [Link](https://fred.stlouisfed.org/series/NCPRNSAXDCSAQ) | 2010 - current |\n",
    "| 3 | It | Gross Fixed Capital Formation | NE.GDI.FTOT.CD | Current US Dollar, Annual | WorldBank | [Link](https://data.worldbank.org/indicator/NE.GDI.FTOT.CD?locations=SA) | 1968-2022 |\n",
    "| 4 | TBt | Trade Balance | BN.GSR.GNFS.CD | Net trade in goods and services (BOP, current US$) | World Bank | [Link](https://data.worldbank.org/indicator/BN.GSR.GNFS.CD?locations=SA) | 1971-2022 |\n",
    "| 5 | Nt | Average Hours of Work for Employed Persons | Excel attached | Measures the average weekly working hours of workers (15 years and over) | General Statistics Authority | [Link](https://database.stats.gov.sa/home/indicator/999118) | Q2 2016-Q2 2023 |\n",
    "| 6 | wt | Average Monthly Wages for Paid Employees | Excel attached | The sum of the monthly wages to the total of employed persons for wages | General Statistics Authority | [Link](https://database.stats.gov.sa/home/indicator/999118) | Q2 2016-Q2 2023 |\n",
    "| 7 | Rt | Real Long Term Bond Rate | | 10-year government development bond yield, Quarterly | National Statistics, Saudi Central Bank | [Link](https://www.sama.gov.sa/en-US/GovtSecurity/pages/governmentdevelopmentbonds.aspx), [Specific Bond (19Jan2029)](https://cbonds.com/bonds/461405/) | Q1999-Q32007, Past 3 yrs |\n",
    "| 8 | rt | Short Term Bond Rate | Excel attached | Quarterly average of interbank rate | Saudi Central Bank | [Link](https://www.sama.gov.sa/ar-sa/EconomicReports/Pages/report.aspx?cid=118) | 2007-current |\n",
    "| 9 | Kt | Capital Stock at Constant National Prices | RKNANPSAA666NRUG | Millions of 2017 U.S. Dollars, Not SA, Annual | FRED | [Link](https://fred.stlouisfed.org/series/RKNANPSAA666NRUG) | 1970-2019 |\n",
    "| 10 | CAt | Current Account | BN.CAB.XOKA.GD.ZS | Current account balance % of GDP, Annual | Worldbank | [Link](https://data.worldbank.org/indicator/BN.CAB.XOKA.GD.ZS?locations=SA) | 1970-2018 |\n",
    "| 11 | CPI | Consumer Prices | FP.CPI.TOTL.ZG | % Annual | Worldbank | [Link](https://data.worldbank.org/indicator/FP.CPI.TOTL.ZG?locations=SA) | 1964-2022 |\n",
    "| 12 | ER | Exchange Rate | | The Saudi riyal has been at a fixed rate to the US dollar since June 1986 (SAR 3.7500 per USD) | Constant | - |\n",
    "| 13 | Oil | Crude Oil, Brent Prices | Excel attached | Crude oil, average spot price of Brent, Dubai and West Texas Intermediate, equally weighed, Monthly | Worldbank | [Link](https://www.worldbank.org/en/research/commodity-markets) | 960-current |\n"
   ]
  },
  {
   "cell_type": "code",
   "execution_count": null,
   "id": "32ba6e29-261b-4bb6-ba66-57efdfbdbaf8",
   "metadata": {},
   "outputs": [],
   "source": [
    "### last step merge all df frames\n",
    "# Merge the first two DataFrames on the 'Date' column\n",
    "df_merged = pd.merge(df1, df2, on='Date')\n",
    "\n",
    "# Merge the result with the third DataFrame ('I_predict') on the 'Date' column\n",
    "df_merged = pd.merge(df_merged, I_predict, on='Date')"
   ]
  },
  {
   "cell_type": "code",
   "execution_count": null,
   "id": "9646aeb7-bf83-4aa5-9ca8-0073147c4cac",
   "metadata": {
    "scrolled": true
   },
   "outputs": [],
   "source": [
    "df_merged.head()\n"
   ]
  },
  {
   "cell_type": "code",
   "execution_count": null,
   "id": "d7f8dc22-4f07-4eb0-8600-b75eb92c0610",
   "metadata": {},
   "outputs": [],
   "source": []
  }
 ],
 "metadata": {
  "kernelspec": {
   "display_name": "Python 3 (ipykernel)",
   "language": "python",
   "name": "python3"
  },
  "language_info": {
   "codemirror_mode": {
    "name": "ipython",
    "version": 3
   },
   "file_extension": ".py",
   "mimetype": "text/x-python",
   "name": "python",
   "nbconvert_exporter": "python",
   "pygments_lexer": "ipython3",
   "version": "3.11.5"
  }
 },
 "nbformat": 4,
 "nbformat_minor": 5
}
