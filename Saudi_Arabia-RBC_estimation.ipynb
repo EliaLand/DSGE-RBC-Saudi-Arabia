{
 "cells": [
  {
   "cell_type": "code",
   "execution_count": 3,
   "id": "bd5235dc-6cab-41ad-8271-b5d845eb71eb",
   "metadata": {},
   "outputs": [
    {
     "name": "stdout",
     "output_type": "stream",
     "text": [
      "Initialized empty Git repository in C:/Users/eland/.git/\n"
     ]
    }
   ],
   "source": [
    "!git init"
   ]
  },
  {
   "cell_type": "code",
   "execution_count": 12,
   "id": "57d5d4ca-20b3-4f08-b3e2-c1fee04a2186",
   "metadata": {},
   "outputs": [
    {
     "data": {
      "text/plain": [
       "'C:\\\\Users\\\\eland'"
      ]
     },
     "execution_count": 12,
     "metadata": {},
     "output_type": "execute_result"
    }
   ],
   "source": [
    "import os\n",
    "os.getcwd()"
   ]
  },
  {
   "cell_type": "code",
   "execution_count": 13,
   "id": "c8e2ce18-a61e-4be1-b23a-aa8dcdec4da3",
   "metadata": {},
   "outputs": [
    {
     "name": "stdout",
     "output_type": "stream",
     "text": [
      "[WinError 123] The filename, directory name, or volume label syntax is incorrect: \"'C:\\\\\\\\Users\\\\\\\\eland'\"\n",
      "C:\\Users\\eland\n"
     ]
    }
   ],
   "source": [
    "cd 'C:\\\\Users\\\\eland'"
   ]
  },
  {
   "cell_type": "code",
   "execution_count": 18,
   "id": "2b52cf39-685c-4791-b445-807a98395047",
   "metadata": {},
   "outputs": [],
   "source": [
    "!git config --global user.email \"e.lando2001@gmail.com\"\n",
    "!git config --global user.name \"EliaLand\""
   ]
  },
  {
   "cell_type": "code",
   "execution_count": 21,
   "id": "b249e778-e5d9-4285-bfcb-713340ceebe9",
   "metadata": {},
   "outputs": [
    {
     "name": "stdout",
     "output_type": "stream",
     "text": [
      "On branch master\n",
      "Your branch is up to date with 'origin/master'.\n",
      "\n",
      "Untracked files:\n",
      "  (use \"git add <file>...\" to include in what will be committed)\n",
      "\t.bash_history\n",
      "\t.cache/\n",
      "\t.conda/\n",
      "\t.gitconfig\n",
      "\t.ipynb_checkpoints/\n",
      "\t.ipython/\n",
      "\t.jupyter/\n",
      "\t3D Objects/\n",
      "\tAppData/\n",
      "\tContacts/\n",
      "\tDesktop/\n",
      "\tDocuments/\n",
      "\tDownloads/\n",
      "\tFavorites/\n",
      "\tLinks/\n",
      "\tMicrosoftEdgeBackups/\n",
      "\tMusic/\n",
      "\tNTUSER.DAT\n",
      "\tNTUSER.DAT{d177735e-7557-11ed-9bb9-a49fe2bc9929}.TM.blf\n",
      "\tNTUSER.DAT{d177735e-7557-11ed-9bb9-a49fe2bc9929}.TMContainer00000000000000000001.regtrans-ms\n",
      "\tNTUSER.DAT{d177735e-7557-11ed-9bb9-a49fe2bc9929}.TMContainer00000000000000000002.regtrans-ms\n",
      "\tOneDrive/\n",
      "\tPictures/\n",
      "\tSaudi_Arabia-RBC_estimation.ipynb\n",
      "\tSaved Games/\n",
      "\tSearches/\n",
      "\tUni-projects/\n",
      "\tVideos/\n",
      "\tado/\n",
      "\tecon.yml\n",
      "\tminiconda3/\n",
      "\tntuser.dat.LOG1\n",
      "\tntuser.dat.LOG2\n",
      "\tntuser.ini\n",
      "\n",
      "nothing added to commit but untracked files present (use \"git add\" to track)\n"
     ]
    },
    {
     "name": "stderr",
     "output_type": "stream",
     "text": [
      "warning: could not open directory 'Cookies/': Permission denied\n",
      "warning: could not open directory 'Dati applicazioni/': Permission denied\n",
      "warning: could not open directory 'Documenti/': Permission denied\n",
      "warning: could not open directory 'Impostazioni locali/': Permission denied\n",
      "warning: could not open directory 'Menu Avvio/': Permission denied\n",
      "warning: could not open directory 'Modelli/': Permission denied\n",
      "warning: could not open directory 'Recenti/': Permission denied\n",
      "warning: could not open directory 'Risorse di rete/': Permission denied\n",
      "warning: could not open directory 'Risorse di stampa/': Permission denied\n",
      "warning: could not open directory 'SendTo/': Permission denied\n",
      "error: remote origin already exists.\n"
     ]
    },
    {
     "name": "stdout",
     "output_type": "stream",
     "text": [
      "branch 'master' set up to track 'origin/master'."
     ]
    },
    {
     "name": "stderr",
     "output_type": "stream",
     "text": [
      "Everything up-to-date\n"
     ]
    },
    {
     "name": "stdout",
     "output_type": "stream",
     "text": [
      "\n"
     ]
    }
   ],
   "source": [
    "!git add SaudiArabia_RBC_estimation.ipynb  \n",
    "!git commit -m \"Initial commit\"\n",
    "!git remote add origin https://github.com/EliaLand/Uni-projects.git\n",
    "!git push -u origin master  "
   ]
  },
  {
   "cell_type": "code",
   "execution_count": 25,
   "id": "2e6163b6-fe89-4e7d-97e3-616a05cc2fe5",
   "metadata": {},
   "outputs": [
    {
     "name": "stdout",
     "output_type": "stream",
     "text": [
      "Requirement already satisfied: pandas in c:\\users\\eland\\miniconda3\\envs\\myenv\\lib\\site-packages (2.0.3)\n",
      "Requirement already satisfied: python-dateutil>=2.8.2 in c:\\users\\eland\\miniconda3\\envs\\myenv\\lib\\site-packages (from pandas) (2.8.2)\n",
      "Requirement already satisfied: pytz>=2020.1 in c:\\users\\eland\\miniconda3\\envs\\myenv\\lib\\site-packages (from pandas) (2023.3.post1)\n",
      "Requirement already satisfied: tzdata>=2022.1 in c:\\users\\eland\\miniconda3\\envs\\myenv\\lib\\site-packages (from pandas) (2023.3)\n",
      "Requirement already satisfied: numpy>=1.20.3 in c:\\users\\eland\\miniconda3\\envs\\myenv\\lib\\site-packages (from pandas) (1.24.4)\n",
      "Requirement already satisfied: six>=1.5 in c:\\users\\eland\\miniconda3\\envs\\myenv\\lib\\site-packages (from python-dateutil>=2.8.2->pandas) (1.16.0)\n"
     ]
    }
   ],
   "source": [
    "!pip install pandas"
   ]
  },
  {
   "cell_type": "code",
   "execution_count": 26,
   "id": "c68d6c50-c7c4-467b-94a8-effa12185ab7",
   "metadata": {},
   "outputs": [],
   "source": [
    "import pandas as pd"
   ]
  },
  {
   "cell_type": "code",
   "execution_count": 27,
   "id": "91c403e0-9c15-4a0f-b882-9e9de9cdf9be",
   "metadata": {},
   "outputs": [
    {
     "name": "stdout",
     "output_type": "stream",
     "text": [
      "On branch master\n",
      "Your branch is up to date with 'origin/master'.\n",
      "\n",
      "Untracked files:\n",
      "  (use \"git add <file>...\" to include in what will be committed)\n",
      "\t.bash_history\n",
      "\t.cache/\n",
      "\t.conda/\n",
      "\t.gitconfig\n",
      "\t.ipynb_checkpoints/\n",
      "\t.ipython/\n",
      "\t.jupyter/\n",
      "\t3D Objects/\n",
      "\tAppData/\n",
      "\tContacts/\n",
      "\tDesktop/\n",
      "\tDocuments/\n",
      "\tDownloads/\n",
      "\tFavorites/\n",
      "\tLinks/\n",
      "\tMicrosoftEdgeBackups/\n",
      "\tMusic/\n",
      "\tNTUSER.DAT\n",
      "\tNTUSER.DAT{d177735e-7557-11ed-9bb9-a49fe2bc9929}.TM.blf\n",
      "\tNTUSER.DAT{d177735e-7557-11ed-9bb9-a49fe2bc9929}.TMContainer00000000000000000001.regtrans-ms\n",
      "\tNTUSER.DAT{d177735e-7557-11ed-9bb9-a49fe2bc9929}.TMContainer00000000000000000002.regtrans-ms\n",
      "\tOneDrive/\n",
      "\tPictures/\n",
      "\tSaudi_Arabia-RBC_estimation.ipynb\n",
      "\tSaved Games/\n",
      "\tSearches/\n",
      "\tUni-projects/\n",
      "\tVideos/\n",
      "\tado/\n",
      "\tecon.yml\n",
      "\tminiconda3/\n",
      "\tntuser.dat.LOG1\n",
      "\tntuser.dat.LOG2\n",
      "\tntuser.ini\n",
      "\n",
      "nothing added to commit but untracked files present (use \"git add\" to track)\n"
     ]
    },
    {
     "name": "stderr",
     "output_type": "stream",
     "text": [
      "warning: could not open directory 'Cookies/': Permission denied\n",
      "warning: could not open directory 'Dati applicazioni/': Permission denied\n",
      "warning: could not open directory 'Documenti/': Permission denied\n",
      "warning: could not open directory 'Impostazioni locali/': Permission denied\n",
      "warning: could not open directory 'Menu Avvio/': Permission denied\n",
      "warning: could not open directory 'Modelli/': Permission denied\n",
      "warning: could not open directory 'Recenti/': Permission denied\n",
      "warning: could not open directory 'Risorse di rete/': Permission denied\n",
      "warning: could not open directory 'Risorse di stampa/': Permission denied\n",
      "warning: could not open directory 'SendTo/': Permission denied\n"
     ]
    }
   ],
   "source": [
    "!git status"
   ]
  },
  {
   "cell_type": "code",
   "execution_count": null,
   "id": "ecab8b7a-6973-42e8-ac35-c2a3a9846807",
   "metadata": {},
   "outputs": [],
   "source": []
  }
 ],
 "metadata": {
  "kernelspec": {
   "display_name": "Python 3 (ipykernel)",
   "language": "python",
   "name": "python3"
  },
  "language_info": {
   "codemirror_mode": {
    "name": "ipython",
    "version": 3
   },
   "file_extension": ".py",
   "mimetype": "text/x-python",
   "name": "python",
   "nbconvert_exporter": "python",
   "pygments_lexer": "ipython3",
   "version": "3.8.18"
  }
 },
 "nbformat": 4,
 "nbformat_minor": 5
}
